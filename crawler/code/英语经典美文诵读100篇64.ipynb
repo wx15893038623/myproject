{
 "cells": [
  {
   "cell_type": "code",
   "execution_count": 2,
   "metadata": {},
   "outputs": [],
   "source": [
    "import requests\n",
    "import pandas as pd"
   ]
  },
  {
   "cell_type": "code",
   "execution_count": 2,
   "metadata": {},
   "outputs": [],
   "source": [
    "from selenium import webdriver\n",
    "# import time\n",
    "# import requests\n",
    "import pandas as pd\n",
    "import os"
   ]
  },
  {
   "cell_type": "code",
   "execution_count": 3,
   "metadata": {},
   "outputs": [],
   "source": [
    "# browser = webdriver.Chrome(options=option)  # 驱动chrome\n",
    "browser = webdriver.Chrome()  # 驱动chrome\n",
    "url = 'https://www.tingclass.net/list-9349-1.html'\n",
    "browser.get(url) # 跳转到目标页面\n",
    "# time.sleep(5)"
   ]
  },
  {
   "cell_type": "code",
   "execution_count": 9,
   "metadata": {},
   "outputs": [],
   "source": [
    "ele_link = []\n",
    "ele_name = []"
   ]
  },
  {
   "cell_type": "code",
   "execution_count": 28,
   "metadata": {},
   "outputs": [],
   "source": [
    "listt = browser.find_elements_by_xpath('//*[@id=\"share_con\"]/ul/li/a')"
   ]
  },
  {
   "cell_type": "code",
   "execution_count": 29,
   "metadata": {},
   "outputs": [],
   "source": [
    "for l in listt: \n",
    "    ll = l.get_attribute('href').replace('show','down')\n",
    "    ele_link.append(ll)\n",
    "    \n",
    "    ele_name.append(l.text[13:])\n",
    "    "
   ]
  },
  {
   "cell_type": "code",
   "execution_count": 34,
   "metadata": {},
   "outputs": [
    {
     "data": {
      "text/plain": [
       "['001.life is to be whole',\n",
       " '002.home',\n",
       " '003.too dear for the whistle',\n",
       " '004.youth',\n",
       " '005.on punctuality',\n",
       " '006.work and pleasure',\n",
       " '007.april days',\n",
       " '008.man and nature',\n",
       " '009.who moved my cheese',\n",
       " '010.the smile',\n",
       " '011.love',\n",
       " '012.hope is the thing with feathers',\n",
       " '013.the story of life',\n",
       " '014.night',\n",
       " '015.lady first',\n",
       " '016.a better tomorrow',\n",
       " '017.the watch',\n",
       " '018.true nobility',\n",
       " '019.a mother’s letter to the world',\n",
       " '020.a to z',\n",
       " '021.successful english learning',\n",
       " '022.science and art',\n",
       " '023.tactics for job-hunt success',\n",
       " '024. ambition',\n",
       " '025.to —',\n",
       " '026.learn to live in the present moment',\n",
       " '027.the telephone',\n",
       " '028.courage',\n",
       " '029.the gift of love',\n",
       " '030.be an optimist',\n",
       " '031.on lying',\n",
       " '032.my heart’s in the highlands',\n",
       " '033.the road to success',\n",
       " '034.eyes can speak',\n",
       " '035.relish the moment',\n",
       " '036.on motes and beams',\n",
       " '037.a leap in thought',\n",
       " '038.our family creed',\n",
       " '039.mother’s day and father’s day',\n",
       " '040.expressing one’s individuality',\n",
       " '041.if',\n",
       " '042.true and false simplicity',\n",
       " '043.last letters home from an american soldier who died in iraq',\n",
       " '044.jimmy carter’s nobel lecture (Ⅰ)',\n",
       " '045.jimmy carter’s nobel lecture (Ⅱ)',\n",
       " '046.a visit to an american court',\n",
       " '047.the man and the opportunity',\n",
       " '048.the daffodils',\n",
       " '049.man will prevail',\n",
       " '050.an october sunrise',\n",
       " '053.the pleasure of reading',\n",
       " '051.the art of living',\n",
       " '052.the american character',\n",
       " '054.a knack of wal-mart’s success',\n",
       " '055.gettysburg address',\n",
       " '056.the love of beauty',\n",
       " '057.the road not taken',\n",
       " '058.on leadership',\n",
       " '059.address to the millennium summit',\n",
       " '060.napoleon to josephine',\n",
       " '061.questions asked in a interview',\n",
       " '062.what i have lived for',\n",
       " '063.cars',\n",
       " '064.the lover and the beloved',\n",
       " '065.human life like a poem',\n",
       " '066.benjamin franklin',\n",
       " '067.perseverance',\n",
       " '068.paris, a romantic capital',\n",
       " '069.eulogy for a dog',\n",
       " '070.the reward of solitary life',\n",
       " '071.life is a game',\n",
       " '072.globalization',\n",
       " '073.self-control',\n",
       " '074.the four freedoms',\n",
       " '075.a psalm of life',\n",
       " '076.conservatism of the english people',\n",
       " '077.you are what you do',\n",
       " '078.april fool’s day',\n",
       " '079.bill gate’s speech to qinghua university(1)',\n",
       " '080.bill gate’s speech to qinghua university(2)',\n",
       " '081.love your life',\n",
       " '082.privacy as border',\n",
       " '083.of studies',\n",
       " '084.the urgency',\n",
       " '085.the happy door',\n",
       " '086.success is a choice',\n",
       " '087.living in big cities',\n",
       " '088.speech given by colin lucas at bejing university',\n",
       " '089.o captain! my captain!',\n",
       " '090.the strenuous life',\n",
       " '091.on the fear of death',\n",
       " '092.on the instability of human glory',\n",
       " '093.a message to garcia',\n",
       " '094.autumn',\n",
       " '095.tribute to diana, princess of wales',\n",
       " '096.tips for getting promoted',\n",
       " '097.the other side of the olympics',\n",
       " '098.liberty is order',\n",
       " '099.we were dear to each other',\n",
       " '100.born to win']"
      ]
     },
     "execution_count": 34,
     "metadata": {},
     "output_type": "execute_result"
    }
   ],
   "source": [
    "ele_name"
   ]
  },
  {
   "cell_type": "code",
   "execution_count": 40,
   "metadata": {},
   "outputs": [],
   "source": [
    "\n",
    "data = {\n",
    "    'ele_link':ele_link,\n",
    "    'ele_name':ele_name\n",
    "}\n",
    "\n",
    "pd.DataFrame(data).to_excel('names.xlsx')"
   ]
  },
  {
   "cell_type": "code",
   "execution_count": null,
   "metadata": {},
   "outputs": [],
   "source": []
  },
  {
   "cell_type": "code",
   "execution_count": null,
   "metadata": {},
   "outputs": [],
   "source": []
  },
  {
   "cell_type": "code",
   "execution_count": 3,
   "metadata": {},
   "outputs": [],
   "source": [
    "df=pd.read_excel('names.xlsx')"
   ]
  },
  {
   "cell_type": "code",
   "execution_count": 70,
   "metadata": {},
   "outputs": [],
   "source": [
    "df2=pd.read_excel('names2.xlsx')"
   ]
  },
  {
   "cell_type": "code",
   "execution_count": 26,
   "metadata": {},
   "outputs": [],
   "source": [
    "ele_name = list(df['ele_name'])[4:]"
   ]
  },
  {
   "cell_type": "code",
   "execution_count": 27,
   "metadata": {},
   "outputs": [
    {
     "data": {
      "text/plain": [
       "'005.on punctuality'"
      ]
     },
     "execution_count": 27,
     "metadata": {},
     "output_type": "execute_result"
    }
   ],
   "source": [
    "ele_name[0]"
   ]
  },
  {
   "cell_type": "code",
   "execution_count": 30,
   "metadata": {},
   "outputs": [],
   "source": [
    "\n",
    "# MaxRetryError: HTTPSConnectionPool(host='online2.tingclass.net', port=443): Max retries exceeded with url: /lesson/shi0529/0009/9349/5.lrc (Caused by NewConnectionError('<urllib3.connection.VerifiedHTTPSConnection object at 0x000002517FDF0DD8>: Failed to establish a new connection: [WinError 10060] 由于连接方在一段时间后没有正确答复或连接的主机没有反应，连接尝试失败。'))\n",
    "# 一次程序启动，不断爬取，需要多次（至少上万次）调用requests.get()，结果每次调用都会占用一个connection。\n",
    "# 具体解决方法就是：**在发起一个http request之后设定header将其关闭。\n",
    "qheaders = {\"User-Agent\": \"Mozilla/5.0 (Windows NT 10.0; WOW64)\", \"Connection\": \"close\"}\n",
    "# r = requests.get(qurl, headers = qheaders)\n"
   ]
  },
  {
   "cell_type": "code",
   "execution_count": 69,
   "metadata": {},
   "outputs": [
    {
     "name": "stdout",
     "output_type": "stream",
     "text": [
      "0\n",
      "1\n",
      "2\n",
      "3\n",
      "4\n",
      "5\n",
      "6\n",
      "7\n",
      "8\n",
      "9\n",
      "10\n",
      "11\n",
      "12\n",
      "13\n",
      "14\n",
      "15\n",
      "16\n",
      "17\n",
      "18\n",
      "19\n",
      "20\n",
      "21\n",
      "22\n",
      "23\n",
      "24\n",
      "25\n",
      "26\n",
      "27\n",
      "28\n",
      "29\n",
      "30\n",
      "31\n",
      "32\n",
      "33\n",
      "34\n",
      "35\n",
      "36\n",
      "37\n",
      "38\n",
      "39\n",
      "40\n",
      "41\n",
      "42\n",
      "43\n",
      "44\n",
      "45\n",
      "46\n",
      "47\n",
      "48\n",
      "49\n",
      "50\n",
      "51\n",
      "52\n",
      "53\n",
      "54\n",
      "55\n",
      "56\n",
      "57\n",
      "58\n",
      "59\n",
      "60\n",
      "61\n",
      "62\n",
      "63\n",
      "64\n",
      "65\n",
      "66\n",
      "67\n",
      "68\n",
      "69\n",
      "70\n",
      "71\n",
      "72\n",
      "73\n",
      "74\n",
      "75\n",
      "76\n",
      "77\n",
      "78\n",
      "79\n",
      "80\n",
      "81\n",
      "82\n",
      "83\n",
      "84\n",
      "85\n",
      "86\n",
      "87\n",
      "88\n",
      "89\n",
      "90\n",
      "91\n",
      "92\n"
     ]
    }
   ],
   "source": [
    "# 64kbps\n",
    "rr = 7\n",
    "ele_name = list(df['ele_name'])[rr:]\n",
    "rrr = rr+1\n",
    "for i in range(len(ele_name)):\n",
    "    print(i)\n",
    "    \n",
    "    mp3 = 'http://down010702.tingclass.com/lesson/shi0529/0009/9349/'+str(i+rrr)+'.mp3'\n",
    "    lrc = 'https://online2.tingclass.net/lesson/shi0529/0009/9349/'+str(i+rrr)+'.lrc'\n",
    "\n",
    "    r = requests.get(lrc, headers = qheaders)\n",
    "    fo = open('%s.lrc'%ele_name[i],'wb')                         # 注意要用'wb',b表示二进制，不要用'w'\n",
    "    fo.write(r.content)                               # r.content -> requests中的二进制响应内容：以字节的方式访问请求响应体，对于非文本请求\n",
    "    fo.close()\n",
    "    \n",
    "    r = requests.get(mp3, headers = qheaders)\n",
    "    fo = open('%s.mp3'%ele_name[i],'wb')                         # 注意要用'wb',b表示二进制，不要用'w'\n",
    "    fo.write(r.content)                               # r.content -> requests中的二进制响应内容：以字节的方式访问请求响应体，对于非文本请求\n",
    "    fo.close()"
   ]
  },
  {
   "cell_type": "code",
   "execution_count": 51,
   "metadata": {},
   "outputs": [],
   "source": [
    "http://down010702.tingclass.com/lesson/shi0529/0009/9349/3.mp3\n",
    "https://online2.tingclass.net/lesson/shi0529/0009/9349/3.lrc\n",
    "    \n",
    "http://down010702.tingclass.com/lesson/shi0529/0009/9349/4.mp3\n",
    "https://online2.tingclass.net/lesson/shi0529/0009/9349/4.lrc\n",
    "    \n",
    "http://down010702.tingclass.com/lesson/shi0529/0009/9349/5.mp3\n",
    "https://online2.tingclass.net/lesson/shi0529/0009/9349/5.lrc"
   ]
  },
  {
   "cell_type": "code",
   "execution_count": 50,
   "metadata": {},
   "outputs": [
    {
     "data": {
      "text/plain": [
       "''"
      ]
     },
     "execution_count": 50,
     "metadata": {},
     "output_type": "execute_result"
    }
   ],
   "source": [
    "http://k6.kekenet.com/Sound/2014/12/mw1_3150408EFN.mp3\n",
    "    \n",
    "http://www.kekenet.com/mp3/201412/350291.shtml\n",
    "http://k6.kekenet.com/Sound/2014/12/mw2_5522786qAD.mp3\n",
    "    \n",
    "http://www.kekenet.com/mp3/201412/350296.shtml\n",
    "http://k6.kekenet.com/Sound/2014/12/mw3_1557476rnT.mp3"
   ]
  },
  {
   "cell_type": "code",
   "execution_count": null,
   "metadata": {},
   "outputs": [],
   "source": [
    "# 64kbps\n"
   ]
  },
  {
   "cell_type": "code",
   "execution_count": null,
   "metadata": {},
   "outputs": [],
   "source": []
  },
  {
   "cell_type": "code",
   "execution_count": null,
   "metadata": {},
   "outputs": [],
   "source": []
  },
  {
   "cell_type": "code",
   "execution_count": null,
   "metadata": {},
   "outputs": [],
   "source": []
  },
  {
   "cell_type": "code",
   "execution_count": null,
   "metadata": {},
   "outputs": [],
   "source": []
  },
  {
   "cell_type": "code",
   "execution_count": 49,
   "metadata": {},
   "outputs": [],
   "source": [
    "i = 1\n",
    "r = 2\n",
    "# a = ''\n",
    "a = 'http://down010702.tingclass.com/lesson/shi0529/0009/9349/'+str(i+r)+'.mp3'"
   ]
  },
  {
   "cell_type": "code",
   "execution_count": 68,
   "metadata": {},
   "outputs": [
    {
     "ename": "TypeError",
     "evalue": "unsupported operand type(s) for +: 'int' and 'Response'",
     "output_type": "error",
     "traceback": [
      "\u001b[1;31m---------------------------------------------------------------------------\u001b[0m",
      "\u001b[1;31mTypeError\u001b[0m                                 Traceback (most recent call last)",
      "\u001b[1;32m<ipython-input-68-f61a99ff6506>\u001b[0m in \u001b[0;36m<module>\u001b[1;34m\u001b[0m\n\u001b[0;32m      2\u001b[0m \u001b[1;33m\u001b[0m\u001b[0m\n\u001b[0;32m      3\u001b[0m     \u001b[0mmp3\u001b[0m \u001b[1;33m=\u001b[0m \u001b[1;34m''\u001b[0m\u001b[1;33m\u001b[0m\u001b[0m\n\u001b[1;32m----> 4\u001b[1;33m     \u001b[0mmp3\u001b[0m \u001b[1;33m=\u001b[0m \u001b[1;34m'http://down010702.tingclass.com/lesson/shi0529/0009/9349/'\u001b[0m\u001b[1;33m+\u001b[0m\u001b[0mstr\u001b[0m\u001b[1;33m(\u001b[0m\u001b[0mi\u001b[0m\u001b[1;33m+\u001b[0m\u001b[0mr\u001b[0m\u001b[1;33m)\u001b[0m\u001b[1;33m+\u001b[0m\u001b[1;34m'.mp3'\u001b[0m\u001b[1;33m\u001b[0m\u001b[0m\n\u001b[0m\u001b[0;32m      5\u001b[0m     \u001b[0mprint\u001b[0m\u001b[1;33m(\u001b[0m\u001b[0mmp3\u001b[0m\u001b[1;33m)\u001b[0m\u001b[1;33m\u001b[0m\u001b[0m\n",
      "\u001b[1;31mTypeError\u001b[0m: unsupported operand type(s) for +: 'int' and 'Response'"
     ]
    }
   ],
   "source": [
    "for i in range(len(ele_name)):\n",
    "    \n",
    "    mp3 = ''\n",
    "    mp3 = 'http://down010702.tingclass.com/lesson/shi0529/0009/9349/'+str(i+r)+'.mp3'\n",
    "    print(mp3)"
   ]
  },
  {
   "cell_type": "code",
   "execution_count": null,
   "metadata": {},
   "outputs": [],
   "source": []
  },
  {
   "cell_type": "code",
   "execution_count": 53,
   "metadata": {},
   "outputs": [],
   "source": [
    "for i in range(len(ele_link)):\n",
    "    if os.path.isfile(ele_fname[i]):\n",
    "        continue\n",
    "    else:\n",
    "        driver.get(ele_link[i])"
   ]
  },
  {
   "cell_type": "code",
   "execution_count": 78,
   "metadata": {},
   "outputs": [],
   "source": [
    "path = 'G:\\\\文件传递\\\\！大论文/'\n",
    "for i in range(len(ele_link)):\n",
    "    if ele_fname[i] in os.listdir(path):\n",
    "        continue\n",
    "    else:\n",
    "        driver.get(ele_link[i])"
   ]
  },
  {
   "cell_type": "code",
   "execution_count": 54,
   "metadata": {},
   "outputs": [],
   "source": [
    "path = 'E:\\\\！大论文/'\n",
    "for i in range(len(ele_fname)):\n",
    "    if os.path.isfile(ele_fname[i]):\n",
    "        n = ele_name[ele_fname.index(ele_fname[i])]\n",
    "        n = n.replace('<','《').replace('>','》').replace(':','：').replace('\"',\"'\").replace('*','#').replace('/','-').replace('?','？').replace('|','·')\n",
    "        n = eval(repr(n).replace('\\\\', '~'))\n",
    "        os.renames(path+ele_fname[i],path+str(i+1)+'. '+n+'.pdf')"
   ]
  },
  {
   "cell_type": "code",
   "execution_count": 85,
   "metadata": {},
   "outputs": [],
   "source": [
    "path = 'G:\\\\文件传递\\\\！大论文\\\\tunnel;Water leakage2017/'\n",
    "for i in range(len(ele_fname)):\n",
    "    if ele_fname[i] in os.listdir(path):\n",
    "        n = ele_name[ele_fname.index(ele_fname[i])]\n",
    "        n = n.replace('<','《').replace('>','》').replace(':','：').replace('\"',\"'\").replace('*','#').replace('/','-').replace('?','？').replace('|','·')\n",
    "        n = eval(repr(n).replace('\\\\', '~'))\n",
    "        os.renames(path+ele_fname[i],path+str(i+1)+'. '+n+'.pdf')"
   ]
  },
  {
   "cell_type": "code",
   "execution_count": 47,
   "metadata": {},
   "outputs": [],
   "source": [
    "i = 0\n",
    "n = ele_name[ele_fname.index(ele_fname[i])]\n",
    "n = n.replace('<','《').replace('>','》').replace(':','：').replace('\"',\"'\").replace('*','#').replace('/','-').replace('?','？').replace('|','·')\n",
    "n = eval(repr(n).replace('\\\\', '~'))\n",
    "os.renames(path+ele_fname[i],path+str(i+1)+'. '+n+'.pdf')"
   ]
  },
  {
   "cell_type": "code",
   "execution_count": null,
   "metadata": {},
   "outputs": [],
   "source": []
  }
 ],
 "metadata": {
  "kernelspec": {
   "display_name": "Python 3",
   "language": "python",
   "name": "python3"
  },
  "language_info": {
   "codemirror_mode": {
    "name": "ipython",
    "version": 3
   },
   "file_extension": ".py",
   "mimetype": "text/x-python",
   "name": "python",
   "nbconvert_exporter": "python",
   "pygments_lexer": "ipython3",
   "version": "3.7.0"
  }
 },
 "nbformat": 4,
 "nbformat_minor": 2
}
