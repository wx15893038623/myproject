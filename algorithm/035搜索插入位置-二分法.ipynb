{
 "cells": [
  {
   "cell_type": "markdown",
   "metadata": {},
   "source": [
    "常规法\n",
    "时间n\n",
    "空间1"
   ]
  },
  {
   "cell_type": "code",
   "execution_count": 1,
   "metadata": {},
   "outputs": [],
   "source": [
    "def searchInsert(nums,target):\n",
    "    if nums == None or len(nums)==0:\n",
    "        return 0\n",
    "    for i,num in enumerate(nums):\n",
    "        if num >= target:\n",
    "            return i\n",
    "    return len(nums)"
   ]
  },
  {
   "cell_type": "code",
   "execution_count": 2,
   "metadata": {},
   "outputs": [
    {
     "data": {
      "text/plain": [
       "5"
      ]
     },
     "execution_count": 2,
     "metadata": {},
     "output_type": "execute_result"
    }
   ],
   "source": [
    "nums = [1,2,3,4,5,7,8]\n",
    "target = 6\n",
    "searchInsert(nums,target)"
   ]
  },
  {
   "cell_type": "markdown",
   "metadata": {},
   "source": [
    "二分法\n",
    "时间logn\n",
    "空间1"
   ]
  },
  {
   "cell_type": "code",
   "execution_count": 3,
   "metadata": {},
   "outputs": [],
   "source": [
    "def searchInsert(nums,target):\n",
    "    if nums == None or len(nums)==0:\n",
    "        return 0\n",
    "    l = 0\n",
    "    r = len(nums)-1\n",
    "    while(l < r):\n",
    "        m = l + (r - l)//2\n",
    "        if nums[m] == target:\n",
    "            return m\n",
    "        elif nums[m] > target:\n",
    "            r = m-1\n",
    "        else:\n",
    "            l = m+1\n",
    "    return l if nums[l]>=target else l+1"
   ]
  },
  {
   "cell_type": "code",
   "execution_count": 4,
   "metadata": {},
   "outputs": [
    {
     "data": {
      "text/plain": [
       "5"
      ]
     },
     "execution_count": 4,
     "metadata": {},
     "output_type": "execute_result"
    }
   ],
   "source": [
    "nums = [1,2,3,4,5,7,8]\n",
    "target = 6\n",
    "searchInsert(nums,target)"
   ]
  },
  {
   "cell_type": "code",
   "execution_count": null,
   "metadata": {},
   "outputs": [],
   "source": []
  }
 ],
 "metadata": {
  "kernelspec": {
   "display_name": "Python 3",
   "language": "python",
   "name": "python3"
  },
  "language_info": {
   "codemirror_mode": {
    "name": "ipython",
    "version": 3
   },
   "file_extension": ".py",
   "mimetype": "text/x-python",
   "name": "python",
   "nbconvert_exporter": "python",
   "pygments_lexer": "ipython3",
   "version": "3.7.0"
  }
 },
 "nbformat": 4,
 "nbformat_minor": 2
}
