{
 "cells": [
  {
   "cell_type": "code",
   "execution_count": 2,
   "metadata": {},
   "outputs": [],
   "source": [
    "def genFields(names, types):\n",
    "    return list(zip(names, types))"
   ]
  },
  {
   "cell_type": "code",
   "execution_count": 11,
   "metadata": {},
   "outputs": [],
   "source": [
    "a = genFields([1,3],[2,4])"
   ]
  },
  {
   "cell_type": "code",
   "execution_count": null,
   "metadata": {},
   "outputs": [],
   "source": [
    "输入例子1:\n",
    "5\n",
    "1 2\n",
    "5 3\n",
    "4 6\n",
    "7 5\n",
    "9 0\n",
    "\n",
    "输出例子1:\n",
    "4 6\n",
    "7 5\n",
    "9 0"
   ]
  },
  {
   "cell_type": "code",
   "execution_count": 46,
   "metadata": {},
   "outputs": [],
   "source": []
  },
  {
   "cell_type": "code",
   "execution_count": 48,
   "metadata": {},
   "outputs": [
    {
     "name": "stdout",
     "output_type": "stream",
     "text": [
      "4 6\n",
      "7 5\n",
      "9 0\n"
     ]
    }
   ],
   "source": [
    "count = int(input())\n",
    "p = []\n",
    "for _ in range(count):\n",
    "    ppp = input().split()\n",
    "    pp = [int(i) for i in ppp]\n",
    "    p.append((pp[0],pp[1]))\n",
    "\n",
    "f = [(0,0)]*count\n",
    "\n",
    "curMaxRank = 0\n",
    "curMaxIndex = 0\n",
    "for i in range(count):\n",
    "    temp = p[i][0]+p[i][1]-abs(p[i][0]-p[i][1])\n",
    "    if temp > curMaxRank:\n",
    "        curMaxRank = temp\n",
    "        curMaxIndex = i\n",
    "fCount =0\n",
    "for i in range(count):\n",
    "    if p[i][0] >= p[curMaxIndex][0] or p[i][1]>= p[curMaxIndex][1]:\n",
    "        f[fCount] = p[i]\n",
    "        fCount += 1\n",
    "        \n",
    "ff = sorted(f, key=lambda x: (-x[0], x[1]))\n",
    "        \n",
    "maxx=-1\n",
    "for i in range(fCount-1,-1,-1):\n",
    "    if ff[i][0]>maxx:\n",
    "        print(ff[i][0],ff[i][1])\n",
    "        maxx=ff[i][0]"
   ]
  },
  {
   "cell_type": "code",
   "execution_count": null,
   "metadata": {},
   "outputs": [],
   "source": []
  },
  {
   "cell_type": "code",
   "execution_count": 25,
   "metadata": {},
   "outputs": [
    {
     "name": "stdout",
     "output_type": "stream",
     "text": [
      "5\n",
      "1 2\n",
      "5 3\n",
      "4 6\n",
      "7 5\n",
      "9 0\n"
     ]
    }
   ],
   "source": [
    "count = int(input())\n",
    "p = []\n",
    "for _ in range(count):\n",
    "    ppp = input().split()\n",
    "    pp = [int(i) for i in ppp]\n",
    "    p.append((pp[0],pp[1]))"
   ]
  },
  {
   "cell_type": "code",
   "execution_count": 26,
   "metadata": {},
   "outputs": [
    {
     "data": {
      "text/plain": [
       "[(1, 2), (5, 3), (4, 6), (7, 5), (9, 0)]"
      ]
     },
     "execution_count": 26,
     "metadata": {},
     "output_type": "execute_result"
    }
   ],
   "source": [
    "p"
   ]
  },
  {
   "cell_type": "code",
   "execution_count": 27,
   "metadata": {},
   "outputs": [],
   "source": [
    "f = [(0,0)]*count"
   ]
  },
  {
   "cell_type": "code",
   "execution_count": 28,
   "metadata": {},
   "outputs": [
    {
     "data": {
      "text/plain": [
       "[(0, 0), (0, 0), (0, 0), (0, 0), (0, 0)]"
      ]
     },
     "execution_count": 28,
     "metadata": {},
     "output_type": "execute_result"
    }
   ],
   "source": [
    "f"
   ]
  },
  {
   "cell_type": "code",
   "execution_count": 29,
   "metadata": {},
   "outputs": [],
   "source": [
    "curMaxRank = 0\n",
    "curMaxIndex = 0\n",
    "for i in range(count):\n",
    "    temp = p[i][0]+p[i][1]-abs(p[i][0]-p[i][1])\n",
    "    if temp > curMaxRank:\n",
    "        curMaxRank = temp\n",
    "        curMaxIndex = i\n",
    "fCount =0\n",
    "for i in range(count):\n",
    "    if p[i][0] >= p[curMaxIndex][0] or p[i][1]>= p[curMaxIndex][1]:\n",
    "        f[fCount] = p[i]\n",
    "        fCount += 1"
   ]
  },
  {
   "cell_type": "code",
   "execution_count": 30,
   "metadata": {},
   "outputs": [
    {
     "data": {
      "text/plain": [
       "[(4, 6), (7, 5), (9, 0), (0, 0), (0, 0)]"
      ]
     },
     "execution_count": 30,
     "metadata": {},
     "output_type": "execute_result"
    }
   ],
   "source": [
    "f"
   ]
  },
  {
   "cell_type": "code",
   "execution_count": 48,
   "metadata": {},
   "outputs": [],
   "source": [
    "def cmpp( a, b):\n",
    "    return a[0]>b[0] if a[1]==b[1] else a[1]<b[1]"
   ]
  },
  {
   "cell_type": "code",
   "execution_count": 58,
   "metadata": {},
   "outputs": [],
   "source": [
    "def cmpp( a, b):\n",
    "    return a[0]<b[0] if a[1]==b[1] else a[1]>b[1]"
   ]
  },
  {
   "cell_type": "code",
   "execution_count": 38,
   "metadata": {},
   "outputs": [],
   "source": [
    "ff = sorted(f, key=lambda x: (-x[0], x[1]))"
   ]
  },
  {
   "cell_type": "code",
   "execution_count": 41,
   "metadata": {},
   "outputs": [
    {
     "data": {
      "text/plain": [
       "[(9, 0), (7, 5), (4, 6), (0, 0), (0, 0)]"
      ]
     },
     "execution_count": 41,
     "metadata": {},
     "output_type": "execute_result"
    }
   ],
   "source": [
    "ff"
   ]
  },
  {
   "cell_type": "code",
   "execution_count": 23,
   "metadata": {},
   "outputs": [
    {
     "data": {
      "text/plain": [
       "[(2, 2), (3, 4), (4, 1), (1, 3)]"
      ]
     },
     "execution_count": 23,
     "metadata": {},
     "output_type": "execute_result"
    }
   ],
   "source": [
    "nn"
   ]
  },
  {
   "cell_type": "code",
   "execution_count": 16,
   "metadata": {},
   "outputs": [],
   "source": [
    "from functools import cmp_to_key\n",
    "\n",
    "nums = [4, 3, 2, 1]\n",
    "nn = sorted(nums,key=cmp_to_key(lambda a, b: a > b))"
   ]
  },
  {
   "cell_type": "code",
   "execution_count": 37,
   "metadata": {},
   "outputs": [
    {
     "data": {
      "text/plain": [
       "3"
      ]
     },
     "execution_count": 37,
     "metadata": {},
     "output_type": "execute_result"
    }
   ],
   "source": [
    "fCount"
   ]
  },
  {
   "cell_type": "code",
   "execution_count": 43,
   "metadata": {},
   "outputs": [
    {
     "name": "stdout",
     "output_type": "stream",
     "text": [
      "4 6\n",
      "7 5\n",
      "9 0\n"
     ]
    }
   ],
   "source": [
    "maxx=-1\n",
    "for i in range(fCount-1,-1,-1):\n",
    "    if ff[i][0]>maxx:\n",
    "        print(ff[i][0],ff[i][1])\n",
    "        maxx=ff[i][0]"
   ]
  },
  {
   "cell_type": "code",
   "execution_count": null,
   "metadata": {},
   "outputs": [],
   "source": [
    "    int maxx=-1;\n",
    "    for(int i=fCount-1;i>=0;i--){  //y从大到小，若i点x值大于所有比其y值大的点的x值，那么i点为“最大点”。\n",
    "        if(filter[i].x>maxx){\n",
    "           \n",
    "            printf(\"%d %d\\n\", filter[i].x, filter[i].y);\n",
    "            maxx=filter[i].x;\n",
    "        }\n",
    "    }"
   ]
  },
  {
   "cell_type": "code",
   "execution_count": null,
   "metadata": {},
   "outputs": [],
   "source": [
    "#include<iostream>\n",
    "#include<algorithm>\n",
    "#include<vector>\n",
    "#include <cstdlib>\n",
    "\n",
    "using namespace std;\n",
    "struct point{     //定义结构体\n",
    "    int x,y;\n",
    "};\n",
    "bool cmp(point a,point b){  //自定义排序方法\n",
    "    return a.y==b.y?a.x>b.x:a.y<b.y;  //y升序，x降序\n",
    "}\n",
    "point p[500001];\n",
    "point filter[500001];\n",
    "int main(){\n",
    "    \n",
    "    int count;  \n",
    "   \n",
    "    scanf(\"%d\",&count);\n",
    "   \n",
    "    \n",
    "    for(int i = 0; i < count; i++)\n",
    "    {\n",
    "       scanf(\"%d%d\", &p[i].x, &p[i].y);\n",
    "    }\n",
    "\n",
    "  \n",
    "  \n",
    "    int curMaxRank = 0;\n",
    "    int curMaxIndex = 0;\n",
    "    for(int i=0;i<count;i++){\n",
    "        int temp =p[i].x+p[i].y-std::abs(p[i].x-p[i].y);\n",
    "        if(temp > curMaxRank)\n",
    "        {\n",
    "            curMaxRank = temp;\n",
    "            curMaxIndex = i;\n",
    "        }\n",
    "    }\n",
    "    int fCount =0 ;\n",
    "    for(int i=0;i<count;i++)\n",
    "    {\n",
    "        if(p[i].x >= p[curMaxIndex].x || p[i].y>= p[curMaxIndex].y)\n",
    "        {\n",
    "            filter[fCount++]=p[i];\n",
    "        }\n",
    "    }\n",
    "    \n",
    "    sort(filter,filter+fCount,cmp);\n",
    "    \n",
    "    int maxx=-1;\n",
    "    for(int i=fCount-1;i>=0;i--){  //y从大到小，若i点x值大于所有比其y值大的点的x值，那么i点为“最大点”。\n",
    "        if(filter[i].x>maxx){\n",
    "           \n",
    "            printf(\"%d %d\\n\", filter[i].x, filter[i].y);\n",
    "            maxx=filter[i].x;\n",
    "        }\n",
    "    }\n",
    "   \n",
    "   \n",
    "    return 0;\n",
    "}"
   ]
  }
 ],
 "metadata": {
  "kernelspec": {
   "display_name": "Python 3",
   "language": "python",
   "name": "python3"
  },
  "language_info": {
   "codemirror_mode": {
    "name": "ipython",
    "version": 3
   },
   "file_extension": ".py",
   "mimetype": "text/x-python",
   "name": "python",
   "nbconvert_exporter": "python",
   "pygments_lexer": "ipython3",
   "version": "3.7.0"
  }
 },
 "nbformat": 4,
 "nbformat_minor": 2
}
