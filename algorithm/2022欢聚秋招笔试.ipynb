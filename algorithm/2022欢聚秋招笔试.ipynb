{
 "cells": [
  {
   "cell_type": "code",
   "execution_count": null,
   "metadata": {},
   "outputs": [],
   "source": [
    "1 python等\n",
    "n以内质数和\n",
    "\n",
    "2 java\n",
    "记录登录时间\n",
    "\n",
    "3 sql\n",
    "薪资增量排名"
   ]
  },
  {
   "cell_type": "code",
   "execution_count": null,
   "metadata": {},
   "outputs": [],
   "source": []
  },
  {
   "cell_type": "code",
   "execution_count": null,
   "metadata": {},
   "outputs": [],
   "source": []
  },
  {
   "cell_type": "code",
   "execution_count": 1,
   "metadata": {},
   "outputs": [
    {
     "name": "stdout",
     "output_type": "stream",
     "text": [
      "2\n",
      "3\n"
     ]
    }
   ],
   "source": [
    "def isZ(n):\n",
    "    i = 2\n",
    "    while i*i<=n:\n",
    "        if n%i == 0:\n",
    "            return False\n",
    "        i += 1\n",
    "    return True\n",
    "num = int(input())\n",
    "\n",
    "# write code here\n",
    "if (num<2):\n",
    "    return 0\n",
    "res = 0\n",
    "for i in range(2,num+1):\n",
    "    if self.isZ(i):\n",
    "        res += i\n",
    "\n",
    "print(res)\n"
   ]
  },
  {
   "cell_type": "code",
   "execution_count": 34,
   "metadata": {},
   "outputs": [],
   "source": [
    "\n",
    "class Solution:\n",
    "    def isZ(self ,n):\n",
    "        i = 2\n",
    "        while i*i<=n:\n",
    "            if n%i == 0:\n",
    "                return False\n",
    "            i += 1\n",
    "        return True\n",
    "    def PrimeSum(self , num ):\n",
    "        # write code here\n",
    "        if (num<2):\n",
    "            return 0\n",
    "        res = 0\n",
    "        for i in range(2,num+1):\n",
    "            if self.isZ(i):\n",
    "                res += i\n",
    "                \n",
    "        print(res)\n"
   ]
  },
  {
   "cell_type": "code",
   "execution_count": 35,
   "metadata": {},
   "outputs": [],
   "source": [
    "a = Solution()"
   ]
  },
  {
   "cell_type": "code",
   "execution_count": 36,
   "metadata": {},
   "outputs": [
    {
     "name": "stdout",
     "output_type": "stream",
     "text": [
      "17\n"
     ]
    }
   ],
   "source": [
    "a.PrimeSum(10)"
   ]
  },
  {
   "cell_type": "code",
   "execution_count": 30,
   "metadata": {},
   "outputs": [],
   "source": [
    "def PrimeSum( num ):\n",
    "    # write code here\n",
    "    if (num<2):\n",
    "        return 0\n",
    "    res = 0\n",
    "    for i in range(2,num+1):\n",
    "        if isZ(i):\n",
    "            res += i\n",
    "            print(i)\n",
    "    print(res)\n",
    "def isZ(n):\n",
    "    i = 2\n",
    "    while i*i<=n:\n",
    "        if n%i == 0:\n",
    "            return False\n",
    "        i += 1\n",
    "    return True"
   ]
  },
  {
   "cell_type": "code",
   "execution_count": 33,
   "metadata": {},
   "outputs": [
    {
     "name": "stdout",
     "output_type": "stream",
     "text": [
      "2\n",
      "3\n",
      "5\n",
      "7\n",
      "11\n",
      "28\n"
     ]
    }
   ],
   "source": [
    "PrimeSum(11)"
   ]
  },
  {
   "cell_type": "code",
   "execution_count": 29,
   "metadata": {},
   "outputs": [
    {
     "name": "stdout",
     "output_type": "stream",
     "text": [
      "False\n"
     ]
    }
   ],
   "source": [
    "print(isZ(6))"
   ]
  },
  {
   "cell_type": "code",
   "execution_count": null,
   "metadata": {},
   "outputs": [],
   "source": []
  }
 ],
 "metadata": {
  "kernelspec": {
   "display_name": "Python 3",
   "language": "python",
   "name": "python3"
  },
  "language_info": {
   "codemirror_mode": {
    "name": "ipython",
    "version": 3
   },
   "file_extension": ".py",
   "mimetype": "text/x-python",
   "name": "python",
   "nbconvert_exporter": "python",
   "pygments_lexer": "ipython3",
   "version": "3.7.0"
  }
 },
 "nbformat": 4,
 "nbformat_minor": 2
}
