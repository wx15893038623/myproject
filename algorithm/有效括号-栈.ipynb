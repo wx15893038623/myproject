{
 "cells": [
  {
   "cell_type": "code",
   "execution_count": 14,
   "metadata": {},
   "outputs": [],
   "source": [
    " class Slution:\n",
    "        def isValid(self,s:str) -> bool:\n",
    "            if len(s) == 0:\n",
    "                return True\n",
    "            stack = []\n",
    "            for c in s:\n",
    "                if c=='(' or c=='[' or c=='{':\n",
    "                    stack.append(c)\n",
    "                else:\n",
    "                    if len(stack)==0:\n",
    "                        return False\n",
    "                    else:\n",
    "                        temp = stack.pop()\n",
    "                        if c==')':\n",
    "                            if temp!='(':\n",
    "                                return False\n",
    "                        elif c==']':\n",
    "                            if temp!='[':\n",
    "                                return False\n",
    "                        elif c=='}':\n",
    "                            if temp!='{':\n",
    "                                return False\n",
    "            return True if len(stack)==0 else False"
   ]
  },
  {
   "cell_type": "code",
   "execution_count": 18,
   "metadata": {},
   "outputs": [],
   "source": [
    "s = '()'"
   ]
  },
  {
   "cell_type": "code",
   "execution_count": 19,
   "metadata": {},
   "outputs": [],
   "source": [
    "S = Slution()"
   ]
  },
  {
   "cell_type": "code",
   "execution_count": 20,
   "metadata": {},
   "outputs": [
    {
     "data": {
      "text/plain": [
       "True"
      ]
     },
     "execution_count": 20,
     "metadata": {},
     "output_type": "execute_result"
    }
   ],
   "source": [
    "S.isValid(s)"
   ]
  }
 ],
 "metadata": {
  "kernelspec": {
   "display_name": "Python 3",
   "language": "python",
   "name": "python3"
  },
  "language_info": {
   "codemirror_mode": {
    "name": "ipython",
    "version": 3
   },
   "file_extension": ".py",
   "mimetype": "text/x-python",
   "name": "python",
   "nbconvert_exporter": "python",
   "pygments_lexer": "ipython3",
   "version": "3.7.0"
  }
 },
 "nbformat": 4,
 "nbformat_minor": 2
}
