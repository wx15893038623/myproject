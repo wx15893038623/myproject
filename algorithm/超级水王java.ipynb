{
 "cells": [
  {
   "cell_type": "code",
   "execution_count": 50,
   "metadata": {},
   "outputs": [],
   "source": [
    "int 好(int[] arr){\n",
    "    if(arr == null || arr.length == 0){\n",
    "        return -1;\n",
    "    }\n",
    "    int can = 0;\n",
    "    int hp = 0;\n",
    "    for(int cur:arr){\n",
    "        if(hp == 0){\n",
    "            can = cur;\n",
    "            hp = 1;\n",
    "        }else if (cur != can){\n",
    "            hp--;\n",
    "        }else{\n",
    "            hp++;\n",
    "        }\n",
    "    }\n",
    "    if(hp == 0){\n",
    "        return -1;\n",
    "    }\n",
    "    int count = 0;\n",
    "    for(int num:arr){\n",
    "        if(num == can){\n",
    "            count++;\n",
    "        }\n",
    "    }\n",
    "    int N = arr.length;\n",
    "    return count > (N >> 1)? can : -1;\n",
    "}"
   ]
  },
  {
   "cell_type": "code",
   "execution_count": 54,
   "metadata": {},
   "outputs": [
    {
     "data": {
      "text/plain": [
       "1"
      ]
     },
     "execution_count": 54,
     "metadata": {},
     "output_type": "execute_result"
    }
   ],
   "source": [
    "好(i)"
   ]
  },
  {
   "cell_type": "code",
   "execution_count": null,
   "metadata": {},
   "outputs": [],
   "source": []
  },
  {
   "cell_type": "code",
   "execution_count": 47,
   "metadata": {},
   "outputs": [],
   "source": [
    "void 啊(){\n",
    "    System.out.print(123);\n",
    "}"
   ]
  },
  {
   "cell_type": "code",
   "execution_count": 48,
   "metadata": {},
   "outputs": [
    {
     "name": "stdout",
     "output_type": "stream",
     "text": [
      "123"
     ]
    }
   ],
   "source": [
    "啊()"
   ]
  },
  {
   "cell_type": "code",
   "execution_count": 43,
   "metadata": {},
   "outputs": [],
   "source": [
    "class 啊啊{\n",
    "    static void 啊(){\n",
    "        System.out.print(123);\n",
    "    }\n",
    "    \n",
    "}"
   ]
  },
  {
   "cell_type": "code",
   "execution_count": 44,
   "metadata": {},
   "outputs": [
    {
     "name": "stdout",
     "output_type": "stream",
     "text": [
      "123"
     ]
    }
   ],
   "source": [
    "啊啊.啊()"
   ]
  },
  {
   "cell_type": "code",
   "execution_count": 34,
   "metadata": {},
   "outputs": [],
   "source": [
    "class 不好 {\n",
    "    public static int a(int[] arr){\n",
    "        if(arr == null || arr.length == 0){\n",
    "            return -1;\n",
    "        }\n",
    "        HashMap<Integer,Integer> map = new HashMap<>();\n",
    "        for (int num : arr){\n",
    "            if(map.containsKey(num)){\n",
    "                map.put(num,map.get(num)+1);\n",
    "            } else {\n",
    "                map.put(num,1);\n",
    "            }\n",
    "        }\n",
    "        int N = arr.length;\n",
    "        for (Entry<Integer,Integer> r:map.entrySet()){\n",
    "            if(r.getValue()>(N >> 1)){\n",
    "                return r.getKey();\n",
    "            }\n",
    "        }\n",
    "        return -1;\n",
    "    }\n",
    "}"
   ]
  },
  {
   "cell_type": "code",
   "execution_count": 40,
   "metadata": {},
   "outputs": [],
   "source": [
    "class aa {\n",
    "    public static int a(int[] arr){\n",
    "        if(arr == null || arr.length == 0){\n",
    "            return -1;\n",
    "        }\n",
    "        HashMap<Integer,Integer> map = new HashMap<>();\n",
    "        for (int num : arr){\n",
    "            if(map.containsKey(num)){\n",
    "                map.put(num,map.get(num)+1);\n",
    "            } else {\n",
    "                map.put(num,1);\n",
    "            }\n",
    "        }\n",
    "        int N = arr.length;\n",
    "        for (Entry<Integer,Integer> r:map.entrySet()){\n",
    "            if(r.getValue()>(N >> 1)){\n",
    "                return r.getKey();\n",
    "            }\n",
    "        }\n",
    "        return -1;\n",
    "    }\n",
    "}"
   ]
  },
  {
   "cell_type": "code",
   "execution_count": 53,
   "metadata": {},
   "outputs": [],
   "source": [
    "int[] i = {1,2,3,1,2,1,4,1,1,1,1,11,2}"
   ]
  },
  {
   "cell_type": "code",
   "execution_count": 52,
   "metadata": {},
   "outputs": [
    {
     "ename": "UnresolvedReferenceException",
     "evalue": "Attempt to use definition snippet with unresolved references in Snippet:ClassKey(aa)#35-class aa {\n    public static int a(int[] arr){\n        if(arr == null || arr.length == 0){\n            return -1;\n        }\n        HashMap<Integer,Integer> map = new HashMap<>();\n        for (int num : arr){\n            if(map.containsKey(num)){\n                map.put(num,map.get(num)+1);\n            } else {\n                map.put(num,1);\n            }\n        }\n        int N = arr.length;\n        for (Entry<Integer,Integer> r:map.entrySet()){\n            if(r.getValue()>(N >> 1)){\n                return r.getKey();\n            }\n        }\n        return -1;\n    }\n}",
     "output_type": "error",
     "traceback": [
      "\u001b[1m\u001b[30m|   \u001b[1m\u001b[30mclass aa {\u001b[0m",
      "\u001b[1m\u001b[30m|   \u001b[1m\u001b[30m    public static int a(int[] arr){\u001b[0m",
      "\u001b[1m\u001b[30m|   \u001b[1m\u001b[30m        if(arr == null || arr.length == 0){\u001b[0m",
      "\u001b[1m\u001b[30m|   \u001b[1m\u001b[30m            return -1;\u001b[0m",
      "\u001b[1m\u001b[30m|   \u001b[1m\u001b[30m        }\u001b[0m",
      "\u001b[1m\u001b[30m|   \u001b[1m\u001b[30m        HashMap<Integer,Integer> map = new HashMap<>();\u001b[0m",
      "\u001b[1m\u001b[30m|   \u001b[1m\u001b[30m        for (int num : arr){\u001b[0m",
      "\u001b[1m\u001b[30m|   \u001b[1m\u001b[30m            if(map.containsKey(num)){\u001b[0m",
      "\u001b[1m\u001b[30m|   \u001b[1m\u001b[30m                map.put(num,map.get(num)+1);\u001b[0m",
      "\u001b[1m\u001b[30m|   \u001b[1m\u001b[30m            } else {\u001b[0m",
      "\u001b[1m\u001b[30m|   \u001b[1m\u001b[30m                map.put(num,1);\u001b[0m",
      "\u001b[1m\u001b[30m|   \u001b[1m\u001b[30m            }\u001b[0m",
      "\u001b[1m\u001b[30m|   \u001b[1m\u001b[30m        }\u001b[0m",
      "\u001b[1m\u001b[30m|   \u001b[1m\u001b[30m        int N = arr.length;\u001b[0m",
      "\u001b[1m\u001b[30m|   \u001b[1m\u001b[30m        for (Entry<Integer,Integer> r:map.entrySet()){\u001b[0m",
      "\u001b[1m\u001b[30m|   \u001b[1m\u001b[30m            if(r.getValue()>(N >> 1)){\u001b[0m",
      "\u001b[1m\u001b[30m|   \u001b[1m\u001b[30m                return r.getKey();\u001b[0m",
      "\u001b[1m\u001b[30m|   \u001b[1m\u001b[30m            }\u001b[0m",
      "\u001b[1m\u001b[30m|   \u001b[1m\u001b[30m        }\u001b[0m",
      "\u001b[1m\u001b[30m|   \u001b[1m\u001b[30m        return -1;\u001b[0m",
      "\u001b[1m\u001b[30m|   \u001b[1m\u001b[30m    }\u001b[0m",
      "\u001b[1m\u001b[30m|   \u001b[1m\u001b[30m}\u001b[0m",
      "\u001b[1m\u001b[31mUnresolved dependencies:\u001b[0m",
      "\u001b[1m\u001b[31m   - class Entry\u001b[0m"
     ]
    }
   ],
   "source": [
    "aa.a(i)"
   ]
  },
  {
   "cell_type": "code",
   "execution_count": 36,
   "metadata": {},
   "outputs": [
    {
     "ename": "CompilationException",
     "evalue": "",
     "output_type": "error",
     "traceback": [
      "\u001b[1m\u001b[30m|   \u001b[1m\u001b[30maa.a(int[] \u001b[0m\u001b[1m\u001b[30m\u001b[41m\u001b[0m\u001b[1m\u001b[30mw = {1,2,3,4,5})\u001b[0m",
      "\u001b[1m\u001b[31m需要 '.class'\u001b[0m",
      ""
     ]
    }
   ],
   "source": [
    "aa.a(int[] w = {1,2,3,4,5})"
   ]
  }
 ],
 "metadata": {
  "kernelspec": {
   "display_name": "Java",
   "language": "java",
   "name": "java"
  },
  "language_info": {
   "codemirror_mode": "java",
   "file_extension": ".jshell",
   "mimetype": "text/x-java-source",
   "name": "Java",
   "pygments_lexer": "java",
   "version": "16.0.1+9-24"
  }
 },
 "nbformat": 4,
 "nbformat_minor": 2
}
