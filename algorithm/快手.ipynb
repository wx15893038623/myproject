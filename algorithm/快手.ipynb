{
 "cells": [
  {
   "cell_type": "code",
   "execution_count": null,
   "metadata": {},
   "outputs": [],
   "source": [
    "80%\n",
    "class Solution:\n",
    "    def bitCounter(self , num ):\n",
    "        # write code here\n",
    "        return bin(num).count('1')\n",
    "        "
   ]
  },
  {
   "cell_type": "code",
   "execution_count": null,
   "metadata": {},
   "outputs": [],
   "source": [
    "80%\n",
    "class Solution:\n",
    "    def isContinues(self , data ):\n",
    "        # write code here\n",
    "        c0 = 0\n",
    "        for i in data:\n",
    "            if i != 0:\n",
    "                c0 = 0\n",
    "            else:\n",
    "                c0 += 1\n",
    "                if c0 == 5:\n",
    "                    return True\n",
    "        maxn = max(data)\n",
    "        minn = min(data)\n",
    "        m = {}\n",
    "        for i in range(minn,maxn+1):\n",
    "            m[i] = 0\n",
    "        for i in data:\n",
    "            m[i] = 1\n",
    "        c1 = 0\n",
    "        \n",
    "        for i in m.values():\n",
    "            if i == 0:\n",
    "                c1 = 0\n",
    "            else:\n",
    "                c1 += 1\n",
    "                if c1 == 5:\n",
    "                    return True\n",
    "        c1 = 0\n",
    "        lm = list(m.values())\n",
    "        for i in range(len(lm)-2):\n",
    "            if lm[i] == 1 and lm[i+1] == 0 and lm[i+2] == 1:\n",
    "                lm[i+1] = 1\n",
    "        for i in lm:\n",
    "            if i == 0:\n",
    "                c1 = 0\n",
    "            else:\n",
    "                c1 += 1\n",
    "                if c1 == 5:\n",
    "                    return True\n",
    "        \n",
    "        return False\n",
    "                "
   ]
  },
  {
   "cell_type": "code",
   "execution_count": null,
   "metadata": {},
   "outputs": [],
   "source": [
    "20%\n",
    "class Solution:\n",
    "    def sort(self , modNames , modDepends ):\n",
    "        # write code here\n",
    "        n = len(modNames)\n",
    "        res = []\n",
    "        for i in range(n):\n",
    "            if modDepends[i] == []:\n",
    "                res.append(modNames[i])\n",
    "        nn = n\n",
    "        while len(res) != n:\n",
    "            \n",
    "            for i in range(n):\n",
    "                f = 0\n",
    "                for j in modDepends[i]:\n",
    "                    if j not in res:\n",
    "                        f = 1\n",
    "                if f == 0 and modNames[i] not in res:\n",
    "                    res.append(modNames[i])\n",
    "        return res"
   ]
  }
 ],
 "metadata": {
  "kernelspec": {
   "display_name": "Python 3",
   "language": "python",
   "name": "python3"
  },
  "language_info": {
   "codemirror_mode": {
    "name": "ipython",
    "version": 3
   },
   "file_extension": ".py",
   "mimetype": "text/x-python",
   "name": "python",
   "nbconvert_exporter": "python",
   "pygments_lexer": "ipython3",
   "version": "3.7.0"
  }
 },
 "nbformat": 4,
 "nbformat_minor": 2
}
