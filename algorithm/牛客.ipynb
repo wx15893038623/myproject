{
 "cells": [
  {
   "cell_type": "code",
   "execution_count": null,
   "metadata": {},
   "outputs": [],
   "source": [
    "75% 超时\n",
    "n = int(input())\n",
    "a = [int(i) for i in input().split()]\n",
    "nn = max(a)//2+1\n",
    "m = {1:0}\n",
    "if len(a) == 1:\n",
    "    print(a[0])\n",
    "else:\n",
    "    for i in range(2,nn):\n",
    "        r = 0\n",
    "        for j in a:\n",
    "            if j//i == j/i:\n",
    "                r += 1\n",
    "        if r > list(m.values())[0]:\n",
    "            m = {}\n",
    "            m[i] = r\n",
    "    print(list(m.keys())[0])"
   ]
  },
  {
   "cell_type": "code",
   "execution_count": null,
   "metadata": {},
   "outputs": [],
   "source": [
    "0% 超时\n",
    "ip = input().split()\n",
    "n = int(ip[0])\n",
    "k = int(ip[1])\n",
    "a = [int(i) for i in input().split()]\n",
    "nn = n\n",
    "while nn >= k:\n",
    "    a.remove(a[a.index(max(a[:k]))])\n",
    "    nn -= 1\n",
    "for i in a:\n",
    "    print(i)"
   ]
  },
  {
   "cell_type": "code",
   "execution_count": null,
   "metadata": {},
   "outputs": [],
   "source": [
    "不通过\n",
    "T = int(input())\n",
    "zm = 'abcdefghijklmnopqrstuvwxyz'\n",
    "def fun():\n",
    "    ip = input().split()\n",
    "    k = int(ip[0])\n",
    "    n = int(ip[1])\n",
    "    z = zm[:k]\n",
    "    a = []\n",
    "    for i in range(n):\n",
    "        a.append(input())\n",
    "    ss1 = input()\n",
    "    ss2 = input()\n",
    "    r = []\n",
    "    for i in range(k):\n",
    "        for j in range(i+1,k):\n",
    "            s1 = z[i]+z[j]\n",
    "            s2 = z[j]+z[i]\n",
    "            if s1 not in a and s2 not in a:\n",
    "                r.append(s1)\n",
    "    for i in r:\n",
    "        z.replace(i[0],'')\n",
    "        z.replace(i[1],'')\n",
    "    for i in z:\n",
    "        ss1.replace(i,'')\n",
    "        ss2.replace(i,'')\n",
    "    if ss1 == ss2:\n",
    "        return 'YES'\n",
    "    else:\n",
    "        return 'NO'\n",
    "for i in range(T):\n",
    "    res = fun()\n",
    "    print(res)"
   ]
  },
  {
   "cell_type": "code",
   "execution_count": null,
   "metadata": {},
   "outputs": [],
   "source": []
  },
  {
   "cell_type": "code",
   "execution_count": null,
   "metadata": {},
   "outputs": [],
   "source": []
  },
  {
   "cell_type": "code",
   "execution_count": 33,
   "metadata": {},
   "outputs": [],
   "source": [
    "a = {1:2}"
   ]
  },
  {
   "cell_type": "code",
   "execution_count": 40,
   "metadata": {},
   "outputs": [
    {
     "data": {
      "text/plain": [
       "2"
      ]
     },
     "execution_count": 40,
     "metadata": {},
     "output_type": "execute_result"
    }
   ],
   "source": [
    "list(a.values())[0]"
   ]
  },
  {
   "cell_type": "code",
   "execution_count": 39,
   "metadata": {},
   "outputs": [
    {
     "data": {
      "text/plain": [
       "1"
      ]
     },
     "execution_count": 39,
     "metadata": {},
     "output_type": "execute_result"
    }
   ],
   "source": [
    "list(a.keys())[0]"
   ]
  },
  {
   "cell_type": "code",
   "execution_count": 42,
   "metadata": {},
   "outputs": [],
   "source": [
    "b = {}"
   ]
  },
  {
   "cell_type": "code",
   "execution_count": 44,
   "metadata": {},
   "outputs": [
    {
     "data": {
      "text/plain": [
       "True"
      ]
     },
     "execution_count": 44,
     "metadata": {},
     "output_type": "execute_result"
    }
   ],
   "source": [
    "4//2 == 4/2"
   ]
  },
  {
   "cell_type": "code",
   "execution_count": 45,
   "metadata": {},
   "outputs": [
    {
     "data": {
      "text/plain": [
       "False"
      ]
     },
     "execution_count": 45,
     "metadata": {},
     "output_type": "execute_result"
    }
   ],
   "source": [
    "5//2 == 5/2"
   ]
  },
  {
   "cell_type": "code",
   "execution_count": 32,
   "metadata": {},
   "outputs": [
    {
     "name": "stdout",
     "output_type": "stream",
     "text": [
      "2\n",
      "3\n",
      "4\n",
      "5\n"
     ]
    }
   ],
   "source": [
    "for i in range(2,6):\n",
    "    print(i)"
   ]
  },
  {
   "cell_type": "code",
   "execution_count": null,
   "metadata": {},
   "outputs": [],
   "source": [
    "5 2\n",
    "2 4 6 3 7\n",
    "===\n",
    "2"
   ]
  },
  {
   "cell_type": "code",
   "execution_count": null,
   "metadata": {},
   "outputs": [],
   "source": [
    "3 3\n",
    "2 1 3\n",
    "==\n",
    "2 1"
   ]
  },
  {
   "cell_type": "code",
   "execution_count": 53,
   "metadata": {},
   "outputs": [
    {
     "data": {
      "text/plain": [
       "'2 1'"
      ]
     },
     "execution_count": 53,
     "metadata": {},
     "output_type": "execute_result"
    }
   ],
   "source": [
    "ip = '3 3'.split()\n",
    "n = int(ip[0])\n",
    "k = int(ip[1])\n",
    "a = [int(i) for i in '2 1 3'.split()]\n",
    "nn = n\n",
    "while nn >= k:\n",
    "    a.remove(a[a.index(max(a[:k]))])\n",
    "    nn -= 1\n",
    "str(a).replace('[','').replace(']','').replace(',','')"
   ]
  },
  {
   "cell_type": "code",
   "execution_count": 54,
   "metadata": {},
   "outputs": [
    {
     "data": {
      "text/plain": [
       "[2, 1]"
      ]
     },
     "execution_count": 54,
     "metadata": {},
     "output_type": "execute_result"
    }
   ],
   "source": [
    "a"
   ]
  },
  {
   "cell_type": "code",
   "execution_count": 55,
   "metadata": {},
   "outputs": [
    {
     "data": {
      "text/plain": [
       "'2 1'"
      ]
     },
     "execution_count": 55,
     "metadata": {},
     "output_type": "execute_result"
    }
   ],
   "source": [
    "' '.join(str(i) for i in a)"
   ]
  },
  {
   "cell_type": "code",
   "execution_count": 52,
   "metadata": {},
   "outputs": [
    {
     "data": {
      "text/plain": [
       "'2 1'"
      ]
     },
     "execution_count": 52,
     "metadata": {},
     "output_type": "execute_result"
    }
   ],
   "source": [
    "str(a).replace('[','').replace(']','').replace(',','')"
   ]
  },
  {
   "cell_type": "code",
   "execution_count": 11,
   "metadata": {},
   "outputs": [],
   "source": [
    "a = [1,2,3,4,5]"
   ]
  },
  {
   "cell_type": "code",
   "execution_count": 26,
   "metadata": {},
   "outputs": [],
   "source": [
    "a.remove(a[a.index(max(a[:2]))])"
   ]
  },
  {
   "cell_type": "code",
   "execution_count": 27,
   "metadata": {},
   "outputs": [
    {
     "data": {
      "text/plain": [
       "[2]"
      ]
     },
     "execution_count": 27,
     "metadata": {},
     "output_type": "execute_result"
    }
   ],
   "source": [
    "a"
   ]
  },
  {
   "cell_type": "code",
   "execution_count": null,
   "metadata": {},
   "outputs": [],
   "source": []
  }
 ],
 "metadata": {
  "kernelspec": {
   "display_name": "Python 3",
   "language": "python",
   "name": "python3"
  },
  "language_info": {
   "codemirror_mode": {
    "name": "ipython",
    "version": 3
   },
   "file_extension": ".py",
   "mimetype": "text/x-python",
   "name": "python",
   "nbconvert_exporter": "python",
   "pygments_lexer": "ipython3",
   "version": "3.7.0"
  }
 },
 "nbformat": 4,
 "nbformat_minor": 2
}
