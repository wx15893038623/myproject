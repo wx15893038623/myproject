{
 "cells": [
  {
   "cell_type": "code",
   "execution_count": null,
   "metadata": {},
   "outputs": [],
   "source": [
    "bfs\n",
    "32 ms\t15.3 MB"
   ]
  },
  {
   "cell_type": "code",
   "execution_count": 1,
   "metadata": {},
   "outputs": [],
   "source": [
    "class TreeNode:\n",
    "    def __init__(self, val=0, left=None, right=None):\n",
    "        self.val = val\n",
    "        self.left = left\n",
    "        self.right = right"
   ]
  },
  {
   "cell_type": "code",
   "execution_count": 3,
   "metadata": {},
   "outputs": [],
   "source": [
    "a = TreeNode(1)\n",
    "a.right = TreeNode(2)\n",
    "a.left = TreeNode(3)\n",
    "root = TreeNode(0)\n",
    "root.right = a"
   ]
  },
  {
   "cell_type": "code",
   "execution_count": 11,
   "metadata": {},
   "outputs": [],
   "source": [
    "from queue import Queue\n",
    "def fun(root):\n",
    "    res = []\n",
    "    if root == None:\n",
    "        return res\n",
    "    q = Queue()\n",
    "    q.put(root)\n",
    "    while q.qsize()>0:\n",
    "        size = q.qsize()\n",
    "        listt = []\n",
    "        while size>0:\n",
    "            cur = q.get()\n",
    "            listt.append(cur.val)\n",
    "            if cur.left != None:\n",
    "                q.put(cur.left)\n",
    "            if cur.right != None:\n",
    "                q.put(cur.right)\n",
    "            size -= 1\n",
    "        res.append(listt[:])\n",
    "    return res\n",
    "        "
   ]
  },
  {
   "cell_type": "code",
   "execution_count": 12,
   "metadata": {},
   "outputs": [
    {
     "data": {
      "text/plain": [
       "[[0], [1], [3, 2]]"
      ]
     },
     "execution_count": 12,
     "metadata": {},
     "output_type": "execute_result"
    }
   ],
   "source": [
    "fun(root)"
   ]
  }
 ],
 "metadata": {
  "kernelspec": {
   "display_name": "Python 3",
   "language": "python",
   "name": "python3"
  },
  "language_info": {
   "codemirror_mode": {
    "name": "ipython",
    "version": 3
   },
   "file_extension": ".py",
   "mimetype": "text/x-python",
   "name": "python",
   "nbconvert_exporter": "python",
   "pygments_lexer": "ipython3",
   "version": "3.7.0"
  }
 },
 "nbformat": 4,
 "nbformat_minor": 2
}
