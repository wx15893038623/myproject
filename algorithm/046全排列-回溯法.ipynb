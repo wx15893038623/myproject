{
 "cells": [
  {
   "cell_type": "code",
   "execution_count": 28,
   "metadata": {},
   "outputs": [
    {
     "data": {
      "text/plain": [
       "[['q', 'w', 'e'],\n",
       " ['q', 'e', 'w'],\n",
       " ['w', 'q', 'e'],\n",
       " ['w', 'e', 'q'],\n",
       " ['e', 'q', 'w'],\n",
       " ['e', 'w', 'q']]"
      ]
     },
     "execution_count": 28,
     "metadata": {},
     "output_type": "execute_result"
    }
   ],
   "source": [
    "nums = 'qwe'\n",
    "fun(nums)"
   ]
  },
  {
   "cell_type": "code",
   "execution_count": 27,
   "metadata": {},
   "outputs": [],
   "source": [
    "def fun(nums):\n",
    "    res = []\n",
    "    visited = {}\n",
    "    for num in nums:\n",
    "        visited[num] = False\n",
    "    backtracking(nums,res,visited,[])\n",
    "    return res"
   ]
  },
  {
   "cell_type": "code",
   "execution_count": 26,
   "metadata": {},
   "outputs": [],
   "source": [
    "def backtracking(nums,res,visited,listt):\n",
    "    if len(nums)==len(listt):\n",
    "        res.append(listt.copy())\n",
    "        return\n",
    "    for num in nums:\n",
    "        if (not visited[num]):\n",
    "            listt.append(num)\n",
    "            visited[num]=True\n",
    "            backtracking(nums,res,visited,listt)\n",
    "            listt.pop()\n",
    "            visited[num]=False"
   ]
  },
  {
   "cell_type": "code",
   "execution_count": 9,
   "metadata": {},
   "outputs": [
    {
     "name": "stdout",
     "output_type": "stream",
     "text": [
      "[[1, 2]]\n",
      "[[0, 2]]\n"
     ]
    }
   ],
   "source": [
    "a = [1,2]\n",
    "b = []\n",
    "b.append(a)\n",
    "print(b)\n",
    "a[0]=0\n",
    "print(b)"
   ]
  },
  {
   "cell_type": "code",
   "execution_count": 16,
   "metadata": {},
   "outputs": [
    {
     "name": "stdout",
     "output_type": "stream",
     "text": [
      "[[1, 2]]\n",
      "[[1, 2]]\n"
     ]
    }
   ],
   "source": [
    "a = [1,2]\n",
    "b = []\n",
    "b.append(a.copy())\n",
    "print(b)\n",
    "a[0]=0\n",
    "print(b)"
   ]
  }
 ],
 "metadata": {
  "kernelspec": {
   "display_name": "Python 3",
   "language": "python",
   "name": "python3"
  },
  "language_info": {
   "codemirror_mode": {
    "name": "ipython",
    "version": 3
   },
   "file_extension": ".py",
   "mimetype": "text/x-python",
   "name": "python",
   "nbconvert_exporter": "python",
   "pygments_lexer": "ipython3",
   "version": "3.7.0"
  }
 },
 "nbformat": 4,
 "nbformat_minor": 2
}
