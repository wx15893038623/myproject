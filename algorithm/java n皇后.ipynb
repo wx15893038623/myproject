{
 "cells": [
  {
   "cell_type": "code",
   "execution_count": 7,
   "metadata": {},
   "outputs": [],
   "source": [
    "public int queens (int n) {\n",
    "    // write code here\n",
    "    if(n<1){\n",
    "        return 0;\n",
    "    }\n",
    "    int[] r = new int[n];\n",
    "    return p(0,r,n);\n",
    "}\n",
    "public int p(int i,int[] r,int n){\n",
    "    if(i == n){\n",
    "        return 1;\n",
    "    }\n",
    "    int res = 0;\n",
    "    for (int j = 0;j < n;j++){\n",
    "        if (isV(r,i,j)){\n",
    "            r[i] = j;\n",
    "            res += p(i + 1,r,n);\n",
    "        }\n",
    "    }\n",
    "    return res;\n",
    "}\n",
    "public boolean isV(int[] r,int i,int j){\n",
    "    for (int k = 0;k < i;k++){\n",
    "        if (j == r[k] || Math.abs(r[k]-j) == Math.abs(i-k)){\n",
    "            return false;\n",
    "        }\n",
    "    }\n",
    "    return true;\n",
    "}"
   ]
  },
  {
   "cell_type": "code",
   "execution_count": 8,
   "metadata": {},
   "outputs": [
    {
     "data": {
      "text/plain": [
       "2"
      ]
     },
     "execution_count": 8,
     "metadata": {},
     "output_type": "execute_result"
    }
   ],
   "source": [
    "queens(4)"
   ]
  },
  {
   "cell_type": "code",
   "execution_count": null,
   "metadata": {},
   "outputs": [],
   "source": []
  }
 ],
 "metadata": {
  "kernelspec": {
   "display_name": "Java",
   "language": "java",
   "name": "java"
  },
  "language_info": {
   "codemirror_mode": "java",
   "file_extension": ".jshell",
   "mimetype": "text/x-java-source",
   "name": "Java",
   "pygments_lexer": "java",
   "version": "11.0.12+8-LTS-237"
  }
 },
 "nbformat": 4,
 "nbformat_minor": 2
}
