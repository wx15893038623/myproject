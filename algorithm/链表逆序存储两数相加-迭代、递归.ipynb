{
 "cells": [
  {
   "cell_type": "markdown",
   "metadata": {},
   "source": [
    "迭代(不行)"
   ]
  },
  {
   "cell_type": "code",
   "execution_count": 2,
   "metadata": {},
   "outputs": [],
   "source": [
    "class ListNode(object):\n",
    "\n",
    "    def __init__(self, item=0):\n",
    "        # item存放数据元素\n",
    "        self.item = item\n",
    "        # next是下一个节点的标识\n",
    "        self.next = None"
   ]
  },
  {
   "cell_type": "code",
   "execution_count": 4,
   "metadata": {},
   "outputs": [],
   "source": [
    "class Solution:\n",
    "    def addTwoNumbers(self, l1: ListNode, l2: ListNode) -> ListNode:\n",
    "        total = 0\n",
    "        next1 = 0\n",
    "        result = ListNode()\n",
    "        cur = result\n",
    "        while(l1 != None and l2 != None):\n",
    "            total = l1.item + l2.item + next1\n",
    "            cur.next = ListNode(total%10)\n",
    "            next1 = total // 10\n",
    "            l1 = l1.next\n",
    "            l2 = l2.next\n",
    "            cur = cur.next\n",
    "        while(l1 != None):\n",
    "            total = l1.item + next1\n",
    "            cur.next = ListNode(total%10)\n",
    "            next1 = total // 10\n",
    "            l1 = l1.next\n",
    "        while(l2 != None):\n",
    "            total = l2.item + next1\n",
    "            cur.next = ListNode(total%10)\n",
    "            next1 = total // 10\n",
    "            l2 = l2.next\n",
    "        if(next1 != 0):\n",
    "            cur.next = ListNode(next1)\n",
    "        return result.next"
   ]
  },
  {
   "cell_type": "code",
   "execution_count": 23,
   "metadata": {},
   "outputs": [],
   "source": [
    "\n",
    "l1 = ListNode(9)\n",
    "cur = l1\n",
    "cur.next = ListNode(9)\n",
    "cur = cur.next\n",
    "cur.next = ListNode(9)\n",
    "cur = cur.next\n",
    "cur.next = ListNode(9)\n",
    "cur = cur.next\n",
    "cur.next = ListNode(9)\n",
    "cur = cur.next\n",
    "cur.next = ListNode(9)\n",
    "cur = cur.next\n",
    "cur.next = ListNode(9)"
   ]
  },
  {
   "cell_type": "code",
   "execution_count": 24,
   "metadata": {},
   "outputs": [],
   "source": [
    "\n",
    "l2 = ListNode(9)\n",
    "cur = l2\n",
    "cur.next = ListNode(9)\n",
    "cur = cur.next\n",
    "cur.next = ListNode(9)\n",
    "cur = cur.next\n",
    "cur.next = ListNode(9)\n"
   ]
  },
  {
   "cell_type": "code",
   "execution_count": 28,
   "metadata": {},
   "outputs": [],
   "source": [
    "\n",
    "\n",
    "s = Solution()\n",
    "r = s.addTwoNumbers(l1,l2)"
   ]
  },
  {
   "cell_type": "code",
   "execution_count": 29,
   "metadata": {},
   "outputs": [
    {
     "name": "stdout",
     "output_type": "stream",
     "text": [
      "8\n",
      "9\n",
      "9\n",
      "9\n",
      "0\n",
      "0\n",
      "0\n",
      "1\n"
     ]
    }
   ],
   "source": [
    "cur = r\n",
    "while (cur != None):\n",
    "    print(cur.item)\n",
    "    cur = cur.next"
   ]
  },
  {
   "cell_type": "markdown",
   "metadata": {},
   "source": [
    "递归法（行）"
   ]
  },
  {
   "cell_type": "code",
   "execution_count": 27,
   "metadata": {},
   "outputs": [],
   "source": [
    "class Solution:\n",
    "    def addTwoNumbers(self, l1: ListNode, l2: ListNode) -> ListNode:\n",
    "        total = l1.item + l2.item\n",
    "        next1 = total // 10\n",
    "        res = ListNode(total % 10)\n",
    "        if (l1.next != None) or (l2.next != None) or (next1 != 0):\n",
    "            if (l1.next != None):\n",
    "                l1 = l1.next\n",
    "            else:\n",
    "                l1 = ListNode(0)\n",
    "            if (l2.next != None):\n",
    "                l2 = l2.next\n",
    "            else:\n",
    "                l2 = ListNode(0)\n",
    "                \n",
    "            l1.item = l1.item + next1\n",
    "            s = Solution()\n",
    "            res.next = s.addTwoNumbers(l1,l2)\n",
    "        return res"
   ]
  },
  {
   "cell_type": "code",
   "execution_count": 66,
   "metadata": {},
   "outputs": [],
   "source": [
    "l1 = ListNode(8)\n",
    "l1.next = ListNode(9)\n",
    "l2 = ListNode(7)\n",
    "l2.next = ListNode(1)\n",
    "\n",
    "s = Solution()\n",
    "r = s.addTwoNumbers(l1,l2)"
   ]
  },
  {
   "cell_type": "code",
   "execution_count": 67,
   "metadata": {},
   "outputs": [
    {
     "data": {
      "text/plain": [
       "(5, 1, 1)"
      ]
     },
     "execution_count": 67,
     "metadata": {},
     "output_type": "execute_result"
    }
   ],
   "source": [
    "r.item, r.next.item, r.next.next.item"
   ]
  },
  {
   "cell_type": "code",
   "execution_count": null,
   "metadata": {},
   "outputs": [],
   "source": []
  }
 ],
 "metadata": {
  "kernelspec": {
   "display_name": "Python 3",
   "language": "python",
   "name": "python3"
  },
  "language_info": {
   "codemirror_mode": {
    "name": "ipython",
    "version": 3
   },
   "file_extension": ".py",
   "mimetype": "text/x-python",
   "name": "python",
   "nbconvert_exporter": "python",
   "pygments_lexer": "ipython3",
   "version": "3.7.0"
  }
 },
 "nbformat": 4,
 "nbformat_minor": 2
}
