{
 "cells": [
  {
   "cell_type": "code",
   "execution_count": null,
   "metadata": {},
   "outputs": [],
   "source": [
    "某院校为了查看选修课教学情况，现需抽查某老师所有讲授的选修课的学生考试信息。已知该院校现有信息系统中现有:Student学生表、Course课程表、Teacher教师表、Score成绩表，假设现要查看选修[TeacherZhang]老师所有讲授课程的学生考试信息，需要将学生的考试ID，学生姓名，课程名称，课程成绩等信息进行显示，并将显示结果按照考试id排序。请编写相应SQL语句进行相关处理。\n",
    "\n",
    "\n",
    "\n",
    "输入描述\n",
    "    Student学生表：\n",
    "\n",
    "    \t--SNo 学生编号,Sname 学生姓名,Sage 出生年月,Ssex 学生性别\n",
    "\n",
    "    Course课程表\n",
    "\n",
    "    \t--CNo  --课程编号,Cname 课程名称,TNo 教师编号\n",
    "\n",
    "    Teacher教师表\n",
    "\n",
    "    \t--TNo 教师编号,Tname 教师姓名\n",
    "\n",
    "    Score成绩表\n",
    "\n",
    "    \t --id 考试编号， SNo  学生编号,CNo 课程编号,score分数\n",
    "\n",
    "输出描述\n",
    "请编写SQL语句，查询出选修[TeacherZhang]所讲授课程中，学生课程成绩相关信息：需要对考试ID，学生姓名，课程名称，课程成绩信息进行显示。并且查询结果按照考试id进行排序。"
   ]
  },
  {
   "cell_type": "code",
   "execution_count": null,
   "metadata": {},
   "outputs": [],
   "source": [
    "样例输入\n",
    "CREATE TABLE Student(\n",
    " SNo  VARCHAR(20),\n",
    " Sname VARCHAR(20),\n",
    " Sage INT,\n",
    " Ssex VARCHAR(4),\n",
    " PRIMARY KEY(SNo)\n",
    " );\n",
    " CREATE TABLE Teacher(\n",
    " TNo  VARCHAR(20),\n",
    " Tname VARCHAR(20),\n",
    " PRIMARY KEY(TNo)\n",
    " );\n",
    " \n",
    " CREATE TABLE Course(\n",
    " CNo  VARCHAR(20),\n",
    " Cname VARCHAR(20),\n",
    " TNo  VARCHAR(20),\n",
    " PRIMARY KEY(CNo),\n",
    " FOREIGN KEY (TNo) REFERENCES Teacher(TNo)\n",
    " );\n",
    "\n",
    " CREATE TABLE Score(\n",
    " id INT NOT NULL,\n",
    " SNo  VARCHAR(20),\n",
    " CNo  VARCHAR(20),\n",
    " Score INT,\n",
    " PRIMARY KEY(id),\n",
    " FOREIGN KEY (SNo) REFERENCES Student(SNo),\n",
    " FOREIGN KEY (CNo) REFERENCES Course(CNo)\n",
    " );\n",
    " \n",
    " \n",
    " INSERT INTO student(Sno,Sname,Sage,Ssex) VALUES('S1001','stuHan',21,'m');\n",
    " INSERT INTO student(Sno,Sname,Sage,Ssex) VALUES('S1002','stuLi',22,'M');\n",
    "  INSERT INTO student(Sno,Sname,Sage,Ssex) VALUES('S1003','stuWang',20,'F');\n",
    "  \n",
    "  INSERT INTO Teacher(TNo,Tname) VALUES('T001','TeacherZhang');\n",
    "  INSERT INTO Teacher(TNo,Tname) VALUES('T002','TeacherWang');\n",
    "  INSERT INTO Teacher(TNo,Tname) VALUES('T003','TeacherLi');\n",
    " \n",
    "\n",
    "  \n",
    "  INSERT INTO Course(CNo,Cname,TNo) VALUES('C001','HTML','T001');\n",
    "  INSERT INTO Course(CNo,Cname,TNo) VALUES('C002','java','T001');\n",
    "  INSERT INTO Course(CNo,Cname,TNo) VALUES('C003','C#','T002');\n",
    "  INSERT INTO Course(CNo,Cname,TNo) VALUES('C004','python','T002');\n",
    "  INSERT INTO Course(CNo,Cname,TNo) VALUES('C005','web','T003');\n",
    "  INSERT INTO Course(CNo,Cname,TNo) VALUES('C006','J2EE','T003');\n",
    "  \n",
    "  \n",
    "  \n",
    "  INSERT INTO Score(id,SNo,CNo,Score) VALUES(1,'S1001','C001',90);\n",
    "  INSERT INTO Score(id,SNo,CNo,Score) VALUES(2,'S1002','C001',90);\n",
    "  INSERT INTO Score(id,SNo,CNo,Score) VALUES(3,'S1003','C001',88);\n",
    "  \n",
    "  \n",
    "   INSERT INTO Score(id,SNo,CNo,Score) VALUES(4,'S1001','C002',100);\n",
    "  INSERT INTO Score(id,SNo,CNo,Score) VALUES(5,'S1002','C002',90);\n",
    "  INSERT INTO Score(id,SNo,CNo,Score) VALUES(6,'S1003','C002',88);\n",
    "  \n",
    "  \n",
    "  \n",
    "  INSERT INTO Score(id,SNo,CNo,Score) VALUES(7,'S1001','C003',100);\n",
    "  INSERT INTO Score(id,SNo,CNo,Score) VALUES(8,'S1002','C003',90);\n",
    "  INSERT INTO Score(id,SNo,CNo,Score) VALUES(9,'S1003','C003',88);\n",
    "  \n",
    "  INSERT INTO Score(id,SNo,CNo,Score) VALUES(10,'S1001','C004',100);\n",
    "  INSERT INTO Score(id,SNo,CNo,Score) VALUES(11,'S1002','C004',90);\n",
    "  INSERT INTO Score(id,SNo,CNo,Score) VALUES(12,'S1003','C004',88);\n",
    "样例输出\n",
    "id\tSname\tCname\tScore\n",
    "1\tstuHan\tHTML\t90\n",
    "2\tstuLi\tHTML\t90\n",
    "3\tstuWang\tHTML\t88\n",
    "4\tstuHan\tjava\t100\n",
    "5\tstuLi\tjava\t90\n",
    "6\tstuWang\tjava\t88"
   ]
  },
  {
   "cell_type": "code",
   "execution_count": null,
   "metadata": {},
   "outputs": [],
   "source": [
    "样例输入\n",
    "CREATE TABLE Student(\n",
    "                                                   SNo Sname  Sage  Ssex \n",
    "     INSERT INTO student(Sno,Sname,Sage,Ssex) VALUES('S1001','stuHan',21,'m');\n",
    " INSERT INTO student(Sno,Sname,Sage,Ssex) VALUES('S1002','stuLi',22,'M');\n",
    "  INSERT INTO student(Sno,Sname,Sage,Ssex) VALUES('S1003','stuWang',20,'F');\n",
    "    \n",
    "    \n",
    " CREATE TABLE Teacher(\n",
    "                                           TNo  Tname \n",
    "   INSERT INTO Teacher(TNo,Tname) VALUES('T001','TeacherZhang');\n",
    "  INSERT INTO Teacher(TNo,Tname) VALUES('T002','TeacherWang');\n",
    "  INSERT INTO Teacher(TNo,Tname) VALUES('T003','TeacherLi');\n",
    "     \n",
    "     \n",
    " CREATE TABLE Course(\n",
    "                                            CNo  Cname  TNo\n",
    "  INSERT INTO Course(CNo,Cname,TNo) VALUES('C001','HTML','T001');\n",
    "  INSERT INTO Course(CNo,Cname,TNo) VALUES('C002','java','T001');\n",
    "  INSERT INTO Course(CNo,Cname,TNo) VALUES('C003','C#','T002');\n",
    "  INSERT INTO Course(CNo,Cname,TNo) VALUES('C004','python','T002');\n",
    "  INSERT INTO Course(CNo,Cname,TNo) VALUES('C005','web','T003');\n",
    "  INSERT INTO Course(CNo,Cname,TNo) VALUES('C006','J2EE','T003');\n",
    "     \n",
    "     \n",
    " CREATE TABLE Score(\n",
    "                                             id SNo  CNo  Score  \n",
    "  INSERT INTO Score(id,SNo,CNo,Score) VALUES(1,'S1001','C001',90);\n",
    "  INSERT INTO Score(id,SNo,CNo,Score) VALUES(2,'S1002','C001',90);\n",
    "  INSERT INTO Score(id,SNo,CNo,Score) VALUES(3,'S1003','C001',88);\n",
    "  \n",
    "  \n",
    "   INSERT INTO Score(id,SNo,CNo,Score) VALUES(4,'S1001','C002',100);\n",
    "  INSERT INTO Score(id,SNo,CNo,Score) VALUES(5,'S1002','C002',90);\n",
    "  INSERT INTO Score(id,SNo,CNo,Score) VALUES(6,'S1003','C002',88);\n",
    "  \n",
    "  \n",
    "  \n",
    "  INSERT INTO Score(id,SNo,CNo,Score) VALUES(7,'S1001','C003',100);\n",
    "  INSERT INTO Score(id,SNo,CNo,Score) VALUES(8,'S1002','C003',90);\n",
    "  INSERT INTO Score(id,SNo,CNo,Score) VALUES(9,'S1003','C003',88);\n",
    "  \n",
    "  INSERT INTO Score(id,SNo,CNo,Score) VALUES(10,'S1001','C004',100);\n",
    "  INSERT INTO Score(id,SNo,CNo,Score) VALUES(11,'S1002','C004',90);\n",
    "  INSERT INTO Score(id,SNo,CNo,Score) VALUES(12,'S1003','C004',88);\n",
    "样例输出\n",
    "id\tSname\tCname\tScore\n",
    "1\tstuHan\tHTML\t90\n",
    "2\tstuLi\tHTML\t90\n",
    "3\tstuWang\tHTML\t88\n",
    "4\tstuHan\tjava\t100\n",
    "5\tstuLi\tjava\t90\n",
    "6\tstuWang\tjava\t88"
   ]
  },
  {
   "cell_type": "code",
   "execution_count": null,
   "metadata": {},
   "outputs": [],
   "source": [
    "select\n",
    "\n",
    "from\n",
    "Score join \n",
    "(select\n",
    "TNo Cname\n",
    "from \n",
    "Teacher join Course on Teacher.TNo = Course.TNo where Tname = \"TeacherZhang\") a on Score."
   ]
  },
  {
   "cell_type": "code",
   "execution_count": null,
   "metadata": {},
   "outputs": [],
   "source": []
  },
  {
   "cell_type": "code",
   "execution_count": 40,
   "metadata": {},
   "outputs": [],
   "source": [
    "输入描述\n",
    "第一行两个正整数 n，m，分别表示办事处有n个窗口，会有m个人来办理业务。\n",
    "\n",
    "第二行有m个数，第i个数t[i]表示第i个人来到办事处的时间点。\n",
    "\n",
    "第三行有m个数，第i个数c[i]表示第i个人办理业务所需要的时间。\n",
    "\n",
    "数字间两两有空格隔开。\n",
    "\n",
    "30%的数据保证 n=1,m<=100,1<=t[i], c[i]<=100。\n",
    "\n",
    "60%的数据保证 n<=10,m<=100,1<=t[i], c[i]<=200。\n",
    "\n",
    "100%的数据保证 n<=100,m<=10000,1<=t[i], c[i]<=20000。\n",
    "\n",
    "输出描述\n",
    "一行，一个整数，表示m个人中最后一个离开办事处的时间点。\n",
    "3 5\n",
    "7 8 4 5 3\n",
    "7 6 8 8 5\n",
    "样例输出\n",
    "21\n",
    "=======\n",
    "64%\n",
    "n = 3\n",
    "m = 5\n",
    "t = [int(i) for i in '7 8 4 5 3'.split()]\n",
    "c = [int(i) for i in '7 6 8 8 5'.split()]\n",
    "s = []\n",
    "for i in range(m):\n",
    "    s.append([t[i],c[i]])\n",
    "\n",
    "s.sort(key=lambda x:(x[0],-x[1]))\n",
    "res = [0 for i in range(n)]\n",
    "so = [[]for i in range(n)]\n",
    "for i in s:\n",
    "    if i[0] > max(res):\n",
    "        res[0] = i[0] + i[1]\n",
    "        so[0].append([i[0],i[0]+i[1]])\n",
    "    else:\n",
    "        f = [0 for k in range(n)]\n",
    "        for k in range(n):\n",
    "            for kk in so[k]:\n",
    "                if kk[1]>i[0]:\n",
    "                    f[k] += 1\n",
    "        j = f.index(min(f))\n",
    "        \n",
    "        mm = max(i[0],res[j])\n",
    "        res[j] = mm + i[1]\n",
    "        so[j].append([mm,mm+i[1]])\n",
    "print(max(res))"
   ]
  },
  {
   "cell_type": "code",
   "execution_count": 44,
   "metadata": {},
   "outputs": [
    {
     "name": "stdout",
     "output_type": "stream",
     "text": [
      "21\n"
     ]
    }
   ],
   "source": []
  },
  {
   "cell_type": "code",
   "execution_count": null,
   "metadata": {},
   "outputs": [],
   "source": []
  },
  {
   "cell_type": "code",
   "execution_count": 6,
   "metadata": {},
   "outputs": [],
   "source": [
    "s.sort(key=lambda x:(x[0],-x[1]))"
   ]
  },
  {
   "cell_type": "code",
   "execution_count": 42,
   "metadata": {},
   "outputs": [],
   "source": [
    "res = [0 for i in range(n)]\n",
    "so = [[]for i in range(n)]"
   ]
  },
  {
   "cell_type": "code",
   "execution_count": 43,
   "metadata": {},
   "outputs": [
    {
     "name": "stdout",
     "output_type": "stream",
     "text": [
      "[3, 5] [8, 0, 0]\n",
      "[[[3, 8]], [], []]\n",
      "===\n",
      "[4, 8] [8, 12, 0]\n",
      "[[[3, 8]], [[4, 12]], []]\n",
      "===\n",
      "[5, 8] [8, 12, 13]\n",
      "[[[3, 8]], [[4, 12]], [[5, 13]]]\n",
      "===\n",
      "[7, 7] [15, 12, 13]\n",
      "[[[3, 8], [8, 15]], [[4, 12]], [[5, 13]]]\n",
      "===\n",
      "[8, 6] [21, 12, 13]\n",
      "[[[3, 8], [8, 15], [15, 21]], [[4, 12]], [[5, 13]]]\n",
      "===\n"
     ]
    }
   ],
   "source": [
    "for i in s:\n",
    "    if i[0] > max(res):\n",
    "        res[0] = i[0] + i[1]\n",
    "        so[0].append([i[0],i[0]+i[1]])\n",
    "    else:\n",
    "        f = [0 for k in range(n)]\n",
    "        for k in range(n):\n",
    "            for kk in so[k]:\n",
    "                if kk[1]>i[0]:\n",
    "                    f[k] += 1\n",
    "        j = f.index(min(f))\n",
    "        \n",
    "        mm = max(i[0],res[j])\n",
    "        res[j] = mm + i[1]\n",
    "        so[j].append([mm,mm+i[1]])\n",
    "    print(i,res)\n",
    "    print(so)\n",
    "    print('===')"
   ]
  },
  {
   "cell_type": "code",
   "execution_count": null,
   "metadata": {},
   "outputs": [],
   "source": []
  },
  {
   "cell_type": "code",
   "execution_count": 26,
   "metadata": {},
   "outputs": [
    {
     "name": "stdout",
     "output_type": "stream",
     "text": [
      "[3, 5] [8, 0, 0]\n",
      "[4, 8] [8, 12, 0]\n",
      "[5, 8] [8, 12, 13]\n",
      "[7, 7] [15, 12, 13]\n",
      "[8, 6] [15, 18, 13]\n"
     ]
    }
   ],
   "source": [
    "for i in s:\n",
    "    if i[0] < min(res):\n",
    "        res[res.index(min(res))] = min(res)+i[1]\n",
    "    elif i[0] > max(res):\n",
    "        res[0] = i[0] + i[1]\n",
    "    else:\n",
    "        res[res.index(min(res))] = i[0] + i[1]\n",
    "    print(i,res)"
   ]
  },
  {
   "cell_type": "code",
   "execution_count": 22,
   "metadata": {},
   "outputs": [
    {
     "data": {
      "text/plain": [
       "[15, 18, 13]"
      ]
     },
     "execution_count": 22,
     "metadata": {},
     "output_type": "execute_result"
    }
   ],
   "source": [
    "res"
   ]
  },
  {
   "cell_type": "code",
   "execution_count": null,
   "metadata": {},
   "outputs": [],
   "source": [
    "样例解释\n",
    "\n",
    "按照时间点从小到大考虑：\n",
    "\n",
    "最早来的是第5个人，在时刻3到来，选择了第1个窗口直接办理，需要时长5，将会在时刻8离开。\n",
    "\n",
    "然后是第3个人，在时刻4到来，此时1窗口有1人，2、3窗口无人，因此选择第2个窗口直接办理，需要时长8，将会在时刻12离开。\n",
    "\n",
    "接着第4个人在时刻5到来，此时1、2窗口各有1人，3窗口无人，因此选择第3个窗口直接办理，需要时长8，将会在时刻13离开。\n",
    "\n",
    "接着第1个人在时刻7到来，此时1、2、3窗口各有1人，因此选择第1个窗口排队，需要时长7，而窗口1的前一个人会在时刻8离开，因此他将在时刻8+7=15离开。\n",
    "\n",
    "接着第2个人在时刻8到来，此时第5个人从窗口1离开了，此时1、2、3窗口各有1人，因此选择第1个窗口排队，需要时长6，该窗口前一个人将在时刻15离开，因此他将在时刻15+6=21离开。\n",
    "\n",
    "因此最后一个人离开办事处的时间点是21。"
   ]
  },
  {
   "cell_type": "code",
   "execution_count": 12,
   "metadata": {},
   "outputs": [],
   "source": [
    "a = [1,2,3]"
   ]
  },
  {
   "cell_type": "code",
   "execution_count": 18,
   "metadata": {},
   "outputs": [],
   "source": [
    "a[a.index(min(a))] = 5"
   ]
  },
  {
   "cell_type": "code",
   "execution_count": 19,
   "metadata": {},
   "outputs": [
    {
     "data": {
      "text/plain": [
       "[5, 5, 3]"
      ]
     },
     "execution_count": 19,
     "metadata": {},
     "output_type": "execute_result"
    }
   ],
   "source": [
    "a"
   ]
  },
  {
   "cell_type": "code",
   "execution_count": 9,
   "metadata": {},
   "outputs": [
    {
     "data": {
      "text/plain": [
       "[[3, 5], [4, 8], [5, 8], [7, 7], [8, 6]]"
      ]
     },
     "execution_count": 9,
     "metadata": {},
     "output_type": "execute_result"
    }
   ],
   "source": [
    "s"
   ]
  },
  {
   "cell_type": "code",
   "execution_count": 5,
   "metadata": {},
   "outputs": [
    {
     "data": {
      "text/plain": [
       "[[7, 7], [8, 6], [4, 8], [5, 8], [3, 5]]"
      ]
     },
     "execution_count": 5,
     "metadata": {},
     "output_type": "execute_result"
    }
   ],
   "source": [
    "s"
   ]
  },
  {
   "cell_type": "code",
   "execution_count": null,
   "metadata": {},
   "outputs": [],
   "source": []
  },
  {
   "cell_type": "code",
   "execution_count": null,
   "metadata": {},
   "outputs": [],
   "source": [
    "11\n",
    "3 3 1 1 2 2 2 2 1 3 3"
   ]
  },
  {
   "cell_type": "code",
   "execution_count": 2,
   "metadata": {},
   "outputs": [],
   "source": [
    "n = 11\n",
    "c = [int(i) for i in '3 3 1 1 2 2 2 2 1 3 3'.split()]\n",
    "\n",
    "def ex(p):\n",
    "    a = p\n",
    "    b = p\n",
    "    \n",
    "    while a>=0 and b<len(c):\n",
    "        if c[a] == c[p]:\n",
    "            a -= 1\n",
    "        if c[b] == c[p]:\n",
    "            b += 1\n",
    "    return a,b"
   ]
  },
  {
   "cell_type": "code",
   "execution_count": null,
   "metadata": {},
   "outputs": [],
   "source": [
    "f = 0\n",
    "while f = 0:\n",
    "    for i in range(len(c)):\n",
    "        "
   ]
  }
 ],
 "metadata": {
  "kernelspec": {
   "display_name": "Python 3",
   "language": "python",
   "name": "python3"
  },
  "language_info": {
   "codemirror_mode": {
    "name": "ipython",
    "version": 3
   },
   "file_extension": ".py",
   "mimetype": "text/x-python",
   "name": "python",
   "nbconvert_exporter": "python",
   "pygments_lexer": "ipython3",
   "version": "3.7.0"
  }
 },
 "nbformat": 4,
 "nbformat_minor": 2
}
