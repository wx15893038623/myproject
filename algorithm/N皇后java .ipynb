{
 "cells": [
  {
   "cell_type": "code",
   "execution_count": 1,
   "metadata": {},
   "outputs": [],
   "source": [
    "public static int num1(int n) {\n",
    "    if (n < 1) {\n",
    "        return 0;\n",
    "    }\n",
    "    int[] record = new int[n];\n",
    "    return process1(0, record, n);\n",
    "}\n",
    "\n",
    "public static int process1(int i, int[] record, int n) {\n",
    "    if (i == n) {\n",
    "        return 1;\n",
    "    }\n",
    "    int res = 0;\n",
    "    for (int j = 0; j < n; j++) {\n",
    "        if (isValid(record, i, j)) {\n",
    "            record[i] = j;\n",
    "            res += process1(i + 1, record, n);\n",
    "        }\n",
    "    }\n",
    "    return res;\n",
    "}\n",
    "\n",
    "public static boolean isValid(int[] record, int i, int j) {\n",
    "    for (int k = 0; k < i; k++) {\n",
    "        if (j == record[k] || Math.abs(record[k] - j) == Math.abs(i - k)) {\n",
    "            return false;\n",
    "        }\n",
    "    }\n",
    "    return true;\n",
    "}"
   ]
  },
  {
   "cell_type": "code",
   "execution_count": 3,
   "metadata": {},
   "outputs": [
    {
     "data": {
      "text/plain": [
       "2"
      ]
     },
     "execution_count": 3,
     "metadata": {},
     "output_type": "execute_result"
    }
   ],
   "source": [
    "num1(4)"
   ]
  },
  {
   "cell_type": "code",
   "execution_count": 5,
   "metadata": {},
   "outputs": [],
   "source": [
    "int[] record = new int[3];"
   ]
  },
  {
   "cell_type": "code",
   "execution_count": 8,
   "metadata": {},
   "outputs": [
    {
     "data": {
      "text/plain": [
       "0"
      ]
     },
     "execution_count": 8,
     "metadata": {},
     "output_type": "execute_result"
    }
   ],
   "source": [
    "record[2]"
   ]
  }
 ],
 "metadata": {
  "kernelspec": {
   "display_name": "Java",
   "language": "java",
   "name": "java"
  },
  "language_info": {
   "codemirror_mode": "java",
   "file_extension": ".jshell",
   "mimetype": "text/x-java-source",
   "name": "Java",
   "pygments_lexer": "java",
   "version": "11.0.12+8-LTS-237"
  }
 },
 "nbformat": 4,
 "nbformat_minor": 2
}
