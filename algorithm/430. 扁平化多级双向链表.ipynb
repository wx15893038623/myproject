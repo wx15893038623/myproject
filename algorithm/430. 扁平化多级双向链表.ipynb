{
 "cells": [
  {
   "cell_type": "code",
   "execution_count": 1,
   "metadata": {},
   "outputs": [],
   "source": [
    "\n",
    "# Definition for a Node.\n",
    "class Node:\n",
    "    def __init__(self, val, prev=None, next=None, child=None):\n",
    "        self.val = val\n",
    "        self.prev = prev\n",
    "        self.next = next\n",
    "        self.child = child\n",
    "\n",
    "\n",
    "    "
   ]
  },
  {
   "cell_type": "code",
   "execution_count": 7,
   "metadata": {},
   "outputs": [],
   "source": [
    "head = Node(1)\n",
    "cur = head\n",
    "cur.next = Node(2)\n",
    "cur = cur.next\n",
    "cur.next = Node(3)\n",
    "cur = cur.next\n",
    "cur.next = Node(4)\n",
    "cur.child = Node(7)\n",
    "cur2 = cur.child\n",
    "cur = cur.next\n",
    "cur.next = Node(5)\n",
    "cur = cur.next\n",
    "cur.next = Node(6)\n",
    "\n",
    "cur2.next = Node(8)\n",
    "cur2 = cur2.next\n",
    "cur2.next = Node(9)\n",
    "cur2.child = Node(11)\n",
    "cur3 = cur2.child\n",
    "cur2 = cur2.next\n",
    "cur2.next = Node(10)\n",
    "\n",
    "cur3.next = Node(12)"
   ]
  },
  {
   "cell_type": "code",
   "execution_count": null,
   "metadata": {},
   "outputs": [],
   "source": [
    "28 ms\t15.5 MB"
   ]
  },
  {
   "cell_type": "code",
   "execution_count": 4,
   "metadata": {},
   "outputs": [],
   "source": [
    "\n",
    "def flatten( head):\n",
    "\n",
    "    if not head:\n",
    "        return None\n",
    "    c = []\n",
    "    c.append(head.val)\n",
    "    cur = head\n",
    "    def nn(cur,c):\n",
    "\n",
    "        s = []\n",
    "        while cur:\n",
    "            if cur.child:\n",
    "                s.append(cur.next)\n",
    "                cur = cur.child\n",
    "            else:\n",
    "                cur = cur.next\n",
    "            if cur:\n",
    "\n",
    "                c.append(cur.val)\n",
    "\n",
    "\n",
    "\n",
    "        for _ in range(len(s)):\n",
    "\n",
    "            cur = s.pop(-1)\n",
    "            if cur:\n",
    "                c.append(cur.val)\n",
    "                nn(cur,c)\n",
    "    nn(cur,c)\n",
    "\n",
    "    res = Node(c[0])\n",
    "    res.child = None\n",
    "    res.prev = None\n",
    "    cur = res\n",
    "    for i in range(len(c)-1):\n",
    "        cur.next = Node(c[i+1])\n",
    "        p = cur\n",
    "        cur = cur.next\n",
    "        cur.child = None\n",
    "        cur.prev = p\n",
    "\n",
    "\n",
    "    return res\n"
   ]
  },
  {
   "cell_type": "code",
   "execution_count": 8,
   "metadata": {},
   "outputs": [],
   "source": [
    "\n",
    "a = flatten( head)"
   ]
  },
  {
   "cell_type": "code",
   "execution_count": 9,
   "metadata": {},
   "outputs": [
    {
     "name": "stdout",
     "output_type": "stream",
     "text": [
      "1\n",
      "2\n",
      "3\n",
      "7\n",
      "8\n",
      "11\n",
      "12\n",
      "9\n",
      "10\n",
      "4\n",
      "5\n",
      "6\n"
     ]
    }
   ],
   "source": [
    "while a:\n",
    "    print(a.val)\n",
    "    a = a.next"
   ]
  },
  {
   "cell_type": "code",
   "execution_count": null,
   "metadata": {},
   "outputs": [],
   "source": [
    "时间复杂度：O(n)O(n)，其中 nn 是链表中的节点个数。\n",
    "\n",
    "空间复杂度：O(n)O(n)。上述代码中使用的空间为深度优先搜索中的栈空间，如果给定的链表的「深度」为 dd，那么空间复杂度为 O(d)O(d)。在最换情况下，链表中的每个节点的 \\textit{next}next 都为空，且除了最后一个节点外，每个节点的 \\textit{child}child 都不为空，整个链表的深度为 nn，因此时间复杂度为 O(n)O(n)。\n",
    "\n",
    "作者：LeetCode-Solution\n",
    "链接：https://leetcode-cn.com/problems/flatten-a-multilevel-doubly-linked-list/solution/bian-ping-hua-duo-ji-shuang-xiang-lian-b-383h/\n",
    "来源：力扣（LeetCode）\n",
    "著作权归作者所有。商业转载请联系作者获得授权，非商业转载请注明出处。"
   ]
  },
  {
   "cell_type": "code",
   "execution_count": null,
   "metadata": {},
   "outputs": [],
   "source": [
    "class Solution:\n",
    "    def flatten(self, head: \"Node\") -> \"Node\":\n",
    "        def dfs(node: \"Node\") -> \"Node\":\n",
    "            cur = node\n",
    "            # 记录链表的最后一个节点\n",
    "            last = None\n",
    "\n",
    "            while cur:\n",
    "                nxt = cur.next\n",
    "                # 如果有子节点，那么首先处理子节点\n",
    "                if cur.child:\n",
    "                    child_last = dfs(cur.child)\n",
    "                    \n",
    "                    nxt = cur.next\n",
    "                    # 将 node 与 child 相连\n",
    "                    cur.next = cur.child\n",
    "                    cur.child.prev = cur\n",
    "\n",
    "                    # 如果 nxt 不为空，就将 last 与 nxt 相连\n",
    "                    if nxt:\n",
    "                        child_last.next = nxt\n",
    "                        nxt.prev = child_last\n",
    "\n",
    "                    # 将 child 置为空\n",
    "                    cur.child = None\n",
    "                    last = child_last\n",
    "                else:\n",
    "                    last = cur\n",
    "                cur = nxt\n",
    "\n",
    "            return last\n",
    "\n",
    "        dfs(head)\n",
    "        return head\n",
    "\n",
    "作者：LeetCode-Solution\n",
    "链接：https://leetcode-cn.com/problems/flatten-a-multilevel-doubly-linked-list/solution/bian-ping-hua-duo-ji-shuang-xiang-lian-b-383h/\n",
    "来源：力扣（LeetCode）\n",
    "著作权归作者所有。商业转载请联系作者获得授权，非商业转载请注明出处。"
   ]
  }
 ],
 "metadata": {
  "kernelspec": {
   "display_name": "Python 3",
   "language": "python",
   "name": "python3"
  },
  "language_info": {
   "codemirror_mode": {
    "name": "ipython",
    "version": 3
   },
   "file_extension": ".py",
   "mimetype": "text/x-python",
   "name": "python",
   "nbconvert_exporter": "python",
   "pygments_lexer": "ipython3",
   "version": "3.7.0"
  }
 },
 "nbformat": 4,
 "nbformat_minor": 2
}
