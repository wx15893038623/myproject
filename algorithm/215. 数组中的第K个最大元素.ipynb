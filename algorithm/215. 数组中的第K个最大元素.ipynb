{
 "cells": [
  {
   "cell_type": "code",
   "execution_count": 8,
   "metadata": {},
   "outputs": [],
   "source": [
    "# 32 ms\t15.4 MB\n",
    "def findKthLargest(nums, k):\n",
    "    nums.sort()\n",
    "    nums.reverse()\n",
    "    return nums[k-1]"
   ]
  },
  {
   "cell_type": "code",
   "execution_count": 10,
   "metadata": {},
   "outputs": [],
   "source": [
    "\n",
    "def findKthLargest(nums, k):\n",
    "    nums.sort()\n",
    "    return nums[len(nums)-k]"
   ]
  },
  {
   "cell_type": "code",
   "execution_count": 11,
   "metadata": {},
   "outputs": [
    {
     "data": {
      "text/plain": [
       "5"
      ]
     },
     "execution_count": 11,
     "metadata": {},
     "output_type": "execute_result"
    }
   ],
   "source": [
    "findKthLargest([3,2,1,5,6,4], 2)"
   ]
  },
  {
   "cell_type": "code",
   "execution_count": null,
   "metadata": {},
   "outputs": [],
   "source": [
    "class Solution {\n",
    "public:\n",
    "    int findKthLargest(vector<int>& nums, int k) {\n",
    "        return sort(nums.begin(), nums.end(), greater<int>()), nums[k - 1];\n",
    "    }\n",
    "};"
   ]
  },
  {
   "cell_type": "code",
   "execution_count": null,
   "metadata": {},
   "outputs": [],
   "source": [
    "堆"
   ]
  },
  {
   "cell_type": "code",
   "execution_count": 27,
   "metadata": {},
   "outputs": [
    {
     "name": "stdout",
     "output_type": "stream",
     "text": [
      "[4, 6, 9]\n"
     ]
    }
   ],
   "source": [
    "import heapq\n",
    "\n",
    "\n",
    "def heapsort(data, hp_size=3):\n",
    "    h = []\n",
    "    for i in range(len(data)):\n",
    "        if i >= hp_size:\n",
    "            heapq.heappushpop(h, data[i])\n",
    "        else:\n",
    "            heapq.heappush(h, data[i])\n",
    "    return [heapq.heappop(h) for _ in range(len(h))]\n",
    "\n",
    "\n",
    "res = heapsort([6,2,1,-4,9,4,0])\n",
    "print(res)"
   ]
  },
  {
   "cell_type": "code",
   "execution_count": 23,
   "metadata": {},
   "outputs": [],
   "source": [
    "def findKthLargest( nums, k) -> int:\n",
    "    return heapq.nlargest(k, nums)[k-1]\n",
    "\n"
   ]
  },
  {
   "cell_type": "code",
   "execution_count": 26,
   "metadata": {},
   "outputs": [
    {
     "data": {
      "text/plain": [
       "[5, 6, 7, 11, 12, 13]"
      ]
     },
     "execution_count": 26,
     "metadata": {},
     "output_type": "execute_result"
    }
   ],
   "source": [
    "def heapify(arr, n, i): \n",
    "    largest = i  \n",
    "    l = 2 * i + 1     # left = 2*i + 1 \n",
    "    r = 2 * i + 2     # right = 2*i + 2 \n",
    "\n",
    "    if l < n and arr[i] < arr[l]: \n",
    "        largest = l \n",
    "\n",
    "    if r < n and arr[largest] < arr[r]: \n",
    "        largest = r \n",
    "\n",
    "    if largest != i: \n",
    "        arr[i],arr[largest] = arr[largest],arr[i]  # 交换\n",
    "\n",
    "        heapify(arr, n, largest) \n",
    "\n",
    "def heapSort(arr): \n",
    "    n = len(arr) \n",
    "\n",
    "    # Build a maxheap. \n",
    "    for i in range(n, -1, -1): \n",
    "        heapify(arr, n, i) \n",
    "\n",
    "    # 一个个交换元素\n",
    "    for i in range(n-1, 0, -1): \n",
    "        arr[i], arr[0] = arr[0], arr[i]   # 交换\n",
    "        heapify(arr, i, 0) \n",
    "\n",
    "arr = [ 12, 11, 13, 5, 6, 7] \n",
    "heapSort(arr) \n",
    "arr"
   ]
  },
  {
   "cell_type": "code",
   "execution_count": 24,
   "metadata": {},
   "outputs": [
    {
     "ename": "NameError",
     "evalue": "name 'heapq' is not defined",
     "output_type": "error",
     "traceback": [
      "\u001b[1;31m---------------------------------------------------------------------------\u001b[0m",
      "\u001b[1;31mNameError\u001b[0m                                 Traceback (most recent call last)",
      "\u001b[1;32m<ipython-input-24-2fecd3592304>\u001b[0m in \u001b[0;36m<module>\u001b[1;34m()\u001b[0m\n\u001b[1;32m----> 1\u001b[1;33m \u001b[0mfindKthLargest\u001b[0m\u001b[1;33m(\u001b[0m\u001b[1;33m[\u001b[0m\u001b[1;36m3\u001b[0m\u001b[1;33m,\u001b[0m\u001b[1;36m2\u001b[0m\u001b[1;33m,\u001b[0m\u001b[1;36m1\u001b[0m\u001b[1;33m,\u001b[0m\u001b[1;36m5\u001b[0m\u001b[1;33m,\u001b[0m\u001b[1;36m6\u001b[0m\u001b[1;33m,\u001b[0m\u001b[1;36m4\u001b[0m\u001b[1;33m]\u001b[0m\u001b[1;33m,\u001b[0m \u001b[1;36m2\u001b[0m\u001b[1;33m)\u001b[0m\u001b[1;33m\u001b[0m\u001b[0m\n\u001b[0m",
      "\u001b[1;32m<ipython-input-23-3d2fcbd20247>\u001b[0m in \u001b[0;36mfindKthLargest\u001b[1;34m(nums, k)\u001b[0m\n\u001b[0;32m      1\u001b[0m \u001b[1;32mdef\u001b[0m \u001b[0mfindKthLargest\u001b[0m\u001b[1;33m(\u001b[0m \u001b[0mnums\u001b[0m\u001b[1;33m,\u001b[0m \u001b[0mk\u001b[0m\u001b[1;33m)\u001b[0m \u001b[1;33m->\u001b[0m \u001b[0mint\u001b[0m\u001b[1;33m:\u001b[0m\u001b[1;33m\u001b[0m\u001b[0m\n\u001b[1;32m----> 2\u001b[1;33m     \u001b[1;32mreturn\u001b[0m \u001b[0mheapq\u001b[0m\u001b[1;33m.\u001b[0m\u001b[0mnlargest\u001b[0m\u001b[1;33m(\u001b[0m\u001b[0mk\u001b[0m\u001b[1;33m,\u001b[0m \u001b[0mnums\u001b[0m\u001b[1;33m)\u001b[0m\u001b[1;33m[\u001b[0m\u001b[0mk\u001b[0m\u001b[1;33m-\u001b[0m\u001b[1;36m1\u001b[0m\u001b[1;33m]\u001b[0m\u001b[1;33m\u001b[0m\u001b[0m\n\u001b[0m",
      "\u001b[1;31mNameError\u001b[0m: name 'heapq' is not defined"
     ]
    }
   ],
   "source": [
    "findKthLargest([3,2,1,5,6,4], 2)"
   ]
  },
  {
   "cell_type": "code",
   "execution_count": 12,
   "metadata": {},
   "outputs": [],
   "source": [
    "# partition模板```\n",
    "\n",
    "\n",
    "def partition(nums, left, right):\n",
    "    pivot = nums[left]#初始化一个待比较数据\n",
    "    i,j = left, right\n",
    "    while(i < j):\n",
    "        while(i<j and nums[j]>=pivot): #从后往前查找，直到找到一个比pivot更小的数\n",
    "            j-=1\n",
    "        nums[i] = nums[j] #将更小的数放入左边\n",
    "        while(i<j and nums[i]<=pivot): #从前往后找，直到找到一个比pivot更大的数\n",
    "            i+=1\n",
    "        nums[j] = nums[i] #将更大的数放入右边\n",
    "    #循环结束，i与j相等\n",
    "    nums[i] = pivot #待比较数据放入最终位置 \n",
    "    return i #返回待比较数据最终位置\n"
   ]
  },
  {
   "cell_type": "code",
   "execution_count": 13,
   "metadata": {},
   "outputs": [
    {
     "name": "stdout",
     "output_type": "stream",
     "text": [
      "[0, 1, 2, 2, 3]\n"
     ]
    }
   ],
   "source": [
    "# 快速排序\n",
    "def quicksort(nums, left, right):\n",
    "    if left < right:\n",
    "        index = partition(nums, left, right)\n",
    "        quicksort(nums, left, index-1)\n",
    "        quicksort(nums, index+1, right)\n",
    "\n",
    "arr = [1,3,2,2,0]\n",
    "quicksort(arr, 0, len(arr)-1)\n",
    "print(arr) \n"
   ]
  },
  {
   "cell_type": "code",
   "execution_count": 14,
   "metadata": {},
   "outputs": [],
   "source": [
    "# topk切分\n",
    "def topk_split(nums, k, left, right):\n",
    "    #寻找到第k个数停止递归，使得nums数组中index左边是前k个小的数，index右边是后面n-k个大的数\n",
    "    if (left<right):\n",
    "        index = partition(nums, left, right)\n",
    "        if index==k:\n",
    "            return \n",
    "        elif index < k:\n",
    "            topk_split(nums, k, index+1, right)\n",
    "        else:\n",
    "            topk_split(nums, k, left, index-1)\n"
   ]
  },
  {
   "cell_type": "code",
   "execution_count": 15,
   "metadata": {},
   "outputs": [
    {
     "name": "stdout",
     "output_type": "stream",
     "text": [
      "[-19, 0]\n",
      "[-19, 0, 1, 3, 2, 3]\n"
     ]
    }
   ],
   "source": [
    "#获得前k小的数\n",
    "def topk_smalls(nums, k):\n",
    "    topk_split(nums, k, 0, len(nums)-1)\n",
    "    return nums[:k]\n",
    "\n",
    "arr = [1,3,2,3,0,-19]\n",
    "k = 2\n",
    "print(topk_smalls(arr, k))\n",
    "print(arr)\n"
   ]
  },
  {
   "cell_type": "code",
   "execution_count": 16,
   "metadata": {},
   "outputs": [
    {
     "name": "stdout",
     "output_type": "stream",
     "text": [
      "1\n",
      "[-19, 0, 1, 2, 3, 3]\n"
     ]
    }
   ],
   "source": [
    "#获得第k小的数\n",
    "def topk_small(nums, k):\n",
    "    topk_split(nums, k, 0, len(nums)-1)\n",
    "    return nums[k-1] #右边是开区间，需要-1\n",
    "\n",
    "arr = [1,3,2,3,0,-19]\n",
    "k = 3\n",
    "print(topk_small(arr, k))\n",
    "print(arr)\n"
   ]
  },
  {
   "cell_type": "code",
   "execution_count": 17,
   "metadata": {},
   "outputs": [
    {
     "name": "stdout",
     "output_type": "stream",
     "text": [
      "[1, 3, 3]\n",
      "[-19, 0, -2, 1, 3, 3]\n"
     ]
    }
   ],
   "source": [
    "#获得前k大的数 \n",
    "def topk_larges(nums, k):\n",
    "    #parttion是按从小到大划分的，如果让index左边为前n-k个小的数，则index右边为前k个大的数\n",
    "    topk_split(nums, len(nums)-k, 0, len(nums)-1) #把k换成len(nums)-k\n",
    "    return nums[len(nums)-k:] \n",
    "\n",
    "arr = [1,3,-2,3,0,-19]\n",
    "k = 3\n",
    "print(topk_larges(arr, k))\n",
    "print(arr)\n"
   ]
  },
  {
   "cell_type": "code",
   "execution_count": 18,
   "metadata": {},
   "outputs": [
    {
     "name": "stdout",
     "output_type": "stream",
     "text": [
      "3\n",
      "[-19, 0, -2, 1, 3, 3]\n"
     ]
    }
   ],
   "source": [
    "#获得第k大的数 \n",
    "def topk_large(nums, k):\n",
    "    #parttion是按从小到大划分的，如果让index左边为前n-k个小的数，则index右边为前k个大的数\n",
    "    topk_split(nums, len(nums)-k, 0, len(nums)-1) #把k换成len(nums)-k\n",
    "    return nums[len(nums)-k] \n",
    "\n",
    "arr = [1,3,-2,3,0,-19]\n",
    "k = 2\n",
    "print(topk_large(arr, k))\n",
    "print(arr)\n",
    "\n"
   ]
  },
  {
   "cell_type": "code",
   "execution_count": 19,
   "metadata": {},
   "outputs": [
    {
     "data": {
      "text/plain": [
       "[0, 0, 0, 1, 3, 4, 5, 7, 6, 7]"
      ]
     },
     "execution_count": 19,
     "metadata": {},
     "output_type": "execute_result"
    }
   ],
   "source": [
    "#只排序前k个小的数\n",
    "#获得前k小的数O(n)，进行快排O(klogk)\n",
    "def topk_sort_left(nums, k):\n",
    "    topk_split(nums, k, 0, len(nums)-1) \n",
    "    topk = nums[:k]\n",
    "    quicksort(topk, 0, len(topk)-1)\n",
    "    return topk+nums[k:] #只排序前k个数字\n",
    "\n",
    "arr = [0,0,1,3,4,5,0,7,6,7]\n",
    "k = 4\n",
    "topk_sort_left(arr, k)\n",
    "\n"
   ]
  },
  {
   "cell_type": "code",
   "execution_count": 20,
   "metadata": {},
   "outputs": [
    {
     "name": "stdout",
     "output_type": "stream",
     "text": [
      "[-7, 0, 0, 1, 0, 3, 4, 5, 6, 7]\n"
     ]
    }
   ],
   "source": [
    "#只排序后k个大的数\n",
    "#获得前n-k小的数O(n)，进行快排O(klogk)\n",
    "def topk_sort_right(nums, k):\n",
    "    topk_split(nums, len(nums)-k, 0, len(nums)-1) \n",
    "    topk = nums[len(nums)-k:]\n",
    "    quicksort(topk, 0, len(topk)-1)\n",
    "    return nums[:len(nums)-k]+topk #只排序后k个数字\n",
    "\n",
    "arr = [0,0,1,3,4,5,0,-7,6,7]\n",
    "k = 4\n",
    "print(topk_sort_right(arr, k))\n"
   ]
  },
  {
   "cell_type": "code",
   "execution_count": null,
   "metadata": {},
   "outputs": [],
   "source": []
  }
 ],
 "metadata": {
  "kernelspec": {
   "display_name": "Python 3",
   "language": "python",
   "name": "python3"
  },
  "language_info": {
   "codemirror_mode": {
    "name": "ipython",
    "version": 3
   },
   "file_extension": ".py",
   "mimetype": "text/x-python",
   "name": "python",
   "nbconvert_exporter": "python",
   "pygments_lexer": "ipython3",
   "version": "3.7.0"
  }
 },
 "nbformat": 4,
 "nbformat_minor": 2
}
