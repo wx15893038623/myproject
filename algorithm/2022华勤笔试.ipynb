{
 "cells": [
  {
   "cell_type": "code",
   "execution_count": 1,
   "metadata": {},
   "outputs": [],
   "source": [
    "float f = 10f"
   ]
  },
  {
   "cell_type": "code",
   "execution_count": 2,
   "metadata": {},
   "outputs": [
    {
     "ename": "CompilationException",
     "evalue": "",
     "output_type": "error",
     "traceback": [
      "\u001b[1m\u001b[30m|   \u001b[1m\u001b[30mchar c = \u001b[0m\u001b[1m\u001b[30m\u001b[41m10.0\u001b[0m\u001b[1m\u001b[30m;\u001b[0m",
      "\u001b[1m\u001b[31m不兼容的类型: 从double转换到char可能会有损失\u001b[0m",
      ""
     ]
    }
   ],
   "source": [
    "char c = 10.0"
   ]
  },
  {
   "cell_type": "code",
   "execution_count": 3,
   "metadata": {},
   "outputs": [],
   "source": [
    "float f = 10.1f"
   ]
  },
  {
   "cell_type": "code",
   "execution_count": 5,
   "metadata": {},
   "outputs": [
    {
     "ename": "CompilationException",
     "evalue": "",
     "output_type": "error",
     "traceback": [
      "\u001b[1m\u001b[30m|   \u001b[1m\u001b[30mbyte b = 10\u001b[0m\u001b[1m\u001b[30m\u001b[41m\u001b[0m\u001b[1m\u001b[30mb;\u001b[0m",
      "\u001b[1m\u001b[31m需要';'\u001b[0m",
      ""
     ]
    }
   ],
   "source": [
    "byte b = 10b;"
   ]
  },
  {
   "cell_type": "code",
   "execution_count": 21,
   "metadata": {},
   "outputs": [],
   "source": [
    "class B{\n",
    "B(){System.out.print(\"B\");}\n",
    "}\n",
    "public class A extends B {\n",
    "public static void main(String[] args){\n",
    "new A();\n",
    "new B();\n",
    "}\n",
    "}"
   ]
  },
  {
   "cell_type": "code",
   "execution_count": 9,
   "metadata": {},
   "outputs": [
    {
     "ename": "CompilationException",
     "evalue": "",
     "output_type": "error",
     "traceback": [
      "\u001b[1m\u001b[30m|   \u001b[1m\u001b[30m\u001b[0m\u001b[1m\u001b[30m\u001b[41ma\u001b[0m\u001b[1m\u001b[30m = A();\u001b[0m",
      "\u001b[1m\u001b[31m找不到符号\u001b[0m",
      "\u001b[1m\u001b[31m  符号:   变量 a\u001b[0m",
      "\u001b[1m\u001b[31m  位置: 类 \u001b[0m",
      "",
      "\u001b[1m\u001b[30m|   \u001b[1m\u001b[30ma = \u001b[0m\u001b[1m\u001b[30m\u001b[41mA\u001b[0m\u001b[1m\u001b[30m();\u001b[0m",
      "\u001b[1m\u001b[31m找不到符号\u001b[0m",
      "\u001b[1m\u001b[31m  符号:   方法 A()\u001b[0m",
      "\u001b[1m\u001b[31m  位置: 类 \u001b[0m",
      ""
     ]
    }
   ],
   "source": [
    "a = A();"
   ]
  },
  {
   "cell_type": "code",
   "execution_count": 19,
   "metadata": {},
   "outputs": [
    {
     "name": "stdout",
     "output_type": "stream",
     "text": [
      "B"
     ]
    }
   ],
   "source": [
    "\n",
    "A a = new A()"
   ]
  },
  {
   "cell_type": "code",
   "execution_count": 20,
   "metadata": {},
   "outputs": [
    {
     "name": "stdout",
     "output_type": "stream",
     "text": [
      "B"
     ]
    }
   ],
   "source": [
    "B b = new B();"
   ]
  },
  {
   "cell_type": "code",
   "execution_count": 22,
   "metadata": {},
   "outputs": [
    {
     "name": "stdout",
     "output_type": "stream",
     "text": [
      "0 2 4 "
     ]
    }
   ],
   "source": [
    "for(int i=0;i<=5;++i){\n",
    "System.out.print(i+\" \");\n",
    "i++;\n",
    "}"
   ]
  },
  {
   "cell_type": "code",
   "execution_count": 23,
   "metadata": {},
   "outputs": [
    {
     "name": "stdout",
     "output_type": "stream",
     "text": [
      "-11"
     ]
    }
   ],
   "source": [
    "int a = 10;\n",
    "System.out.print(~a);"
   ]
  },
  {
   "cell_type": "code",
   "execution_count": 24,
   "metadata": {},
   "outputs": [
    {
     "data": {
      "text/plain": [
       "false"
      ]
     },
     "execution_count": 24,
     "metadata": {},
     "output_type": "execute_result"
    }
   ],
   "source": [
    "3*0.1 == 0.3"
   ]
  },
  {
   "cell_type": "code",
   "execution_count": null,
   "metadata": {},
   "outputs": [],
   "source": []
  }
 ],
 "metadata": {
  "kernelspec": {
   "display_name": "Java",
   "language": "java",
   "name": "java"
  },
  "language_info": {
   "codemirror_mode": "java",
   "file_extension": ".jshell",
   "mimetype": "text/x-java-source",
   "name": "Java",
   "pygments_lexer": "java",
   "version": "11.0.12+8-LTS-237"
  }
 },
 "nbformat": 4,
 "nbformat_minor": 2
}
