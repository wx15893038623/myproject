{
 "cells": [
  {
   "cell_type": "markdown",
   "metadata": {},
   "source": [
    "扩展法（错）"
   ]
  },
  {
   "cell_type": "code",
   "execution_count": 3,
   "metadata": {},
   "outputs": [],
   "source": [
    "def fun(nums):\n",
    "    res = []\n",
    "    res.append([])\n",
    "    for i in nums:\n",
    "        temp = []\n",
    "        for j in res:\n",
    "            r = res.copy()\n",
    "            r.append(i)\n",
    "            temp.append(r)\n",
    "        for t in temp:\n",
    "            res.append(t)\n",
    "    return res"
   ]
  },
  {
   "cell_type": "markdown",
   "metadata": {},
   "source": [
    "扩展法（对）"
   ]
  },
  {
   "cell_type": "code",
   "execution_count": null,
   "metadata": {},
   "outputs": [],
   "source": [
    "def subsets( nums):\n",
    "    res = [[]]\n",
    "    for i in range(len(nums)-1, -1, -1):\n",
    "        for subres in res[:]: res.append(subres+[nums[i]])\n",
    "\n",
    "    return res"
   ]
  },
  {
   "cell_type": "code",
   "execution_count": 6,
   "metadata": {},
   "outputs": [],
   "source": [
    "def subsets( nums):\n",
    "    res = [[]]\n",
    "    for i in range(0,len(nums)):\n",
    "        for subres in res[:]:\n",
    "            res.append(subres+[nums[i]])\n",
    "    return res"
   ]
  },
  {
   "cell_type": "markdown",
   "metadata": {},
   "source": [
    "回溯法"
   ]
  },
  {
   "cell_type": "code",
   "execution_count": 9,
   "metadata": {},
   "outputs": [],
   "source": [
    "def subsets( nums):\n",
    "    res = [[]]\n",
    "    for i in range(1,len(nums)+1):\n",
    "        backtracking(nums,res,i,0,[])\n",
    "    return res\n",
    "def backtracking(nums,res,lenth,index,subset):\n",
    "    if len(subset)==lenth:\n",
    "        temp=subset.copy()\n",
    "        res.append(temp)\n",
    "        return\n",
    "    for i in range(index,len(nums)):\n",
    "        subset.append(nums[i])\n",
    "        backtracking(nums,res,lenth,i+1,subset)\n",
    "        subset.pop()"
   ]
  },
  {
   "cell_type": "markdown",
   "metadata": {},
   "source": [
    "DFS(深度优先算法)"
   ]
  },
  {
   "cell_type": "code",
   "execution_count": null,
   "metadata": {},
   "outputs": [],
   "source": []
  }
 ],
 "metadata": {
  "kernelspec": {
   "display_name": "Python 3",
   "language": "python",
   "name": "python3"
  },
  "language_info": {
   "codemirror_mode": {
    "name": "ipython",
    "version": 3
   },
   "file_extension": ".py",
   "mimetype": "text/x-python",
   "name": "python",
   "nbconvert_exporter": "python",
   "pygments_lexer": "ipython3",
   "version": "3.7.0"
  }
 },
 "nbformat": 4,
 "nbformat_minor": 2
}
