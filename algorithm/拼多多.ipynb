{
 "cells": [
  {
   "cell_type": "code",
   "execution_count": null,
   "metadata": {},
   "outputs": [],
   "source": [
    "T = int(input())\n",
    "def fun():\n",
    "    inp = input().split()\n",
    "    h = int(inp[0])\n",
    "    w = int(inp[1])\n",
    "    m = []\n",
    "    for _ in range(h):\n",
    "        m.append([i for i in input()])\n",
    "    c = 0\n",
    "    for i in range(h-2):\n",
    "        for j in range(w-2):\n",
    "            \n",
    "            if m[i+1][j+1] == '*':\n",
    "                cc = 0\n",
    "                if m[i][j+1] == '*':\n",
    "                    cc += 1\n",
    "                if m[i+2][j+1] == '*':\n",
    "                    cc += 1\n",
    "                if m[i+1][j] == '*':\n",
    "                    cc += 1\n",
    "                if m[i+1][j+2] == '*':\n",
    "                    cc += 1\n",
    "                if cc >= 3:\n",
    "                    c += 1\n",
    "    if c > 1:\n",
    "        return 'NO'\n",
    "\n",
    "\n",
    "for _ in range(T):\n",
    "    res = fun()\n",
    "    print(res)"
   ]
  },
  {
   "cell_type": "code",
   "execution_count": null,
   "metadata": {},
   "outputs": [],
   "source": [
    "T = int(input())\n",
    "def fun():\n",
    "    inp = input().split()\n",
    "    h = int(inp[0])\n",
    "    w = int(inp[1])\n",
    "    m = []\n",
    "    for _ in range(h):\n",
    "        m.append([i for i in input()])\n",
    "    c = 0\n",
    "    for i in range(h-2):\n",
    "        for j in range(w-2):\n",
    "            \n",
    "            if m[i+1][j+1] == '+':\n",
    "                cc = 0\n",
    "                if m[i][j+1] == '+':\n",
    "                    cc += 1\n",
    "                if m[i+2][j+1] == '+':\n",
    "                    cc += 1\n",
    "                if m[i+1][j] == '+':\n",
    "                    cc += 1\n",
    "                if m[i+1][j+2] == '+':\n",
    "                    cc += 1\n",
    "                if cc >= 3:\n",
    "                    c += 1\n",
    "    if c > 1:\n",
    "        return 'NO'\n",
    "\n",
    "\n",
    "for _ in range(T):\n",
    "    res = fun()\n",
    "    print(res)"
   ]
  },
  {
   "cell_type": "code",
   "execution_count": 18,
   "metadata": {},
   "outputs": [],
   "source": [
    "a = [i for i in input()]"
   ]
  },
  {
   "cell_type": "code",
   "execution_count": 19,
   "metadata": {},
   "outputs": [
    {
     "data": {
      "text/plain": [
       "['.', '.', '*', '.', '.', '.']"
      ]
     },
     "execution_count": 19,
     "metadata": {},
     "output_type": "execute_result"
    }
   ],
   "source": [
    "a"
   ]
  },
  {
   "cell_type": "code",
   "execution_count": null,
   "metadata": {},
   "outputs": [],
   "source": [
    "3\n",
    "5 6\n",
    "..*...\n",
    "..*...\n",
    "*****.\n",
    "..*...\n",
    "..*...\n",
    "5 6\n",
    "......\n",
    "..*...\n",
    ".****.\n",
    "..*...\n",
    "..*...\n",
    "3 5\n",
    "..*..\n",
    "****.\n",
    ".*..."
   ]
  },
  {
   "cell_type": "code",
   "execution_count": null,
   "metadata": {},
   "outputs": [],
   "source": []
  },
  {
   "cell_type": "code",
   "execution_count": null,
   "metadata": {},
   "outputs": [],
   "source": []
  },
  {
   "cell_type": "code",
   "execution_count": null,
   "metadata": {},
   "outputs": [],
   "source": [
    "T = int(input())\n",
    "def fun():\n",
    "    N = int(input())\n",
    "    n = []\n",
    "    for _ in range(N):\n",
    "        n.append(input())\n",
    "    for i in range(N-1):\n",
    "        if len(n[i]) > len(n[i+1]):\n",
    "            return 'NO'\n",
    "        elif len(n[i]) == len(n[i+1]):\n",
    "            if '?' not in n[i] and '?' not in n[i+1]:\n",
    "                if int(n[i]) >= int(n[i+1]):\n",
    "                    return 'NO'\n",
    "            else:\n",
    "                nn = len(n[i])\n",
    "                nnn = nn\n",
    "                while nnn > 0:\n",
    "                    if '?' not in n[i][0:nn-nnn+1] and '?' not in n[i+1][0:nn-nnn+1]:\n",
    "                        if int(n[i][0:nn-nnn+1]) > int(n[i+1][0:nn-nnn+1]):\n",
    "                            return 'No'\n",
    "                        else:\n",
    "                            nnn -= 1\n",
    "                            continue\n",
    "                    else:\n",
    "                        nnn -= 1\n",
    "                        continue\n",
    "                nnn = nn\n",
    "                s = 0\n",
    "                while nnn > 0:\n",
    "                    if (n[i][nn-nnn] != '?' and n[i+1][nn-nnn] = '?')or(n[i][nn-nnn] = '?' and n[i+1][nn-nnn] != '?'):\n",
    "                        if n[i][0:nn-nnn] == n[i+1][0:nn-nnn]:\n",
    "                            s += 1\n",
    "                            \n",
    "                        \n",
    "    return 'YES'\n",
    "for _ in range(T):\n",
    "    res = fun()\n",
    "    print(res)\n",
    "\n"
   ]
  },
  {
   "cell_type": "code",
   "execution_count": 11,
   "metadata": {},
   "outputs": [
    {
     "data": {
      "text/plain": [
       "[2, 3]"
      ]
     },
     "execution_count": 11,
     "metadata": {},
     "output_type": "execute_result"
    }
   ],
   "source": [
    "[1,2,3][1:]"
   ]
  },
  {
   "cell_type": "code",
   "execution_count": null,
   "metadata": {},
   "outputs": [],
   "source": []
  },
  {
   "cell_type": "code",
   "execution_count": 8,
   "metadata": {},
   "outputs": [
    {
     "data": {
      "text/plain": [
       "True"
      ]
     },
     "execution_count": 8,
     "metadata": {},
     "output_type": "execute_result"
    }
   ],
   "source": [
    "'?' not in '12'"
   ]
  },
  {
   "cell_type": "code",
   "execution_count": 4,
   "metadata": {},
   "outputs": [],
   "source": [
    "N = 3\n",
    "n = ['?'\n",
    ",'18'\n",
    ",'1?']\n"
   ]
  },
  {
   "cell_type": "code",
   "execution_count": 6,
   "metadata": {},
   "outputs": [],
   "source": [
    "N = 2\n",
    "n = ['??'\n",
    ",'?']\n"
   ]
  },
  {
   "cell_type": "code",
   "execution_count": 7,
   "metadata": {},
   "outputs": [
    {
     "name": "stdout",
     "output_type": "stream",
     "text": [
      "NO\n",
      "YES\n"
     ]
    }
   ],
   "source": [
    "\n",
    "\n",
    "for i in range(N-1):\n",
    "    if len(n[i]) > len(n[i+1]):\n",
    "        print('NO') \n",
    "    elif len(n[i]) == len(n[i+1]):\n",
    "        nn = len(n[i])\n",
    "        nnn = nn\n",
    "        while nnn > 0:\n",
    "            if n[i][nn-nnn] != '?' and n[i+1][nn-nnn] != '?':\n",
    "                if int(n[i][0]) > int(n[i+1][0]):\n",
    "                    print('NO')\n",
    "                else:\n",
    "                    nnn -= 1\n",
    "                    continue\n",
    "            else:\n",
    "                nnn -= 1\n",
    "                continue\n",
    "print('YES')\n",
    "\n",
    "\n"
   ]
  },
  {
   "cell_type": "code",
   "execution_count": null,
   "metadata": {},
   "outputs": [],
   "source": []
  },
  {
   "cell_type": "code",
   "execution_count": null,
   "metadata": {},
   "outputs": [],
   "source": []
  },
  {
   "cell_type": "code",
   "execution_count": null,
   "metadata": {},
   "outputs": [],
   "source": []
  },
  {
   "cell_type": "code",
   "execution_count": 1,
   "metadata": {},
   "outputs": [
    {
     "name": "stdout",
     "output_type": "stream",
     "text": [
      "{1: [9]}\n"
     ]
    }
   ],
   "source": [
    "\n",
    "\n",
    "a = {}\n",
    "a[1] = []\n",
    "a[1].append(9)\n",
    "print(a)"
   ]
  },
  {
   "cell_type": "code",
   "execution_count": 2,
   "metadata": {},
   "outputs": [
    {
     "data": {
      "text/plain": [
       "True"
      ]
     },
     "execution_count": 2,
     "metadata": {},
     "output_type": "execute_result"
    }
   ],
   "source": [
    "1 != 2"
   ]
  }
 ],
 "metadata": {
  "kernelspec": {
   "display_name": "Python 3",
   "language": "python",
   "name": "python3"
  },
  "language_info": {
   "codemirror_mode": {
    "name": "ipython",
    "version": 3
   },
   "file_extension": ".py",
   "mimetype": "text/x-python",
   "name": "python",
   "nbconvert_exporter": "python",
   "pygments_lexer": "ipython3",
   "version": "3.7.0"
  }
 },
 "nbformat": 4,
 "nbformat_minor": 2
}
