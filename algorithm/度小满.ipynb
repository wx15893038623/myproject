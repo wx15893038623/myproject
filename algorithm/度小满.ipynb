{
 "cells": [
  {
   "cell_type": "code",
   "execution_count": 44,
   "metadata": {},
   "outputs": [],
   "source": [
    "a = [1,1,2,9]"
   ]
  },
  {
   "cell_type": "code",
   "execution_count": 45,
   "metadata": {},
   "outputs": [],
   "source": [
    "a.remove(9)"
   ]
  },
  {
   "cell_type": "code",
   "execution_count": 46,
   "metadata": {},
   "outputs": [
    {
     "data": {
      "text/plain": [
       "[1, 1, 2]"
      ]
     },
     "execution_count": 46,
     "metadata": {},
     "output_type": "execute_result"
    }
   ],
   "source": [
    "a"
   ]
  },
  {
   "cell_type": "code",
   "execution_count": 38,
   "metadata": {},
   "outputs": [
    {
     "name": "stdout",
     "output_type": "stream",
     "text": [
      "MozilaswR\n",
      "2 9\n"
     ]
    }
   ],
   "source": [
    "64% 有超时\n",
    "n = 'Mozilla'\n",
    "z = 'MMMooozzziiilllllaaaswR'\n",
    "nnn = len(n)\n",
    "res = 0\n",
    "while True:\n",
    "    nn = len(z)\n",
    "    f = 0\n",
    "    zz = z\n",
    "    for i in n:\n",
    "        if i in zz:\n",
    "            \n",
    "            j = zz.find(i)\n",
    "            zz = zz[:j]+zz[j+1:]\n",
    "            f += 1\n",
    "        else:\n",
    "            break\n",
    "    if f == nnn:\n",
    "        res += 1\n",
    "        z = zz\n",
    "        \n",
    "    if len(z) == nn:\n",
    "        break\n",
    "r = set(z)\n",
    "print(res,len(r))"
   ]
  },
  {
   "cell_type": "code",
   "execution_count": null,
   "metadata": {},
   "outputs": [],
   "source": []
  },
  {
   "cell_type": "code",
   "execution_count": null,
   "metadata": {},
   "outputs": [],
   "source": [
    "100%\n",
    "N = int(input())\n",
    "\n",
    "res = 0\n",
    "sum = 0\n",
    "i = 1\n",
    "while sum < N:\n",
    "    sum += i**2+1\n",
    "    res += 1\n",
    "    i += 1\n",
    "sum -= (i-1)**2+1\n",
    "res -= 1\n",
    "print(res,N-sum)"
   ]
  },
  {
   "cell_type": "code",
   "execution_count": null,
   "metadata": {},
   "outputs": [],
   "source": []
  }
 ],
 "metadata": {
  "kernelspec": {
   "display_name": "Python 3",
   "language": "python",
   "name": "python3"
  },
  "language_info": {
   "codemirror_mode": {
    "name": "ipython",
    "version": 3
   },
   "file_extension": ".py",
   "mimetype": "text/x-python",
   "name": "python",
   "nbconvert_exporter": "python",
   "pygments_lexer": "ipython3",
   "version": "3.7.0"
  }
 },
 "nbformat": 4,
 "nbformat_minor": 2
}
