{
 "cells": [
  {
   "cell_type": "code",
   "execution_count": null,
   "metadata": {},
   "outputs": [],
   "source": [
    "字符串是否可分成若干折叠对称字串\n",
    "20%\n",
    "s = input()\n",
    "\n",
    "def fun(s):\n",
    "    if len(s) % 2 == 0 and s == s[::-1]:\n",
    "        return True\n",
    "    return False\n",
    "while s != '':\n",
    "    n = len(s)\n",
    "    for i in range(n):\n",
    "        if fun(s[:i]):\n",
    "            s = s[i:]\n",
    "    if n == len(s):\n",
    "        print(False) \n",
    "print(True)"
   ]
  },
  {
   "cell_type": "code",
   "execution_count": null,
   "metadata": {},
   "outputs": [],
   "source": [
    "木材切成给定长度，最少可切成多少\n",
    "60%\n",
    "a = [int(i) for i in input()[1:-1].split(',')]\n",
    "l = int(input())\n",
    "\n",
    "a.sort()\n",
    "a.reverse()\n",
    "res = 0\n",
    "f = 0\n",
    "for i in a:\n",
    "    res += l // i\n",
    "    if l % i == 0:\n",
    "        f = 1\n",
    "        print(res)\n",
    "    l = l % i\n",
    "if f == 0:\n",
    "    print(-1)"
   ]
  },
  {
   "cell_type": "code",
   "execution_count": null,
   "metadata": {},
   "outputs": [],
   "source": []
  },
  {
   "cell_type": "code",
   "execution_count": null,
   "metadata": {},
   "outputs": [],
   "source": [
    "\n",
    "\n",
    "\n",
    "def get_count(woods,length):\n",
    "    woods.sort()\n",
    "    a = length % woods.pop(-1)\n",
    "    if a == 0:\n",
    "        return length // woods.pop(-1)\n",
    "    "
   ]
  }
 ],
 "metadata": {
  "kernelspec": {
   "display_name": "Python 3",
   "language": "python",
   "name": "python3"
  },
  "language_info": {
   "codemirror_mode": {
    "name": "ipython",
    "version": 3
   },
   "file_extension": ".py",
   "mimetype": "text/x-python",
   "name": "python",
   "nbconvert_exporter": "python",
   "pygments_lexer": "ipython3",
   "version": "3.7.0"
  }
 },
 "nbformat": 4,
 "nbformat_minor": 2
}
