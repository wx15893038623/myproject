{
 "cells": [
  {
   "cell_type": "code",
   "execution_count": null,
   "metadata": {},
   "outputs": [],
   "source": [
    "优先队列\n",
    "思路和算法\n",
    "\n",
    "我们用两个优先队列 queMax 和 queMin 分别记录大于中位数的数和小于等于中位数的数。当累计添加的数的数量为奇数时，queMin 中的数的数量比 queMax 多一个，此时中位数为 queMin 的队头。当累计添加的数的数量为偶数时，两个优先队列中的数的数量相同，此时中位数为它们的队头的平均值。\n",
    "\n",
    "当我们尝试添加一个数 num 到数据结构中，我们需要分情况讨论：\n",
    "\n",
    "num≤max{queMin}\n",
    "\n",
    "此时 num 小于等于中位数，我们需要将该数添加到 queMin 中。新的中位数将小于等于原来的中位数，因此我们可能需要将 queMin 中最大的数移动到 queMax 中。\n",
    "\n",
    "num>max{queMin}\n",
    "\n",
    "此时 num 大于中位数，我们需要将该数添加到 queMin 中。新的中位数将大于等于原来的中位数，因此我们可能需要将 queMax 中最小的数移动到 queMin 中。\n",
    "\n",
    "特别地，当累计添加的数的数量为 0 时，我们将 num 添加到 queMin 中。\n",
    "\n",
    "时间复杂度：\n",
    "\n",
    "addNum: O(logn)，其中 n 为累计添加的数的数量。\n",
    "findMedian: O(1)。\n",
    "空间复杂度：O(n)，主要为优先队列的开销。\n",
    "\n"
   ]
  },
  {
   "cell_type": "code",
   "execution_count": null,
   "metadata": {},
   "outputs": [],
   "source": [
    "class MedianFinder:\n",
    "\n",
    "    def __init__(self):\n",
    "        self.queMin = list()\n",
    "        self.queMax = list()\n",
    "\n",
    "    def addNum(self, num: int) -> None:\n",
    "        queMin_ = self.queMin\n",
    "        queMax_ = self.queMax\n",
    "\n",
    "        if not queMin_ or num <= -queMin_[0]:\n",
    "            heapq.heappush(queMin_, -num)\n",
    "            if len(queMax_) + 1 < len(queMin_):\n",
    "                heapq.heappush(queMax_, -heapq.heappop(queMin_))\n",
    "        else:\n",
    "            heapq.heappush(queMax_, num)\n",
    "            if len(queMax_) > len(queMin_):\n",
    "                heapq.heappush(queMin_, -heapq.heappop(queMax_))\n",
    "        \n",
    "    def findMedian(self) -> float:\n",
    "        queMin_ = self.queMin\n",
    "        queMax_ = self.queMax\n",
    "\n",
    "        if len(queMin_) > len(queMax_):\n",
    "            return -queMin_[0]\n",
    "        return (-queMin_[0] + queMax_[0]) / 2\n"
   ]
  },
  {
   "cell_type": "code",
   "execution_count": null,
   "metadata": {},
   "outputs": [],
   "source": [
    "有序集合 + 双指针\n",
    "我们也可以使用有序集合维护这些数。我们把有序集合看作自动排序的数组，使用双指针指向有序集合中的中位数元素即可。当累计添加的数的数量为奇数时，双指针指向同一个元素。当累计添加的数的数量为偶数时，双指针分别指向构成中位数的两个数。\n",
    "\n",
    "当我们尝试添加一个数 \\textit{num}num 到数据结构中，我们需要分情况讨论：\n",
    "\n",
    "初始有序集合为空时，我们直接让左右指针指向 \\textit{num}num 所在的位置。\n",
    "\n",
    "有序集合为中元素为奇数时，\\textit{left}left 和 \\textit{right}right 同时指向中位数。如果 \\textit{num}num 大于等于中位数，那么只要让 \\textit{left}left 左移，否则让 \\textit{right}right 右移即可。\n",
    "\n",
    "有序集合为中元素为偶数时，\\textit{left}left 和 \\textit{right}right 分别指向构成中位数的两个数。\n",
    "\n",
    "当 \\textit{num}num 成为新的唯一的中位数，那么我们让 \\textit{left}left 右移，\\textit{right}right 左移，这样它们即可指向 \\textit{num}num 所在的位置；\n",
    "当 \\textit{num}num 大于等于 \\textit{right}right，那么我们让 \\textit{left}left 右移即可；\n",
    "当 \\textit{num}num 小于 \\textit{right}right 指向的值，那么我们让 \\textit{right}right 左移，注意到如果 \\textit{num}num 恰等于 \\textit{left}left 指向的值，那么 \\textit{num}num 将被插入到 \\textit{left}left 右侧，使得 \\textit{left}left 和 \\textit{right}right 间距增大，所以我们还需要额外让 \\textit{left}left 指向移动后的 \\textit{right}right。\n",
    "\n",
    "时间复杂度：\n",
    "\n",
    "\\textit{addNum}addNum: O(\\log n)O(logn)，其中 nn 为累计添加的数的数量。\n",
    "\\textit{findMedian}findMedian: O(1)O(1)。\n",
    "空间复杂度：O(n)O(n)，主要为有序集合的开销。\n",
    "\n",
    "进阶 1\n",
    "如果数据流中所有整数都在 00 到 100100 范围内，那么我们可以利用计数排序统计每一类数的数量，并使用双指针维护中位数。\n",
    "\n",
    "进阶 2\n",
    "如果数据流中 99\\%99% 的整数都在 00 到 100100 范围内，那么我们依然利用计数排序统计每一类数的数量，并使用双指针维护中位数。对于超出范围的数，我们可以单独进行处理，建立两个数组，分别记录小于 00 的部分的数的数量和大于 100100 的部分的数的数量即可。当小部分时间，中位数不落在区间 [0,100][0,100] 中时，我们在对应的数组中暴力检查即可。\n"
   ]
  },
  {
   "cell_type": "code",
   "execution_count": null,
   "metadata": {},
   "outputs": [],
   "source": [
    "from sortedcontainers import SortedList\n",
    "\n",
    "class MedianFinder:\n",
    "\n",
    "    def __init__(self):\n",
    "        self.nums = SortedList()\n",
    "        self.left = self.right = None\n",
    "        self.left_value = self.right_value = None\n",
    "\n",
    "    def addNum(self, num: int) -> None:\n",
    "        nums_ = self.nums\n",
    "\n",
    "        n = len(nums_)\n",
    "        nums_.add(num)\n",
    "\n",
    "        if n == 0:\n",
    "            self.left = self.right = 0\n",
    "        else:\n",
    "            # 模拟双指针，当 num 小于 self.left 或 self.right 指向的元素时，num 的加入会导致对应指针向右移动一个位置\n",
    "            if num < self.left_value:\n",
    "                self.left += 1\n",
    "            if num < self.right_value:\n",
    "                self.right += 1\n",
    "\n",
    "            if n & 1:\n",
    "                if num < self.left_value:\n",
    "                    self.left -= 1\n",
    "                else:\n",
    "                    self.right += 1\n",
    "            else:\n",
    "                if self.left_value < num < self.right_value:\n",
    "                    self.left += 1\n",
    "                    self.right -= 1\n",
    "                elif num >= self.right_value:\n",
    "                    self.left += 1\n",
    "                else:\n",
    "                    self.right -= 1\n",
    "                    self.left = self.right\n",
    "        \n",
    "        self.left_value = nums_[self.left]\n",
    "        self.right_value = nums_[self.right]\n",
    "\n",
    "    def findMedian(self) -> float:\n",
    "        return (self.left_value + self.right_value) / 2\n"
   ]
  },
  {
   "cell_type": "code",
   "execution_count": null,
   "metadata": {},
   "outputs": [],
   "source": []
  },
  {
   "cell_type": "code",
   "execution_count": 15,
   "metadata": {},
   "outputs": [],
   "source": [
    "# 2236 ms\t34.2 MB\n",
    "class MedianFinder:\n",
    "\n",
    "    def __init__(self):\n",
    "        \"\"\"\n",
    "        initialize your data structure here.\n",
    "        \"\"\"\n",
    "        self.listt = []\n",
    "\n",
    "\n",
    "    def addNum(self, num: int) -> None:\n",
    "        self.listt.append(num)\n",
    "\n",
    "    def findMedian(self) -> float:\n",
    "        n = len(self.listt)\n",
    "        if n % 2 == 0:\n",
    "            return (self.listt[n//2]+self.listt[n//2-1])/2\n",
    "        else:\n",
    "            return self.listt[n//2]"
   ]
  },
  {
   "cell_type": "code",
   "execution_count": 19,
   "metadata": {},
   "outputs": [],
   "source": [
    "a = MedianFinder()"
   ]
  },
  {
   "cell_type": "code",
   "execution_count": 20,
   "metadata": {},
   "outputs": [],
   "source": [
    "a.addNum(6)\n",
    "a.addNum(10)\n",
    "a.addNum(2)\n",
    "a.addNum(6)"
   ]
  },
  {
   "cell_type": "code",
   "execution_count": 21,
   "metadata": {},
   "outputs": [
    {
     "data": {
      "text/plain": [
       "6.0"
      ]
     },
     "execution_count": 21,
     "metadata": {},
     "output_type": "execute_result"
    }
   ],
   "source": [
    "a.findMedian()"
   ]
  },
  {
   "cell_type": "code",
   "execution_count": 22,
   "metadata": {},
   "outputs": [],
   "source": [
    "a = [1,2,6,7,5,4,]"
   ]
  },
  {
   "cell_type": "code",
   "execution_count": 23,
   "metadata": {},
   "outputs": [],
   "source": [
    "a.sort()"
   ]
  },
  {
   "cell_type": "code",
   "execution_count": 24,
   "metadata": {},
   "outputs": [
    {
     "data": {
      "text/plain": [
       "[1, 2, 4, 5, 6, 7]"
      ]
     },
     "execution_count": 24,
     "metadata": {},
     "output_type": "execute_result"
    }
   ],
   "source": [
    "a"
   ]
  },
  {
   "cell_type": "code",
   "execution_count": null,
   "metadata": {},
   "outputs": [],
   "source": []
  },
  {
   "cell_type": "code",
   "execution_count": null,
   "metadata": {},
   "outputs": [],
   "source": [
    "[\"MedianFinder\",\"addNum\",\"findMedian\",\"addNum\",\"findMedian\",\"addNum\",\"findMedian\",\"addNum\",\"findMedian\",\"addNum\",\"findMedian\",\"addNum\",\"findMedian\",\"addNum\",\"findMedian\",\"addNum\",\"findMedian\",\"addNum\",\"findMedian\",\"addNum\",\"findMedian\",\"addNum\",\"findMedian\"]\n",
    "[[],[6],[],[10],[],[2],[],[6],[],[5],[],[0],[],[6],[],[3],[],[1],[],[0],[],[0],[]]"
   ]
  },
  {
   "cell_type": "code",
   "execution_count": null,
   "metadata": {},
   "outputs": [],
   "source": [
    "[null,null,6.0,null,8.0,null,6.0,null,6.0,null,6.0,null,5.5,null,6.0,null,5.5,null,5.0,null,4.0,null,3.0]"
   ]
  },
  {
   "cell_type": "code",
   "execution_count": 9,
   "metadata": {},
   "outputs": [
    {
     "data": {
      "text/plain": [
       "1.5"
      ]
     },
     "execution_count": 9,
     "metadata": {},
     "output_type": "execute_result"
    }
   ],
   "source": [
    "[null,null,6.00000,null,8.00000,null,10.00000,null,6.00000,null,2.00000,null,4.00000,null,6.00000,null,5.50000,null,5.00000,null,2.50000,null,0.00000]"
   ]
  }
 ],
 "metadata": {
  "kernelspec": {
   "display_name": "Python 3",
   "language": "python",
   "name": "python3"
  },
  "language_info": {
   "codemirror_mode": {
    "name": "ipython",
    "version": 3
   },
   "file_extension": ".py",
   "mimetype": "text/x-python",
   "name": "python",
   "nbconvert_exporter": "python",
   "pygments_lexer": "ipython3",
   "version": "3.7.0"
  }
 },
 "nbformat": 4,
 "nbformat_minor": 2
}
