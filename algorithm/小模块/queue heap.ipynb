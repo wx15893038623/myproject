{
 "cells": [
  {
   "cell_type": "code",
   "execution_count": null,
   "metadata": {},
   "outputs": [],
   "source": [
    "队列（Queue）\n",
    "Python的Queue模块中提供了同步的、线程安全的队列类，包括FIFO（先入先出)队列Queue，LIFO（后入先出）队列LifoQueue，和优先级队列PriorityQueue。这些队列都实现了锁原语，能够在多线程中直接使用。可以使用队列来实现线程间的同步。\n",
    "\n",
    "常用方法：\n",
    "\n",
    "Queue.qsize() 返回队列的大小\n",
    "Queue.empty() 如果队列为空，返回True,反之False\n",
    "Queue.full() 如果队列满了，返回True,反之False，Queue.full 与 maxsize 大小对应\n",
    "Queue.get([block[, timeout]])获取队列，timeout等待时间\n",
    "Queue.get_nowait() 相当于Queue.get(False)，非阻塞方法\n",
    "Queue.put(item) 写入队列，timeout等待时间\n",
    "Queue.task_done() 在完成一项工作之后，Queue.task_done()函数向任务已经完成的队列发送一个信号。每个get()调用得到一个任务，接下来task_done()调用告诉队列该任务已经处理完毕。\n",
    "Queue.join() 实际上意味着等到队列为空，再执行别的操作\n"
   ]
  },
  {
   "cell_type": "code",
   "execution_count": 3,
   "metadata": {},
   "outputs": [],
   "source": [
    "from queue import Queue,LifoQueue,PriorityQueue"
   ]
  },
  {
   "cell_type": "code",
   "execution_count": null,
   "metadata": {},
   "outputs": [],
   "source": [
    "#先进先出\n",
    "q = Queue(maxsize=5)\n",
    "#后进先出\n",
    "lq = LifoQueue(maxsize=5)\n",
    "#优先级\n",
    "pq = PriorityQueue(maxsize=5)\n",
    "\n",
    "# put,get"
   ]
  },
  {
   "cell_type": "code",
   "execution_count": 4,
   "metadata": {},
   "outputs": [],
   "source": [
    "from queue import deque"
   ]
  },
  {
   "cell_type": "code",
   "execution_count": null,
   "metadata": {},
   "outputs": [],
   "source": [
    "#双边队列\n",
    "dq = deque([1,2])\n",
    "\n",
    "#append,appendleft,pop,popleft"
   ]
  },
  {
   "cell_type": "code",
   "execution_count": null,
   "metadata": {},
   "outputs": [],
   "source": []
  },
  {
   "cell_type": "code",
   "execution_count": null,
   "metadata": {},
   "outputs": [],
   "source": [
    "import heapq\n",
    "# 将x压入堆中\n",
    "heapq.heappush(heap, x)   \n",
    "# 从堆中弹出最小的元素                                     \n",
    "heapq.heappop(heap)    \n",
    "# 让列表具备堆特征                                  \n",
    "heapq.heapify(heap) \n",
    "# 弹出最小的元素，并将x压入堆中                                      \n",
    "heapq.heapreplace(heap, x)  \n",
    "# 返回iter中n个最大的元素                          \n",
    "heapq.nlargest(n, iter) \n",
    "# 返回iter中n个最小的元素                                      \n",
    "heapq.nsmallest(n, iter)                                   \n",
    "\n",
    "# 从一个list中获取最大的元素\n",
    "max_column_data = heapq.nlargest(1, temp_list, key=lambda item: len(item))"
   ]
  }
 ],
 "metadata": {
  "kernelspec": {
   "display_name": "Python 3",
   "language": "python",
   "name": "python3"
  },
  "language_info": {
   "codemirror_mode": {
    "name": "ipython",
    "version": 3
   },
   "file_extension": ".py",
   "mimetype": "text/x-python",
   "name": "python",
   "nbconvert_exporter": "python",
   "pygments_lexer": "ipython3",
   "version": "3.7.0"
  }
 },
 "nbformat": 4,
 "nbformat_minor": 2
}
