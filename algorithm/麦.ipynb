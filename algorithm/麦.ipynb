{
 "cells": [
  {
   "cell_type": "code",
   "execution_count": 19,
   "metadata": {},
   "outputs": [],
   "source": [
    "\n",
    "def fun(nn):\n",
    "    n = nn\n",
    "    r = [i+1 for i in range(n)]\n",
    "    f = 0\n",
    "    while f == 0 :\n",
    "        i = 0\n",
    "        ff = 0\n",
    "        for j in range(n):\n",
    "            if r[j]!=0:\n",
    "                i += 1\n",
    "                if i*0.5*10%10 == 0:\n",
    "                    r[j]=0\n",
    "        for j in range(n):\n",
    "            if r[j]==0:\n",
    "                ff += 1\n",
    "        if ff == n-1:\n",
    "            f = 1\n",
    "    return r"
   ]
  },
  {
   "cell_type": "code",
   "execution_count": 20,
   "metadata": {},
   "outputs": [
    {
     "data": {
      "text/plain": [
       "[1, 0, 0, 0, 0]"
      ]
     },
     "execution_count": 20,
     "metadata": {},
     "output_type": "execute_result"
    }
   ],
   "source": [
    "fun(5)"
   ]
  },
  {
   "cell_type": "code",
   "execution_count": null,
   "metadata": {},
   "outputs": [],
   "source": []
  },
  {
   "cell_type": "code",
   "execution_count": 1,
   "metadata": {},
   "outputs": [],
   "source": [
    "\n",
    "def fun(nn):\n",
    "    n = nn\n",
    "    r = [i+1 for i in range(n)]\n",
    "    while len(r) != 1:\n",
    "        i = 1\n",
    "        m = []\n",
    "        while i*i <= len(r):\n",
    "            m.append(i*i)\n",
    "            i += 1\n",
    "        for _ in range(len(m)):\n",
    "            x = m.pop(-1)\n",
    "            r.remove(r[x-1])\n",
    "    return r[0]"
   ]
  },
  {
   "cell_type": "code",
   "execution_count": null,
   "metadata": {},
   "outputs": [],
   "source": [
    "fun(498306)"
   ]
  },
  {
   "cell_type": "code",
   "execution_count": 14,
   "metadata": {},
   "outputs": [],
   "source": [
    "m = {}\n",
    "for i in range(109):\n",
    "    m[i+1]=fun(i+1)\n"
   ]
  },
  {
   "cell_type": "code",
   "execution_count": 16,
   "metadata": {},
   "outputs": [],
   "source": [
    "m = {1: 1,\n",
    " 2: 2,\n",
    " 3: 3,\n",
    " 4: 3,\n",
    " 5: 5,\n",
    " 6: 5,\n",
    " 7: 7,\n",
    " 8: 7,\n",
    " 9: 7,\n",
    " 10: 10,\n",
    " 11: 10,\n",
    " 12: 10,\n",
    " 13: 13,\n",
    " 14: 13,\n",
    " 15: 13,\n",
    " 16: 13,\n",
    " 17: 17,\n",
    " 18: 17,\n",
    " 19: 17,\n",
    " 20: 17,\n",
    " 21: 21,\n",
    " 22: 21,\n",
    " 23: 21,\n",
    " 24: 21,\n",
    " 25: 21,\n",
    " 26: 26,\n",
    " 27: 26,\n",
    " 28: 26,\n",
    " 29: 26,\n",
    " 30: 26,\n",
    " 31: 31,\n",
    " 32: 31,\n",
    " 33: 31,\n",
    " 34: 31,\n",
    " 35: 31,\n",
    " 36: 31,\n",
    " 37: 37,\n",
    " 38: 37,\n",
    " 39: 37,\n",
    " 40: 37,\n",
    " 41: 37,\n",
    " 42: 37,\n",
    " 43: 43,\n",
    " 44: 43,\n",
    " 45: 43,\n",
    " 46: 43,\n",
    " 47: 43,\n",
    " 48: 43,\n",
    " 49: 43,\n",
    " 50: 50,\n",
    " 51: 50,\n",
    " 52: 50,\n",
    " 53: 50,\n",
    " 54: 50,\n",
    " 55: 50,\n",
    " 56: 50,\n",
    " 57: 57,\n",
    " 58: 57,\n",
    " 59: 57,\n",
    " 60: 57,\n",
    " 61: 57,\n",
    " 62: 57,\n",
    " 63: 57,\n",
    " 64: 57,\n",
    " 65: 65,\n",
    " 66: 65,\n",
    " 67: 65,\n",
    " 68: 65,\n",
    " 69: 65,\n",
    " 70: 65,\n",
    " 71: 65,\n",
    " 72: 65,\n",
    " 73: 73,\n",
    " 74: 73,\n",
    " 75: 73,\n",
    " 76: 73,\n",
    " 77: 73,\n",
    " 78: 73,\n",
    " 79: 73,\n",
    " 80: 73,\n",
    " 81: 73,\n",
    " 82: 82,\n",
    " 83: 82,\n",
    " 84: 82,\n",
    " 85: 82,\n",
    " 86: 82,\n",
    " 87: 82,\n",
    " 88: 82,\n",
    " 89: 82,\n",
    " 90: 82,\n",
    " 91: 91,\n",
    " 92: 91,\n",
    " 93: 91,\n",
    " 94: 91,\n",
    " 95: 91,\n",
    " 96: 91,\n",
    " 97: 91,\n",
    " 98: 91,\n",
    " 99: 91,\n",
    " 100: 91,\n",
    " 101: 101,\n",
    " 102: 101,\n",
    " 103: 101,\n",
    " 104: 101,\n",
    " 105: 101,\n",
    " 106: 101,\n",
    " 107: 101,\n",
    " 108: 101,\n",
    " 109: 101}"
   ]
  },
  {
   "cell_type": "code",
   "execution_count": null,
   "metadata": {},
   "outputs": [],
   "source": [
    "n = int(input())\n",
    "\n",
    "print(m[n])"
   ]
  },
  {
   "cell_type": "code",
   "execution_count": null,
   "metadata": {},
   "outputs": [],
   "source": []
  },
  {
   "cell_type": "code",
   "execution_count": 9,
   "metadata": {},
   "outputs": [
    {
     "name": "stdout",
     "output_type": "stream",
     "text": [
      "91\n"
     ]
    }
   ],
   "source": [
    "\n",
    "n = 100\n",
    "r = [i+1 for i in range(n)]\n",
    "while len(r) != 1:\n",
    "    i = 1\n",
    "    m = []\n",
    "    while i*i <= len(r):\n",
    "        m.append(i*i)\n",
    "        i += 1\n",
    "    for _ in range(len(m)):\n",
    "        x = m.pop(-1)\n",
    "        r.remove(r[x-1])\n",
    "print(r[0])"
   ]
  },
  {
   "cell_type": "code",
   "execution_count": 2,
   "metadata": {},
   "outputs": [],
   "source": [
    "n = 5\n",
    "r = [i+1 for i in range(n)]"
   ]
  },
  {
   "cell_type": "code",
   "execution_count": 3,
   "metadata": {},
   "outputs": [
    {
     "data": {
      "text/plain": [
       "[1, 2, 3, 4, 5]"
      ]
     },
     "execution_count": 3,
     "metadata": {},
     "output_type": "execute_result"
    }
   ],
   "source": [
    "r"
   ]
  },
  {
   "cell_type": "code",
   "execution_count": 11,
   "metadata": {},
   "outputs": [],
   "source": [
    "a = [1,2,3]"
   ]
  },
  {
   "cell_type": "code",
   "execution_count": 12,
   "metadata": {},
   "outputs": [
    {
     "data": {
      "text/plain": [
       "3"
      ]
     },
     "execution_count": 12,
     "metadata": {},
     "output_type": "execute_result"
    }
   ],
   "source": [
    "a.pop(-1)"
   ]
  },
  {
   "cell_type": "code",
   "execution_count": 8,
   "metadata": {},
   "outputs": [],
   "source": [
    "a.remove(3)"
   ]
  },
  {
   "cell_type": "code",
   "execution_count": 9,
   "metadata": {},
   "outputs": [
    {
     "data": {
      "text/plain": [
       "[1, 2]"
      ]
     },
     "execution_count": 9,
     "metadata": {},
     "output_type": "execute_result"
    }
   ],
   "source": [
    "a"
   ]
  },
  {
   "cell_type": "code",
   "execution_count": null,
   "metadata": {},
   "outputs": [],
   "source": [
    "5\n",
    "70\n",
    "120\n",
    "25\n",
    "15"
   ]
  },
  {
   "cell_type": "code",
   "execution_count": 1,
   "metadata": {},
   "outputs": [
    {
     "name": "stdout",
     "output_type": "stream",
     "text": [
      "=== 95\n",
      "=== 120\n",
      "105\n",
      "90\n",
      "=== 115\n",
      "100\n",
      "85\n",
      "=== 110\n",
      "95\n",
      "=== 120\n"
     ]
    }
   ],
   "source": [
    "\n",
    "\n",
    "def fun():\n",
    "    ntt = 5\n",
    "    minp = 70\n",
    "    maxp = 120\n",
    "    tc = 25\n",
    "    rc = 15\n",
    "    \n",
    "    res = 0\n",
    "    p = minp\n",
    "    while ntt > 0:\n",
    "        try:\n",
    "            while p >= maxp or p+tc > maxp:\n",
    "                p = max(p-rc,minp)\n",
    "                res += 1\n",
    "                print(p)\n",
    "            while p+tc <= maxp:\n",
    "                p += tc\n",
    "                res += 1\n",
    "                ntt -= 1\n",
    "                print('===',p)\n",
    "                if ntt == 0:\n",
    "                    return res\n",
    "        except:\n",
    "            return -1\n",
    "\n",
    "res = fun()\n"
   ]
  },
  {
   "cell_type": "code",
   "execution_count": 2,
   "metadata": {},
   "outputs": [
    {
     "data": {
      "text/plain": [
       "10"
      ]
     },
     "execution_count": 2,
     "metadata": {},
     "output_type": "execute_result"
    }
   ],
   "source": [
    "res"
   ]
  }
 ],
 "metadata": {
  "kernelspec": {
   "display_name": "Python 3",
   "language": "python",
   "name": "python3"
  },
  "language_info": {
   "codemirror_mode": {
    "name": "ipython",
    "version": 3
   },
   "file_extension": ".py",
   "mimetype": "text/x-python",
   "name": "python",
   "nbconvert_exporter": "python",
   "pygments_lexer": "ipython3",
   "version": "3.7.0"
  }
 },
 "nbformat": 4,
 "nbformat_minor": 2
}
