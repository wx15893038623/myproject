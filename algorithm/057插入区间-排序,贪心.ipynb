{
 "cells": [
  {
   "cell_type": "markdown",
   "metadata": {},
   "source": [
    "排序法\n",
    "时间NlogN\n",
    "空间N"
   ]
  },
  {
   "cell_type": "code",
   "execution_count": null,
   "metadata": {},
   "outputs": [],
   "source": [
    "def insert(intervals,new):\n",
    "    res = []\n",
    "    if len(intervals) == 0:\n",
    "        res.append(new)\n",
    "        return res\n",
    "    intervals.append(new)\n",
    "    \n",
    "    intervals.sort(key=lambda x:x[0])\n",
    "    for interval in intervals:\n",
    "        if len(res)==0 or interval[0] > res[-1][1]:\n",
    "            res.append(interval)\n",
    "        else:\n",
    "            res[-1][1] = max(res[-1][1],interval[1])\n",
    "    return res"
   ]
  },
  {
   "cell_type": "markdown",
   "metadata": {},
   "source": [
    "贪心法\n",
    "时间N\n",
    "空间N"
   ]
  },
  {
   "cell_type": "code",
   "execution_count": 1,
   "metadata": {},
   "outputs": [],
   "source": [
    "def insert(intervals,new):\n",
    "    res = []\n",
    "    index = 0\n",
    "    for interval in intervals:\n",
    "        if interval[0] < new[0]:\n",
    "            res.append(interval)\n",
    "            index += 1\n",
    "        else:\n",
    "            break\n",
    "    if len(res)==0 or res[-1][1]<new[0]:\n",
    "        res.append(new)\n",
    "    else:\n",
    "        res[-1][1] = max(res[-1][1],new[1])\n",
    "    for i in range(index,len(intervals)):\n",
    "        if res[-1][1]<intervals[i][0]:\n",
    "            res.append(intervals[i])\n",
    "        else:\n",
    "            res[-1][1] = max(res[-1][1],intervals[i][1])\n",
    "    return res"
   ]
  },
  {
   "cell_type": "code",
   "execution_count": null,
   "metadata": {},
   "outputs": [],
   "source": []
  }
 ],
 "metadata": {
  "kernelspec": {
   "display_name": "Python 3",
   "language": "python",
   "name": "python3"
  },
  "language_info": {
   "codemirror_mode": {
    "name": "ipython",
    "version": 3
   },
   "file_extension": ".py",
   "mimetype": "text/x-python",
   "name": "python",
   "nbconvert_exporter": "python",
   "pygments_lexer": "ipython3",
   "version": "3.7.0"
  }
 },
 "nbformat": 4,
 "nbformat_minor": 2
}
