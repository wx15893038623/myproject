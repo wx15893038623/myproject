{
 "cells": [
  {
   "cell_type": "code",
   "execution_count": null,
   "metadata": {},
   "outputs": [],
   "source": [
    "距离小于K的朋友对数\n",
    "\n"
   ]
  },
  {
   "cell_type": "code",
   "execution_count": 45,
   "metadata": {},
   "outputs": [
    {
     "name": "stdout",
     "output_type": "stream",
     "text": [
      "8\n"
     ]
    }
   ],
   "source": [
    "l1 = '5 4'.split()\n",
    "l22 = '1 2 3 1 3 1 1 4 2 3 5 1'.split()\n",
    "l2 = [int(i) for i in l22]\n",
    "\n",
    "N = int(l1[0])\n",
    "K = int(l1[1])\n",
    "NN = [[0]*3 for _ in range(N-1)]\n",
    "a = 0\n",
    "for i in range(N-1):\n",
    "    for j in range(3):\n",
    "        NN[i][j] = l2[a]\n",
    "        a+=1\n",
    "A = [[float(\"inf\")]*N for _ in range(N)]\n",
    "\n",
    "for i in NN:\n",
    "    A[i[0]-1][i[1]-1] = i[2]\n",
    "    A[i[1]-1][i[2]-1] = i[2]\n",
    "for i in range(N):\n",
    "    A[i][i] = 0\n",
    "    \n",
    "for k in range(N):\n",
    "    for i in range(N):\n",
    "        for j in range(N):\n",
    "            if(A[i][j]>A[i][k]+A[k][j]):\n",
    "                A[i][j] = A[i][k]+A[k][j]\n",
    "                P[i][j] = k\n",
    "res = 0\n",
    "for i in A:\n",
    "    for j in i:\n",
    "        if j<=4:\n",
    "            res += 1\n",
    "res = int((res-N)/2)\n",
    "print(res)"
   ]
  },
  {
   "cell_type": "code",
   "execution_count": 45,
   "metadata": {},
   "outputs": [
    {
     "name": "stdout",
     "output_type": "stream",
     "text": [
      "8\n"
     ]
    }
   ],
   "source": [
    "l1 = '5 4'.split()\n",
    "l22 = '1 2 3 1 3 1 1 4 2 3 5 1'.split()\n",
    "l2 = [int(i) for i in l22]\n",
    "\n",
    "N = int(l1[0])\n",
    "K = int(l1[1])\n",
    "for i in range(N-1):\n",
    "    A[3*i][3*i+1] = l2[3*i+2] \n",
    "\n",
    "NN = [[0]*3 for _ in range(N-1)]\n",
    "a = 0\n",
    "for i in range(N-1):\n",
    "    for j in range(3):\n",
    "        NN[i][j] = l2[a]\n",
    "        a+=1\n",
    "A = [[float(\"inf\")]*N for _ in range(N)]\n",
    "\n",
    "for i in NN:\n",
    "    A[i[0]-1][i[1]-1] = i[2]\n",
    "    A[i[1]-1][i[2]-1] = i[2]\n",
    "for i in range(N):\n",
    "    A[i][i] = 0\n",
    "    \n",
    "for k in range(N):\n",
    "    for i in range(N):\n",
    "        for j in range(N):\n",
    "            if(A[i][j]>A[i][k]+A[k][j]):\n",
    "                A[i][j] = A[i][k]+A[k][j]\n",
    "                P[i][j] = k\n",
    "res = 0\n",
    "for i in A:\n",
    "    for j in i:\n",
    "        if j<=4:\n",
    "            res += 1\n",
    "res = int((res-N)/2)\n",
    "print(res)"
   ]
  },
  {
   "cell_type": "code",
   "execution_count": 43,
   "metadata": {},
   "outputs": [],
   "source": [
    "res = 0\n",
    "for i in A:\n",
    "    for j in i:\n",
    "        if j<=4:\n",
    "            res += 1\n",
    "res = int((res-N)/2)"
   ]
  },
  {
   "cell_type": "code",
   "execution_count": 44,
   "metadata": {},
   "outputs": [
    {
     "data": {
      "text/plain": [
       "8"
      ]
     },
     "execution_count": 44,
     "metadata": {},
     "output_type": "execute_result"
    }
   ],
   "source": [
    "res"
   ]
  },
  {
   "cell_type": "code",
   "execution_count": 3,
   "metadata": {},
   "outputs": [],
   "source": [
    "l1 = '5 4'.split()\n",
    "l22 = '1 2 3 1 3 1 1 4 2 3 5 1'.split()\n",
    "l2 = [int(i) for i in l22]"
   ]
  },
  {
   "cell_type": "code",
   "execution_count": 5,
   "metadata": {},
   "outputs": [
    {
     "data": {
      "text/plain": [
       "[1, 2, 3, 1, 3, 1, 1, 4, 2, 3, 5, 1]"
      ]
     },
     "execution_count": 5,
     "metadata": {},
     "output_type": "execute_result"
    }
   ],
   "source": [
    "l2"
   ]
  },
  {
   "cell_type": "code",
   "execution_count": 33,
   "metadata": {},
   "outputs": [],
   "source": [
    "l1 = '5 4'.split()\n",
    "l22 = '1 2 3 1 3 1 1 4 2 3 5 1'.split()\n",
    "l2 = [int(i) for i in l22]\n",
    "\n",
    "N = int(l1[0])\n",
    "K = int(l1[1])\n",
    "NN = [[0]*3 for _ in range(N-1)]\n",
    "a = 0\n",
    "for i in range(N-1):\n",
    "    for j in range(3):\n",
    "        NN[i][j] = l2[a]\n",
    "        a+=1\n",
    "A = [[float(\"inf\")]*N for _ in range(N)]\n",
    "P = [[-1]*N for _ in range(N)]\n",
    "\n",
    "\n"
   ]
  },
  {
   "cell_type": "code",
   "execution_count": 19,
   "metadata": {},
   "outputs": [],
   "source": [
    "for i in NN:\n",
    "    A[i[0]-1][i[1]-1] = i[2]\n",
    "for i in range(N):\n",
    "    A[i][i] = 0\n",
    "    \n"
   ]
  },
  {
   "cell_type": "code",
   "execution_count": 34,
   "metadata": {},
   "outputs": [],
   "source": [
    "for i in NN:\n",
    "    A[i[0]-1][i[1]-1] = i[2]\n",
    "    A[i[1]-1][i[2]-1] = i[2]\n",
    "for i in range(N):\n",
    "    A[i][i] = 0\n",
    "    \n"
   ]
  },
  {
   "cell_type": "code",
   "execution_count": 35,
   "metadata": {},
   "outputs": [
    {
     "data": {
      "text/plain": [
       "[[0, 3, 1, 2, inf],\n",
       " [inf, 0, 3, inf, inf],\n",
       " [1, inf, 0, inf, 1],\n",
       " [inf, 2, inf, 0, inf],\n",
       " [1, inf, inf, inf, 0]]"
      ]
     },
     "execution_count": 35,
     "metadata": {},
     "output_type": "execute_result"
    }
   ],
   "source": [
    "A"
   ]
  },
  {
   "cell_type": "code",
   "execution_count": 25,
   "metadata": {},
   "outputs": [],
   "source": [
    "for k in range(N):\n",
    "    for i in range(N):\n",
    "        for j in range(N):\n",
    "            if(A[i][j]>A[i][k]+A[k][j]):\n",
    "                A[i][j] = A[i][k]+A[k][j]\n",
    "                P[i][j] = k"
   ]
  },
  {
   "cell_type": "code",
   "execution_count": 26,
   "metadata": {},
   "outputs": [
    {
     "data": {
      "text/plain": [
       "[[0, 3, 1, 2, 2],\n",
       " [4, 0, 3, 6, 4],\n",
       " [1, 4, 0, 3, 1],\n",
       " [6, 2, 5, 0, 6],\n",
       " [1, 4, 2, 3, 0]]"
      ]
     },
     "execution_count": 26,
     "metadata": {},
     "output_type": "execute_result"
    }
   ],
   "source": [
    "A"
   ]
  },
  {
   "cell_type": "code",
   "execution_count": 38,
   "metadata": {},
   "outputs": [
    {
     "data": {
      "text/plain": [
       "[[-1, -1, -1, -1, -1],\n",
       " [-1, -1, -1, -1, 2],\n",
       " [-1, -1, -1, -1, -1],\n",
       " [-1, -1, 1, -1, 2],\n",
       " [-1, -1, -1, -1, -1]]"
      ]
     },
     "execution_count": 38,
     "metadata": {},
     "output_type": "execute_result"
    }
   ],
   "source": [
    "P"
   ]
  }
 ],
 "metadata": {
  "kernelspec": {
   "display_name": "Python 3",
   "language": "python",
   "name": "python3"
  },
  "language_info": {
   "codemirror_mode": {
    "name": "ipython",
    "version": 3
   },
   "file_extension": ".py",
   "mimetype": "text/x-python",
   "name": "python",
   "nbconvert_exporter": "python",
   "pygments_lexer": "ipython3",
   "version": "3.7.0"
  }
 },
 "nbformat": 4,
 "nbformat_minor": 2
}
