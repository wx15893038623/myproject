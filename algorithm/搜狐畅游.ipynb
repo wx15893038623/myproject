{
 "cells": [
  {
   "cell_type": "code",
   "execution_count": 47,
   "metadata": {},
   "outputs": [],
   "source": [
    "通过\n",
    "def leastInterval( tasks,n):\n",
    "    if n==0:\n",
    "        return len(tasks)\n",
    "    a = list(Counter(tasks).values())\n",
    "    a.sort(reverse=True)\n",
    "    res = 0\n",
    "    while a[0]>1:\n",
    "        for i in range(n+1):\n",
    "            if i < len(a):\n",
    "                a[i] = a[i]-1\n",
    "            res += 1\n",
    "        a.sort(reverse=True)\n",
    "    return res + Counter(a)[1]"
   ]
  },
  {
   "cell_type": "code",
   "execution_count": 42,
   "metadata": {},
   "outputs": [
    {
     "data": {
      "text/plain": [
       "[3, 3]"
      ]
     },
     "execution_count": 42,
     "metadata": {},
     "output_type": "execute_result"
    }
   ],
   "source": [
    "list(Counter(tasks).values())"
   ]
  },
  {
   "cell_type": "code",
   "execution_count": 43,
   "metadata": {},
   "outputs": [],
   "source": []
  },
  {
   "cell_type": "code",
   "execution_count": 44,
   "metadata": {},
   "outputs": [],
   "source": []
  },
  {
   "cell_type": "code",
   "execution_count": 45,
   "metadata": {},
   "outputs": [],
   "source": []
  },
  {
   "cell_type": "code",
   "execution_count": 46,
   "metadata": {},
   "outputs": [
    {
     "data": {
      "text/plain": [
       "8"
      ]
     },
     "execution_count": 46,
     "metadata": {},
     "output_type": "execute_result"
    }
   ],
   "source": [
    "res + Counter(a)[1]"
   ]
  },
  {
   "cell_type": "code",
   "execution_count": 40,
   "metadata": {},
   "outputs": [
    {
     "data": {
      "text/plain": [
       "[1, 1]"
      ]
     },
     "execution_count": 40,
     "metadata": {},
     "output_type": "execute_result"
    }
   ],
   "source": [
    "a"
   ]
  },
  {
   "cell_type": "code",
   "execution_count": 48,
   "metadata": {},
   "outputs": [],
   "source": [
    "tasks = 'A,A,A,B,B,B'.split(',')\n",
    "n = 2\n",
    "#8"
   ]
  },
  {
   "cell_type": "code",
   "execution_count": 51,
   "metadata": {},
   "outputs": [
    {
     "data": {
      "text/plain": [
       "16"
      ]
     },
     "execution_count": 51,
     "metadata": {},
     "output_type": "execute_result"
    }
   ],
   "source": [
    "leastInterval( tasks,n)"
   ]
  },
  {
   "cell_type": "code",
   "execution_count": 50,
   "metadata": {},
   "outputs": [],
   "source": [
    "tasks = 'A,A,A,A,A,A,B,C,D,E,F,G'.split(',')\n",
    "n = 2\n",
    "#16"
   ]
  },
  {
   "cell_type": "code",
   "execution_count": 1,
   "metadata": {},
   "outputs": [],
   "source": [
    "from collections import Counter"
   ]
  },
  {
   "cell_type": "code",
   "execution_count": null,
   "metadata": {},
   "outputs": [],
   "source": [
    "#\n",
    "# 代码中的类名、方法名、参数名已经指定，请勿修改，直接返回方法规定的值即可\n",
    "#\n",
    "# 计算完成所有任务所需要的最短时间\n",
    "# @param tasks char字符型一维数组 任务列表\n",
    "# @param n int整型 冷却时间\n",
    "# @return int整型\n",
    "#\n",
    "from collections import defaultdict\n",
    "class Solution:\n",
    "    def leastInterval(self , tasks: List[str], n: int) -> int:\n",
    "        # write code here\n",
    "        m = defaultdict(int)\n",
    "        for i in tasks:\n",
    "            m[i] += 1\n",
    "        nn = len(m)\n",
    "        c = [0 for _ in range(nn)]\n",
    "        res = 0\n",
    "        while list(m.values()) != c:\n",
    "            i = 0\n",
    "            f = []\n",
    "            for _ in range(n+1):\n",
    "                ff = 0\n",
    "                \n",
    "                while ff == 0\n",
    "                    for j in list(m.keys()):\n",
    "                        if m[j] != 0 and j not in f:\n",
    "                            f.append(j)\n",
    "                            m[j] -= 1\n",
    "                            res += 1\n",
    "                            ff = 1\n",
    "                            break\n",
    "                            \n",
    "                \n",
    "        return "
   ]
  }
 ],
 "metadata": {
  "kernelspec": {
   "display_name": "Python 3",
   "language": "python",
   "name": "python3"
  },
  "language_info": {
   "codemirror_mode": {
    "name": "ipython",
    "version": 3
   },
   "file_extension": ".py",
   "mimetype": "text/x-python",
   "name": "python",
   "nbconvert_exporter": "python",
   "pygments_lexer": "ipython3",
   "version": "3.7.0"
  }
 },
 "nbformat": 4,
 "nbformat_minor": 2
}
