{
 "cells": [
  {
   "cell_type": "code",
   "execution_count": null,
   "metadata": {},
   "outputs": [],
   "source": [
    "动态规划\n",
    "时间复杂度： O(n)O(n)，其中 nn 为字符串的长度。我们只需遍历整个字符串一次，即可将 \\textit{dp}dp 数组求出来。\n",
    "\n",
    "空间复杂度： O(n)O(n)。我们需要一个大小为 nn 的 \\textit{dp}dp 数组。\n"
   ]
  },
  {
   "cell_type": "code",
   "execution_count": null,
   "metadata": {},
   "outputs": [],
   "source": [
    "class Solution {\n",
    "    public int longestValidParentheses(String s) {\n",
    "        int maxans = 0;\n",
    "        int[] dp = new int[s.length()];\n",
    "        for (int i = 1; i < s.length(); i++) {\n",
    "            if (s.charAt(i) == ')') {\n",
    "                if (s.charAt(i - 1) == '(') {\n",
    "                    dp[i] = (i >= 2 ? dp[i - 2] : 0) + 2;\n",
    "                } else if (i - dp[i - 1] > 0 && s.charAt(i - dp[i - 1] - 1) == '(') {\n",
    "                    dp[i] = dp[i - 1] + ((i - dp[i - 1]) >= 2 ? dp[i - dp[i - 1] - 2] : 0) + 2;\n",
    "                }\n",
    "                maxans = Math.max(maxans, dp[i]);\n",
    "            }\n",
    "        }\n",
    "        return maxans;\n",
    "    }\n",
    "}\n"
   ]
  },
  {
   "cell_type": "code",
   "execution_count": 22,
   "metadata": {},
   "outputs": [],
   "source": [
    "# 36 ms\t15.2 MB\n",
    "def longestValidParentheses(s):\n",
    "    maxans = 0\n",
    "    dp = [0]*len(s)\n",
    "    for i in range(1,len(s)):\n",
    "\n",
    "        if (s[i] == ')') :\n",
    "            if (s[i-1] == '(') :\n",
    "                dp[i] = (dp[i - 2] if i>=2 else 0)+2\n",
    "                \n",
    "            elif (i - dp[i - 1] > 0) and (s[i - dp[i - 1] - 1] == '(') :\n",
    "                dp[i] = dp[i - 1] + (dp[i - dp[i - 1] - 2] if (i - dp[i - 1]) >= 2 else 0)+2\n",
    "            \n",
    "            maxans = max(maxans, dp[i])\n",
    "    \n",
    "    return maxans\n"
   ]
  },
  {
   "cell_type": "code",
   "execution_count": 34,
   "metadata": {},
   "outputs": [
    {
     "data": {
      "text/plain": [
       "4"
      ]
     },
     "execution_count": 34,
     "metadata": {},
     "output_type": "execute_result"
    }
   ],
   "source": [
    "longestValidParentheses('())()()')"
   ]
  },
  {
   "cell_type": "code",
   "execution_count": null,
   "metadata": {},
   "outputs": [],
   "source": [
    "栈\n",
    "时间复杂度： O(n)O(n)，nn 是给定字符串的长度。我们只需要遍历字符串一次即可。\n",
    "\n",
    "空间复杂度： O(n)O(n)。栈的大小在最坏情况下会达到 nn，因此空间复杂度为 O(n)O(n) 。\n"
   ]
  },
  {
   "cell_type": "code",
   "execution_count": null,
   "metadata": {},
   "outputs": [],
   "source": [
    "class Solution {\n",
    "    public int longestValidParentheses(String s) {\n",
    "        int maxans = 0;\n",
    "        Deque<Integer> stack = new LinkedList<Integer>();\n",
    "        stack.push(-1);\n",
    "        for (int i = 0; i < s.length(); i++) {\n",
    "            if (s.charAt(i) == '(') {\n",
    "                stack.push(i);\n",
    "            } else {\n",
    "                stack.pop();\n",
    "                if (stack.isEmpty()) {\n",
    "                    stack.push(i);\n",
    "                } else {\n",
    "                    maxans = Math.max(maxans, i - stack.peek());\n",
    "                }\n",
    "            }\n",
    "        }\n",
    "        return maxans;\n",
    "    }\n",
    "}\n",
    "\n"
   ]
  },
  {
   "cell_type": "code",
   "execution_count": 33,
   "metadata": {},
   "outputs": [],
   "source": [
    "# 32 ms\t15.4 MB\n",
    "def longestValidParentheses( s) :\n",
    "    maxans = 0\n",
    "    stack = []\n",
    "    stack.append(-1)\n",
    "    for i in range(len(s)):\n",
    "        if (s[i] == '(') :\n",
    "            stack.append(i)\n",
    "        else:\n",
    "            stack.pop()\n",
    "            if (stack == []) :\n",
    "                stack.append(i)\n",
    "            else:\n",
    "                maxans = max(maxans, i - stack[-1])\n",
    "    return maxans\n"
   ]
  },
  {
   "cell_type": "code",
   "execution_count": null,
   "metadata": {},
   "outputs": [],
   "source": []
  },
  {
   "cell_type": "code",
   "execution_count": null,
   "metadata": {},
   "outputs": [],
   "source": [
    "不需要额外的空间\n",
    "时间复杂度： O(n)O(n)，其中 nn 为字符串长度。我们只要正反遍历两边字符串即可。\n",
    "\n",
    "空间复杂度： O(1)O(1)。我们只需要常数空间存放若干变量。"
   ]
  },
  {
   "cell_type": "code",
   "execution_count": null,
   "metadata": {},
   "outputs": [],
   "source": [
    "class Solution {\n",
    "    public int longestValidParentheses(String s) {\n",
    "        int left = 0, right = 0, maxlength = 0;\n",
    "        for (int i = 0; i < s.length(); i++) {\n",
    "            if (s.charAt(i) == '(') {\n",
    "                left++;\n",
    "            } else {\n",
    "                right++;\n",
    "            }\n",
    "            if (left == right) {\n",
    "                maxlength = Math.max(maxlength, 2 * right);\n",
    "            } else if (right > left) {\n",
    "                left = right = 0;\n",
    "            }\n",
    "        }\n",
    "        left = right = 0;\n",
    "        for (int i = s.length() - 1; i >= 0; i--) {\n",
    "            if (s.charAt(i) == '(') {\n",
    "                left++;\n",
    "            } else {\n",
    "                right++;\n",
    "            }\n",
    "            if (left == right) {\n",
    "                maxlength = Math.max(maxlength, 2 * left);\n",
    "            } else if (left > right) {\n",
    "                left = right = 0;\n",
    "            }\n",
    "        }\n",
    "        return maxlength;\n",
    "    }\n",
    "}\n"
   ]
  },
  {
   "cell_type": "code",
   "execution_count": null,
   "metadata": {},
   "outputs": [],
   "source": []
  },
  {
   "cell_type": "code",
   "execution_count": 16,
   "metadata": {},
   "outputs": [],
   "source": [
    "\n",
    "def longestValidParentheses( s) -> int:\n",
    "    hp = 0\n",
    "    res = 0\n",
    "    for i in s:\n",
    "        if hp <= 0:\n",
    "            hp = 0\n",
    "            res = 0\n",
    "        \n",
    "        if i == '(':\n",
    "            hp += 1\n",
    "            res += 1\n",
    "        else:\n",
    "            hp -= 1\n",
    "            res +=1\n",
    "        print(i,hp,res)\n",
    "    return res - hp"
   ]
  },
  {
   "cell_type": "code",
   "execution_count": 17,
   "metadata": {},
   "outputs": [
    {
     "name": "stdout",
     "output_type": "stream",
     "text": [
      ") -1 1\n",
      "( 1 1\n",
      ") 0 2\n",
      "( 1 1\n",
      ") 0 2\n",
      ") -1 1\n"
     ]
    },
    {
     "data": {
      "text/plain": [
       "2"
      ]
     },
     "execution_count": 17,
     "metadata": {},
     "output_type": "execute_result"
    }
   ],
   "source": [
    "longestValidParentheses(\")()())\")"
   ]
  },
  {
   "cell_type": "code",
   "execution_count": null,
   "metadata": {},
   "outputs": [],
   "source": []
  }
 ],
 "metadata": {
  "kernelspec": {
   "display_name": "Python 3",
   "language": "python",
   "name": "python3"
  },
  "language_info": {
   "codemirror_mode": {
    "name": "ipython",
    "version": 3
   },
   "file_extension": ".py",
   "mimetype": "text/x-python",
   "name": "python",
   "nbconvert_exporter": "python",
   "pygments_lexer": "ipython3",
   "version": "3.7.0"
  }
 },
 "nbformat": 4,
 "nbformat_minor": 2
}
