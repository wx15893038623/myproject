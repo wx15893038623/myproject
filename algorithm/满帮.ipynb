{
 "cells": [
  {
   "cell_type": "code",
   "execution_count": null,
   "metadata": {},
   "outputs": [],
   "source": [
    "employees\n",
    "`emp_no` `birth_date` `first_name` `last_name` `gender` `hire_date`\n",
    "(10001,'1953-09-02','Georgi','Facello','M','1986-06-26');\n",
    "(10002,'1964-06-02','Bezalel','Simmel','F','1985-11-21');"
   ]
  },
  {
   "cell_type": "code",
   "execution_count": null,
   "metadata": {},
   "outputs": [],
   "source": [
    "emp_bonus\n",
    "emp_no ;recevied ;btype\n",
    "(10001, '2010-01-01',1),\n",
    "(10002, '2010-10-01',2);"
   ]
  },
  {
   "cell_type": "code",
   "execution_count": null,
   "metadata": {},
   "outputs": [],
   "source": [
    "salaries\n",
    "`emp_no` `salary` `from_date` `to_date` \n",
    "(10001,60117,'1986-06-26','1987-06-26');\n",
    "(10001,62102,'1987-06-26','1988-06-25');\n",
    "(10001,66074,'1988-06-25','1989-06-25');\n",
    "(10001,66596,'1989-06-25','1990-06-25');\n",
    "(10001,66961,'1990-06-25','1991-06-25');\n",
    "(10001,71046,'1991-06-25','1992-06-24');\n",
    "(10001,74333,'1992-06-24','1993-06-24');\n",
    "(10001,75286,'1993-06-24','1994-06-24');\n",
    "(10001,75994,'1994-06-24','1995-06-24');\n",
    "(10001,76884,'1995-06-24','1996-06-23');\n",
    "(10001,80013,'1996-06-23','1997-06-23');\n",
    "(10001,81025,'1997-06-23','1998-06-23');\n",
    "(10001,81097,'1998-06-23','1999-06-23');\n",
    "(10001,84917,'1999-06-23','2000-06-22');\n",
    "(10001,85112,'2000-06-22','2001-06-22');\n",
    "(10001,85097,'2001-06-22','2002-06-22');\n",
    "(10001,88958,'2002-06-22','9999-01-01');\n",
    "(10002,72527,'1996-08-03','1997-08-03');\n",
    "(10002,72527,'1997-08-03','1998-08-03');\n",
    "(10002,72527,'1998-08-03','1999-08-03');\n",
    "(10002,72527,'1999-08-03','2000-08-02');\n",
    "(10002,72527,'2000-08-02','2001-08-02');\n",
    "(10002,72527,'2001-08-02','9999-01-01');"
   ]
  },
  {
   "cell_type": "code",
   "execution_count": null,
   "metadata": {},
   "outputs": [],
   "source": [
    "select\n",
    "a.emp_no,a.first_name,a.last_name,b.btype,c.salary,\n",
    "case when b.btype=1 then c.salary*0.1\n",
    "when b.btype=2 then c.salary*0.2\n",
    "else c.salary*0.3 end\n",
    "as bonus\n",
    "from \n",
    "employees a,\n",
    "emp_bonus b,\n",
    "salaries c\n",
    "where a.emp_no = b.emp_no and a.emp_no = c.emp_no and to_date = '9999-01-01'"
   ]
  },
  {
   "cell_type": "code",
   "execution_count": null,
   "metadata": {},
   "outputs": [],
   "source": [
    "\n",
    "10001|Georgi|Facello|1|88958|8895.8\n",
    "10002|Bezalel|Simmel|2|72527|14505.4"
   ]
  },
  {
   "cell_type": "code",
   "execution_count": null,
   "metadata": {},
   "outputs": [],
   "source": [
    "drop table if exists  `employees` ; \n",
    "drop table if exists  emp_bonus; \n",
    "drop table if exists  `salaries` ; \n",
    "CREATE TABLE `employees` (\n",
    "  `emp_no` int(11) NOT NULL,\n",
    "  `birth_date` date NOT NULL,\n",
    "  `first_name` varchar(14) NOT NULL,\n",
    "  `last_name` varchar(16) NOT NULL,\n",
    "  `gender` char(1) NOT NULL,\n",
    "  `hire_date` date NOT NULL,\n",
    "  PRIMARY KEY (`emp_no`));\n",
    "\n",
    " create table emp_bonus(\n",
    "emp_no int not null,\n",
    "recevied datetime not null,\n",
    "btype smallint not null);\n",
    "    \n",
    "CREATE TABLE `salaries` (\n",
    "`emp_no` int(11) NOT NULL,\n",
    "`salary` int(11) NOT NULL,\n",
    "`from_date` date NOT NULL,\n",
    "`to_date` date NOT NULL,\n",
    "PRIMARY KEY (`emp_no`,`from_date`));\n",
    "insert into emp_bonus values\n",
    "(10001, '2010-01-01',1),\n",
    "(10002, '2010-10-01',2);\n",
    "INSERT INTO employees VALUES(10001,'1953-09-02','Georgi','Facello','M','1986-06-26');\n",
    "INSERT INTO employees VALUES(10002,'1964-06-02','Bezalel','Simmel','F','1985-11-21');\n",
    "\n",
    "INSERT INTO salaries VALUES(10001,60117,'1986-06-26','1987-06-26');\n",
    "INSERT INTO salaries VALUES(10001,62102,'1987-06-26','1988-06-25');\n",
    "INSERT INTO salaries VALUES(10001,66074,'1988-06-25','1989-06-25');\n",
    "INSERT INTO salaries VALUES(10001,66596,'1989-06-25','1990-06-25');\n",
    "INSERT INTO salaries VALUES(10001,66961,'1990-06-25','1991-06-25');\n",
    "INSERT INTO salaries VALUES(10001,71046,'1991-06-25','1992-06-24');\n",
    "INSERT INTO salaries VALUES(10001,74333,'1992-06-24','1993-06-24');\n",
    "INSERT INTO salaries VALUES(10001,75286,'1993-06-24','1994-06-24');\n",
    "INSERT INTO salaries VALUES(10001,75994,'1994-06-24','1995-06-24');\n",
    "INSERT INTO salaries VALUES(10001,76884,'1995-06-24','1996-06-23');\n",
    "INSERT INTO salaries VALUES(10001,80013,'1996-06-23','1997-06-23');\n",
    "INSERT INTO salaries VALUES(10001,81025,'1997-06-23','1998-06-23');\n",
    "INSERT INTO salaries VALUES(10001,81097,'1998-06-23','1999-06-23');\n",
    "INSERT INTO salaries VALUES(10001,84917,'1999-06-23','2000-06-22');\n",
    "INSERT INTO salaries VALUES(10001,85112,'2000-06-22','2001-06-22');\n",
    "INSERT INTO salaries VALUES(10001,85097,'2001-06-22','2002-06-22');\n",
    "INSERT INTO salaries VALUES(10001,88958,'2002-06-22','9999-01-01');\n",
    "INSERT INTO salaries VALUES(10002,72527,'1996-08-03','1997-08-03');\n",
    "INSERT INTO salaries VALUES(10002,72527,'1997-08-03','1998-08-03');\n",
    "INSERT INTO salaries VALUES(10002,72527,'1998-08-03','1999-08-03');\n",
    "INSERT INTO salaries VALUES(10002,72527,'1999-08-03','2000-08-02');\n",
    "INSERT INTO salaries VALUES(10002,72527,'2000-08-02','2001-08-02');\n",
    "INSERT INTO salaries VALUES(10002,72527,'2001-08-02','9999-01-01');"
   ]
  },
  {
   "cell_type": "code",
   "execution_count": null,
   "metadata": {},
   "outputs": [],
   "source": []
  },
  {
   "cell_type": "code",
   "execution_count": null,
   "metadata": {},
   "outputs": [],
   "source": []
  },
  {
   "cell_type": "code",
   "execution_count": null,
   "metadata": {},
   "outputs": [],
   "source": []
  },
  {
   "cell_type": "code",
   "execution_count": null,
   "metadata": {},
   "outputs": [],
   "source": []
  },
  {
   "cell_type": "code",
   "execution_count": null,
   "metadata": {},
   "outputs": [],
   "source": []
  },
  {
   "cell_type": "code",
   "execution_count": null,
   "metadata": {},
   "outputs": [],
   "source": []
  },
  {
   "cell_type": "code",
   "execution_count": null,
   "metadata": {},
   "outputs": [],
   "source": []
  },
  {
   "cell_type": "code",
   "execution_count": null,
   "metadata": {},
   "outputs": [],
   "source": []
  },
  {
   "cell_type": "code",
   "execution_count": null,
   "metadata": {},
   "outputs": [],
   "source": []
  },
  {
   "cell_type": "code",
   "execution_count": 1,
   "metadata": {},
   "outputs": [],
   "source": [
    "arr = [2,4,3,7,5,1]"
   ]
  },
  {
   "cell_type": "code",
   "execution_count": 6,
   "metadata": {},
   "outputs": [],
   "source": [
    "n = len(arr)\n",
    "for i in range(n):\n",
    "    for j in range(0,n-i-1):\n",
    "        if arr[j] > arr[j+1]:\n",
    "            arr[j], arr[j+1] = arr[j+1], arr[j]\n"
   ]
  },
  {
   "cell_type": "code",
   "execution_count": 7,
   "metadata": {},
   "outputs": [
    {
     "data": {
      "text/plain": [
       "[1, 2, 3, 4, 5, 7]"
      ]
     },
     "execution_count": 7,
     "metadata": {},
     "output_type": "execute_result"
    }
   ],
   "source": [
    "arr"
   ]
  }
 ],
 "metadata": {
  "kernelspec": {
   "display_name": "Python 3",
   "language": "python",
   "name": "python3"
  },
  "language_info": {
   "codemirror_mode": {
    "name": "ipython",
    "version": 3
   },
   "file_extension": ".py",
   "mimetype": "text/x-python",
   "name": "python",
   "nbconvert_exporter": "python",
   "pygments_lexer": "ipython3",
   "version": "3.7.0"
  }
 },
 "nbformat": 4,
 "nbformat_minor": 2
}
