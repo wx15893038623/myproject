{
 "cells": [
  {
   "cell_type": "code",
   "execution_count": null,
   "metadata": {},
   "outputs": [],
   "source": [
    "给你一个数组 routes ，表示一系列公交线路，其中每个 routes[i] 表示一条公交线路，第 i 辆公交车将会在上面循环行驶。\n",
    "\n",
    "例如，路线 routes[0] = [1, 5, 7] 表示第 0 辆公交车会一直按序列 1 -> 5 -> 7 -> 1 -> 5 -> 7 -> 1 -> … 这样的车站路线行驶。 现在从 source 车站出发（初始时不在公交车上），要前往 target 车站。 期间仅可乘坐公交车。\n",
    "\n",
    "求出 最少乘坐的公交车数量 。如果不可能到达终点车站，返回 -1 。\n"
   ]
  },
  {
   "cell_type": "code",
   "execution_count": null,
   "metadata": {},
   "outputs": [],
   "source": [
    "示例 1：\n",
    "输入：routes = [[1,2,7],[3,6,7]], source = 1, target = 6\n",
    "输出：2\n",
    "解释：最优策略是先乘坐第一辆公交车到达车站 7 , 然后换乘第二辆公交车到车站 6 。 \n",
    "\n",
    "示例 2：\n",
    "输入：routes = [[7,12],[4,5,15],[6],[15,19],[9,12,13]], source = 15, target = 12\n",
    "输出：-1"
   ]
  },
  {
   "cell_type": "code",
   "execution_count": 41,
   "metadata": {},
   "outputs": [],
   "source": [
    "def numBusesToDestination( routes, source, target) -> int:\n",
    "    if source == target:return 0\n",
    "    \n",
    "    import collections\n",
    "    n = len(routes)\n",
    "    edge = [[False]*n for _ in range(n)]\n",
    "    rec = collections.defaultdict(list)\n",
    "    for i in range(n):\n",
    "        for site in routes[i]:\n",
    "            l = rec[site]\n",
    "            for j in l:\n",
    "                edge[i][j] = edge[j][i] = True\n",
    "            l.append(i)\n",
    "            rec[site] = l\n",
    "    dis = [-1]*n\n",
    "    que = []\n",
    "    for bus in rec[source]:\n",
    "        dis[bus] = 1\n",
    "        que.append(bus)\n",
    "    while not len(que)==0:\n",
    "        x = que.pop(0)\n",
    "        for y in range(n):\n",
    "            if edge[x][y] and dis[y] == -1:\n",
    "                dis[y] = dis[x] + 1\n",
    "                que.append(y)\n",
    "    ret = 1 << 200\n",
    "    for bus in rec[target]:\n",
    "        if (dis[bus] != -1):\n",
    "            ret = min(ret, dis[bus])\n",
    "    return -1 if ret == (1 << 200) else ret\n",
    "            "
   ]
  },
  {
   "cell_type": "code",
   "execution_count": 42,
   "metadata": {},
   "outputs": [],
   "source": [
    "routes = [[7,12],[4,5,15],[6],[15,19],[9,12,13]]\n",
    "source = 15\n",
    "target = 12"
   ]
  },
  {
   "cell_type": "code",
   "execution_count": 44,
   "metadata": {},
   "outputs": [],
   "source": [
    "routes = [[1,2,7],[3,6,7]]\n",
    "source = 1\n",
    "target = 6"
   ]
  },
  {
   "cell_type": "code",
   "execution_count": 45,
   "metadata": {},
   "outputs": [
    {
     "data": {
      "text/plain": [
       "2"
      ]
     },
     "execution_count": 45,
     "metadata": {},
     "output_type": "execute_result"
    }
   ],
   "source": [
    "numBusesToDestination( routes, source, target)"
   ]
  },
  {
   "cell_type": "code",
   "execution_count": null,
   "metadata": {},
   "outputs": [],
   "source": []
  },
  {
   "cell_type": "code",
   "execution_count": null,
   "metadata": {},
   "outputs": [],
   "source": []
  },
  {
   "cell_type": "code",
   "execution_count": 8,
   "metadata": {},
   "outputs": [],
   "source": [
    "rec = collections.defaultdict(list)"
   ]
  },
  {
   "cell_type": "code",
   "execution_count": 16,
   "metadata": {},
   "outputs": [],
   "source": [
    "import collections\n",
    "n = len(routes)\n",
    "edge = [[False]*n for _ in range(n)]\n",
    "rec = collections.defaultdict(list)\n",
    "for i in range(n):\n",
    "    for site in routes[i]:\n",
    "        l = rec[site]\n",
    "        for j in l:\n",
    "            edge[i][j] = edge[j][i] = True\n",
    "        l.append(i)\n",
    "        rec[site] = l\n",
    "dis = [-1]*n\n",
    "que = []\n",
    "for bus in rec[source]:\n",
    "    dis[bus] = 1\n",
    "    que.append(bus)\n",
    "while not len(que)==0:\n",
    "    x = que.pop(0)\n",
    "    for y in range(n):\n",
    "        if edge[x][y] and dis[y] == -1:\n",
    "            dis[y] = dis[x] + 1\n",
    "            que.append(y)\n",
    "ret = 1 << 200\n",
    "for bus in rec[target]:\n",
    "    if (dis[bus] != -1):\n",
    "        ret = min(ret, dis[bus])\n",
    "return ret = -1 if ret == 1 << 200 else ret"
   ]
  },
  {
   "cell_type": "code",
   "execution_count": null,
   "metadata": {},
   "outputs": [],
   "source": []
  },
  {
   "cell_type": "code",
   "execution_count": 37,
   "metadata": {},
   "outputs": [],
   "source": [
    "a = 2 if 1==1 else 3"
   ]
  },
  {
   "cell_type": "code",
   "execution_count": 38,
   "metadata": {},
   "outputs": [
    {
     "data": {
      "text/plain": [
       "2"
      ]
     },
     "execution_count": 38,
     "metadata": {},
     "output_type": "execute_result"
    }
   ],
   "source": [
    "a"
   ]
  },
  {
   "cell_type": "code",
   "execution_count": null,
   "metadata": {},
   "outputs": [],
   "source": [
    "import collections\n",
    "routes = [[1,2,7],[3,6,7]]\n",
    "stationToRoute = collections.defaultdict(list)\n",
    "for i in range(len(routes)):\n",
    "    for j in range(len(routes[i])):\n",
    "#         stationToRoute[routes[i][j]] += [i]\n",
    "        stationToRoute[routes[i][j]].append(i)"
   ]
  },
  {
   "cell_type": "code",
   "execution_count": 7,
   "metadata": {},
   "outputs": [],
   "source": [
    "import collections"
   ]
  },
  {
   "cell_type": "code",
   "execution_count": 6,
   "metadata": {},
   "outputs": [
    {
     "data": {
      "text/plain": [
       "{}"
      ]
     },
     "execution_count": 6,
     "metadata": {},
     "output_type": "execute_result"
    }
   ],
   "source": [
    "for i in range(n):\n",
    "    for site in routes[i]:\n",
    "        l = collections.defaultdict()\n",
    "        l = list()"
   ]
  },
  {
   "cell_type": "code",
   "execution_count": null,
   "metadata": {},
   "outputs": [],
   "source": [
    "\n",
    "public int numBusesToDestination(int[][] routes, int source, int target) {\n",
    "    if (source == target) {\n",
    "        return 0;\n",
    "    }\n",
    "\n",
    "    int n = routes.length;\n",
    "    boolean[][] edge = new boolean[n][n];\n",
    "    Map<Integer, List<Integer>> rec = new HashMap<Integer, List<Integer>>();\n",
    "    for (int i = 0; i < n; i++) {\n",
    "        for (int site : routes[i]) {\n",
    "            List<Integer> list = rec.getOrDefault(site, new ArrayList<Integer>());\n",
    "            for (int j : list) {\n",
    "                edge[i][j] = edge[j][i] = true;\n",
    "            }\n",
    "            list.add(i);\n",
    "            rec.put(site, list);\n",
    "        }\n",
    "    }\n",
    "\n",
    "    int[] dis = new int[n];\n",
    "    Arrays.fill(dis, -1);\n",
    "    Queue<Integer> que = new LinkedList<Integer>();\n",
    "    for (int bus : rec.getOrDefault(source, new ArrayList<Integer>())) {\n",
    "        dis[bus] = 1;\n",
    "        que.offer(bus);\n",
    "    }\n",
    "    while (!que.isEmpty()) {\n",
    "        int x = que.poll();\n",
    "        for (int y = 0; y < n; y++) {\n",
    "            if (edge[x][y] && dis[y] == -1) {\n",
    "                dis[y] = dis[x] + 1;\n",
    "                que.offer(y);\n",
    "            }\n",
    "        }\n",
    "    }\n",
    "\n",
    "    int ret = Integer.MAX_VALUE;\n",
    "    for (int bus : rec.getOrDefault(target, new ArrayList<Integer>())) {\n",
    "        if (dis[bus] != -1) {\n",
    "            ret = Math.min(ret, dis[bus]);\n",
    "        }\n",
    "    }\n",
    "    return ret == Integer.MAX_VALUE ? -1 : ret;\n",
    "}\n",
    "\n",
    "\n"
   ]
  },
  {
   "cell_type": "code",
   "execution_count": null,
   "metadata": {},
   "outputs": [],
   "source": [
    "优化建图 + 广度优先搜索\n",
    "思路及算法\n",
    "\n",
    "由于求解的目标是最少乘坐的公交车数量，对于同一辆公交车，乘客可以在其路线中的任意车站间无代价地移动，于是我们可以把公交路线当作点。如果两条公交路线有相同车站，则可以在这两条路线间换乘公交车，那么这两条公交路线之间可视作有一条长度为 11 的边。这样建出的图包含的点数即为公交路线的数量，记作 nn。\n",
    "\n",
    "完成了建图后，我们需要先明确新的图的起点和终点，然后使用广度优先搜索，计算出的起点和终点的最短路径，从而得到最少换乘次数。\n",
    "\n",
    "注意到原本的起点车站和终点车站可能同时位于多条公交路线上，因此在新图上可能有多个起点和终点。对于这种情况，我们初始可以同时入队多个点，并在广度优先搜索结束后检查到各个终点的最短路径，取其最小值才是最少换乘次数。\n",
    "\n",
    "实际建图时，我们有以下两种方案：\n",
    "\n",
    "方案一：我们直接枚举左右两端点，检查两点对应的两公交路线是否有公共车站。利用哈希表，我们可以将单次比较的时间复杂度优化到均摊 O(n)O(n)。\n",
    "方案二：我们遍历所有公交路线，记录每一个车站属于哪些公交路线。然后我们遍历每一个车站，如果有多条公交路线经过该点，则在这些公交路线之间连边。\n",
    "本题中我们采用方案二，据此还可以直接得到起点和终点在新图中对应的点。\n",
    "\n",
    "实际代码中，我们使用哈希映射来实时维护「车站所属公交路线列表」。假设当前枚举到公交路线 ii 中的车站 \\textit{site}site，此时哈希映射中已记录若干条公交路线经过车站 \\textit{site}site，我们只需要让点 ii 与这些点公交路线对应的点相连即可。完成了连线后，我们再将公交路线 ii 加入到「车站 \\textit{site}site 所属公交路线列表」中。\n",
    "\n",
    "特别地，起点和终点相同时，我们可以直接返回 00。\n",
    "\n",
    "时间复杂度：O(nm+n^2)O(nm+n \n",
    "2\n",
    " )，其中 nn 是公交路线的数量，mm 是车站的总数量。建图时最坏的情况是，所有的公交路线都经过相同的车站，而本题中限制了所有公交路线的车站总数。因此最坏的情况为，每条公交路都经过相同的 O(\\frac{m}{n})O( \n",
    "n\n",
    "m\n",
    "​\n",
    " ) 个车站，建图的时间复杂度为 O(\\frac{m}{n}) \\times O(n) \\times O(n) = O(nm)O( \n",
    "n\n",
    "m\n",
    "​\n",
    " )×O(n)×O(n)=O(nm)。同时广度优先搜索的时间复杂度为 O(n^2)O(n \n",
    "2\n",
    " )，因此总时间复杂度为 O(nm+n^2)O(nm+n \n",
    "2\n",
    " )。\n",
    "\n",
    "空间复杂度：O(n^2+m)O(n \n",
    "2\n",
    " +m)，其中 nn 是公交路线的数量，mm 是车站的总数量。记录「经过任意车站的公交路线的列表」的空间复杂度为 O(m)O(m)，使用邻接矩阵存图的空间复杂度为 O(n^2)O(n \n",
    "2\n",
    " )。\n",
    "\n"
   ]
  },
  {
   "cell_type": "code",
   "execution_count": null,
   "metadata": {},
   "outputs": [],
   "source": [
    "官方\n",
    "class Solution {\n",
    "    public int numBusesToDestination(int[][] routes, int source, int target) {\n",
    "        if (source == target) {\n",
    "            return 0;\n",
    "        }\n",
    "\n",
    "        int n = routes.length;\n",
    "        boolean[][] edge = new boolean[n][n];\n",
    "        Map<Integer, List<Integer>> rec = new HashMap<Integer, List<Integer>>();\n",
    "        for (int i = 0; i < n; i++) {\n",
    "            for (int site : routes[i]) {\n",
    "                List<Integer> list = rec.getOrDefault(site, new ArrayList<Integer>());\n",
    "                for (int j : list) {\n",
    "                    edge[i][j] = edge[j][i] = true;\n",
    "                }\n",
    "                list.add(i);\n",
    "                rec.put(site, list);\n",
    "            }\n",
    "        }\n",
    "\n",
    "        int[] dis = new int[n];\n",
    "        Arrays.fill(dis, -1);\n",
    "        Queue<Integer> que = new LinkedList<Integer>();\n",
    "        for (int bus : rec.getOrDefault(source, new ArrayList<Integer>())) {\n",
    "            dis[bus] = 1;\n",
    "            que.offer(bus);\n",
    "        }\n",
    "        while (!que.isEmpty()) {\n",
    "            int x = que.poll();\n",
    "            for (int y = 0; y < n; y++) {\n",
    "                if (edge[x][y] && dis[y] == -1) {\n",
    "                    dis[y] = dis[x] + 1;\n",
    "                    que.offer(y);\n",
    "                }\n",
    "            }\n",
    "        }\n",
    "\n",
    "        int ret = Integer.MAX_VALUE;\n",
    "        for (int bus : rec.getOrDefault(target, new ArrayList<Integer>())) {\n",
    "            if (dis[bus] != -1) {\n",
    "                ret = Math.min(ret, dis[bus]);\n",
    "            }\n",
    "        }\n",
    "        return ret == Integer.MAX_VALUE ? -1 : ret;\n",
    "    }\n",
    "}\n",
    "\n"
   ]
  },
  {
   "cell_type": "code",
   "execution_count": 52,
   "metadata": {},
   "outputs": [],
   "source": [
    "#不对\n",
    "\n",
    "import collections\n",
    "from queue import Queue\n",
    "def numBusesToDestination( routes, source, target) -> int:\n",
    "\n",
    "    if source == target:return 0\n",
    "#     // 先遍历所有的路线中的站台，把每个站台所能路过的路线都记录下来\n",
    "    stationToRoute = collections.defaultdict(list)\n",
    "    for i in range(len(routes)):\n",
    "        for j in range(len(routes[i])):\n",
    "            stationToRoute[routes[i][j]].append(i)\n",
    "    \n",
    "#     // 再遍历所有站台，根据站台经过的路线，来建立路线之间的关系\n",
    "    routeToRoutes = [[0] for _ in range(500)]\n",
    "    for i in stationToRoute:\n",
    "        for route in stationToRoute[i]:\n",
    "            for secondRoute in stationToRoute[i]:\n",
    "                if (secondRoute != route):\n",
    "                    routeToRoutes[route].append(secondRoute)\n",
    "    endRoutes = set()\n",
    "    for i in  stationToRoute[target]:\n",
    "        endRoutes.add(route)\n",
    "    visited = [False for _ in range(500)]\n",
    "    \n",
    "#     // 首先得有一个queue可以存档node和一些信息\n",
    "#     // <第几个route, 上过几辆车了>\n",
    "    q = Queue()\n",
    "    for route in stationToRoute[source]:\n",
    "        q.put([route, 0])\n",
    "    \n",
    "    while (not q.empty()):\n",
    "#             // 取出queue元素\n",
    "        tmp = q.get()\n",
    "        \n",
    "#     // 如果访问过了，就continue;\n",
    "#     // 再设置一下visited\n",
    "        if(visited[tmp[0]]):\n",
    "            continue\n",
    "#     // 没访问过，就看看是不是终点\n",
    "        visited[tmp[0]] = True;\n",
    "        if tmp[0] in endRoutes:\n",
    "            return tmp[1] + 1\n",
    "        \n",
    "        for route in routeToRoutes[tmp[0]]:\n",
    "#             // 对于所所有下个可能，入queue\n",
    "            if (not visited[route]):\n",
    "                q.put([route, tmp[1] + 1])\n",
    "    return -1\n",
    "        \n"
   ]
  },
  {
   "cell_type": "code",
   "execution_count": 58,
   "metadata": {},
   "outputs": [],
   "source": [
    "routes = [[7,12],[4,5,15],[6],[15,19],[9,12,13]]\n",
    "source = 15\n",
    "target = 12"
   ]
  },
  {
   "cell_type": "code",
   "execution_count": 56,
   "metadata": {},
   "outputs": [],
   "source": [
    "routes = [[1,2,7],[3,6,7]]\n",
    "source = 1\n",
    "target = 6"
   ]
  },
  {
   "cell_type": "code",
   "execution_count": 59,
   "metadata": {},
   "outputs": [
    {
     "data": {
      "text/plain": [
       "3"
      ]
     },
     "execution_count": 59,
     "metadata": {},
     "output_type": "execute_result"
    }
   ],
   "source": [
    "numBusesToDestination( routes, source, target)"
   ]
  },
  {
   "cell_type": "code",
   "execution_count": null,
   "metadata": {},
   "outputs": [],
   "source": [
    "int numBusesToDestination(vector<vector<int>>& routes, int source, int target) {\n",
    "    queue<Node> q;\n",
    "    vector<bool> visited;\n",
    "    q.push(起点路线);\n",
    "    while (!q.empty()) {\n",
    "        取出一个节点；\n",
    "        判断是否访问过；\n",
    "        设置访问；\n",
    "        判断是否是终点，如果是就返回答案。\n",
    "        for (所有和这个节点关联的节点) {\n",
    "            if(这个节点还没访问过) {\n",
    "                q.push(这个节点);\n",
    "            }\n",
    "        }\n",
    "    }\n",
    "    return -1;\n",
    "}\n"
   ]
  },
  {
   "cell_type": "code",
   "execution_count": null,
   "metadata": {},
   "outputs": [],
   "source": [
    "class Solution {\n",
    "public:\n",
    "    int numBusesToDestination(vector<vector<int>>& routes, int source, int target) {\n",
    "        // 会有XX不上公交车...起点就是终点...\n",
    "        if (source == target) {return 0;}\n",
    "        // 先遍历所有的路线中的站台，把每个站台所能路过的路线都记录下来\n",
    "        unordered_map<int, vector<int> > stationToRoute;\n",
    "        for (int i = 0; i < routes.size(); i++) {\n",
    "            for (int j = 0; j < routes[i].size(); j++) {\n",
    "                stationToRoute[routes[i][j]].push_back(i);\n",
    "            }\n",
    "        }\n",
    "        // 再遍历所有站台，根据站台经过的路线，来建立路线之间的关系\n",
    "        vector<vector<int> > routeToRoutes(500, vector<int>(0));\n",
    "        for (auto &p : stationToRoute) {\n",
    "            for (auto &route : p.second) {\n",
    "                for (auto &secondRoute : p.second) {\n",
    "                    if (secondRoute != route) {\n",
    "                        routeToRoutes[route].push_back(secondRoute);\n",
    "                    }   \n",
    "                }\n",
    "            }\n",
    "        }\n",
    "\n",
    "        unordered_set<int> endRoutes;\n",
    "        for (auto &route : stationToRoute[target]) {\n",
    "            endRoutes.insert(route);\n",
    "        }\n",
    "\n",
    "        vector<bool> visited(500, false);\n",
    "\n",
    "        // 首先得有一个queue可以存档node和一些信息\n",
    "        // <第几个route, 上过几辆车了>\n",
    "        queue<pair<int, int> > q;\n",
    "        for (auto &route : stationToRoute[source]) {\n",
    "            q.push({route, 0});\n",
    "        }\n",
    "        while (!q.empty()) {\n",
    "        // 取出queue元素\n",
    "            auto tmp = q.front();\n",
    "            q.pop();\n",
    "        // 如果访问过了，就continue;\n",
    "        // 再设置一下visited\n",
    "            if(visited[tmp.first]) {\n",
    "                continue;\n",
    "            }\n",
    "        // 没访问过，就看看是不是终点\n",
    "            visited[tmp.first] = true;\n",
    "            if (endRoutes.find(tmp.first) != endRoutes.end()) {\n",
    "                return tmp.second + 1;\n",
    "            }\n",
    "            for (auto &route : routeToRoutes[tmp.first]) {\n",
    "                // 对于所所有下个可能，入queue\n",
    "                if (!visited[route]) {\n",
    "                    q.push({route, tmp.second + 1});\n",
    "                }\n",
    "            }\n",
    "        }\n",
    "        return -1;\n",
    "    }\n",
    "};\n"
   ]
  },
  {
   "cell_type": "code",
   "execution_count": null,
   "metadata": {},
   "outputs": [],
   "source": [
    "import collections\n",
    "bag = ['apple', 'orange', 'cherry', 'apple','apple', 'cherry', 'blueberry']\n",
    "count = collections.defaultdict(int)"
   ]
  },
  {
   "cell_type": "code",
   "execution_count": 13,
   "metadata": {},
   "outputs": [
    {
     "data": {
      "text/plain": [
       "[[0], [0], [0], [0], [0], [0], [0], [0], [0], [0]]"
      ]
     },
     "execution_count": 13,
     "metadata": {},
     "output_type": "execute_result"
    }
   ],
   "source": [
    "[[0] for _ in range(10)]"
   ]
  },
  {
   "cell_type": "code",
   "execution_count": 3,
   "metadata": {},
   "outputs": [],
   "source": [
    "import collections\n",
    "routes = [[1,2,7],[3,6,7]]\n",
    "stationToRoute = collections.defaultdict(list)\n",
    "for i in range(len(routes)):\n",
    "    for j in range(len(routes[i])):\n",
    "#         stationToRoute[routes[i][j]] += [i]\n",
    "        stationToRoute[routes[i][j]].append(i)"
   ]
  },
  {
   "cell_type": "code",
   "execution_count": 16,
   "metadata": {},
   "outputs": [
    {
     "data": {
      "text/plain": [
       "defaultdict(list, {1: [0], 2: [0], 7: [0, 1], 3: [1], 6: [1]})"
      ]
     },
     "execution_count": 16,
     "metadata": {},
     "output_type": "execute_result"
    }
   ],
   "source": [
    "stationToRoute"
   ]
  },
  {
   "cell_type": "code",
   "execution_count": 13,
   "metadata": {},
   "outputs": [
    {
     "data": {
      "text/plain": [
       "[0, 1]"
      ]
     },
     "execution_count": 13,
     "metadata": {},
     "output_type": "execute_result"
    }
   ],
   "source": [
    "stationToRoute[7]"
   ]
  },
  {
   "cell_type": "code",
   "execution_count": 9,
   "metadata": {},
   "outputs": [],
   "source": [
    "a = dict(stationToRoute)"
   ]
  },
  {
   "cell_type": "code",
   "execution_count": 26,
   "metadata": {},
   "outputs": [
    {
     "data": {
      "text/plain": [
       "defaultdict(list, {1: [0], 2: [0], 7: [0, 1], 3: [1], 6: [1]})"
      ]
     },
     "execution_count": 26,
     "metadata": {},
     "output_type": "execute_result"
    }
   ],
   "source": [
    "stationToRoute"
   ]
  },
  {
   "cell_type": "code",
   "execution_count": 17,
   "metadata": {},
   "outputs": [],
   "source": [
    "routeToRoutes = [[0] for _ in range(500)]\n",
    "for i in stationToRoute:\n",
    "    for route in stationToRoute[i]:\n",
    "        for secondRoute in stationToRoute[i]:\n",
    "            if (secondRoute != route):\n",
    "                routeToRoutes[route].append(secondRoute)"
   ]
  },
  {
   "cell_type": "code",
   "execution_count": 19,
   "metadata": {},
   "outputs": [],
   "source": [
    "endRoutes = set()"
   ]
  },
  {
   "cell_type": "code",
   "execution_count": 23,
   "metadata": {},
   "outputs": [],
   "source": [
    "source = 1\n",
    "target = 6"
   ]
  },
  {
   "cell_type": "code",
   "execution_count": 24,
   "metadata": {},
   "outputs": [],
   "source": [
    "endRoutes = set()\n",
    "for i in  stationToRoute[target]:\n",
    "    endRoutes.add(route)"
   ]
  },
  {
   "cell_type": "code",
   "execution_count": 29,
   "metadata": {},
   "outputs": [],
   "source": [
    "from queue import Queue\n",
    "q = Queue()\n",
    "for route in stationToRoute[source]:\n",
    "    q.put({route, 0})"
   ]
  },
  {
   "cell_type": "code",
   "execution_count": 40,
   "metadata": {},
   "outputs": [
    {
     "data": {
      "text/plain": [
       "1"
      ]
     },
     "execution_count": 40,
     "metadata": {},
     "output_type": "execute_result"
    }
   ],
   "source": [
    "list(endRoutes)[-1]"
   ]
  },
  {
   "cell_type": "code",
   "execution_count": 31,
   "metadata": {},
   "outputs": [
    {
     "data": {
      "text/plain": [
       "1"
      ]
     },
     "execution_count": 31,
     "metadata": {},
     "output_type": "execute_result"
    }
   ],
   "source": [
    "q.qsize()"
   ]
  },
  {
   "cell_type": "code",
   "execution_count": null,
   "metadata": {},
   "outputs": [],
   "source": []
  }
 ],
 "metadata": {
  "kernelspec": {
   "display_name": "Python 3",
   "language": "python",
   "name": "python3"
  },
  "language_info": {
   "codemirror_mode": {
    "name": "ipython",
    "version": 3
   },
   "file_extension": ".py",
   "mimetype": "text/x-python",
   "name": "python",
   "nbconvert_exporter": "python",
   "pygments_lexer": "ipython3",
   "version": "3.7.0"
  }
 },
 "nbformat": 4,
 "nbformat_minor": 2
}
