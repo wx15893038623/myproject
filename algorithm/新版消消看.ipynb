{
 "cells": [
  {
   "cell_type": "code",
   "execution_count": 20,
   "metadata": {},
   "outputs": [
    {
     "data": {
      "text/plain": [
       "True"
      ]
     },
     "execution_count": 20,
     "metadata": {},
     "output_type": "execute_result"
    }
   ],
   "source": [
    "not '0' in '1111'"
   ]
  },
  {
   "cell_type": "code",
   "execution_count": 19,
   "metadata": {},
   "outputs": [
    {
     "data": {
      "text/plain": [
       "True"
      ]
     },
     "execution_count": 19,
     "metadata": {},
     "output_type": "execute_result"
    }
   ],
   "source": [
    "not a"
   ]
  },
  {
   "cell_type": "code",
   "execution_count": 22,
   "metadata": {},
   "outputs": [],
   "source": [
    "def myremove():\n",
    "    global strr\n",
    "    \n",
    "    if not '0' in strr:\n",
    "        n = len(strr)\n",
    "        strr = ''\n",
    "        return n\n",
    "    \n",
    "    if not '1' in strr:\n",
    "        return -1\n",
    "        \n",
    "    a = [0]*len(strr)\n",
    "    for i in range(len(strr)):\n",
    "        if strr[i] == '1':\n",
    "            a[i] = 1\n",
    "    for i in range(len(strr)-1):\n",
    "        i += 1\n",
    "        if (strr[i] == '1') & (strr[i-1] == strr[i]):\n",
    "            a[i] = a[i-1] + 1\n",
    "    index = 0\n",
    "    val = a[0]\n",
    "    for i in range(len(strr)):\n",
    "        if(a[i] > val):\n",
    "            val = a[i]\n",
    "            index = i\n",
    "    if(val == 0):\n",
    "        return -1\n",
    "    new_strr = strr[0: index-val+1] + strr[index+1:]\n",
    "    strr = new_strr\n",
    "    return val"
   ]
  },
  {
   "cell_type": "code",
   "execution_count": 24,
   "metadata": {},
   "outputs": [
    {
     "name": "stdout",
     "output_type": "stream",
     "text": [
      "1\n",
      "0000\n",
      "Draw\n"
     ]
    }
   ],
   "source": [
    "\n",
    "n = int(input())\n",
    "while(n!=0):\n",
    "    # 读取每一行\n",
    "    strr = input()\n",
    "    mei = 0\n",
    "    niu = 0\n",
    "    while(len(strr) != 0):\n",
    "        add1 = myremove()\n",
    "        if(add1 == -1):\n",
    "            break\n",
    "        mei += add1\n",
    "        add2 = myremove()\n",
    "        if(add2 == -1):\n",
    "            break\n",
    "        niu += add2\n",
    "\n",
    "    if(mei > niu):\n",
    "        print(\"Niumei\")\n",
    "        print(mei - niu)\n",
    "    elif(mei < niu):\n",
    "        print(\"NiuNiu\")\n",
    "        print(niu - mei)\n",
    "    else:\n",
    "        print(\"Draw\")\n",
    "\n",
    "    n-=1"
   ]
  },
  {
   "cell_type": "code",
   "execution_count": 5,
   "metadata": {},
   "outputs": [
    {
     "name": "stdout",
     "output_type": "stream",
     "text": [
      "1\n"
     ]
    }
   ],
   "source": [
    "if __name__ == \"__main__\":\n",
    "\n",
    "    n = int(input())\n",
    "    while(n!=0):\n",
    "        # 读取每一行\n",
    "        strr = input()\n",
    "        mei = 0\n",
    "        niu = 0\n",
    "        while(len(strr) != 0):\n",
    "            add1 = myremove()\n",
    "            if(add1 == -1):\n",
    "                break\n",
    "            mei += add1\n",
    "            add2 = myremove()\n",
    "            if(add2 == -1):\n",
    "                break\n",
    "            niu += add2\n",
    "\n",
    "        if(mei > niu):\n",
    "            print(\"Niumei\")\n",
    "            print(mei - niu)\n",
    "        elif(mei < niu):\n",
    "            print(\"NiuNiu\")\n",
    "            print(niu - mei)\n",
    "        else:\n",
    "            print(\"Draw\")\n",
    "\n",
    "        n-=1"
   ]
  },
  {
   "cell_type": "code",
   "execution_count": 6,
   "metadata": {},
   "outputs": [
    {
     "data": {
      "text/plain": [
       "str"
      ]
     },
     "execution_count": 6,
     "metadata": {},
     "output_type": "execute_result"
    }
   ],
   "source": [
    "type(a)"
   ]
  },
  {
   "cell_type": "code",
   "execution_count": 22,
   "metadata": {},
   "outputs": [],
   "source": [
    "\n",
    "def a():\n",
    "    global b\n",
    "    b -= 1"
   ]
  },
  {
   "cell_type": "code",
   "execution_count": 23,
   "metadata": {},
   "outputs": [],
   "source": [
    "b = 5\n",
    "a()"
   ]
  },
  {
   "cell_type": "code",
   "execution_count": 24,
   "metadata": {},
   "outputs": [
    {
     "data": {
      "text/plain": [
       "4"
      ]
     },
     "execution_count": 24,
     "metadata": {},
     "output_type": "execute_result"
    }
   ],
   "source": [
    "b"
   ]
  },
  {
   "cell_type": "code",
   "execution_count": 1,
   "metadata": {},
   "outputs": [],
   "source": [
    "def get_count(n_list):\n",
    "    a, b = 0, 0\n",
    "    n_list = sorted([len(n) for n in n_list.split('0')],reverse=True)\n",
    "    for i,n in enumerate(n_list):\n",
    "        if i%2 == 0:\n",
    "            a+=n\n",
    "        else:\n",
    "            b+=n\n",
    "    if a > b:\n",
    "        print('Niumei')\n",
    "        print(abs(a - b))\n",
    "    elif b > a:\n",
    "        print('Niuniu')\n",
    "        print(abs(a - b))\n",
    "    else:\n",
    "        print('Draw')\n"
   ]
  },
  {
   "cell_type": "code",
   "execution_count": 2,
   "metadata": {},
   "outputs": [
    {
     "name": "stdout",
     "output_type": "stream",
     "text": [
      "2\n",
      "11001111\n",
      "100111110\n",
      "Niumei\n",
      "2\n",
      "Niumei\n",
      "4\n"
     ]
    }
   ],
   "source": [
    "time = input()\n",
    "test_list = [input() for n in range(int(time))]\n",
    "for n_list in test_list:\n",
    "    get_count(n_list)"
   ]
  }
 ],
 "metadata": {
  "kernelspec": {
   "display_name": "Python 3",
   "language": "python",
   "name": "python3"
  },
  "language_info": {
   "codemirror_mode": {
    "name": "ipython",
    "version": 3
   },
   "file_extension": ".py",
   "mimetype": "text/x-python",
   "name": "python",
   "nbconvert_exporter": "python",
   "pygments_lexer": "ipython3",
   "version": "3.7.0"
  }
 },
 "nbformat": 4,
 "nbformat_minor": 2
}
