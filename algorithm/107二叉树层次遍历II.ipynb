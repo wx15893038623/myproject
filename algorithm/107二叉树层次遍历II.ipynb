{
 "cells": [
  {
   "cell_type": "markdown",
   "metadata": {},
   "source": [
    "bfs\n",
    "52 ms\t15.5 MB"
   ]
  },
  {
   "cell_type": "code",
   "execution_count": 1,
   "metadata": {},
   "outputs": [],
   "source": [
    "class TreeNode:\n",
    "    def __init__(self, val=0, left=None, right=None):\n",
    "        self.val = val\n",
    "        self.left = left\n",
    "        self.right = right"
   ]
  },
  {
   "cell_type": "code",
   "execution_count": 2,
   "metadata": {},
   "outputs": [],
   "source": [
    "a = TreeNode(1)\n",
    "a.right = TreeNode(2)\n",
    "a.left = TreeNode(3)\n",
    "root = TreeNode(0)\n",
    "root.right = a"
   ]
  },
  {
   "cell_type": "code",
   "execution_count": 9,
   "metadata": {},
   "outputs": [],
   "source": [
    "from queue import Queue\n",
    "def fun(root):\n",
    "    res = []\n",
    "    if root == None:\n",
    "        return res\n",
    "    q = Queue()\n",
    "    q.put(root)\n",
    "    while q.qsize()>0:\n",
    "        size = q.qsize()\n",
    "        listt = []\n",
    "        while size>0:\n",
    "            cur = q.get()\n",
    "            listt.append(cur.val)\n",
    "            if cur.left != None:\n",
    "                q.put(cur.left)\n",
    "            if cur.right != None:\n",
    "                q.put(cur.right)\n",
    "            size -= 1\n",
    "        res.append(listt[:])\n",
    "    ress = []\n",
    "    for i in range(len(res)):\n",
    "        ress.append(res.pop())\n",
    "    return ress\n",
    "        "
   ]
  },
  {
   "cell_type": "code",
   "execution_count": null,
   "metadata": {},
   "outputs": [],
   "source": [
    "36 ms\t15.4 MB"
   ]
  },
  {
   "cell_type": "code",
   "execution_count": 9,
   "metadata": {},
   "outputs": [],
   "source": [
    "from queue import Queue\n",
    "def fun(root):\n",
    "    res = []\n",
    "    if root == None:\n",
    "        return res\n",
    "    q = Queue()\n",
    "    q.put(root)\n",
    "    while q.qsize()>0:\n",
    "        size = q.qsize()\n",
    "        listt = []\n",
    "        while size>0:\n",
    "            cur = q.get()\n",
    "            listt.append(cur.val)\n",
    "            if cur.left != None:\n",
    "                q.put(cur.left)\n",
    "            if cur.right != None:\n",
    "                q.put(cur.right)\n",
    "            size -= 1\n",
    "        res.append(listt[:])\n",
    "    res.reverse()\n",
    "    return res\n",
    "        "
   ]
  },
  {
   "cell_type": "code",
   "execution_count": 10,
   "metadata": {},
   "outputs": [
    {
     "data": {
      "text/plain": [
       "[[3, 2], [1], [0]]"
      ]
     },
     "execution_count": 10,
     "metadata": {},
     "output_type": "execute_result"
    }
   ],
   "source": [
    "fun(root)"
   ]
  },
  {
   "cell_type": "markdown",
   "metadata": {},
   "source": [
    "链表\n",
    "52 ms\t15.3 MB"
   ]
  },
  {
   "cell_type": "code",
   "execution_count": 34,
   "metadata": {},
   "outputs": [],
   "source": [
    "class ListNode(object):\n",
    "\n",
    "    def __init__(self, item=0):\n",
    "        # item存放数据元素\n",
    "        self.item = item\n",
    "        # next是下一个节点的标识\n",
    "        self.next = None\n",
    "    def addFirst(self, item=0):\n",
    "        a = ListNode(item)\n",
    "        a.next = self\n",
    "        return a"
   ]
  },
  {
   "cell_type": "code",
   "execution_count": 35,
   "metadata": {},
   "outputs": [],
   "source": [
    "l1 = ListNode(8)\n",
    "cur = l1\n",
    "cur.next = ListNode(9)"
   ]
  },
  {
   "cell_type": "code",
   "execution_count": 36,
   "metadata": {},
   "outputs": [],
   "source": [
    "l1 = l1.addFirst(7)"
   ]
  },
  {
   "cell_type": "code",
   "execution_count": 37,
   "metadata": {},
   "outputs": [
    {
     "data": {
      "text/plain": [
       "7"
      ]
     },
     "execution_count": 37,
     "metadata": {},
     "output_type": "execute_result"
    }
   ],
   "source": [
    "l1.item"
   ]
  },
  {
   "cell_type": "code",
   "execution_count": 22,
   "metadata": {},
   "outputs": [],
   "source": [
    "from queue import Queue\n",
    "def fun(root):\n",
    "    res = []\n",
    "    if root == None:\n",
    "        return res\n",
    "    temp = ListNode()\n",
    "    q = Queue()\n",
    "    q.put(root)\n",
    "    while q.qsize()>0:\n",
    "        size = q.qsize()\n",
    "        listt = []\n",
    "        while size>0:\n",
    "            cur = q.get()\n",
    "            listt.append(cur.val)\n",
    "            if cur.left != None:\n",
    "                q.put(cur.left)\n",
    "            if cur.right != None:\n",
    "                q.put(cur.right)\n",
    "            size -= 1\n",
    "        temp = temp.addFirst(listt[:])\n",
    "    cur = temp\n",
    "    while (cur != None):\n",
    "        res.append(cur.item)\n",
    "        cur = cur.next\n",
    "    return res[:-1]\n",
    "        "
   ]
  },
  {
   "cell_type": "code",
   "execution_count": 23,
   "metadata": {},
   "outputs": [
    {
     "data": {
      "text/plain": [
       "[[3, 2], [1], [0]]"
      ]
     },
     "execution_count": 23,
     "metadata": {},
     "output_type": "execute_result"
    }
   ],
   "source": [
    "fun(root)"
   ]
  }
 ],
 "metadata": {
  "kernelspec": {
   "display_name": "Python 3",
   "language": "python",
   "name": "python3"
  },
  "language_info": {
   "codemirror_mode": {
    "name": "ipython",
    "version": 3
   },
   "file_extension": ".py",
   "mimetype": "text/x-python",
   "name": "python",
   "nbconvert_exporter": "python",
   "pygments_lexer": "ipython3",
   "version": "3.7.0"
  }
 },
 "nbformat": 4,
 "nbformat_minor": 2
}
