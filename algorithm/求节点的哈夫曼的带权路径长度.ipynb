{
 "cells": [
  {
   "cell_type": "code",
   "execution_count": 7,
   "metadata": {},
   "outputs": [
    {
     "name": "stdout",
     "output_type": "stream",
     "text": [
      "7 3 2 6 9\n",
      "36\n"
     ]
    }
   ],
   "source": [
    "n = list(map(int, input().strip().split()))\n",
    "geshu=n[0]\n",
    "qita=n[1:]\n",
    "#print(len(qita))\n",
    "'''\n",
    "a=min(qita)\n",
    "print(a)\n",
    "'''\n",
    "u=0\n",
    "def count(qita) :\n",
    "    i=0\n",
    "    s=0\n",
    "    global u\n",
    "    while len(qita) != 1 :\n",
    "        a=min(qita)\n",
    "        qita.remove(a)\n",
    "        b=min(qita)\n",
    "        qita.remove(b)\n",
    "        c=a+b\n",
    "        qita.append(c)\n",
    "        i=i+1\n",
    "        s+=i*c\n",
    "        count(qita)\n",
    "    u+=s\n",
    "count(qita)\n",
    "print(u)\n"
   ]
  },
  {
   "cell_type": "code",
   "execution_count": 12,
   "metadata": {},
   "outputs": [],
   "source": [
    "r = 0\n",
    "def f(n):\n",
    "    print(1)\n",
    "    if n<=3:\n",
    "        return 1\n",
    "    else:\n",
    "        return f(n-2)+f(n-6)+1"
   ]
  },
  {
   "cell_type": "code",
   "execution_count": 13,
   "metadata": {
    "scrolled": false
   },
   "outputs": [
    {
     "name": "stdout",
     "output_type": "stream",
     "text": [
      "1\n",
      "1\n",
      "1\n",
      "1\n",
      "1\n",
      "1\n",
      "1\n",
      "1\n",
      "1\n",
      "1\n",
      "1\n",
      "1\n"
     ]
    },
    {
     "data": {
      "text/plain": [
       "5"
      ]
     },
     "execution_count": 13,
     "metadata": {},
     "output_type": "execute_result"
    }
   ],
   "source": [
    "f(f(9))"
   ]
  },
  {
   "cell_type": "code",
   "execution_count": null,
   "metadata": {},
   "outputs": [],
   "source": []
  }
 ],
 "metadata": {
  "kernelspec": {
   "display_name": "Python 3",
   "language": "python",
   "name": "python3"
  },
  "language_info": {
   "codemirror_mode": {
    "name": "ipython",
    "version": 3
   },
   "file_extension": ".py",
   "mimetype": "text/x-python",
   "name": "python",
   "nbconvert_exporter": "python",
   "pygments_lexer": "ipython3",
   "version": "3.7.0"
  }
 },
 "nbformat": 4,
 "nbformat_minor": 2
}
