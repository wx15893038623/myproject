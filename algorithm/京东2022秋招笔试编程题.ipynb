{
 "cells": [
  {
   "cell_type": "code",
   "execution_count": null,
   "metadata": {},
   "outputs": [],
   "source": [
    "1 对角线邻居\n",
    "二维数组深拷贝方法：\n",
    "dp1 = [i.copy() for i in dp]\n",
    "\n",
    "字符串列表转数字列表：\n",
    "h = input().split()\n",
    "hh = [int(x) for x in h]"
   ]
  },
  {
   "cell_type": "code",
   "execution_count": null,
   "metadata": {},
   "outputs": [],
   "source": []
  },
  {
   "cell_type": "code",
   "execution_count": null,
   "metadata": {},
   "outputs": [],
   "source": [
    "n = int(input())\n",
    "l = []\n",
    "row = 0\n",
    "col = 0\n",
    "for i in range(n):\n",
    "    h = input().split()\n",
    "    hh = [int(x) for x in h]\n",
    "    row = max(row,hh[0])\n",
    "    col = max(col,hh[1])\n",
    "    l.append(hh)\n",
    "dp = [[0]*col for _ in range(row)]\n",
    "for i in l:\n",
    "    dp[i[0]-1][i[1]-1] = 1\n",
    "dp1 = [i.copy() for i in dp]\n",
    "for i in range(1,row):\n",
    "    for j in range(1,col):\n",
    "        dp1[i][j] = dp1[i-1][j-1] + dp1[i][j]\n",
    "res = 0\n",
    "\n",
    "for i in dp1[-1]:\n",
    "    if i>1:\n",
    "        res += i*(i-1)/2\n",
    "for i in range(1,row):\n",
    "    for j in range(col-2,-1,-1):\n",
    "        dp[i][j] = dp[i-1][j+1] + dp[i][j]\n",
    "\n",
    "for i in dp[-1]:\n",
    "    if i>1:\n",
    "        res += i*(i-1)/2\n",
    "\n",
    "\n",
    "print(int(res))"
   ]
  },
  {
   "cell_type": "code",
   "execution_count": null,
   "metadata": {},
   "outputs": [],
   "source": [
    "2 01字符串，所有前缀字符串可分出等比01子串的数量"
   ]
  },
  {
   "cell_type": "code",
   "execution_count": null,
   "metadata": {},
   "outputs": [],
   "source": []
  },
  {
   "cell_type": "code",
   "execution_count": null,
   "metadata": {},
   "outputs": [],
   "source": []
  },
  {
   "cell_type": "code",
   "execution_count": null,
   "metadata": {},
   "outputs": [],
   "source": []
  },
  {
   "cell_type": "code",
   "execution_count": null,
   "metadata": {},
   "outputs": [],
   "source": []
  },
  {
   "cell_type": "code",
   "execution_count": null,
   "metadata": {},
   "outputs": [],
   "source": []
  },
  {
   "cell_type": "code",
   "execution_count": null,
   "metadata": {},
   "outputs": [],
   "source": []
  },
  {
   "cell_type": "code",
   "execution_count": 1,
   "metadata": {},
   "outputs": [],
   "source": [
    "l = [[3, 4], [4, 5], [5, 6], [4, 7], [3, 8]]\n",
    "row = 5\n",
    "col = 8"
   ]
  },
  {
   "cell_type": "code",
   "execution_count": 92,
   "metadata": {
    "scrolled": true
   },
   "outputs": [
    {
     "data": {
      "text/plain": [
       "[[0, 0, 0, 0, 0, 0, 0, 0],\n",
       " [0, 0, 0, 0, 0, 0, 0, 0],\n",
       " [0, 0, 0, 1, 0, 0, 0, 1],\n",
       " [0, 0, 0, 0, 1, 0, 1, 0],\n",
       " [0, 0, 0, 0, 0, 1, 0, 0]]"
      ]
     },
     "execution_count": 92,
     "metadata": {},
     "output_type": "execute_result"
    }
   ],
   "source": [
    "\n",
    "dp = [[0]*col for _ in range(row)]\n",
    "for i in l:\n",
    "    dp[i[0]-1][i[1]-1] = 1\n",
    "dp"
   ]
  },
  {
   "cell_type": "code",
   "execution_count": 47,
   "metadata": {},
   "outputs": [
    {
     "name": "stdout",
     "output_type": "stream",
     "text": [
      "[[0, 0, 0, 0, 0, 0, 0, 0], [0, 0, 0, 0, 0, 0, 0, 0], [0, 0, 0, 1, 0, 0, 0, 1], [0, 0, 2, 0, 1, 0, 3, 0], [0, 3, 0, 2, 0, 6, 0, 0]]\n"
     ]
    }
   ],
   "source": [
    "for i in range(1,row):\n",
    "    for j in range(col-2,-1,-1):\n",
    "        dp[i][j] = dp[i-1][j+1] + dp[i][j]\n",
    "print(dp)"
   ]
  },
  {
   "cell_type": "code",
   "execution_count": 6,
   "metadata": {},
   "outputs": [],
   "source": [
    "for i in range(1,row):\n",
    "    for j in range(1,col):\n",
    "        dp[i][j] = dp[i-1][j-1] + dp[i][j]"
   ]
  },
  {
   "cell_type": "code",
   "execution_count": 87,
   "metadata": {},
   "outputs": [],
   "source": [
    "for i in range(1,row):\n",
    "    for j in range(col-2,-1,-1):\n",
    "        dp[i][j] = dp[i-1][j+1] + dp[i][j]"
   ]
  },
  {
   "cell_type": "code",
   "execution_count": 88,
   "metadata": {},
   "outputs": [
    {
     "data": {
      "text/plain": [
       "[[0, 0, 0, 0, 0, 0, 0, 0],\n",
       " [0, 0, 0, 0, 0, 0, 0, 0],\n",
       " [0, 0, 0, 1, 0, 0, 0, 1],\n",
       " [0, 0, 2, 0, 2, 0, 3, 0],\n",
       " [0, 3, 0, 4, 0, 8, 0, 1]]"
      ]
     },
     "execution_count": 88,
     "metadata": {},
     "output_type": "execute_result"
    }
   ],
   "source": [
    "dp"
   ]
  },
  {
   "cell_type": "code",
   "execution_count": null,
   "metadata": {},
   "outputs": [],
   "source": []
  },
  {
   "cell_type": "code",
   "execution_count": null,
   "metadata": {},
   "outputs": [],
   "source": []
  },
  {
   "cell_type": "code",
   "execution_count": 93,
   "metadata": {},
   "outputs": [
    {
     "data": {
      "text/plain": [
       "6"
      ]
     },
     "execution_count": 93,
     "metadata": {},
     "output_type": "execute_result"
    }
   ],
   "source": [
    "dp1 = [i.copy() for i in dp]\n",
    "for i in range(1,row):\n",
    "    for j in range(1,col):\n",
    "        dp1[i][j] = dp1[i-1][j-1] + dp1[i][j]\n",
    "res = 0\n",
    "\n",
    "for i in dp1[-1]:\n",
    "    if i>1:\n",
    "        res += i*(i-1)/2\n",
    "for i in range(1,row):\n",
    "    for j in range(col-2,-1,-1):\n",
    "        dp[i][j] = dp[i-1][j+1] + dp[i][j]\n",
    "\n",
    "for i in dp[-1]:\n",
    "    if i>1:\n",
    "        res += i*(i-1)/2\n",
    "\n",
    "int(res)"
   ]
  },
  {
   "cell_type": "code",
   "execution_count": 38,
   "metadata": {},
   "outputs": [
    {
     "data": {
      "text/plain": [
       "14.0"
      ]
     },
     "execution_count": 38,
     "metadata": {},
     "output_type": "execute_result"
    }
   ],
   "source": [
    "res"
   ]
  },
  {
   "cell_type": "code",
   "execution_count": 81,
   "metadata": {},
   "outputs": [],
   "source": [
    "a = [[1,2],[1,2],[3,4]]"
   ]
  },
  {
   "cell_type": "code",
   "execution_count": 82,
   "metadata": {},
   "outputs": [],
   "source": [
    "b = [i.copy() for i in a]"
   ]
  },
  {
   "cell_type": "code",
   "execution_count": 83,
   "metadata": {},
   "outputs": [
    {
     "data": {
      "text/plain": [
       "[[1, 2], [1, 2], [3, 4]]"
      ]
     },
     "execution_count": 83,
     "metadata": {},
     "output_type": "execute_result"
    }
   ],
   "source": [
    "a"
   ]
  },
  {
   "cell_type": "code",
   "execution_count": 84,
   "metadata": {},
   "outputs": [],
   "source": [
    "b[2][0] = 9"
   ]
  },
  {
   "cell_type": "code",
   "execution_count": 85,
   "metadata": {},
   "outputs": [
    {
     "data": {
      "text/plain": [
       "[[1, 2], [1, 2], [9, 4]]"
      ]
     },
     "execution_count": 85,
     "metadata": {},
     "output_type": "execute_result"
    }
   ],
   "source": [
    "b"
   ]
  },
  {
   "cell_type": "code",
   "execution_count": 86,
   "metadata": {},
   "outputs": [
    {
     "data": {
      "text/plain": [
       "[[1, 2], [1, 2], [3, 4]]"
      ]
     },
     "execution_count": 86,
     "metadata": {},
     "output_type": "execute_result"
    }
   ],
   "source": [
    "a"
   ]
  },
  {
   "cell_type": "code",
   "execution_count": null,
   "metadata": {},
   "outputs": [],
   "source": []
  }
 ],
 "metadata": {
  "kernelspec": {
   "display_name": "Python 3",
   "language": "python",
   "name": "python3"
  },
  "language_info": {
   "codemirror_mode": {
    "name": "ipython",
    "version": 3
   },
   "file_extension": ".py",
   "mimetype": "text/x-python",
   "name": "python",
   "nbconvert_exporter": "python",
   "pygments_lexer": "ipython3",
   "version": "3.7.0"
  }
 },
 "nbformat": 4,
 "nbformat_minor": 2
}
