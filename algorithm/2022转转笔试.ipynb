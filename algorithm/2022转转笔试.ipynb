{
 "cells": [
  {
   "cell_type": "code",
   "execution_count": null,
   "metadata": {},
   "outputs": [],
   "source": [
    "算法1\n",
    "java\n",
    "给出n，返回能组成最长等差数列长度\n",
    "8 -> 3\n",
    "\n",
    "算法2\n",
    "mysql 连续签到天数_最大连续签到天数\n",
    "\n",
    "算法3\n",
    "python\n",
    "给出数组，返回第n小的元素差值\n"
   ]
  },
  {
   "cell_type": "code",
   "execution_count": null,
   "metadata": {},
   "outputs": [],
   "source": []
  },
  {
   "cell_type": "code",
   "execution_count": null,
   "metadata": {},
   "outputs": [],
   "source": []
  },
  {
   "cell_type": "code",
   "execution_count": 1,
   "metadata": {},
   "outputs": [],
   "source": [
    "int n = 2;\n",
    "switch (n) {\n",
    "    case 1:\n",
    "        ++n;\n",
    "    case 2:\n",
    "        ++n;\n",
    "    case 3:\n",
    "        ++n;\n",
    "    default:\n",
    "        ++n;\n",
    "    break;\n",
    "}"
   ]
  },
  {
   "cell_type": "code",
   "execution_count": 2,
   "metadata": {},
   "outputs": [
    {
     "data": {
      "text/plain": [
       "5"
      ]
     },
     "execution_count": 2,
     "metadata": {},
     "output_type": "execute_result"
    }
   ],
   "source": [
    "n"
   ]
  }
 ],
 "metadata": {
  "kernelspec": {
   "display_name": "Java",
   "language": "java",
   "name": "java"
  },
  "language_info": {
   "codemirror_mode": "java",
   "file_extension": ".jshell",
   "mimetype": "text/x-java-source",
   "name": "Java",
   "pygments_lexer": "java",
   "version": "11.0.12+8-LTS-237"
  }
 },
 "nbformat": 4,
 "nbformat_minor": 2
}
