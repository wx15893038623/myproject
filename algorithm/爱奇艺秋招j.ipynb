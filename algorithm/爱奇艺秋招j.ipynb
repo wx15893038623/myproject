{
 "cells": [
  {
   "cell_type": "code",
   "execution_count": 19,
   "metadata": {},
   "outputs": [],
   "source": [
    "static class F{\n",
    "    static{\n",
    "        System.out.println(\"f1\");\n",
    "    }\n",
    "    {\n",
    "        System.out.println(\"f2\");\n",
    "    }\n",
    "    F(){\n",
    "        System.out.println(\"f3\");\n",
    "    }\n",
    "    F(int age){\n",
    "        System.out.println(\"f4\");\n",
    "    }\n",
    "    static class S extends F{\n",
    "        static{\n",
    "            System.out.println(\"s1\");\n",
    "        }\n",
    "        {\n",
    "            System.out.println(\"s2\");\n",
    "        }\n",
    "        S(){\n",
    "            System.out.println(\"s3\");\n",
    "        }\n",
    "        S(int age){\n",
    "            System.out.println(\"s4\");\n",
    "        }\n",
    "    }\n",
    "    static void m(){\n",
    "        S b = new S(10);\n",
    "    }\n",
    "}"
   ]
  },
  {
   "cell_type": "code",
   "execution_count": 15,
   "metadata": {},
   "outputs": [
    {
     "name": "stdout",
     "output_type": "stream",
     "text": [
      "f2\n",
      "f3\n"
     ]
    }
   ],
   "source": [
    "F a = new F()"
   ]
  },
  {
   "cell_type": "code",
   "execution_count": 20,
   "metadata": {},
   "outputs": [
    {
     "name": "stdout",
     "output_type": "stream",
     "text": [
      "f2\n",
      "f3\n",
      "s2\n",
      "s4\n"
     ]
    }
   ],
   "source": [
    "F.m()"
   ]
  }
 ],
 "metadata": {
  "kernelspec": {
   "display_name": "Java",
   "language": "java",
   "name": "java"
  },
  "language_info": {
   "codemirror_mode": "java",
   "file_extension": ".jshell",
   "mimetype": "text/x-java-source",
   "name": "Java",
   "pygments_lexer": "java",
   "version": "11.0.12+8-LTS-237"
  }
 },
 "nbformat": 4,
 "nbformat_minor": 2
}
