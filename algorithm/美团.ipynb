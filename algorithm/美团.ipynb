{
 "cells": [
  {
   "cell_type": "code",
   "execution_count": null,
   "metadata": {},
   "outputs": [],
   "source": [
    "18%\n",
    "ip = input().split()\n",
    "n = int(ip[0])\n",
    "m = int(ip[1])\n",
    "opt = []\n",
    "for i in range(m):\n",
    "    ipp = input().split()\n",
    "    if len(ipp) == 3:\n",
    "        opt.append([int(ipp[0]),int(ipp[1]),int(ipp[2])])\n",
    "    else:\n",
    "        opt.append([int(ipp[0]),int(ipp[1])])\n",
    "c = [[] for _ in range(n)]\n",
    "for i in opt:\n",
    "    if i[0] == 1:\n",
    "        c[i[1]].append(i[2])\n",
    "    else:\n",
    "        try:\n",
    "            print(c[i[1]].pop(0))\n",
    "        except:\n",
    "            print(-1)"
   ]
  },
  {
   "cell_type": "code",
   "execution_count": null,
   "metadata": {},
   "outputs": [],
   "source": [
    "18%\n",
    "T = int(input())\n",
    "\n",
    "def dfs(g,s):\n",
    "    dt = []\n",
    "    st = [s]\n",
    "    while st:\n",
    "        cur = st.pop()\n",
    "        if cur in dt:\n",
    "            return 'NO'\n",
    "        else:\n",
    "            dt.append(cur)\n",
    "        for nextj in g[cur]:\n",
    "            if nextj in dt:\n",
    "                return 'No'\n",
    "            else:\n",
    "                st.append(nextj)\n",
    "    return 'Yes' if len(dt) == len(g) else 'No'\n",
    "def fun():\n",
    "    ip = input().split()\n",
    "    n = int(ip[0])\n",
    "    m = int(ip[1])\n",
    "    bb1 = input().replace(', ',',').replace('[','').replace(']','')\n",
    "    bb2 = bb1.split(' ')\n",
    "    bb = []\n",
    "    for i in bb2:\n",
    "        bb.append([int(i.split(',')[0]),int(i.split(',')[1])])\n",
    "\n",
    "    g = {}\n",
    "    for i in range(n):\n",
    "        g[i+1] = []\n",
    "    for i in bb:\n",
    "        g[i[0]].append(i[1])\n",
    "    return dfs(g,1)\n",
    "for i in range(T):\n",
    "    res = fun()\n",
    "    print(res)\n",
    "\n"
   ]
  },
  {
   "cell_type": "code",
   "execution_count": 32,
   "metadata": {},
   "outputs": [],
   "source": [
    "s = '[1, 2] [3, 4]'"
   ]
  },
  {
   "cell_type": "code",
   "execution_count": 33,
   "metadata": {},
   "outputs": [],
   "source": [
    "bb1 = s.replace(', ',',').replace('[','').replace(']','')\n",
    "bb2 = bb1.split(' ')\n",
    "bb = []\n",
    "for i in bb2:\n",
    "    bb.append([int(i.split(',')[0]),int(i.split(',')[1])])"
   ]
  },
  {
   "cell_type": "code",
   "execution_count": 34,
   "metadata": {},
   "outputs": [
    {
     "data": {
      "text/plain": [
       "[[1, 2], [3, 4]]"
      ]
     },
     "execution_count": 34,
     "metadata": {},
     "output_type": "execute_result"
    }
   ],
   "source": [
    "bb"
   ]
  },
  {
   "cell_type": "code",
   "execution_count": 9,
   "metadata": {},
   "outputs": [],
   "source": [
    "s = '1, 2 3, 4'"
   ]
  },
  {
   "cell_type": "code",
   "execution_count": 21,
   "metadata": {},
   "outputs": [],
   "source": [
    "ss = s.replace(', ',',')"
   ]
  },
  {
   "cell_type": "code",
   "execution_count": 25,
   "metadata": {},
   "outputs": [],
   "source": [
    "sss = ss.split(' ')"
   ]
  },
  {
   "cell_type": "code",
   "execution_count": 27,
   "metadata": {},
   "outputs": [
    {
     "name": "stdout",
     "output_type": "stream",
     "text": [
      "[1, 2]\n",
      "[3, 4]\n"
     ]
    }
   ],
   "source": [
    "for i in sss:\n",
    "    print([int(i.split(',')[0]),int(i.split(',')[1])])"
   ]
  },
  {
   "cell_type": "code",
   "execution_count": null,
   "metadata": {},
   "outputs": [],
   "source": []
  },
  {
   "cell_type": "code",
   "execution_count": null,
   "metadata": {},
   "outputs": [],
   "source": []
  },
  {
   "cell_type": "code",
   "execution_count": null,
   "metadata": {},
   "outputs": [],
   "source": [
    "18%\n",
    "n = int(input())\n",
    "a = [int(i) for i in input().split()]\n",
    "b = [int(i) for i in input().split()]\n",
    "\n",
    "res = [0 for _ in range(n)]\n",
    "res[0] = 1\n",
    "\n",
    "\n",
    "for i in range(n-1):\n",
    "    res[i+1] = a[i]*res[b[i]-1]\n",
    "        \n",
    "print(' '.join(str(i) for i in res))\n"
   ]
  },
  {
   "cell_type": "code",
   "execution_count": null,
   "metadata": {},
   "outputs": [],
   "source": [
    "18%\n",
    "n = int(input())\n",
    "a = [int(i) for i in input().split()]\n",
    "b = [int(i) for i in input().split()]\n",
    "\n",
    "res = [0 for _ in range(n)]\n",
    "res[0] = 1\n",
    "\n",
    "while 0 in res:\n",
    "    for i in range(n-1):\n",
    "        if res[i+1] == 0:\n",
    "            try:\n",
    "                res[i+1] = a[i]*res[b[i]-1]\n",
    "            except:\n",
    "                pass\n",
    "print(' '.join(str(i) for i in res))"
   ]
  },
  {
   "cell_type": "code",
   "execution_count": null,
   "metadata": {},
   "outputs": [],
   "source": []
  },
  {
   "cell_type": "code",
   "execution_count": 2,
   "metadata": {},
   "outputs": [],
   "source": [
    "n = 3\n",
    "a = [2,3]\n",
    "b = [1,2]\n",
    "\n"
   ]
  },
  {
   "cell_type": "code",
   "execution_count": 3,
   "metadata": {},
   "outputs": [],
   "source": [
    "res = [0 for _ in range(n)]\n",
    "res[0] = 1"
   ]
  },
  {
   "cell_type": "code",
   "execution_count": 4,
   "metadata": {},
   "outputs": [
    {
     "data": {
      "text/plain": [
       "[1, 0, 0]"
      ]
     },
     "execution_count": 4,
     "metadata": {},
     "output_type": "execute_result"
    }
   ],
   "source": [
    "res"
   ]
  },
  {
   "cell_type": "code",
   "execution_count": 7,
   "metadata": {},
   "outputs": [],
   "source": [
    "\n",
    "\n",
    "\n",
    "for i in range(n-1):\n",
    "    if res[i+1] == 0:\n",
    "        res[i+1] = a[i]*res[b[i]-1]\n"
   ]
  },
  {
   "cell_type": "code",
   "execution_count": 8,
   "metadata": {},
   "outputs": [
    {
     "name": "stdout",
     "output_type": "stream",
     "text": [
      "1 2 6\n"
     ]
    }
   ],
   "source": [
    "print(' '.join(str(i) for i in res))"
   ]
  },
  {
   "cell_type": "code",
   "execution_count": null,
   "metadata": {},
   "outputs": [],
   "source": []
  }
 ],
 "metadata": {
  "kernelspec": {
   "display_name": "Python 3",
   "language": "python",
   "name": "python3"
  },
  "language_info": {
   "codemirror_mode": {
    "name": "ipython",
    "version": 3
   },
   "file_extension": ".py",
   "mimetype": "text/x-python",
   "name": "python",
   "nbconvert_exporter": "python",
   "pygments_lexer": "ipython3",
   "version": "3.7.0"
  }
 },
 "nbformat": 4,
 "nbformat_minor": 2
}
