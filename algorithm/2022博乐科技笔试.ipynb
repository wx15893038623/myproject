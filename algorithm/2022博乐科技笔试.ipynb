{
 "cells": [
  {
   "cell_type": "code",
   "execution_count": 85,
   "metadata": {},
   "outputs": [],
   "source": [
    "def queens( n ):\n",
    "    if n<1 : return 0\n",
    "    record = [0]*n\n",
    "    return p(0,record,n)"
   ]
  },
  {
   "cell_type": "code",
   "execution_count": 84,
   "metadata": {},
   "outputs": [],
   "source": [
    "def p(i,record,n):\n",
    "    if i == 0: return 1\n",
    "    res = 0\n",
    "    for j in range(n):\n",
    "        if isV(record,i,j):\n",
    "            record[i] = j\n",
    "            res += p(i+1,record,n)\n",
    "    return res"
   ]
  },
  {
   "cell_type": "code",
   "execution_count": 83,
   "metadata": {},
   "outputs": [],
   "source": [
    "def isV(record,i,j):\n",
    "    for k in range(i):\n",
    "        if j == record[k] or abs(record[k] - j) == abs(i - k):\n",
    "            return False\n",
    "    return True"
   ]
  },
  {
   "cell_type": "code",
   "execution_count": null,
   "metadata": {},
   "outputs": [],
   "source": [
    "第四题 N皇后\n",
    "\n",
    "public int queens (int n) {\n",
    "    // write code here\n",
    "    if(n<1){\n",
    "        return 0;\n",
    "    }\n",
    "    int[] r = new int[n];\n",
    "    return p(0,r,n);\n",
    "}\n",
    "public int p(int i,int[] r,int n){\n",
    "    if(i == n){\n",
    "        return 1;\n",
    "    }\n",
    "    int res = 0;\n",
    "    for (int j = 0;j < n;j++){\n",
    "        if (isV(r,i,j)){\n",
    "            r[i] = j;\n",
    "            res += p(i + 1,r,n);\n",
    "        }\n",
    "    }\n",
    "    return res;\n",
    "}\n",
    "public boolean isV(int[] r,int i,int j){\n",
    "    for (int k = 0;k < i;k++){\n",
    "        if (j == r[k] || Math.abs(r[k]-j) == Math.abs(i-k)){\n",
    "            return false;\n",
    "        }\n",
    "    }\n",
    "    return true;\n",
    "}"
   ]
  },
  {
   "cell_type": "code",
   "execution_count": 104,
   "metadata": {},
   "outputs": [],
   "source": [
    "#\n",
    "# 代码中的类名、方法名、参数名已经指定，请勿修改，直接返回方法规定的值即可\n",
    "#\n",
    "# \n",
    "# @param n int整型 格子行数\n",
    "# @return int整型\n",
    "#\n",
    "class Solution:\n",
    "    def queens(self , n ):\n",
    "\n",
    "        if n<1 : return 0\n",
    "        record = [0]*n\n",
    "        return self.p(0,record,n)\n",
    "\n",
    "    def p(self ,i,record,n):\n",
    "        \n",
    "        if i == 0: return 1\n",
    "        res = 0\n",
    "        for j in range(n):\n",
    "            print(record)\n",
    "            if self.isV(record,i,j):\n",
    "                record[i] = j\n",
    "                res += self.p(i+1,record,n)\n",
    "        return res\n",
    "\n",
    "    def isV(self ,record,i,j):\n",
    "        \n",
    "        for k in range(i):\n",
    "            if j == record[k] or abs(record[k] - j) == abs(i - k):\n",
    "                return False\n",
    "        return True"
   ]
  },
  {
   "cell_type": "code",
   "execution_count": 105,
   "metadata": {},
   "outputs": [
    {
     "data": {
      "text/plain": [
       "1"
      ]
     },
     "execution_count": 105,
     "metadata": {},
     "output_type": "execute_result"
    }
   ],
   "source": [
    "a = Solution()\n",
    "a.queens(8)"
   ]
  },
  {
   "cell_type": "code",
   "execution_count": null,
   "metadata": {},
   "outputs": [],
   "source": []
  },
  {
   "cell_type": "code",
   "execution_count": null,
   "metadata": {},
   "outputs": [],
   "source": []
  },
  {
   "cell_type": "code",
   "execution_count": 51,
   "metadata": {},
   "outputs": [],
   "source": []
  },
  {
   "cell_type": "code",
   "execution_count": 55,
   "metadata": {},
   "outputs": [],
   "source": [
    "a = [3,2,1]\n",
    "b = [6,5,4]"
   ]
  },
  {
   "cell_type": "code",
   "execution_count": 56,
   "metadata": {},
   "outputs": [
    {
     "data": {
      "text/plain": [
       "[6, 5, 4, 3, 2, 1]"
      ]
     },
     "execution_count": 56,
     "metadata": {},
     "output_type": "execute_result"
    }
   ],
   "source": [
    "merge(a,b)"
   ]
  },
  {
   "cell_type": "code",
   "execution_count": 60,
   "metadata": {},
   "outputs": [],
   "source": [
    "第三题 归并排序 分裂到小于等于k时插入排序。通过率十多\n",
    "def mergeSort( nums , k ):\n",
    "    # write code here\n",
    "    if len(nums) <= k:return insertsort(nums)\n",
    "    m = len(nums)//2\n",
    "    \n",
    "    l = mergeSort(nums[:m],k)\n",
    "    r = mergeSort(nums[m:],k)\n",
    "    \n",
    "    return  merge(l,r)\n",
    "def insertsort(arr):\n",
    "    for i in range(1,len(arr)):\n",
    "        k = arr[i]\n",
    "        j = i-1\n",
    "        while j >= 0 and k > arr[j]:\n",
    "            arr[j+1] = arr[j]\n",
    "            j -= 1\n",
    "        arr[j+1] = k\n",
    "    return arr\n",
    "def merge(a,b):\n",
    "    c = []\n",
    "    h = j = 0\n",
    "    while j < len(a) and h < len(b):\n",
    "        if a[j] > b[h]:\n",
    "            a.append(a[j])\n",
    "            j += 1\n",
    "        else:\n",
    "            c.append(b[h])\n",
    "            h += 1\n",
    "    if j == len(a):\n",
    "        for i in b[h:]:\n",
    "            c.append(i)\n",
    "    else:\n",
    "        for i in a[j:]:\n",
    "            c.append(i)\n",
    "    return c"
   ]
  },
  {
   "cell_type": "code",
   "execution_count": 64,
   "metadata": {},
   "outputs": [],
   "source": [
    "a = [1,2,4,2,1,3,5,2,9,8,6,5]"
   ]
  },
  {
   "cell_type": "code",
   "execution_count": 65,
   "metadata": {},
   "outputs": [
    {
     "data": {
      "text/plain": [
       "[8, 6, 5, 5, 2, 9, 2, 1, 1, 4, 2, 3]"
      ]
     },
     "execution_count": 65,
     "metadata": {},
     "output_type": "execute_result"
    }
   ],
   "source": [
    "mergeSort(a,4)"
   ]
  },
  {
   "cell_type": "code",
   "execution_count": 63,
   "metadata": {},
   "outputs": [
    {
     "data": {
      "text/plain": [
       "[1, 2, 4, 2, 1, 3, 5, 2, 9, 8, 6, 5]"
      ]
     },
     "execution_count": 63,
     "metadata": {},
     "output_type": "execute_result"
    }
   ],
   "source": [
    "a"
   ]
  },
  {
   "cell_type": "code",
   "execution_count": null,
   "metadata": {},
   "outputs": [],
   "source": []
  },
  {
   "cell_type": "code",
   "execution_count": 66,
   "metadata": {},
   "outputs": [],
   "source": []
  },
  {
   "cell_type": "code",
   "execution_count": 67,
   "metadata": {},
   "outputs": [],
   "source": [
    "r = [1,2,3,5,4,3,7]"
   ]
  },
  {
   "cell_type": "code",
   "execution_count": 68,
   "metadata": {},
   "outputs": [
    {
     "data": {
      "text/plain": [
       "[7, 5, 4, 3, 3, 2, 1]"
      ]
     },
     "execution_count": 68,
     "metadata": {},
     "output_type": "execute_result"
    }
   ],
   "source": [
    "insertsort(r)"
   ]
  },
  {
   "cell_type": "code",
   "execution_count": 42,
   "metadata": {},
   "outputs": [
    {
     "data": {
      "text/plain": [
       "[7, 5, 4, 3, 3, 2, 1]"
      ]
     },
     "execution_count": 42,
     "metadata": {},
     "output_type": "execute_result"
    }
   ],
   "source": [
    "r"
   ]
  },
  {
   "cell_type": "code",
   "execution_count": 33,
   "metadata": {},
   "outputs": [
    {
     "data": {
      "text/plain": [
       "[7, 5, 4]"
      ]
     },
     "execution_count": 33,
     "metadata": {},
     "output_type": "execute_result"
    }
   ],
   "source": [
    "r[:len(r)//2]"
   ]
  },
  {
   "cell_type": "code",
   "execution_count": 35,
   "metadata": {},
   "outputs": [
    {
     "data": {
      "text/plain": [
       "[3, 3, 2, 1]"
      ]
     },
     "execution_count": 35,
     "metadata": {},
     "output_type": "execute_result"
    }
   ],
   "source": [
    "r[len(r)//2:]"
   ]
  },
  {
   "cell_type": "code",
   "execution_count": null,
   "metadata": {},
   "outputs": [],
   "source": []
  },
  {
   "cell_type": "code",
   "execution_count": null,
   "metadata": {},
   "outputs": [],
   "source": []
  },
  {
   "cell_type": "code",
   "execution_count": null,
   "metadata": {},
   "outputs": [],
   "source": []
  },
  {
   "cell_type": "code",
   "execution_count": null,
   "metadata": {},
   "outputs": [],
   "source": [
    "第二题 输入为后序遍历二叉搜索树的数组，输出该二叉搜索树的层次遍历"
   ]
  },
  {
   "cell_type": "code",
   "execution_count": 23,
   "metadata": {},
   "outputs": [],
   "source": [
    "class TreeNode:\n",
    "    '''二叉搜索树节点的定义'''\n",
    "    def __init__(self, val):\n",
    "        self.val = val\n",
    "        self.left = None\n",
    "        self.right = None\n",
    "\n",
    "class OperationTree:\n",
    "    '''二叉树操作'''\n",
    "    def create(self, List):\n",
    "        '''二叉搜索树插入操作'''\n",
    "        root = TreeNode(List[0])\n",
    "        lens = len(List)\n",
    "        if lens >= 2:\n",
    "            root.left = self.create(List[1])\n",
    "        if lens >= 3:\n",
    "            root.right = self.create(List[2])\n",
    "        return root\n",
    "\n",
    "    def query(self, root, data):\n",
    "        '''二叉树查找操作'''\n",
    "        if root == None:\n",
    "            return False\n",
    "        if root.val == data:\n",
    "            return True\n",
    "        elif root.left:\n",
    "            return self.query(root.left, data)\n",
    "        elif root.right:\n",
    "            return self.query(root.right, data)\n",
    "\n",
    "    def PreOrder(self, root):\n",
    "        '''打印二叉树(先序)'''\n",
    "        if root == None:\n",
    "            return \n",
    "        print(root.val, end=' ')\n",
    "        self.PreOrder(root.left)\n",
    "        self.PreOrder(root.right)\n",
    "\n",
    "    def InOrder(self, root):\n",
    "        '''中序打印'''\n",
    "        if root == None:\n",
    "            return\n",
    "        self.InOrder(root.left)\n",
    "        print(root.val, end=' ')\n",
    "        self.InOrder(root.right)\n",
    "\n",
    "    def BacOrder(self, root):\n",
    "        '''后序打印'''\n",
    "        if root == None:\n",
    "            return\n",
    "        self.BacOrder(root.left)\n",
    "        self.BacOrder(root.right)\n",
    "        print(root.val, end=' ')\n",
    "\n",
    "    def BFS(self, root):\n",
    "        '''广度优先'''\n",
    "        if root == None:\n",
    "            return\n",
    "        # queue队列，保存节点\n",
    "        queue = []\n",
    "        # res保存节点值，作为结果\n",
    "        #vals = []\n",
    "        queue.append(root)\n",
    "\n",
    "        while queue:\n",
    "            # 拿出队首节点\n",
    "            currentNode = queue.pop(0)\n",
    "            #vals.append(currentNode.val)\n",
    "            print(currentNode.val, end=' ')\n",
    "            if currentNode.left:\n",
    "                queue.append(currentNode.left)\n",
    "            if currentNode.right:\n",
    "                queue.append(currentNode.right)\n",
    "        #return vals\n",
    "\n",
    "    def DFS(self, root):\n",
    "        '''深度优先'''\n",
    "        if root == None:\n",
    "            return\n",
    "        # 栈用来保存未访问节点\n",
    "        stack = []\n",
    "        # vals保存节点值，作为结果\n",
    "        #vals = []\n",
    "        stack.append(root)\n",
    "\n",
    "        while stack:\n",
    "            # 拿出栈顶节点\n",
    "            currentNode = stack.pop()\n",
    "            #vals.append(currentNode.val)\n",
    "            print(currentNode.val, end=' ')\n",
    "            if currentNode.right:\n",
    "                stack.append(currentNode.right)\n",
    "            if currentNode.left:\n",
    "                stack.append(currentNode.left)\t\t\t\n",
    "        #return vals\t\t\n"
   ]
  },
  {
   "cell_type": "code",
   "execution_count": 18,
   "metadata": {},
   "outputs": [
    {
     "ename": "TypeError",
     "evalue": "insert() missing 1 required positional argument: 'val'",
     "output_type": "error",
     "traceback": [
      "\u001b[1;31m---------------------------------------------------------------------------\u001b[0m",
      "\u001b[1;31mTypeError\u001b[0m                                 Traceback (most recent call last)",
      "\u001b[1;32m<ipython-input-18-a5cca7d223ad>\u001b[0m in \u001b[0;36m<module>\u001b[1;34m\u001b[0m\n\u001b[0;32m      1\u001b[0m \u001b[0ma\u001b[0m \u001b[1;33m=\u001b[0m \u001b[0mTreeNode\u001b[0m\u001b[1;33m(\u001b[0m\u001b[1;36m2\u001b[0m\u001b[1;33m)\u001b[0m\u001b[1;33m\u001b[0m\u001b[0m\n\u001b[1;32m----> 2\u001b[1;33m \u001b[0minsert\u001b[0m\u001b[1;33m(\u001b[0m\u001b[0ma\u001b[0m\u001b[1;33m,\u001b[0m\u001b[1;36m1\u001b[0m\u001b[1;33m)\u001b[0m\u001b[1;33m\u001b[0m\u001b[0m\n\u001b[0m\u001b[0;32m      3\u001b[0m \u001b[0minsert\u001b[0m\u001b[1;33m(\u001b[0m\u001b[0ma\u001b[0m\u001b[1;33m,\u001b[0m\u001b[1;36m3\u001b[0m\u001b[1;33m)\u001b[0m\u001b[1;33m\u001b[0m\u001b[0m\n",
      "\u001b[1;31mTypeError\u001b[0m: insert() missing 1 required positional argument: 'val'"
     ]
    }
   ],
   "source": [
    "a = TreeNode(2)\n",
    "insert(a,1)\n",
    "insert(a,)"
   ]
  },
  {
   "cell_type": "code",
   "execution_count": null,
   "metadata": {},
   "outputs": [],
   "source": []
  },
  {
   "cell_type": "code",
   "execution_count": 11,
   "metadata": {},
   "outputs": [],
   "source": [
    "q = []\n",
    "q.append(1)\n",
    "q.append(2)\n"
   ]
  },
  {
   "cell_type": "code",
   "execution_count": 15,
   "metadata": {},
   "outputs": [
    {
     "data": {
      "text/plain": [
       "True"
      ]
     },
     "execution_count": 15,
     "metadata": {},
     "output_type": "execute_result"
    }
   ],
   "source": [
    "not len(q) == 0"
   ]
  },
  {
   "cell_type": "code",
   "execution_count": 21,
   "metadata": {},
   "outputs": [],
   "source": [
    "r = [[2],[],[3],[1]]"
   ]
  },
  {
   "cell_type": "code",
   "execution_count": 4,
   "metadata": {},
   "outputs": [
    {
     "data": {
      "text/plain": [
       "[]"
      ]
     },
     "execution_count": 4,
     "metadata": {},
     "output_type": "execute_result"
    }
   ],
   "source": [
    "r[3]"
   ]
  },
  {
   "cell_type": "code",
   "execution_count": 22,
   "metadata": {},
   "outputs": [],
   "source": [
    "第一题 初始一把0号房钥匙，能否访问所有房间？通过率五十多\n",
    "\n",
    "def OpenAllRoom( rooms ):\n",
    "    \n",
    "    room = {}\n",
    "    for i in range(len(rooms)):\n",
    "        room[i] = False\n",
    "    room[0] = True\n",
    "    k = 0\n",
    "    for i in range(len(rooms)):\n",
    "        if rooms[k] == []:\n",
    "            continue\n",
    "        room[rooms[k][0]] = True\n",
    "        k = rooms[k][0]\n",
    "    if False in room.values():\n",
    "        return False\n",
    "    else:\n",
    "        return True"
   ]
  },
  {
   "cell_type": "code",
   "execution_count": 23,
   "metadata": {},
   "outputs": [
    {
     "data": {
      "text/plain": [
       "True"
      ]
     },
     "execution_count": 23,
     "metadata": {},
     "output_type": "execute_result"
    }
   ],
   "source": [
    "OpenAllRoom(r)"
   ]
  },
  {
   "cell_type": "code",
   "execution_count": 15,
   "metadata": {},
   "outputs": [],
   "source": [
    "room = {0: True, 1: True, 2: True, 3: True}"
   ]
  },
  {
   "cell_type": "code",
   "execution_count": 17,
   "metadata": {},
   "outputs": [
    {
     "data": {
      "text/plain": [
       "False"
      ]
     },
     "execution_count": 17,
     "metadata": {},
     "output_type": "execute_result"
    }
   ],
   "source": [
    "False in room.values()"
   ]
  },
  {
   "cell_type": "code",
   "execution_count": 18,
   "metadata": {},
   "outputs": [
    {
     "name": "stdout",
     "output_type": "stream",
     "text": [
      "2\n"
     ]
    }
   ],
   "source": [
    "if False in room.values():\n",
    "    print(1)\n",
    "else:\n",
    "    print(2)"
   ]
  },
  {
   "cell_type": "code",
   "execution_count": null,
   "metadata": {},
   "outputs": [],
   "source": []
  }
 ],
 "metadata": {
  "kernelspec": {
   "display_name": "Python 3",
   "language": "python",
   "name": "python3"
  },
  "language_info": {
   "codemirror_mode": {
    "name": "ipython",
    "version": 3
   },
   "file_extension": ".py",
   "mimetype": "text/x-python",
   "name": "python",
   "nbconvert_exporter": "python",
   "pygments_lexer": "ipython3",
   "version": "3.7.0"
  }
 },
 "nbformat": 4,
 "nbformat_minor": 2
}
