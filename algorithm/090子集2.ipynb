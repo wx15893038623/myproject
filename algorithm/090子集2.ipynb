{
 "cells": [
  {
   "cell_type": "code",
   "execution_count": null,
   "metadata": {},
   "outputs": [],
   "source": [
    "扩展法\n",
    "32 ms\t15.2 MB"
   ]
  },
  {
   "cell_type": "code",
   "execution_count": 25,
   "metadata": {},
   "outputs": [],
   "source": [
    "def subsets( nums):\n",
    "    res = [[]]\n",
    "    nums.sort()\n",
    "    for i in range(len(nums)-1, -1, -1):\n",
    "        for subres in res[:]:\n",
    "            if subres+[nums[i]] in res:\n",
    "                continue\n",
    "            else:\n",
    "                res.append(subres+[nums[i]])\n",
    "\n",
    "    return res"
   ]
  },
  {
   "cell_type": "code",
   "execution_count": null,
   "metadata": {},
   "outputs": [],
   "source": [
    "扩展法\n",
    "36 ms\t14.9 MB"
   ]
  },
  {
   "cell_type": "code",
   "execution_count": 21,
   "metadata": {},
   "outputs": [],
   "source": [
    "def subsets( nums):\n",
    "    res = [[]]\n",
    "    for i in range(len(nums)-1, -1, -1):\n",
    "        for subres in res[:]:\n",
    "            s = subres+[nums[i]]\n",
    "            s.sort()\n",
    "            if s in res:\n",
    "                continue\n",
    "            else:\n",
    "                res.append(s)\n",
    "\n",
    "    return res"
   ]
  },
  {
   "cell_type": "code",
   "execution_count": 26,
   "metadata": {},
   "outputs": [
    {
     "data": {
      "text/plain": [
       "[[], [2], [2, 2], [1], [2, 1], [2, 2, 1], [1, 1], [2, 1, 1], [2, 2, 1, 1]]"
      ]
     },
     "execution_count": 26,
     "metadata": {},
     "output_type": "execute_result"
    }
   ],
   "source": [
    "subsets([1,2,2,1])"
   ]
  },
  {
   "cell_type": "code",
   "execution_count": null,
   "metadata": {},
   "outputs": [],
   "source": [
    "32 ms\t15.2 MB"
   ]
  },
  {
   "cell_type": "code",
   "execution_count": 8,
   "metadata": {},
   "outputs": [],
   "source": [
    "def subsetsWithDup(nums):\n",
    "    dic = {}\n",
    "    for i in nums:\n",
    "        dic[i] = dic.get(i, 0) + 1\n",
    "    res = [[]]\n",
    "    for i, v in dic.items():\n",
    "        temp = res.copy()\n",
    "        for j in res:\n",
    "            temp.extend(j+[i]*(k+1) for k in range(v))\n",
    "        res = temp\n",
    "    return res"
   ]
  },
  {
   "cell_type": "code",
   "execution_count": 9,
   "metadata": {},
   "outputs": [
    {
     "data": {
      "text/plain": [
       "[[], [1], [1, 1], [2], [2, 2], [1, 2], [1, 2, 2], [1, 1, 2], [1, 1, 2, 2]]"
      ]
     },
     "execution_count": 9,
     "metadata": {},
     "output_type": "execute_result"
    }
   ],
   "source": [
    "subsetsWithDup([1,2,2,1])"
   ]
  },
  {
   "cell_type": "code",
   "execution_count": null,
   "metadata": {},
   "outputs": [],
   "source": [
    "回溯法\n",
    "36 ms\t15.2 MB"
   ]
  },
  {
   "cell_type": "code",
   "execution_count": 27,
   "metadata": {},
   "outputs": [],
   "source": [
    "def subsets( nums):\n",
    "    res = [[]]\n",
    "    nums.sort()\n",
    "    for i in range(1,len(nums)+1):\n",
    "        backtracking(nums,res,i,0,[])\n",
    "    return res\n",
    "def backtracking(nums,res,lenth,index,subset):\n",
    "    if len(subset)==lenth:\n",
    "        res.append(subset[:])\n",
    "        return\n",
    "    for i in range(index,len(nums)):\n",
    "        if i>index and nums[i]==nums[i-1]:\n",
    "            continue\n",
    "        subset.append(nums[i])\n",
    "        backtracking(nums,res,lenth,i+1,subset)\n",
    "        subset.pop()"
   ]
  },
  {
   "cell_type": "code",
   "execution_count": null,
   "metadata": {},
   "outputs": [],
   "source": [
    "DFS\n",
    "20 ms\t15 MB"
   ]
  },
  {
   "cell_type": "code",
   "execution_count": 31,
   "metadata": {},
   "outputs": [],
   "source": [
    "def subsets( nums):\n",
    "    res = []\n",
    "    nums.sort()\n",
    "    dfs(nums,[],res)\n",
    "    return res\n",
    "def dfs(nums,cur,res):\n",
    "    res.append(cur)\n",
    "\n",
    "    for i in range(len(nums)):\n",
    "        if i>0 and nums[i]==nums[i-1]:\n",
    "            continue\n",
    "        else:\n",
    "            dfs(nums[i+1:],cur+[nums[i]],res)"
   ]
  },
  {
   "cell_type": "code",
   "execution_count": 32,
   "metadata": {},
   "outputs": [
    {
     "data": {
      "text/plain": [
       "[[], [1], [1, 1], [1, 1, 2], [1, 1, 2, 2], [1, 2], [1, 2, 2], [2], [2, 2]]"
      ]
     },
     "execution_count": 32,
     "metadata": {},
     "output_type": "execute_result"
    }
   ],
   "source": [
    "subsets([1,2,2,1])"
   ]
  }
 ],
 "metadata": {
  "kernelspec": {
   "display_name": "Python 3",
   "language": "python",
   "name": "python3"
  },
  "language_info": {
   "codemirror_mode": {
    "name": "ipython",
    "version": 3
   },
   "file_extension": ".py",
   "mimetype": "text/x-python",
   "name": "python",
   "nbconvert_exporter": "python",
   "pygments_lexer": "ipython3",
   "version": "3.7.0"
  }
 },
 "nbformat": 4,
 "nbformat_minor": 2
}
