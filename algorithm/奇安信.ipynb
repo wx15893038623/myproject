{
 "cells": [
  {
   "cell_type": "code",
   "execution_count": null,
   "metadata": {},
   "outputs": [],
   "source": [
    "奇安信1\n",
    "简单表达式计算\n",
    " \n"
   ]
  },
  {
   "cell_type": "code",
   "execution_count": null,
   "metadata": {},
   "outputs": [],
   "source": [
    "奇安信2\n",
    "char_list = [32,39,45,33,34,35,36,37,38,40,41,42,44,46,47,58,59,63,64,91,92,10,9,93,94,95,96,123,124,125,126,43,60,61,62,215,247,48,49,50,51,52,53,54,55,56,57,97,65,98,66,99,67,100,68,101,69,102,70,103,71,104,72,105,73,106,74,107,75,108,76,109,77,110,78,111,79,112,80,113,81,114,82,115,82,116,84,117,85,118,86,119,87,120,88,121,89,122,90]\n",
    "a = input().split(',')\n",
    "r = [0]+char_list\n",
    "s = []\n",
    "for i in a:\n",
    "    s.append(r.index(int(i)))\n",
    "    \n",
    "ss = ','.join(str(i) for i in s)\n",
    "print(ss)\n",
    "\n"
   ]
  },
  {
   "cell_type": "code",
   "execution_count": 1,
   "metadata": {},
   "outputs": [],
   "source": [
    "char_list = [32,39,45,33,34,35,36,37,38,40,41,42,44,46,47,58,59,63,64,91,92,10,9,93,94,95,96,123,124,125,126,43,60,61,62,215,247,48,49,50,51,52,53,54,55,56,57,97,65,98,66,99,67,100,68,101,69,102,70,103,71,104,72,105,73,106,74,107,75,108,76,109,77,110,78,111,79,112,80,113,81,114,82,115,82,116,84,117,85,118,86,119,87,120,88,121,89,122,90]\n",
    "\n"
   ]
  },
  {
   "cell_type": "code",
   "execution_count": 3,
   "metadata": {},
   "outputs": [
    {
     "data": {
      "text/plain": [
       "0"
      ]
     },
     "execution_count": 3,
     "metadata": {},
     "output_type": "execute_result"
    }
   ],
   "source": [
    "char_list.index(32)"
   ]
  }
 ],
 "metadata": {
  "kernelspec": {
   "display_name": "Python 3",
   "language": "python",
   "name": "python3"
  },
  "language_info": {
   "codemirror_mode": {
    "name": "ipython",
    "version": 3
   },
   "file_extension": ".py",
   "mimetype": "text/x-python",
   "name": "python",
   "nbconvert_exporter": "python",
   "pygments_lexer": "ipython3",
   "version": "3.7.0"
  }
 },
 "nbformat": 4,
 "nbformat_minor": 2
}
