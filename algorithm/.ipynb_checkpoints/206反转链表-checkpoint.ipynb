{
 "cells": [
  {
   "cell_type": "code",
   "execution_count": null,
   "metadata": {},
   "outputs": [],
   "source": [
    "迭代\n",
    "时间n\n",
    "空间1\n",
    "36 ms\t15.6 MB"
   ]
  },
  {
   "cell_type": "code",
   "execution_count": 2,
   "metadata": {},
   "outputs": [],
   "source": [
    "def fun(head):\n",
    "    dummy = ListNode()\n",
    "    dummy.next = head\n",
    "    while (head != None and head.next != None):\n",
    "        dnext = dummy.next\n",
    "        temp = head.next\n",
    "        dummy.next,head.next,temp.next = temp,temp.next,dummy.next\n",
    "    return dummy.next"
   ]
  },
  {
   "cell_type": "code",
   "execution_count": null,
   "metadata": {},
   "outputs": [],
   "source": [
    "递归\n",
    "时间n\n",
    "空间n\n",
    "36 ms\t19.7 MB"
   ]
  },
  {
   "cell_type": "code",
   "execution_count": null,
   "metadata": {},
   "outputs": [],
   "source": [
    "def fun(head):\n",
    "    if not head or not head.next:\n",
    "        return head\n",
    "    p = fun(head.next)\n",
    "    head.next.next = head\n",
    "    head.next = None\n",
    "    return p"
   ]
  },
  {
   "cell_type": "code",
   "execution_count": 1,
   "metadata": {},
   "outputs": [],
   "source": [
    "# nice\n",
    "# python多元赋值的时候，右边的值不会随着赋值而改变\n",
    "# 32 ms\t15.5 MB\n",
    "class ListNode:\n",
    "    def __init__(self, x):\n",
    "        self.val = x\n",
    "        self.next = None\n",
    "\n",
    "class Solution:\n",
    "    def reverseList(self, head):\n",
    "        \"\"\"\n",
    "        :type head: ListNode\n",
    "        :rtype: ListNode\n",
    "        \"\"\"\n",
    "        p, rev = head, None\n",
    "        while p:\n",
    "            rev, rev.next, p = p, rev, p.next\n",
    "        return rev"
   ]
  }
 ],
 "metadata": {
  "kernelspec": {
   "display_name": "Python 3",
   "language": "python",
   "name": "python3"
  },
  "language_info": {
   "codemirror_mode": {
    "name": "ipython",
    "version": 3
   },
   "file_extension": ".py",
   "mimetype": "text/x-python",
   "name": "python",
   "nbconvert_exporter": "python",
   "pygments_lexer": "ipython3",
   "version": "3.7.0"
  }
 },
 "nbformat": 4,
 "nbformat_minor": 2
}
