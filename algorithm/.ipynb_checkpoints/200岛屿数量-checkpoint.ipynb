{
 "cells": [
  {
   "cell_type": "code",
   "execution_count": 5,
   "metadata": {},
   "outputs": [],
   "source": [
    "grid = [\n",
    "  [\"1\",\"1\",\"0\",\"1\",\"0\"],\n",
    "  [\"1\",\"1\",\"0\",\"1\",\"0\"],\n",
    "  [\"1\",\"1\",\"0\",\"0\",\"0\"],\n",
    "  [\"0\",\"0\",\"0\",\"0\",\"0\"]\n",
    "]\n"
   ]
  },
  {
   "cell_type": "code",
   "execution_count": 12,
   "metadata": {},
   "outputs": [],
   "source": [
    "grid = [[\"1\",\"1\",\"1\",\"1\",\"1\",\"0\",\"1\",\"1\",\"1\",\"1\",\"1\",\"1\",\"1\",\"1\",\"1\",\"0\",\"1\",\"0\",\"1\",\"1\"],\n",
    " [\"0\",\"1\",\"1\",\"1\",\"1\",\"1\",\"1\",\"1\",\"1\",\"1\",\"1\",\"1\",\"1\",\"0\",\"1\",\"1\",\"1\",\"1\",\"1\",\"0\"],\n",
    " [\"1\",\"0\",\"1\",\"1\",\"1\",\"0\",\"0\",\"1\",\"1\",\"0\",\"1\",\"1\",\"1\",\"1\",\"1\",\"1\",\"1\",\"1\",\"1\",\"1\"],\n",
    " [\"1\",\"1\",\"1\",\"1\",\"0\",\"1\",\"1\",\"1\",\"1\",\"1\",\"1\",\"1\",\"1\",\"1\",\"1\",\"1\",\"1\",\"1\",\"1\",\"1\"],\n",
    " [\"1\",\"0\",\"0\",\"1\",\"1\",\"1\",\"1\",\"1\",\"1\",\"1\",\"1\",\"1\",\"1\",\"1\",\"1\",\"1\",\"1\",\"1\",\"1\",\"1\"],\n",
    " [\"1\",\"0\",\"1\",\"1\",\"1\",\"1\",\"1\",\"1\",\"0\",\"1\",\"1\",\"1\",\"0\",\"1\",\"1\",\"1\",\"0\",\"1\",\"1\",\"1\"],\n",
    " [\"0\",\"1\",\"1\",\"1\",\"1\",\"1\",\"1\",\"1\",\"1\",\"1\",\"1\",\"1\",\"0\",\"1\",\"1\",\"0\",\"1\",\"1\",\"1\",\"1\"],\n",
    " [\"1\",\"0\",\"1\",\"1\",\"1\",\"1\",\"1\",\"1\",\"1\",\"1\",\"1\",\"1\",\"0\",\"1\",\"1\",\"1\",\"1\",\"0\",\"1\",\"1\"],\n",
    " [\"0\",\"0\",\"1\",\"1\",\"1\",\"1\",\"1\",\"1\",\"1\",\"1\",\"0\",\"1\",\"1\",\"1\",\"1\",\"1\",\"1\",\"1\",\"1\",\"1\"],\n",
    " [\"1\",\"0\",\"1\",\"1\",\"1\",\"1\",\"1\",\"1\",\"1\",\"1\",\"1\",\"1\",\"1\",\"1\",\"1\",\"1\",\"1\",\"1\",\"1\",\"1\"],\n",
    " [\"0\",\"1\",\"1\",\"1\",\"1\",\"1\",\"1\",\"1\",\"0\",\"1\",\"1\",\"1\",\"1\",\"1\",\"1\",\"1\",\"1\",\"1\",\"1\",\"1\"],\n",
    " [\"1\",\"1\",\"1\",\"1\",\"1\",\"1\",\"1\",\"1\",\"1\",\"1\",\"1\",\"1\",\"1\",\"1\",\"1\",\"1\",\"1\",\"1\",\"1\",\"1\"],\n",
    " [\"1\",\"1\",\"1\",\"1\",\"1\",\"1\",\"1\",\"1\",\"1\",\"1\",\"1\",\"1\",\"1\",\"1\",\"1\",\"1\",\"1\",\"1\",\"1\",\"1\"],\n",
    " [\"1\",\"1\",\"1\",\"1\",\"1\",\"0\",\"1\",\"1\",\"1\",\"1\",\"1\",\"1\",\"1\",\"0\",\"1\",\"1\",\"1\",\"1\",\"1\",\"1\"],\n",
    " [\"1\",\"0\",\"1\",\"1\",\"1\",\"1\",\"1\",\"0\",\"1\",\"1\",\"1\",\"0\",\"1\",\"1\",\"1\",\"1\",\"0\",\"1\",\"1\",\"1\"],\n",
    " [\"1\",\"1\",\"1\",\"1\",\"1\",\"1\",\"1\",\"1\",\"1\",\"1\",\"1\",\"1\",\"0\",\"1\",\"1\",\"1\",\"1\",\"1\",\"1\",\"0\"],\n",
    " [\"1\",\"1\",\"1\",\"1\",\"1\",\"1\",\"1\",\"1\",\"1\",\"1\",\"1\",\"1\",\"1\",\"0\",\"1\",\"1\",\"1\",\"1\",\"0\",\"0\"],\n",
    " [\"1\",\"1\",\"1\",\"1\",\"1\",\"1\",\"1\",\"1\",\"1\",\"1\",\"1\",\"1\",\"1\",\"1\",\"1\",\"1\",\"1\",\"1\",\"1\",\"1\"],\n",
    " [\"1\",\"1\",\"1\",\"1\",\"1\",\"1\",\"1\",\"1\",\"1\",\"1\",\"1\",\"1\",\"1\",\"1\",\"1\",\"1\",\"1\",\"1\",\"1\",\"1\"],\n",
    " [\"1\",\"1\",\"1\",\"1\",\"1\",\"1\",\"1\",\"1\",\"1\",\"1\",\"1\",\"1\",\"1\",\"1\",\"1\",\"1\",\"1\",\"1\",\"1\",\"1\"]]"
   ]
  },
  {
   "cell_type": "markdown",
   "metadata": {},
   "source": [
    "DFS\n",
    "时间复杂度：O(MN)O(MN)，其中 MM 和 NN 分别为行数和列数。\n",
    "\n",
    "空间复杂度：O(MN)O(MN)，在最坏情况下，整个网格均为陆地，深度优先搜索的深度达到 M NMN。\n"
   ]
  },
  {
   "cell_type": "code",
   "execution_count": 2,
   "metadata": {},
   "outputs": [],
   "source": [
    "# 44 ms\t18.6 MB\n",
    "def fun(g):\n",
    "    if g == None or len(g) == 0:\n",
    "        return 0\n",
    "    res = 0\n",
    "    row = len(g)\n",
    "    col = len(g[0])\n",
    "    for i in range(0,row):\n",
    "        for j in range(0,col):\n",
    "            if g[i][j] == '1':\n",
    "                res += 1\n",
    "                dfs(g,i,j,row,col)\n",
    "    return res\n",
    "def dfs(g,x,y,row,col):\n",
    "    if x<0 or y<0 or x>=row or y >= col or g[x][y] =='0':\n",
    "        return\n",
    "    g[x][y] = '0'\n",
    "    dfs(g,x+1,y,row,col)\n",
    "    dfs(g,x-1,y,row,col)\n",
    "    dfs(g,x,y-1,row,col)\n",
    "    dfs(g,x,y+1,row,col)\n",
    "        "
   ]
  },
  {
   "cell_type": "code",
   "execution_count": 13,
   "metadata": {},
   "outputs": [
    {
     "data": {
      "text/plain": [
       "3"
      ]
     },
     "execution_count": 13,
     "metadata": {},
     "output_type": "execute_result"
    }
   ],
   "source": [
    "fun(grid)"
   ]
  },
  {
   "cell_type": "code",
   "execution_count": null,
   "metadata": {},
   "outputs": [],
   "source": [
    "# 官方\n",
    "# 44 ms\t19 MB\n",
    "class Solution:\n",
    "    def dfs(self, grid, r, c):\n",
    "        grid[r][c] = 0\n",
    "        nr, nc = len(grid), len(grid[0])\n",
    "        for x, y in [(r - 1, c), (r + 1, c), (r, c - 1), (r, c + 1)]:\n",
    "            if 0 <= x < nr and 0 <= y < nc and grid[x][y] == \"1\":\n",
    "                self.dfs(grid, x, y)\n",
    "\n",
    "    def numIslands(self, grid: List[List[str]]) -> int:\n",
    "        nr = len(grid)\n",
    "        if nr == 0:\n",
    "            return 0\n",
    "        nc = len(grid[0])\n",
    "\n",
    "        num_islands = 0\n",
    "        for r in range(nr):\n",
    "            for c in range(nc):\n",
    "                if grid[r][c] == \"1\":\n",
    "                    num_islands += 1\n",
    "                    self.dfs(grid, r, c)\n",
    "        \n",
    "        return num_islands\n"
   ]
  },
  {
   "cell_type": "markdown",
   "metadata": {},
   "source": [
    "BFS"
   ]
  },
  {
   "cell_type": "code",
   "execution_count": null,
   "metadata": {},
   "outputs": [],
   "source": [
    "(错)\n",
    "from queue import Queue\n",
    "def fun(g):\n",
    "    if g == None or len(g) == 0:\n",
    "        return 0\n",
    "    res = 0\n",
    "    row = len(g)\n",
    "    col = len(g[0])\n",
    "    q = Queue()\n",
    "    for i in range(0,row):\n",
    "        for j in range(0,col):\n",
    "            if g[i][j] == '1':\n",
    "                res += 1\n",
    "                q.put([i,j])\n",
    "                g[i][j] = '0'\n",
    "                while (q.qsize()>0):\n",
    "                    cur = q.get()\n",
    "                    x = cur[0]\n",
    "                    y = cur[1]\n",
    "                    if x-1 >=0 and g[x-1][y] == '1':\n",
    "                        g[x-1][y] == '0'\n",
    "                        q.put([x-1,y])\n",
    "                    if y-1 >=0 and g[x][y-1] == '1':\n",
    "                        g[x][y-1] == '0'\n",
    "                        q.put([x,y-1])\n",
    "                    if x+1 >=row and g[x+1][y] == '1':\n",
    "                        g[x+1][y] == '0'\n",
    "                        q.put([x+1,y])\n",
    "                    if y+1 >=col and g[x][y+1] == '1':\n",
    "                        g[x][y+1] == '0'\n",
    "                        q.put([x,y+1])\n",
    "                        "
   ]
  },
  {
   "cell_type": "code",
   "execution_count": null,
   "metadata": {},
   "outputs": [],
   "source": [
    "# 官方\n",
    "class Solution:\n",
    "    def numIslands(self, grid: List[List[str]]) -> int:\n",
    "        nr = len(grid)\n",
    "        if nr == 0:\n",
    "            return 0\n",
    "        nc = len(grid[0])\n",
    "\n",
    "        num_islands = 0\n",
    "        for r in range(nr):\n",
    "            for c in range(nc):\n",
    "                if grid[r][c] == \"1\":\n",
    "                    num_islands += 1\n",
    "                    grid[r][c] = \"0\"\n",
    "                    neighbors = collections.deque([(r, c)])\n",
    "                    while neighbors:\n",
    "                        row, col = neighbors.popleft()\n",
    "                        for x, y in [(row - 1, col), (row + 1, col), (row, col - 1), (row, col + 1)]:\n",
    "                            if 0 <= x < nr and 0 <= y < nc and grid[x][y] == \"1\":\n",
    "                                neighbors.append((x, y))\n",
    "                                grid[x][y] = \"0\"\n",
    "        \n",
    "        return num_islands\n"
   ]
  },
  {
   "cell_type": "code",
   "execution_count": null,
   "metadata": {},
   "outputs": [],
   "source": []
  },
  {
   "cell_type": "code",
   "execution_count": null,
   "metadata": {},
   "outputs": [],
   "source": []
  }
 ],
 "metadata": {
  "kernelspec": {
   "display_name": "Python 3",
   "language": "python",
   "name": "python3"
  },
  "language_info": {
   "codemirror_mode": {
    "name": "ipython",
    "version": 3
   },
   "file_extension": ".py",
   "mimetype": "text/x-python",
   "name": "python",
   "nbconvert_exporter": "python",
   "pygments_lexer": "ipython3",
   "version": "3.7.0"
  }
 },
 "nbformat": 4,
 "nbformat_minor": 2
}
