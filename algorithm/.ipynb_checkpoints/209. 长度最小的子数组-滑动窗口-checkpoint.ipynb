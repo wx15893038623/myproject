{
 "cells": [
  {
   "cell_type": "code",
   "execution_count": 16,
   "metadata": {},
   "outputs": [
    {
     "data": {
      "text/plain": [
       "[1, 2, 3, 4, 5, 6, 7, 0]"
      ]
     },
     "execution_count": 16,
     "metadata": {},
     "output_type": "execute_result"
    }
   ],
   "source": [
    "[1,2,3,4,5,6,7] +[0]"
   ]
  },
  {
   "cell_type": "code",
   "execution_count": 10,
   "metadata": {},
   "outputs": [
    {
     "data": {
      "text/plain": [
       "3"
      ]
     },
     "execution_count": 10,
     "metadata": {},
     "output_type": "execute_result"
    }
   ],
   "source": [
    "[1,2,3,4,5,6,7][2]"
   ]
  },
  {
   "cell_type": "code",
   "execution_count": 11,
   "metadata": {},
   "outputs": [
    {
     "data": {
      "text/plain": [
       "5"
      ]
     },
     "execution_count": 11,
     "metadata": {},
     "output_type": "execute_result"
    }
   ],
   "source": [
    "[1,2,3,4,5,6,7][5-1]"
   ]
  },
  {
   "cell_type": "code",
   "execution_count": 8,
   "metadata": {},
   "outputs": [
    {
     "data": {
      "text/plain": [
       "False"
      ]
     },
     "execution_count": 8,
     "metadata": {},
     "output_type": "execute_result"
    }
   ],
   "source": [
    "a = 0\n",
    "b = 4\n",
    "while(a<9):\n",
    "   \n",
    "    while(a==b):\n",
    "        a += 1\n",
    "        continue\n",
    "    print(a)\n",
    "    a += 1"
   ]
  },
  {
   "cell_type": "code",
   "execution_count": null,
   "metadata": {},
   "outputs": [],
   "source": [
    "滑动窗口"
   ]
  },
  {
   "cell_type": "code",
   "execution_count": 38,
   "metadata": {},
   "outputs": [],
   "source": [
    "# 3040 ms\t17 MB\n",
    "def minSubArrayLen(target, nums):\n",
    "    a = 0\n",
    "    b = 1\n",
    "    res = []\n",
    "    while(b<=len(nums) and a<len(nums) and b>a):\n",
    "        if sum(nums[a:b])>=target:\n",
    "            res.append(b-a)\n",
    "        if(sum(nums[a:b])<target):\n",
    "            print(a,b,sum(nums[a:b]))\n",
    "            b+=1\n",
    "            continue\n",
    "        if(sum(nums[a:b])>=target):\n",
    "            print('============')\n",
    "            print(a,b,sum(nums[a:b]))\n",
    "            a+=1\n",
    "            continue\n",
    "    return res\n",
    "#     return min(res) if res != [] else 0\n",
    "        \n",
    "        \n",
    "            "
   ]
  },
  {
   "cell_type": "code",
   "execution_count": 42,
   "metadata": {},
   "outputs": [],
   "source": [
    "# 52 ms\t17.1 MB\n",
    "def minSubArrayLen(target, nums):\n",
    "    a = 0\n",
    "    b = 1\n",
    "    n = len(nums)\n",
    "    res = []\n",
    "    summ = nums[0]\n",
    "    nums += [0]\n",
    "    while(b<=n and a<n and b>a):\n",
    "        if summ>=target:\n",
    "            res.append(b-a)\n",
    "            \n",
    "        if(summ<target):\n",
    "#             print(a,b,summ)\n",
    "            b+=1\n",
    "            summ += nums[b-1]\n",
    "            continue\n",
    "        if(summ>=target):\n",
    "#             print('============')\n",
    "#             print(a,b,summ)\n",
    "            a+=1\n",
    "            summ -= nums[a-1]\n",
    "            continue\n",
    "        \n",
    "#     return res\n",
    "    return min(res) if res != [] else 0\n",
    "\n",
    "        \n",
    "        \n",
    "            "
   ]
  },
  {
   "cell_type": "code",
   "execution_count": 48,
   "metadata": {},
   "outputs": [],
   "source": [
    "# 44 ms\t16.9 MB\n",
    "def minSubArrayLen(target, nums):\n",
    "    a = 0\n",
    "    b = 1\n",
    "    n = len(nums)\n",
    "    res = []\n",
    "    summ = nums[0]\n",
    "    nums += [0]\n",
    "    while(b<=n and a<n and b>a):\n",
    "        if summ>=target:\n",
    "            res.append(b-a)\n",
    "            \n",
    "        if(summ<target):\n",
    "#             print(a,b,summ)\n",
    "            summ += nums[b]\n",
    "            b+=1\n",
    "            \n",
    "            continue\n",
    "        if(summ>=target):\n",
    "#             print('============')\n",
    "#             print(a,b,summ)\n",
    "            summ -= nums[a]\n",
    "            a+=1\n",
    "            continue\n",
    "        \n",
    "#     return res\n",
    "    return min(res) if res != [] else 0\n",
    "\n",
    "        \n",
    "        \n",
    "            "
   ]
  },
  {
   "cell_type": "code",
   "execution_count": 39,
   "metadata": {},
   "outputs": [
    {
     "name": "stdout",
     "output_type": "stream",
     "text": [
      "0 1 2\n",
      "0 2 5\n",
      "0 3 6\n",
      "============\n",
      "0 4 8\n",
      "1 4 6\n",
      "============\n",
      "1 5 10\n",
      "============\n",
      "2 5 7\n",
      "3 5 6\n",
      "============\n",
      "3 6 9\n",
      "============\n",
      "4 6 7\n",
      "5 6 3\n"
     ]
    },
    {
     "data": {
      "text/plain": [
       "[4, 4, 3, 3, 2]"
      ]
     },
     "execution_count": 39,
     "metadata": {},
     "output_type": "execute_result"
    }
   ],
   "source": [
    "target = 7\n",
    "nums = [2,3,1,2,4,3]\n",
    "minSubArrayLen(target, nums)"
   ]
  },
  {
   "cell_type": "code",
   "execution_count": 49,
   "metadata": {},
   "outputs": [
    {
     "name": "stdout",
     "output_type": "stream",
     "text": [
      "0 1 2\n",
      "0 2 5\n",
      "0 3 6\n",
      "============\n",
      "0 4 8\n",
      "1 4 6\n",
      "============\n",
      "1 5 10\n",
      "============\n",
      "2 5 7\n",
      "3 5 6\n",
      "============\n",
      "3 6 9\n",
      "============\n",
      "4 6 7\n",
      "5 6 3\n"
     ]
    },
    {
     "data": {
      "text/plain": [
       "2"
      ]
     },
     "execution_count": 49,
     "metadata": {},
     "output_type": "execute_result"
    }
   ],
   "source": [
    "target = 7\n",
    "nums = [2,3,1,2,4,3]\n",
    "minSubArrayLen(target, nums)"
   ]
  },
  {
   "cell_type": "code",
   "execution_count": null,
   "metadata": {},
   "outputs": [],
   "source": [
    "官方\n",
    "class Solution:\n",
    "    def minSubArrayLen(self, s: int, nums: List[int]) -> int:\n",
    "        if not nums:\n",
    "            return 0\n",
    "        \n",
    "        n = len(nums)\n",
    "        ans = n + 1\n",
    "        start, end = 0, 0\n",
    "        total = 0\n",
    "        while end < n:\n",
    "            total += nums[end]\n",
    "            while total >= s:\n",
    "                ans = min(ans, end - start + 1)\n",
    "                total -= nums[start]\n",
    "                start += 1\n",
    "            end += 1\n",
    "        \n",
    "        return 0 if ans == n + 1 else ans\n"
   ]
  },
  {
   "cell_type": "code",
   "execution_count": null,
   "metadata": {},
   "outputs": [],
   "source": [
    "前缀和 + 二分查找"
   ]
  },
  {
   "cell_type": "code",
   "execution_count": null,
   "metadata": {},
   "outputs": [],
   "source": [
    "class Solution:\n",
    "    def minSubArrayLen(self, s: int, nums: List[int]) -> int:\n",
    "        if not nums:\n",
    "            return 0\n",
    "        \n",
    "        n = len(nums)\n",
    "        ans = n + 1\n",
    "        sums = [0]\n",
    "        for i in range(n):\n",
    "            sums.append(sums[-1] + nums[i])\n",
    "        \n",
    "        for i in range(1, n + 1):\n",
    "            target = s + sums[i - 1]\n",
    "            bound = bisect.bisect_left(sums, target)\n",
    "            if bound != len(sums):\n",
    "                ans = min(ans, bound - (i - 1))\n",
    "        \n",
    "        return 0 if ans == n + 1 else ans\n"
   ]
  },
  {
   "cell_type": "code",
   "execution_count": null,
   "metadata": {},
   "outputs": [],
   "source": []
  }
 ],
 "metadata": {
  "kernelspec": {
   "display_name": "Python 3",
   "language": "python",
   "name": "python3"
  },
  "language_info": {
   "codemirror_mode": {
    "name": "ipython",
    "version": 3
   },
   "file_extension": ".py",
   "mimetype": "text/x-python",
   "name": "python",
   "nbconvert_exporter": "python",
   "pygments_lexer": "ipython3",
   "version": "3.7.0"
  }
 },
 "nbformat": 4,
 "nbformat_minor": 2
}
