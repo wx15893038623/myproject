{
 "cells": [
  {
   "cell_type": "code",
   "execution_count": 39,
   "metadata": {},
   "outputs": [],
   "source": [
    "# 524 ms\t18.4 MB\n",
    "def nthSuperUglyNumber( n, primes) -> int:\n",
    "    dp = [0]*(n+1)\n",
    "    dp[1] = 1\n",
    "    \n",
    "    p = [1]*len(primes)\n",
    "    \n",
    "    for i in range(2,n+1):\n",
    "        num = [0]*len(primes)\n",
    "        for j in range(len(primes)):\n",
    "            num[j] = dp[p[j]]*primes[j]\n",
    "        dp[i] = min(num)\n",
    "        for j in range(len(primes)):\n",
    "            if dp[i] == num[j]:\n",
    "                p[j] += 1\n",
    "    return dp[-1]"
   ]
  },
  {
   "cell_type": "code",
   "execution_count": 41,
   "metadata": {},
   "outputs": [
    {
     "data": {
      "text/plain": [
       "1"
      ]
     },
     "execution_count": 41,
     "metadata": {},
     "output_type": "execute_result"
    }
   ],
   "source": [
    "nthSuperUglyNumber(1,[2,3,5])"
   ]
  },
  {
   "cell_type": "code",
   "execution_count": null,
   "metadata": {},
   "outputs": [],
   "source": []
  }
 ],
 "metadata": {
  "kernelspec": {
   "display_name": "Python 3",
   "language": "python",
   "name": "python3"
  },
  "language_info": {
   "codemirror_mode": {
    "name": "ipython",
    "version": 3
   },
   "file_extension": ".py",
   "mimetype": "text/x-python",
   "name": "python",
   "nbconvert_exporter": "python",
   "pygments_lexer": "ipython3",
   "version": "3.7.0"
  }
 },
 "nbformat": 4,
 "nbformat_minor": 2
}
