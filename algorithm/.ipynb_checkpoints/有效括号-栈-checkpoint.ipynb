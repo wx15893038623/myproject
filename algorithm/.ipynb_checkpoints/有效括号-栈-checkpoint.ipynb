{
 "cells": [
  {
   "cell_type": "code",
   "execution_count": 1,
   "metadata": {},
   "outputs": [
    {
     "ename": "SyntaxError",
     "evalue": "invalid syntax (<ipython-input-1-c38a04cadf5b>, line 3)",
     "output_type": "error",
     "traceback": [
      "\u001b[1;36m  File \u001b[1;32m\"<ipython-input-1-c38a04cadf5b>\"\u001b[1;36m, line \u001b[1;32m3\u001b[0m\n\u001b[1;33m    if len(s) = 0:\u001b[0m\n\u001b[1;37m              ^\u001b[0m\n\u001b[1;31mSyntaxError\u001b[0m\u001b[1;31m:\u001b[0m invalid syntax\n"
     ]
    }
   ],
   "source": [
    " class Slution:\n",
    "        def isValid(self,s:str) -> bool:\n",
    "            if len(s) == 0:\n",
    "                return True\n",
    "            stack = []\n",
    "            for c in s:\n",
    "                if c=='(' or c=='[' or c=='{':\n",
    "                    stack.append(c)\n",
    "                else:\n",
    "                    if len(stack)==0:\n",
    "                        return False\n",
    "                    else:\n",
    "                        temp == stack.pop()\n",
    "                        if c==')':\n",
    "                            if temp!='(':\n",
    "                                return False\n",
    "                        elif c==']':\n",
    "                            if temp!='[':\n",
    "                                return False\n",
    "                        elif c=='}':\n",
    "                            if temp!='{':\n",
    "                                return False\n",
    "            return True if len(stack)==0 else False"
   ]
  },
  {
   "cell_type": "code",
   "execution_count": null,
   "metadata": {},
   "outputs": [],
   "source": []
  }
 ],
 "metadata": {
  "kernelspec": {
   "display_name": "Python 3",
   "language": "python",
   "name": "python3"
  },
  "language_info": {
   "codemirror_mode": {
    "name": "ipython",
    "version": 3
   },
   "file_extension": ".py",
   "mimetype": "text/x-python",
   "name": "python",
   "nbconvert_exporter": "python",
   "pygments_lexer": "ipython3",
   "version": "3.7.0"
  }
 },
 "nbformat": 4,
 "nbformat_minor": 2
}
