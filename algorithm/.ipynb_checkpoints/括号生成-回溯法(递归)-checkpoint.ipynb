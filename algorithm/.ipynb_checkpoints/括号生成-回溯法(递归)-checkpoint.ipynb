{
 "cells": [
  {
   "cell_type": "code",
   "execution_count": 1,
   "metadata": {},
   "outputs": [],
   "source": [
    "def fun(n):\n",
    "    res = []\n",
    "    backtracking(n,res,0,0,'')\n",
    "    return res"
   ]
  },
  {
   "cell_type": "code",
   "execution_count": null,
   "metadata": {},
   "outputs": [],
   "source": [
    "def backtracking(n,res,l,r,strr):\n",
    "    if r > l:\n",
    "        return\n",
    "    if r==l==n:\n",
    "        res.append(strr)\n",
    "        return\n",
    "    \n",
    "    if l < n:\n",
    "        backtracking(n,res,l+1,r,strr+'(')\n",
    "    if r < l:\n",
    "        backtracking(n,res,l,r+1,strr+')')\n",
    "        "
   ]
  }
 ],
 "metadata": {
  "kernelspec": {
   "display_name": "Python 3",
   "language": "python",
   "name": "python3"
  },
  "language_info": {
   "codemirror_mode": {
    "name": "ipython",
    "version": 3
   },
   "file_extension": ".py",
   "mimetype": "text/x-python",
   "name": "python",
   "nbconvert_exporter": "python",
   "pygments_lexer": "ipython3",
   "version": "3.7.0"
  }
 },
 "nbformat": 4,
 "nbformat_minor": 2
}
