{
 "cells": [
  {
   "cell_type": "markdown",
   "metadata": {},
   "source": [
    "暴力法"
   ]
  },
  {
   "cell_type": "code",
   "execution_count": 13,
   "metadata": {},
   "outputs": [],
   "source": [
    "def fun(nums):\n",
    "    res = -1<<200\n",
    "    for i in range(len(nums)):\n",
    "        summ = 0\n",
    "        for j in range(i,len(nums)):\n",
    "            summ = summ + nums[j]\n",
    "            res = max(res,summ)\n",
    "    return res"
   ]
  },
  {
   "cell_type": "code",
   "execution_count": 14,
   "metadata": {},
   "outputs": [
    {
     "data": {
      "text/plain": [
       "11"
      ]
     },
     "execution_count": 14,
     "metadata": {},
     "output_type": "execute_result"
    }
   ],
   "source": [
    "n = [1,5,4,-5,2,-1,5]\n",
    "fun(n)"
   ]
  },
  {
   "cell_type": "markdown",
   "metadata": {},
   "source": [
    "分治法"
   ]
  },
  {
   "cell_type": "code",
   "execution_count": 20,
   "metadata": {},
   "outputs": [],
   "source": [
    "def fun(nums):\n",
    "    return getMax(nums,0,len(nums)-1)\n",
    "def getMax(nums,l,r):\n",
    "    if l==r:\n",
    "        return nums[l]\n",
    "    m = (l+r)//2\n",
    "    lMax = getMax(nums,l,m)\n",
    "    rMax = getMax(nums,m+1,r)\n",
    "    mMax = gerCrossMax(nums,r,l)\n",
    "    return max(lMax,rMax,mMax)\n",
    "def gerCrossMax(nums,l,r):\n",
    "    m = (l+r)//2\n",
    "    lSum = nums[m]\n",
    "    lMax = lSum\n",
    "    for i in range(m-1,-1,-1):\n",
    "        lSum = lSum + nums[i]\n",
    "        lMax = max(lMax,lSum)\n",
    "    rSum = nums[m+1]\n",
    "    rMax = rSum\n",
    "    for i in range(m+2,r):\n",
    "        rSum = rSum + nums[i]\n",
    "        rMax = max(rMax,rSum)\n",
    "    return lMax+rMax"
   ]
  },
  {
   "cell_type": "code",
   "execution_count": 21,
   "metadata": {},
   "outputs": [
    {
     "data": {
      "text/plain": [
       "11"
      ]
     },
     "execution_count": 21,
     "metadata": {},
     "output_type": "execute_result"
    }
   ],
   "source": [
    "n = [1,5,4,-5,2,-1,5]\n",
    "fun(n)"
   ]
  },
  {
   "cell_type": "markdown",
   "metadata": {},
   "source": [
    "动态规划"
   ]
  },
  {
   "cell_type": "code",
   "execution_count": 22,
   "metadata": {},
   "outputs": [],
   "source": [
    "def fun(nums):\n",
    "    dp = [0]*len(nums)\n",
    "    dp[0] = nums[0]\n",
    "    res = nums[0]\n",
    "    for i in range(1,len(nums)):\n",
    "        dp[i] = max(dp[i-1]+nums[i],nums[i])\n",
    "        res = max(res,dp[i])\n",
    "    return res"
   ]
  },
  {
   "cell_type": "code",
   "execution_count": 23,
   "metadata": {},
   "outputs": [
    {
     "data": {
      "text/plain": [
       "11"
      ]
     },
     "execution_count": 23,
     "metadata": {},
     "output_type": "execute_result"
    }
   ],
   "source": [
    "n = [1,5,4,-5,2,-1,5]\n",
    "fun(n)"
   ]
  },
  {
   "cell_type": "code",
   "execution_count": 26,
   "metadata": {},
   "outputs": [],
   "source": [
    "def maxSubArray(nums):\n",
    "    \"\"\"\n",
    "    :type nums: List[int]\n",
    "    :rtype: int\n",
    "     \"\"\"\n",
    "    for i in range(1, len(nums)):\n",
    "        nums[i]= nums[i] + max(nums[i-1], 0)\n",
    "    return max(nums)"
   ]
  },
  {
   "cell_type": "code",
   "execution_count": 27,
   "metadata": {},
   "outputs": [
    {
     "data": {
      "text/plain": [
       "11"
      ]
     },
     "execution_count": 27,
     "metadata": {},
     "output_type": "execute_result"
    }
   ],
   "source": [
    "n = [1,5,4,-5,2,-1,5]\n",
    "maxSubArray(n)"
   ]
  },
  {
   "cell_type": "code",
   "execution_count": 31,
   "metadata": {},
   "outputs": [
    {
     "data": {
      "text/plain": [
       "-2"
      ]
     },
     "execution_count": 31,
     "metadata": {},
     "output_type": "execute_result"
    }
   ],
   "source": [
    "n = [-5,-2]\n",
    "maxSubArray(n)"
   ]
  },
  {
   "cell_type": "code",
   "execution_count": 35,
   "metadata": {},
   "outputs": [
    {
     "data": {
      "text/plain": [
       "14"
      ]
     },
     "execution_count": 35,
     "metadata": {},
     "output_type": "execute_result"
    }
   ],
   "source": [
    "n = [1,9,-1,5]\n",
    "fun(n)"
   ]
  },
  {
   "cell_type": "code",
   "execution_count": 37,
   "metadata": {},
   "outputs": [],
   "source": [
    "def maxSubArray(nums):\n",
    "    \"\"\"\n",
    "    :type nums: List[int]\n",
    "    :rtype: int\n",
    "     \"\"\"\n",
    "    for i in range(1, len(nums)):\n",
    "        nums[i]= nums[i] + max(nums[i-1], 0)\n",
    "        print(nums)\n",
    "    return max(nums)"
   ]
  },
  {
   "cell_type": "code",
   "execution_count": 38,
   "metadata": {},
   "outputs": [
    {
     "name": "stdout",
     "output_type": "stream",
     "text": [
      "[1, 10, -1, 5]\n",
      "[1, 10, 9, 5]\n",
      "[1, 10, 9, 14]\n"
     ]
    },
    {
     "data": {
      "text/plain": [
       "14"
      ]
     },
     "execution_count": 38,
     "metadata": {},
     "output_type": "execute_result"
    }
   ],
   "source": [
    "n = [1,9,-1,5]\n",
    "maxSubArray(n)"
   ]
  }
 ],
 "metadata": {
  "kernelspec": {
   "display_name": "Python 3",
   "language": "python",
   "name": "python3"
  },
  "language_info": {
   "codemirror_mode": {
    "name": "ipython",
    "version": 3
   },
   "file_extension": ".py",
   "mimetype": "text/x-python",
   "name": "python",
   "nbconvert_exporter": "python",
   "pygments_lexer": "ipython3",
   "version": "3.7.0"
  }
 },
 "nbformat": 4,
 "nbformat_minor": 2
}
