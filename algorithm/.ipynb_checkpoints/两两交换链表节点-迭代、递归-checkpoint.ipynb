{
 "cells": [
  {
   "cell_type": "code",
   "execution_count": 1,
   "metadata": {},
   "outputs": [],
   "source": [
    "class ListNode(object):\n",
    "\n",
    "    def __init__(self, item=0):\n",
    "        # item存放数据元素\n",
    "        self.var = item\n",
    "        # next是下一个节点的标识\n",
    "        self.next = None"
   ]
  },
  {
   "cell_type": "markdown",
   "metadata": {},
   "source": [
    "迭代\n",
    "时间n\n",
    "空间1"
   ]
  },
  {
   "cell_type": "code",
   "execution_count": 2,
   "metadata": {},
   "outputs": [],
   "source": [
    "def swapPairs(head):\n",
    "    if head == None or head.next == None:\n",
    "        return head\n",
    "    res = ListNode()\n",
    "    res.next = head\n",
    "    cur = res\n",
    "    while cur.next != None and cur.next.next != None:\n",
    "        nxt = head.next\n",
    "        tmp = nxt.next\n",
    "        cur.next = nxt\n",
    "        nxt.next = head\n",
    "        head.next = tmp\n",
    "        cur = head\n",
    "        head = head.next\n",
    "    return res.next"
   ]
  },
  {
   "cell_type": "code",
   "execution_count": null,
   "metadata": {},
   "outputs": [],
   "source": [
    "cur     1       2      3\n",
    "res -> head -> nxt -> tmp"
   ]
  },
  {
   "cell_type": "code",
   "execution_count": 10,
   "metadata": {},
   "outputs": [],
   "source": [
    "\n",
    "l1 = ListNode(1)\n",
    "cur = l1\n",
    "cur.next = ListNode(2)\n",
    "cur = cur.next\n",
    "cur.next = ListNode(3)\n",
    "cur = cur.next\n",
    "cur.next = ListNode(4)\n",
    "cur = cur.next\n",
    "cur.next = ListNode(5)\n",
    "cur = cur.next\n",
    "cur.next = ListNode(6)\n",
    "cur = cur.next\n",
    "cur.next = ListNode(7)"
   ]
  },
  {
   "cell_type": "code",
   "execution_count": 11,
   "metadata": {},
   "outputs": [],
   "source": [
    "r =swapPairs(l1)"
   ]
  },
  {
   "cell_type": "code",
   "execution_count": 12,
   "metadata": {},
   "outputs": [
    {
     "name": "stdout",
     "output_type": "stream",
     "text": [
      "2\n",
      "1\n",
      "4\n",
      "3\n",
      "6\n",
      "5\n",
      "7\n"
     ]
    }
   ],
   "source": [
    "cur = r\n",
    "while (cur != None):\n",
    "    print(cur.var)\n",
    "    cur = cur.next"
   ]
  },
  {
   "cell_type": "code",
   "execution_count": null,
   "metadata": {},
   "outputs": [],
   "source": [
    "递归\n",
    "时间n\n",
    "空间n"
   ]
  },
  {
   "cell_type": "code",
   "execution_count": 17,
   "metadata": {},
   "outputs": [],
   "source": [
    "def swapPairs(head):\n",
    "    if head == None or head.next == None:\n",
    "        return head\n",
    "    nxt = head.next\n",
    "    head .next = swapPairs(head.next.next)\n",
    "    nxt.next = head\n",
    "    return nxt"
   ]
  },
  {
   "cell_type": "code",
   "execution_count": 18,
   "metadata": {},
   "outputs": [],
   "source": [
    "\n",
    "l1 = ListNode(1)\n",
    "cur = l1\n",
    "cur.next = ListNode(2)\n",
    "cur = cur.next\n",
    "cur.next = ListNode(3)\n",
    "cur = cur.next\n",
    "cur.next = ListNode(4)\n",
    "cur = cur.next\n",
    "cur.next = ListNode(5)\n",
    "cur = cur.next\n",
    "cur.next = ListNode(6)\n",
    "cur = cur.next\n",
    "cur.next = ListNode(7)"
   ]
  },
  {
   "cell_type": "code",
   "execution_count": 19,
   "metadata": {},
   "outputs": [],
   "source": [
    "r =swapPairs(l1)"
   ]
  },
  {
   "cell_type": "code",
   "execution_count": 20,
   "metadata": {},
   "outputs": [
    {
     "name": "stdout",
     "output_type": "stream",
     "text": [
      "2\n",
      "1\n",
      "4\n",
      "3\n",
      "6\n",
      "5\n",
      "7\n"
     ]
    }
   ],
   "source": [
    "cur = r\n",
    "while (cur != None):\n",
    "    print(cur.var)\n",
    "    cur = cur.next"
   ]
  },
  {
   "cell_type": "code",
   "execution_count": null,
   "metadata": {},
   "outputs": [],
   "source": []
  }
 ],
 "metadata": {
  "kernelspec": {
   "display_name": "Python 3",
   "language": "python",
   "name": "python3"
  },
  "language_info": {
   "codemirror_mode": {
    "name": "ipython",
    "version": 3
   },
   "file_extension": ".py",
   "mimetype": "text/x-python",
   "name": "python",
   "nbconvert_exporter": "python",
   "pygments_lexer": "ipython3",
   "version": "3.7.0"
  }
 },
 "nbformat": 4,
 "nbformat_minor": 2
}
