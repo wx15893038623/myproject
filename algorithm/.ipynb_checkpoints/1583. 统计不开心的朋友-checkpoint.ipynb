{
 "cells": [
  {
   "cell_type": "code",
   "execution_count": 36,
   "metadata": {},
   "outputs": [],
   "source": [
    "# 1176 ms\t22.1 MB\n",
    "\n",
    "def unhappyFriends( n, preferences, pairs) -> int:\n",
    "\n",
    "    if n == 2:\n",
    "        return 0\n",
    "\n",
    "    def unhappy(p1,p2):\n",
    "        x = p1[0]\n",
    "        y = p1[1]\n",
    "        u = p2[0]\n",
    "        v = p2[1]\n",
    "\n",
    "        if aaa(x,y,u,v):\n",
    "            res[x] = 1\n",
    "        if aaa(x,y,v,u):\n",
    "            res[x] = 1\n",
    "        if aaa(y,x,u,v):\n",
    "            res[y] = 1\n",
    "        if aaa(y,x,v,u):\n",
    "            res[y] = 1\n",
    "        if aaa(u,v,x,y):\n",
    "            res[u] = 1\n",
    "        if aaa(u,v,y,x):\n",
    "            res[u] = 1\n",
    "        if aaa(v,u,x,y):\n",
    "            res[v] = 1\n",
    "        if aaa(v,u,y,x):\n",
    "            res[v] = 1\n",
    "    def aaa(x,y,u,v):\n",
    "        if preferences[x].index(u) < preferences[x].index(y) and preferences[u].index(x) < preferences[u].index(v):\n",
    "            return True\n",
    "    res = {}\n",
    "    for i in range(len(pairs)-1):\n",
    "        for j in range(i+1,len(pairs)):\n",
    "            unhappy(pairs[i],pairs[j])\n",
    "    return len(res)"
   ]
  },
  {
   "cell_type": "code",
   "execution_count": 37,
   "metadata": {},
   "outputs": [],
   "source": [
    "n = 4\n",
    "preferences = [[1, 2, 3], [3, 2, 0], [3, 1, 0], [1, 2, 0]]\n",
    "pairs = [[0, 1], [2, 3]]\n"
   ]
  },
  {
   "cell_type": "code",
   "execution_count": 38,
   "metadata": {},
   "outputs": [
    {
     "data": {
      "text/plain": [
       "2"
      ]
     },
     "execution_count": 38,
     "metadata": {},
     "output_type": "execute_result"
    }
   ],
   "source": [
    "unhappyFriends( n, preferences, pairs)"
   ]
  },
  {
   "cell_type": "code",
   "execution_count": 39,
   "metadata": {},
   "outputs": [],
   "source": [
    "n = 2\n",
    "preferences = [[1],[0]]\n",
    "pairs = [[1,0]]"
   ]
  },
  {
   "cell_type": "code",
   "execution_count": 40,
   "metadata": {},
   "outputs": [
    {
     "data": {
      "text/plain": [
       "0"
      ]
     },
     "execution_count": 40,
     "metadata": {},
     "output_type": "execute_result"
    }
   ],
   "source": [
    "unhappyFriends( n, preferences, pairs)"
   ]
  },
  {
   "cell_type": "code",
   "execution_count": 41,
   "metadata": {},
   "outputs": [],
   "source": [
    "n = 6\n",
    "preferences = [[3,2,4,5,1],[3,4,2,0,5],[5,0,3,1,4],[2,0,4,5,1],[2,3,5,0,1],[1,4,3,0,2]]\n",
    "pairs = [[5,3],[4,2],[0,1]]"
   ]
  },
  {
   "cell_type": "code",
   "execution_count": 42,
   "metadata": {},
   "outputs": [
    {
     "data": {
      "text/plain": [
       "4"
      ]
     },
     "execution_count": 42,
     "metadata": {},
     "output_type": "execute_result"
    }
   ],
   "source": [
    "unhappyFriends( n, preferences, pairs)"
   ]
  },
  {
   "cell_type": "code",
   "execution_count": null,
   "metadata": {},
   "outputs": [],
   "source": [
    "模拟\n",
    "这道题看似复杂，其实只要进行模拟，即可得到答案。\n",
    "\n",
    "共有 nn 位朋友，每位朋友都对应一个其余 n-1n−1 位朋友的亲近程度从高到低排列的朋友列表，列表中的下标越小的朋友亲近程度越高。\n",
    "\n",
    "题目已经给出了二维数组 \\textit{preferences}preferences 表示每位朋友对应的按亲近程度从高到低排列的朋友列表，但是并没有直接给出其余 n-1n−1 位朋友对应的亲近程度下标，因此需要进行预处理，存储每位朋友的其余 n-1n−1 位朋友对应的亲近程度下标。\n",
    "\n",
    "具体而言，创建 nn 行 nn 列的二维数组 \\textit{order}order，其中 \\textit{order}[i][j]order[i][j] 表示朋友 jj 在 ii 的朋友列表中的亲近程度下标。遍历 \\textit{preferences}preferences 即可填入 \\textit{order}order 中的全部元素的值。\n",
    "\n",
    "所有的朋友被分成 \\frac{n}{2} \n",
    "2\n",
    "n\n",
    "​\n",
    "  对，为了快速知道每位朋友的配对的朋友，对于配对情况也需要进行预处理。创建长度为 nn 的数组 \\textit{match}match，如果 xx 和 yy 配对，则有 \\textit{match}[x]=ymatch[x]=y 以及 \\textit{match}[y]=xmatch[y]=x。\n",
    "\n",
    "进行预处理之后，即可统计不开心的朋友的数目。\n",
    "\n",
    "遍历从 00 到 n-1n−1 的每位朋友 xx，进行如下操作。\n",
    "\n",
    "找到与朋友 xx 配对的朋友 yy。\n",
    "找到朋友 yy 在朋友 xx 的朋友列表中的亲近程度下标，记为 \\textit{index}index。\n",
    "朋友 xx 的朋友列表中的下标从 00 到 \\textit{index}-1index−1 的朋友都是可能的 uu。遍历每个可能的 uu，找到与朋友 uu 配对的朋友 vv。\n",
    "如果 \\textit{order}[u][x] < \\textit{order}[u][v]order[u][x]<order[u][v]，则 xx 是不开心的朋友。\n",
    "需要注意的是，对于每个朋友 xx，只要能找到一个满足条件的四元组 (x,y,u,v)(x,y,u,v)，则 xx 就是不开心的朋友。\n",
    "复杂度分析\n",
    "\n",
    "时间复杂度：O(n^2)O(n \n",
    "2\n",
    " )。\n",
    "预处理需要填入二维数组 \\textit{order}order 和数组 \\textit{match}match 中的值，时间复杂度分别是 O(n^2)O(n \n",
    "2\n",
    " ) 和 O(n)O(n)。\n",
    "统计不开心的朋友的数目时，需要遍历每个 xx，找到满足要求的四元组 (x,y,u,v)(x,y,u,v)，其中遍历 uu 的时间复杂度是 O(n)O(n)，在已知 xx 和 uu 的情况下，可以在 O(1)O(1) 时间内得到 yy 和 vv，因此时间复杂度是 O(n^2)O(n \n",
    "2\n",
    " )。\n",
    "故总时间复杂度是 O(n^2)O(n \n",
    "2\n",
    " )。\n",
    "\n",
    "空间复杂度：O(n^2)O(n \n",
    "2\n",
    " )。空间复杂度取决于预处理时创建的二维数组 \\textit{order}order 和数组 \\textit{match}match，其大小分别为 n \\times nn×n 和 nn，因此空间复杂度是 O(n^2)O(n \n",
    "2\n",
    " )。\n"
   ]
  },
  {
   "cell_type": "code",
   "execution_count": null,
   "metadata": {},
   "outputs": [],
   "source": [
    "class Solution:\n",
    "    def unhappyFriends(self, n: int, preferences: List[List[int]], pairs: List[List[int]]) -> int:\n",
    "        order = [[0] * n for _ in range(n)]\n",
    "        for i in range(n):\n",
    "            for j in range(n - 1):\n",
    "                order[i][preferences[i][j]] = j\n",
    "        \n",
    "        match = [0] * n\n",
    "        for x, y in pairs:\n",
    "            match[x] = y\n",
    "            match[y] = x\n",
    "\n",
    "        unhappyCount = 0\n",
    "        for x in range(n):\n",
    "            y = match[x]\n",
    "            index = order[x][y]\n",
    "            for i in range(index):\n",
    "                u = preferences[x][i]\n",
    "                v = match[u]\n",
    "                if order[u][x] < order[u][v]:\n",
    "                    unhappyCount += 1\n",
    "                    break\n",
    "        \n",
    "        return unhappyCount\n"
   ]
  },
  {
   "cell_type": "code",
   "execution_count": null,
   "metadata": {},
   "outputs": [],
   "source": []
  },
  {
   "cell_type": "code",
   "execution_count": null,
   "metadata": {},
   "outputs": [],
   "source": []
  },
  {
   "cell_type": "code",
   "execution_count": null,
   "metadata": {},
   "outputs": [],
   "source": []
  }
 ],
 "metadata": {
  "kernelspec": {
   "display_name": "Python 3",
   "language": "python",
   "name": "python3"
  },
  "language_info": {
   "codemirror_mode": {
    "name": "ipython",
    "version": 3
   },
   "file_extension": ".py",
   "mimetype": "text/x-python",
   "name": "python",
   "nbconvert_exporter": "python",
   "pygments_lexer": "ipython3",
   "version": "3.7.0"
  }
 },
 "nbformat": 4,
 "nbformat_minor": 2
}
