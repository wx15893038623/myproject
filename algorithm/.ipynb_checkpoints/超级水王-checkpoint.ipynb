{
 "cells": [
  {
   "cell_type": "code",
   "execution_count": 4,
   "metadata": {},
   "outputs": [
    {
     "ename": "SyntaxError",
     "evalue": "invalid syntax (<ipython-input-4-fa999c7bfbf9>, line 1)",
     "output_type": "error",
     "traceback": [
      "\u001b[1;36m  File \u001b[1;32m\"<ipython-input-4-fa999c7bfbf9>\"\u001b[1;36m, line \u001b[1;32m1\u001b[0m\n\u001b[1;33m    int verify(int[] arr){\u001b[0m\n\u001b[1;37m             ^\u001b[0m\n\u001b[1;31mSyntaxError\u001b[0m\u001b[1;31m:\u001b[0m invalid syntax\n"
     ]
    }
   ],
   "source": [
    "public static int a(int[] arr){\n",
    "    if(arr == null || arr.lengh == 0){\n",
    "        return -1;\n",
    "    }\n",
    "    HashMap<Integer,Integer> map = new HashMap<>();\n",
    "    for (int num : arr){\n",
    "        if(map.containsKey(num)){\n",
    "            map.put(num,map.get(num)+1);\n",
    "        } else {\n",
    "            map.put(num,1);\n",
    "        }\n",
    "    }\n",
    "    int N = arr.length;\n",
    "    for (Entry<Integer,Integer> r:map.entrySet()){\n",
    "        if(r.getValue()>(N >> 1)){\n",
    "            return r.getKey();\n",
    "        }\n",
    "    }\n",
    "    return -1\n",
    "}"
   ]
  },
  {
   "cell_type": "code",
   "execution_count": null,
   "metadata": {},
   "outputs": [],
   "source": []
  }
 ],
 "metadata": {
  "kernelspec": {
   "display_name": "Python 3",
   "language": "python",
   "name": "python3"
  },
  "language_info": {
   "codemirror_mode": {
    "name": "ipython",
    "version": 3
   },
   "file_extension": ".py",
   "mimetype": "text/x-python",
   "name": "python",
   "nbconvert_exporter": "python",
   "pygments_lexer": "ipython3",
   "version": "3.7.0"
  }
 },
 "nbformat": 4,
 "nbformat_minor": 2
}
