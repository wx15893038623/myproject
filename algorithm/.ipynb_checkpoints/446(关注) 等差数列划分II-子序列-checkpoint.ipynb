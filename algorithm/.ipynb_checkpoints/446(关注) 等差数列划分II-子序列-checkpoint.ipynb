{
 "cells": [
  {
   "cell_type": "code",
   "execution_count": 3,
   "metadata": {},
   "outputs": [
    {
     "name": "stdout",
     "output_type": "stream",
     "text": [
      "0\n",
      "set()\n",
      "\n",
      "[]\n"
     ]
    }
   ],
   "source": [
    "from collections import defaultdict\n",
    "\n",
    "dict1 = defaultdict(int)\n",
    "dict2 = defaultdict(set)\n",
    "dict3 = defaultdict(str)\n",
    "dict4 = defaultdict(list)\n",
    "dict1[2] ='two'\n",
    "\n",
    "print(dict1[1])\n",
    "print(dict2[1])\n",
    "print(dict3[1])\n",
    "print(dict4[1])"
   ]
  },
  {
   "cell_type": "code",
   "execution_count": 4,
   "metadata": {},
   "outputs": [
    {
     "data": {
      "text/plain": [
       "defaultdict(int, {2: 'two', 1: 0})"
      ]
     },
     "execution_count": 4,
     "metadata": {},
     "output_type": "execute_result"
    }
   ],
   "source": [
    "dict1"
   ]
  },
  {
   "cell_type": "code",
   "execution_count": 5,
   "metadata": {},
   "outputs": [
    {
     "data": {
      "text/plain": [
       "defaultdict(set, {1: set()})"
      ]
     },
     "execution_count": 5,
     "metadata": {},
     "output_type": "execute_result"
    }
   ],
   "source": [
    "dict2"
   ]
  },
  {
   "cell_type": "code",
   "execution_count": 8,
   "metadata": {},
   "outputs": [],
   "source": [
    "f = [defaultdict(int) for _ in range(5)]"
   ]
  },
  {
   "cell_type": "code",
   "execution_count": 13,
   "metadata": {},
   "outputs": [
    {
     "data": {
      "text/plain": [
       "defaultdict(int, {})"
      ]
     },
     "execution_count": 13,
     "metadata": {},
     "output_type": "execute_result"
    }
   ],
   "source": [
    "f[0]"
   ]
  },
  {
   "cell_type": "code",
   "execution_count": 16,
   "metadata": {},
   "outputs": [
    {
     "data": {
      "text/plain": [
       "0"
      ]
     },
     "execution_count": 16,
     "metadata": {},
     "output_type": "execute_result"
    }
   ],
   "source": [
    "f[0][0]"
   ]
  },
  {
   "cell_type": "code",
   "execution_count": 17,
   "metadata": {},
   "outputs": [
    {
     "data": {
      "text/plain": [
       "0"
      ]
     },
     "execution_count": 17,
     "metadata": {},
     "output_type": "execute_result"
    }
   ],
   "source": [
    "f[0][1]"
   ]
  },
  {
   "cell_type": "code",
   "execution_count": null,
   "metadata": {},
   "outputs": [],
   "source": [
    "方法一：动态规划 + 哈希表\n",
    "我们首先考虑至少有两个元素的等差子序列，下文将其称作弱等差子序列。\n",
    "\n",
    "由于尾项和公差可以确定一个等差数列，因此我们定义状态 f[i][d] 表示尾项为 nums[i]，公差为 d 的弱等差子序列的个数。\n",
    "\n",
    "我们用一个二重循环去遍历 nums 中的所有元素对 (nums[i],nums[j])，其中 j<i。将 nums[i] 和 nums[j] 分别当作等差数列的尾项和倒数第二项，则该等差数列的公差 d=nums[i]−nums[j]。由于公差相同，我们可以将 nums[i] 加到以 nums[j] 为尾项，公差为 d 的弱等差子序列的末尾，这对应着状态转移 f[i][d]+=f[j][d]。同时，(nums[i],nums[j]) 这一对元素也可以当作一个弱等差子序列，故有状态转移\n",
    "\n",
    "f[i][d] += f[j][d] + 1\n",
    "\n",
    "\n",
    "由于题目要统计的等差子序列至少有三个元素，我们回顾上述二重循环，其中「将 nums[i] 加到以 nums[j] 为尾项，公差为 d 的弱等差子序列的末尾」这一操作，实际上就构成了一个至少有三个元素的等差子序列，因此我们将循环中的 f[j][d] 累加，即为答案。\n",
    "\n",
    "代码实现时，由于 nums[i] 的范围很大，所以计算出的公差的范围也很大，我们可以将状态转移数组 f 的第二维用哈希表代替。\n",
    "\n",
    "时间复杂度：O(n^2)，其中 n 是数组 nums 的长度。\n",
    "\n",
    "空间复杂度：O(n^2)。"
   ]
  },
  {
   "cell_type": "code",
   "execution_count": 28,
   "metadata": {},
   "outputs": [],
   "source": [
    "def numberOfArithmeticSlices( nums) -> int:\n",
    "    ans = 0\n",
    "    f = [defaultdict(int) for _ in nums]\n",
    "    for i, x in enumerate(nums):\n",
    "        print('==============')\n",
    "        print(i,x)\n",
    "        for j in range(i):\n",
    "            d = x - nums[j]\n",
    "            cnt = f[j][d]\n",
    "            ans += cnt\n",
    "            f[i][d] += cnt + 1\n",
    "            print(f)\n",
    "            print(ans)\n",
    "    return ans\n"
   ]
  },
  {
   "cell_type": "code",
   "execution_count": 29,
   "metadata": {},
   "outputs": [
    {
     "name": "stdout",
     "output_type": "stream",
     "text": [
      "==============\n",
      "0 1\n",
      "==============\n",
      "1 1\n",
      "[defaultdict(<class 'int'>, {0: 0}), defaultdict(<class 'int'>, {0: 1}), defaultdict(<class 'int'>, {}), defaultdict(<class 'int'>, {}), defaultdict(<class 'int'>, {}), defaultdict(<class 'int'>, {})]\n",
      "0\n",
      "==============\n",
      "2 4\n",
      "[defaultdict(<class 'int'>, {0: 0, 3: 0}), defaultdict(<class 'int'>, {0: 1}), defaultdict(<class 'int'>, {3: 1}), defaultdict(<class 'int'>, {}), defaultdict(<class 'int'>, {}), defaultdict(<class 'int'>, {})]\n",
      "0\n",
      "[defaultdict(<class 'int'>, {0: 0, 3: 0}), defaultdict(<class 'int'>, {0: 1, 3: 0}), defaultdict(<class 'int'>, {3: 2}), defaultdict(<class 'int'>, {}), defaultdict(<class 'int'>, {}), defaultdict(<class 'int'>, {})]\n",
      "0\n",
      "==============\n",
      "3 5\n",
      "[defaultdict(<class 'int'>, {0: 0, 3: 0, 4: 0}), defaultdict(<class 'int'>, {0: 1, 3: 0}), defaultdict(<class 'int'>, {3: 2}), defaultdict(<class 'int'>, {4: 1}), defaultdict(<class 'int'>, {}), defaultdict(<class 'int'>, {})]\n",
      "0\n",
      "[defaultdict(<class 'int'>, {0: 0, 3: 0, 4: 0}), defaultdict(<class 'int'>, {0: 1, 3: 0, 4: 0}), defaultdict(<class 'int'>, {3: 2}), defaultdict(<class 'int'>, {4: 2}), defaultdict(<class 'int'>, {}), defaultdict(<class 'int'>, {})]\n",
      "0\n",
      "[defaultdict(<class 'int'>, {0: 0, 3: 0, 4: 0}), defaultdict(<class 'int'>, {0: 1, 3: 0, 4: 0}), defaultdict(<class 'int'>, {3: 2, 1: 0}), defaultdict(<class 'int'>, {4: 2, 1: 1}), defaultdict(<class 'int'>, {}), defaultdict(<class 'int'>, {})]\n",
      "0\n",
      "==============\n",
      "4 7\n",
      "[defaultdict(<class 'int'>, {0: 0, 3: 0, 4: 0, 6: 0}), defaultdict(<class 'int'>, {0: 1, 3: 0, 4: 0}), defaultdict(<class 'int'>, {3: 2, 1: 0}), defaultdict(<class 'int'>, {4: 2, 1: 1}), defaultdict(<class 'int'>, {6: 1}), defaultdict(<class 'int'>, {})]\n",
      "0\n",
      "[defaultdict(<class 'int'>, {0: 0, 3: 0, 4: 0, 6: 0}), defaultdict(<class 'int'>, {0: 1, 3: 0, 4: 0, 6: 0}), defaultdict(<class 'int'>, {3: 2, 1: 0}), defaultdict(<class 'int'>, {4: 2, 1: 1}), defaultdict(<class 'int'>, {6: 2}), defaultdict(<class 'int'>, {})]\n",
      "0\n",
      "[defaultdict(<class 'int'>, {0: 0, 3: 0, 4: 0, 6: 0}), defaultdict(<class 'int'>, {0: 1, 3: 0, 4: 0, 6: 0}), defaultdict(<class 'int'>, {3: 2, 1: 0}), defaultdict(<class 'int'>, {4: 2, 1: 1}), defaultdict(<class 'int'>, {6: 2, 3: 3}), defaultdict(<class 'int'>, {})]\n",
      "2\n",
      "[defaultdict(<class 'int'>, {0: 0, 3: 0, 4: 0, 6: 0}), defaultdict(<class 'int'>, {0: 1, 3: 0, 4: 0, 6: 0}), defaultdict(<class 'int'>, {3: 2, 1: 0}), defaultdict(<class 'int'>, {4: 2, 1: 1, 2: 0}), defaultdict(<class 'int'>, {6: 2, 3: 3, 2: 1}), defaultdict(<class 'int'>, {})]\n",
      "2\n",
      "==============\n",
      "5 9\n",
      "[defaultdict(<class 'int'>, {0: 0, 3: 0, 4: 0, 6: 0, 8: 0}), defaultdict(<class 'int'>, {0: 1, 3: 0, 4: 0, 6: 0}), defaultdict(<class 'int'>, {3: 2, 1: 0}), defaultdict(<class 'int'>, {4: 2, 1: 1, 2: 0}), defaultdict(<class 'int'>, {6: 2, 3: 3, 2: 1}), defaultdict(<class 'int'>, {8: 1})]\n",
      "2\n",
      "[defaultdict(<class 'int'>, {0: 0, 3: 0, 4: 0, 6: 0, 8: 0}), defaultdict(<class 'int'>, {0: 1, 3: 0, 4: 0, 6: 0, 8: 0}), defaultdict(<class 'int'>, {3: 2, 1: 0}), defaultdict(<class 'int'>, {4: 2, 1: 1, 2: 0}), defaultdict(<class 'int'>, {6: 2, 3: 3, 2: 1}), defaultdict(<class 'int'>, {8: 2})]\n",
      "2\n",
      "[defaultdict(<class 'int'>, {0: 0, 3: 0, 4: 0, 6: 0, 8: 0}), defaultdict(<class 'int'>, {0: 1, 3: 0, 4: 0, 6: 0, 8: 0}), defaultdict(<class 'int'>, {3: 2, 1: 0, 5: 0}), defaultdict(<class 'int'>, {4: 2, 1: 1, 2: 0}), defaultdict(<class 'int'>, {6: 2, 3: 3, 2: 1}), defaultdict(<class 'int'>, {8: 2, 5: 1})]\n",
      "2\n",
      "[defaultdict(<class 'int'>, {0: 0, 3: 0, 4: 0, 6: 0, 8: 0}), defaultdict(<class 'int'>, {0: 1, 3: 0, 4: 0, 6: 0, 8: 0}), defaultdict(<class 'int'>, {3: 2, 1: 0, 5: 0}), defaultdict(<class 'int'>, {4: 2, 1: 1, 2: 0}), defaultdict(<class 'int'>, {6: 2, 3: 3, 2: 1}), defaultdict(<class 'int'>, {8: 2, 5: 1, 4: 3})]\n",
      "4\n",
      "[defaultdict(<class 'int'>, {0: 0, 3: 0, 4: 0, 6: 0, 8: 0}), defaultdict(<class 'int'>, {0: 1, 3: 0, 4: 0, 6: 0, 8: 0}), defaultdict(<class 'int'>, {3: 2, 1: 0, 5: 0}), defaultdict(<class 'int'>, {4: 2, 1: 1, 2: 0}), defaultdict(<class 'int'>, {6: 2, 3: 3, 2: 1}), defaultdict(<class 'int'>, {8: 2, 5: 1, 4: 3, 2: 2})]\n",
      "5\n"
     ]
    },
    {
     "data": {
      "text/plain": [
       "5"
      ]
     },
     "execution_count": 29,
     "metadata": {},
     "output_type": "execute_result"
    }
   ],
   "source": [
    "numberOfArithmeticSlices([1,1,4,5,7,9])"
   ]
  },
  {
   "cell_type": "code",
   "execution_count": null,
   "metadata": {},
   "outputs": [],
   "source": []
  }
 ],
 "metadata": {
  "kernelspec": {
   "display_name": "Python 3",
   "language": "python",
   "name": "python3"
  },
  "language_info": {
   "codemirror_mode": {
    "name": "ipython",
    "version": 3
   },
   "file_extension": ".py",
   "mimetype": "text/x-python",
   "name": "python",
   "nbconvert_exporter": "python",
   "pygments_lexer": "ipython3",
   "version": "3.7.0"
  }
 },
 "nbformat": 4,
 "nbformat_minor": 2
}
