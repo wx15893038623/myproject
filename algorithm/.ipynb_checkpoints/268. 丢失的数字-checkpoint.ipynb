{
 "cells": [
  {
   "cell_type": "code",
   "execution_count": null,
   "metadata": {},
   "outputs": [],
   "source": [
    "排序\n",
    "时间复杂度：O(n\\log n)O(nlogn)。由于排序的时间复杂度为 O(n\\log n)O(nlogn)，扫描数组的时间复杂度为 O(n)O(n)，因此总的时间复杂度为 O(n\\log n)O(nlogn)。\n",
    "空间复杂度：O(1)O(1) 或 O(n)O(n)。空间复杂度取决于使用的排序算法，根据排序算法是否进行原地排序（即不使用额外的数组进行临时存储），空间复杂度为 O(1)O(1) 或 O(n)O(n)。\n"
   ]
  },
  {
   "cell_type": "code",
   "execution_count": null,
   "metadata": {},
   "outputs": [],
   "source": [
    "class Solution:\n",
    "    def missingNumber(self, nums):\n",
    "        nums.sort()\n",
    "\n",
    "        # Ensure that n is at the last index\n",
    "        if nums[-1] != len(nums):\n",
    "            return len(nums)\n",
    "        # Ensure that 0 is at the first index\n",
    "        elif nums[0] != 0:\n",
    "            return 0\n",
    "\n",
    "        # If we get here, then the missing number is on the range (0, n)\n",
    "        for i in range(1, len(nums)):\n",
    "            expected_num = nums[i-1] + 1\n",
    "            if nums[i] != expected_num:\n",
    "                return expected_num\n"
   ]
  },
  {
   "cell_type": "code",
   "execution_count": null,
   "metadata": {},
   "outputs": [],
   "source": [
    "哈希表\n",
    "时间复杂度：O(n)O(n)。集合的插入操作的时间复杂度都是 O(1)O(1)，一共插入了 nn 个数，时间复杂度为 O(n)O(n)。集合的查询操作的时间复杂度同样是 O(1)O(1)，最多查询 n+1n+1 次，时间复杂度为 O(n)O(n)。因此总的时间复杂度为 O(n)O(n)。\n",
    "空间复杂度：O(n)O(n)。集合中会存储 nn 个数，因此空间复杂度为 O(n)O(n)。\n"
   ]
  },
  {
   "cell_type": "code",
   "execution_count": null,
   "metadata": {},
   "outputs": [],
   "source": [
    "32 ms\t16.2 MB\n",
    "class Solution:\n",
    "    def missingNumber(self, nums):\n",
    "        num_set = set(nums)\n",
    "        n = len(nums) + 1\n",
    "        for number in range(n):\n",
    "            if number not in num_set:\n",
    "                return number\n",
    "\n"
   ]
  },
  {
   "cell_type": "code",
   "execution_count": null,
   "metadata": {},
   "outputs": [],
   "source": [
    "非哈希"
   ]
  },
  {
   "cell_type": "code",
   "execution_count": null,
   "metadata": {},
   "outputs": [],
   "source": [
    "1524 ms\t15.8 MB\n",
    "class Solution:\n",
    "    def missingNumber(self, nums: List[int]) -> int:\n",
    "        for i in range(len(nums)):\n",
    "            if i not in nums:\n",
    "                return i\n",
    "        return len(nums)"
   ]
  },
  {
   "cell_type": "code",
   "execution_count": null,
   "metadata": {},
   "outputs": [],
   "source": [
    "位运算\n",
    "时间复杂度：O(n)O(n)。这里假设异或运算的时间复杂度是常数的，总共会进行 O(n)O(n) 次异或运算，因此总的时间复杂度为 O(n)O(n)。\n",
    "空间复杂度：O(1)O(1)。算法中只用到了 O(1)O(1) 的额外空间，用来存储答案。\n"
   ]
  },
  {
   "cell_type": "code",
   "execution_count": null,
   "metadata": {},
   "outputs": [],
   "source": [
    "class Solution:\n",
    "    def missingNumber(self, nums):\n",
    "        missing = len(nums)\n",
    "        for i, num in enumerate(nums):\n",
    "            missing ^= i ^ num\n",
    "        return missing\n"
   ]
  },
  {
   "cell_type": "code",
   "execution_count": null,
   "metadata": {},
   "outputs": [],
   "source": [
    "数学\n",
    "时间复杂度：O(n)O(n)。求出数组中所有数的和的时间复杂度为 O(n)O(n)，高斯求和公式的时间复杂度为 O(1)O(1)，因此总的时间复杂度为 O(n)O(n)。\n",
    "空间复杂度：O(1)O(1)。算法中只用到了 O(1)O(1) 的额外空间，用来存储答案。\n"
   ]
  },
  {
   "cell_type": "code",
   "execution_count": null,
   "metadata": {},
   "outputs": [],
   "source": [
    "class Solution:\n",
    "    def missingNumber(self, nums):\n",
    "        expected_sum = len(nums)*(len(nums)+1)//2\n",
    "        actual_sum = sum(nums)\n",
    "        return expected_sum - actual_sum\n",
    "\n"
   ]
  }
 ],
 "metadata": {
  "kernelspec": {
   "display_name": "Python 3",
   "language": "python",
   "name": "python3"
  },
  "language_info": {
   "codemirror_mode": {
    "name": "ipython",
    "version": 3
   },
   "file_extension": ".py",
   "mimetype": "text/x-python",
   "name": "python",
   "nbconvert_exporter": "python",
   "pygments_lexer": "ipython3",
   "version": "3.7.0"
  }
 },
 "nbformat": 4,
 "nbformat_minor": 2
}
