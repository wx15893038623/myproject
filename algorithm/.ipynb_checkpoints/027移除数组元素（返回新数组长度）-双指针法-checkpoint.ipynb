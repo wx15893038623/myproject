{
 "cells": [
  {
   "cell_type": "code",
   "execution_count": 28,
   "metadata": {},
   "outputs": [],
   "source": [
    "def removeElement(nums,val):\n",
    "    if nums is None or len(nums) == 0 :\n",
    "        return 0\n",
    "    l,r = 0,len(nums)-1\n",
    "    while l<r:\n",
    "        while (l<r and nums[l]!=val):\n",
    "            l += 1\n",
    "        while (l<r and nums[r]==val):\n",
    "            r -= 1\n",
    "        nums[l],nums[r] = nums[r],nums[l]\n",
    "    return str(l if nums[l]==val else l+1)+', nums = '+str(nums[:l] if nums[l]==val else nums[:l+1])"
   ]
  },
  {
   "cell_type": "code",
   "execution_count": 29,
   "metadata": {},
   "outputs": [],
   "source": [
    "nums = [1,4,6,7]\n",
    "val = 7"
   ]
  },
  {
   "cell_type": "code",
   "execution_count": 32,
   "metadata": {},
   "outputs": [
    {
     "data": {
      "text/plain": [
       "3"
      ]
     },
     "execution_count": 32,
     "metadata": {},
     "output_type": "execute_result"
    }
   ],
   "source": [
    "removeElement(nums,val)"
   ]
  },
  {
   "cell_type": "code",
   "execution_count": 21,
   "metadata": {},
   "outputs": [
    {
     "data": {
      "text/plain": [
       "'[1, 4, 6, 7]'"
      ]
     },
     "execution_count": 21,
     "metadata": {},
     "output_type": "execute_result"
    }
   ],
   "source": [
    "str([1,4,6,7])"
   ]
  },
  {
   "cell_type": "code",
   "execution_count": 31,
   "metadata": {},
   "outputs": [],
   "source": [
    "def removeElement(nums, val) :\n",
    "    if nums is None or len(nums) == 0 :\n",
    "        return 0\n",
    "    j = 0\n",
    "    for i in range(len(nums)):\n",
    "        if (nums[i] != val) :\n",
    "            nums[j] = nums[i]\n",
    "            j += 1\n",
    "    return j\n"
   ]
  }
 ],
 "metadata": {
  "kernelspec": {
   "display_name": "Python 3",
   "language": "python",
   "name": "python3"
  },
  "language_info": {
   "codemirror_mode": {
    "name": "ipython",
    "version": 3
   },
   "file_extension": ".py",
   "mimetype": "text/x-python",
   "name": "python",
   "nbconvert_exporter": "python",
   "pygments_lexer": "ipython3",
   "version": "3.7.0"
  }
 },
 "nbformat": 4,
 "nbformat_minor": 2
}
