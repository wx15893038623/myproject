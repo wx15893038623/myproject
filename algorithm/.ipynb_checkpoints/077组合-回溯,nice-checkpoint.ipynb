{
 "cells": [
  {
   "cell_type": "markdown",
   "metadata": {},
   "source": [
    "nice\n",
    "\n",
    "排列组合的性质C(m,n)=C(m-1,n)+C(m-1,n-1)"
   ]
  },
  {
   "cell_type": "code",
   "execution_count": 8,
   "metadata": {},
   "outputs": [],
   "source": [
    "\n",
    "def combine(n, k):\n",
    "    if k>n or k==0:\n",
    "        return []\n",
    "    if k==1:\n",
    "        return [[i] for i in range(1,n+1)]\n",
    "    if k==n:\n",
    "        return [[i for i in range(1,n+1)]]\n",
    "\n",
    "    answer=combine(n-1,k)\n",
    "    for item in combine(n-1,k-1):\n",
    "        item.append(n)\n",
    "        answer.append(item)\n",
    "\n",
    "    return answer"
   ]
  },
  {
   "cell_type": "markdown",
   "metadata": {},
   "source": [
    "回溯(错)"
   ]
  },
  {
   "cell_type": "code",
   "execution_count": 10,
   "metadata": {},
   "outputs": [],
   "source": [
    "def combine(n,k):\n",
    "    res = []\n",
    "    backtracking(n,k,res,1,[])\n",
    "    return res\n",
    "def backtracking(n,k, res,begin,listt):\n",
    "    if len(listt)==k:\n",
    "        res.append(listt.copy())\n",
    "        return\n",
    "    for i in range(begin,n):\n",
    "        listt.append(i)\n",
    "        backtracking(n,k,res,i+1,listt)\n",
    "        listt.pop()"
   ]
  },
  {
   "cell_type": "code",
   "execution_count": 11,
   "metadata": {},
   "outputs": [
    {
     "data": {
      "text/plain": [
       "[[1, 2], [1, 3], [2, 3]]"
      ]
     },
     "execution_count": 11,
     "metadata": {},
     "output_type": "execute_result"
    }
   ],
   "source": [
    "combine(4,2)"
   ]
  }
 ],
 "metadata": {
  "kernelspec": {
   "display_name": "Python 3",
   "language": "python",
   "name": "python3"
  },
  "language_info": {
   "codemirror_mode": {
    "name": "ipython",
    "version": 3
   },
   "file_extension": ".py",
   "mimetype": "text/x-python",
   "name": "python",
   "nbconvert_exporter": "python",
   "pygments_lexer": "ipython3",
   "version": "3.7.0"
  }
 },
 "nbformat": 4,
 "nbformat_minor": 2
}
