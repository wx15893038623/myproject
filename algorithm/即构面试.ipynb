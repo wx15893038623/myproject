{
 "cells": [
  {
   "cell_type": "code",
   "execution_count": 3,
   "metadata": {},
   "outputs": [],
   "source": [
    "class Node():\n",
    "    def __init__(self,x):\n",
    "        self.data = x\n",
    "        self.next = None"
   ]
  },
  {
   "cell_type": "code",
   "execution_count": null,
   "metadata": {},
   "outputs": [],
   "source": [
    "head"
   ]
  },
  {
   "cell_type": "code",
   "execution_count": null,
   "metadata": {},
   "outputs": [],
   "source": [
    "cur = head\n",
    "i = 1\n",
    "while cur:\n",
    "    summ = 0\n",
    "        \n",
    "    with open('saved_(%s).bat'%i,'r') as f:\n",
    "        con = cur.data\n",
    "        con.replace('\\n','-')\n",
    "        summ += len(con)\n",
    "        if summ < 1024:\n",
    "\n",
    "            f.write(con)\n",
    "            cur = cur.next\n",
    "        else:\n",
    "            i += 1\n",
    "            f.close()\n",
    "            break\n",
    "\n",
    "######\n",
    "\n",
    "        \n",
    "    "
   ]
  }
 ],
 "metadata": {
  "kernelspec": {
   "display_name": "Python 3",
   "language": "python",
   "name": "python3"
  },
  "language_info": {
   "codemirror_mode": {
    "name": "ipython",
    "version": 3
   },
   "file_extension": ".py",
   "mimetype": "text/x-python",
   "name": "python",
   "nbconvert_exporter": "python",
   "pygments_lexer": "ipython3",
   "version": "3.7.0"
  }
 },
 "nbformat": 4,
 "nbformat_minor": 2
}
