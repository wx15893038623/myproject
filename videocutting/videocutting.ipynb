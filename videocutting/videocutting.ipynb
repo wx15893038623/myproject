{
 "cells": [
  {
   "cell_type": "code",
   "execution_count": 8,
   "metadata": {},
   "outputs": [
    {
     "data": {
      "text/plain": [
       "0"
      ]
     },
     "execution_count": 8,
     "metadata": {},
     "output_type": "execute_result"
    }
   ],
   "source": [
    "subprocess.call('D:/Program Files/ffmpeg-20190407-8607e29-win64-static/bin/ffmpeg.exe -y -i in.mp4 -ss 00:00:00.018 -t 00:00:03.012 -acodec copy -vcodec copy -async 1 1.mp4')"
   ]
  },
  {
   "cell_type": "code",
   "execution_count": null,
   "metadata": {
    "collapsed": true
   },
   "outputs": [],
   "source": []
  },
  {
   "cell_type": "code",
   "execution_count": null,
   "metadata": {
    "collapsed": true
   },
   "outputs": [],
   "source": []
  },
  {
   "cell_type": "code",
   "execution_count": 1,
   "metadata": {
    "collapsed": true
   },
   "outputs": [],
   "source": [
    "from ffmpy3 import FFmpeg"
   ]
  },
  {
   "cell_type": "code",
   "execution_count": 2,
   "metadata": {
    "collapsed": true
   },
   "outputs": [],
   "source": [
    "import subprocess"
   ]
  },
  {
   "cell_type": "code",
   "execution_count": 3,
   "metadata": {
    "collapsed": true
   },
   "outputs": [],
   "source": [
    "import pandas as pd"
   ]
  },
  {
   "cell_type": "code",
   "execution_count": 4,
   "metadata": {
    "collapsed": true
   },
   "outputs": [],
   "source": [
    "f = FFmpeg('in.mp4')"
   ]
  },
  {
   "cell_type": "code",
   "execution_count": 12,
   "metadata": {
    "collapsed": true
   },
   "outputs": [],
   "source": [
    "a = pd.read_csv('lineee.csv')"
   ]
  },
  {
   "cell_type": "code",
   "execution_count": 13,
   "metadata": {
    "collapsed": true
   },
   "outputs": [],
   "source": [
    "a.set_index(['id'], inplace=True)"
   ]
  },
  {
   "cell_type": "code",
   "execution_count": 17,
   "metadata": {},
   "outputs": [],
   "source": [
    "for i in a.index:\n",
    "    subprocess.call('D:/Program Files/ffmpeg-20190407-8607e29-win64-static/bin/ffmpeg.exe -y -i in.mp4 -ss %s -t %s -acodec copy -vcodec copy -async 1 %i.mp4'%(a.b[i],a.c[i],i))"
   ]
  },
  {
   "cell_type": "code",
   "execution_count": 16,
   "metadata": {},
   "outputs": [
    {
     "data": {
      "text/html": [
       "<div>\n",
       "<style>\n",
       "    .dataframe thead tr:only-child th {\n",
       "        text-align: right;\n",
       "    }\n",
       "\n",
       "    .dataframe thead th {\n",
       "        text-align: left;\n",
       "    }\n",
       "\n",
       "    .dataframe tbody tr th {\n",
       "        vertical-align: top;\n",
       "    }\n",
       "</style>\n",
       "<table border=\"1\" class=\"dataframe\">\n",
       "  <thead>\n",
       "    <tr style=\"text-align: right;\">\n",
       "      <th></th>\n",
       "      <th>b</th>\n",
       "      <th>e</th>\n",
       "      <th>x</th>\n",
       "      <th>y</th>\n",
       "      <th>l</th>\n",
       "      <th>c</th>\n",
       "    </tr>\n",
       "    <tr>\n",
       "      <th>id</th>\n",
       "      <th></th>\n",
       "      <th></th>\n",
       "      <th></th>\n",
       "      <th></th>\n",
       "      <th></th>\n",
       "      <th></th>\n",
       "    </tr>\n",
       "  </thead>\n",
       "  <tbody>\n",
       "    <tr>\n",
       "      <th>1</th>\n",
       "      <td>00:00:25.525</td>\n",
       "      <td>00:00:29.904</td>\n",
       "      <td>&lt;i&gt;This is the Asgardian</td>\n",
       "      <td>refugee vessel &lt;/i&gt;Statesman&lt;i&gt;.&lt;/i&gt;</td>\n",
       "      <td>&lt;i&gt;This is the Asgardian refugee vessel &lt;/i&gt;St...</td>\n",
       "      <td>00:00:04.379</td>\n",
       "    </tr>\n",
       "    <tr>\n",
       "      <th>2</th>\n",
       "      <td>00:00:32.657</td>\n",
       "      <td>00:00:36.119</td>\n",
       "      <td>&lt;i&gt;We are under assault.</td>\n",
       "      <td>I repeat. we are under assault.&lt;/i&gt;</td>\n",
       "      <td>&lt;i&gt;We are under assault. I repeat. we are unde...</td>\n",
       "      <td>00:00:03.462</td>\n",
       "    </tr>\n",
       "    <tr>\n",
       "      <th>3</th>\n",
       "      <td>00:00:36.286</td>\n",
       "      <td>00:00:39.831</td>\n",
       "      <td>&lt;i&gt;The engines are dead. life support failing....</td>\n",
       "      <td>NaN</td>\n",
       "      <td>&lt;i&gt;The engines are dead. life support failing....</td>\n",
       "      <td>00:00:03.545</td>\n",
       "    </tr>\n",
       "    <tr>\n",
       "      <th>4</th>\n",
       "      <td>00:00:39.998</td>\n",
       "      <td>00:00:42.959</td>\n",
       "      <td>&lt;i&gt;Requesting aid from any vessel within range...</td>\n",
       "      <td>NaN</td>\n",
       "      <td>&lt;i&gt;Requesting aid from any vessel within range...</td>\n",
       "      <td>00:00:02.961</td>\n",
       "    </tr>\n",
       "    <tr>\n",
       "      <th>5</th>\n",
       "      <td>00:00:43.126</td>\n",
       "      <td>00:00:46.087</td>\n",
       "      <td>&lt;i&gt;We are 22 jump points out of Asgard.&lt;/i&gt;</td>\n",
       "      <td>NaN</td>\n",
       "      <td>&lt;i&gt;We are 22 jump points out of Asgard.&lt;/i&gt;</td>\n",
       "      <td>00:00:02.961</td>\n",
       "    </tr>\n",
       "    <tr>\n",
       "      <th>6</th>\n",
       "      <td>00:00:47.088</td>\n",
       "      <td>00:00:51.343</td>\n",
       "      <td>&lt;i&gt;Our crew is made up of Asgardian families.</td>\n",
       "      <td>We have very few soldiers here.&lt;/i&gt;</td>\n",
       "      <td>&lt;i&gt;Our crew is made up of Asgardian families. ...</td>\n",
       "      <td>00:00:04.255</td>\n",
       "    </tr>\n",
       "    <tr>\n",
       "      <th>7</th>\n",
       "      <td>00:00:51.509</td>\n",
       "      <td>00:00:55.472</td>\n",
       "      <td>&lt;i&gt;This is not a warcraft.</td>\n",
       "      <td>I repeat. this is not a warcraft.&lt;/i&gt;</td>\n",
       "      <td>&lt;i&gt;This is not a warcraft. I repeat. this is n...</td>\n",
       "      <td>00:00:03.963</td>\n",
       "    </tr>\n",
       "    <tr>\n",
       "      <th>8</th>\n",
       "      <td>00:01:08.943</td>\n",
       "      <td>00:01:11.946</td>\n",
       "      <td>Hear me and rejoice.</td>\n",
       "      <td>NaN</td>\n",
       "      <td>Hear me and rejoice.</td>\n",
       "      <td>00:00:03.003</td>\n",
       "    </tr>\n",
       "    <tr>\n",
       "      <th>9</th>\n",
       "      <td>00:01:15.742</td>\n",
       "      <td>00:01:20.747</td>\n",
       "      <td>You have had the privilege</td>\n",
       "      <td>of being saved by the Great Titan.</td>\n",
       "      <td>You have had the privilege of being saved by t...</td>\n",
       "      <td>00:00:05.005</td>\n",
       "    </tr>\n",
       "    <tr>\n",
       "      <th>10</th>\n",
       "      <td>00:01:23.708</td>\n",
       "      <td>00:01:25.919</td>\n",
       "      <td>You may think this is suffering.</td>\n",
       "      <td>NaN</td>\n",
       "      <td>You may think this is suffering.</td>\n",
       "      <td>00:00:02.211</td>\n",
       "    </tr>\n",
       "    <tr>\n",
       "      <th>11</th>\n",
       "      <td>00:01:27.128</td>\n",
       "      <td>00:01:28.129</td>\n",
       "      <td>No.</td>\n",
       "      <td>NaN</td>\n",
       "      <td>No.</td>\n",
       "      <td>00:00:01.001</td>\n",
       "    </tr>\n",
       "    <tr>\n",
       "      <th>12</th>\n",
       "      <td>00:01:29.172</td>\n",
       "      <td>00:01:31.508</td>\n",
       "      <td>It is salvation.</td>\n",
       "      <td>NaN</td>\n",
       "      <td>It is salvation.</td>\n",
       "      <td>00:00:02.336</td>\n",
       "    </tr>\n",
       "    <tr>\n",
       "      <th>13</th>\n",
       "      <td>00:01:35.387</td>\n",
       "      <td>00:01:40.934</td>\n",
       "      <td>Universal scales tip toward balance</td>\n",
       "      <td>because of your sacrifice.</td>\n",
       "      <td>Universal scales tip toward balance because of...</td>\n",
       "      <td>00:00:05.547</td>\n",
       "    </tr>\n",
       "    <tr>\n",
       "      <th>14</th>\n",
       "      <td>00:01:42.560</td>\n",
       "      <td>00:01:44.020</td>\n",
       "      <td>Smile.</td>\n",
       "      <td>NaN</td>\n",
       "      <td>Smile.</td>\n",
       "      <td>00:00:01.460</td>\n",
       "    </tr>\n",
       "    <tr>\n",
       "      <th>15</th>\n",
       "      <td>00:01:45.021</td>\n",
       "      <td>00:01:49.859</td>\n",
       "      <td>For even in death.</td>\n",
       "      <td>you have become Children of Thanos.</td>\n",
       "      <td>For even in death. you have become Children of...</td>\n",
       "      <td>00:00:04.838</td>\n",
       "    </tr>\n",
       "    <tr>\n",
       "      <th>16</th>\n",
       "      <td>00:02:05.291</td>\n",
       "      <td>00:02:07.335</td>\n",
       "      <td>I know what it's like to lose.</td>\n",
       "      <td>NaN</td>\n",
       "      <td>I know what it's like to lose.</td>\n",
       "      <td>00:00:02.044</td>\n",
       "    </tr>\n",
       "    <tr>\n",
       "      <th>17</th>\n",
       "      <td>00:02:09.504</td>\n",
       "      <td>00:02:12.465</td>\n",
       "      <td>To feel so desperately</td>\n",
       "      <td>that you're right...</td>\n",
       "      <td>To feel so desperately that you're right...</td>\n",
       "      <td>00:00:02.961</td>\n",
       "    </tr>\n",
       "    <tr>\n",
       "      <th>18</th>\n",
       "      <td>00:02:13.216</td>\n",
       "      <td>00:02:15.969</td>\n",
       "      <td>yet to fail. nonetheless.</td>\n",
       "      <td>NaN</td>\n",
       "      <td>yet to fail. nonetheless.</td>\n",
       "      <td>00:00:02.753</td>\n",
       "    </tr>\n",
       "    <tr>\n",
       "      <th>19</th>\n",
       "      <td>00:02:24.060</td>\n",
       "      <td>00:02:25.687</td>\n",
       "      <td>It's frightening.</td>\n",
       "      <td>NaN</td>\n",
       "      <td>It's frightening.</td>\n",
       "      <td>00:00:01.627</td>\n",
       "    </tr>\n",
       "  </tbody>\n",
       "</table>\n",
       "</div>"
      ],
      "text/plain": [
       "               b             e  \\\n",
       "id                               \n",
       "1   00:00:25.525  00:00:29.904   \n",
       "2   00:00:32.657  00:00:36.119   \n",
       "3   00:00:36.286  00:00:39.831   \n",
       "4   00:00:39.998  00:00:42.959   \n",
       "5   00:00:43.126  00:00:46.087   \n",
       "6   00:00:47.088  00:00:51.343   \n",
       "7   00:00:51.509  00:00:55.472   \n",
       "8   00:01:08.943  00:01:11.946   \n",
       "9   00:01:15.742  00:01:20.747   \n",
       "10  00:01:23.708  00:01:25.919   \n",
       "11  00:01:27.128  00:01:28.129   \n",
       "12  00:01:29.172  00:01:31.508   \n",
       "13  00:01:35.387  00:01:40.934   \n",
       "14  00:01:42.560  00:01:44.020   \n",
       "15  00:01:45.021  00:01:49.859   \n",
       "16  00:02:05.291  00:02:07.335   \n",
       "17  00:02:09.504  00:02:12.465   \n",
       "18  00:02:13.216  00:02:15.969   \n",
       "19  00:02:24.060  00:02:25.687   \n",
       "\n",
       "                                                    x  \\\n",
       "id                                                      \n",
       "1                            <i>This is the Asgardian   \n",
       "2                            <i>We are under assault.   \n",
       "3   <i>The engines are dead. life support failing....   \n",
       "4   <i>Requesting aid from any vessel within range...   \n",
       "5         <i>We are 22 jump points out of Asgard.</i>   \n",
       "6       <i>Our crew is made up of Asgardian families.   \n",
       "7                          <i>This is not a warcraft.   \n",
       "8                                Hear me and rejoice.   \n",
       "9                          You have had the privilege   \n",
       "10                   You may think this is suffering.   \n",
       "11                                                No.   \n",
       "12                                   It is salvation.   \n",
       "13                Universal scales tip toward balance   \n",
       "14                                             Smile.   \n",
       "15                                 For even in death.   \n",
       "16                     I know what it's like to lose.   \n",
       "17                             To feel so desperately   \n",
       "18                          yet to fail. nonetheless.   \n",
       "19                                  It's frightening.   \n",
       "\n",
       "                                        y  \\\n",
       "id                                          \n",
       "1    refugee vessel </i>Statesman<i>.</i>   \n",
       "2     I repeat. we are under assault.</i>   \n",
       "3                                     NaN   \n",
       "4                                     NaN   \n",
       "5                                     NaN   \n",
       "6     We have very few soldiers here.</i>   \n",
       "7   I repeat. this is not a warcraft.</i>   \n",
       "8                                     NaN   \n",
       "9      of being saved by the Great Titan.   \n",
       "10                                    NaN   \n",
       "11                                    NaN   \n",
       "12                                    NaN   \n",
       "13             because of your sacrifice.   \n",
       "14                                    NaN   \n",
       "15    you have become Children of Thanos.   \n",
       "16                                    NaN   \n",
       "17                   that you're right...   \n",
       "18                                    NaN   \n",
       "19                                    NaN   \n",
       "\n",
       "                                                    l             c  \n",
       "id                                                                   \n",
       "1   <i>This is the Asgardian refugee vessel </i>St...  00:00:04.379  \n",
       "2   <i>We are under assault. I repeat. we are unde...  00:00:03.462  \n",
       "3   <i>The engines are dead. life support failing....  00:00:03.545  \n",
       "4   <i>Requesting aid from any vessel within range...  00:00:02.961  \n",
       "5         <i>We are 22 jump points out of Asgard.</i>  00:00:02.961  \n",
       "6   <i>Our crew is made up of Asgardian families. ...  00:00:04.255  \n",
       "7   <i>This is not a warcraft. I repeat. this is n...  00:00:03.963  \n",
       "8                                Hear me and rejoice.  00:00:03.003  \n",
       "9   You have had the privilege of being saved by t...  00:00:05.005  \n",
       "10                   You may think this is suffering.  00:00:02.211  \n",
       "11                                                No.  00:00:01.001  \n",
       "12                                   It is salvation.  00:00:02.336  \n",
       "13  Universal scales tip toward balance because of...  00:00:05.547  \n",
       "14                                             Smile.  00:00:01.460  \n",
       "15  For even in death. you have become Children of...  00:00:04.838  \n",
       "16                     I know what it's like to lose.  00:00:02.044  \n",
       "17        To feel so desperately that you're right...  00:00:02.961  \n",
       "18                          yet to fail. nonetheless.  00:00:02.753  \n",
       "19                                  It's frightening.  00:00:01.627  "
      ]
     },
     "execution_count": 16,
     "metadata": {},
     "output_type": "execute_result"
    }
   ],
   "source": [
    "a"
   ]
  },
  {
   "cell_type": "code",
   "execution_count": 5,
   "metadata": {
    "scrolled": true
   },
   "outputs": [
    {
     "ename": "NameError",
     "evalue": "name 'a' is not defined",
     "output_type": "error",
     "traceback": [
      "\u001b[1;31m---------------------------------------------------------------------------\u001b[0m",
      "\u001b[1;31mNameError\u001b[0m                                 Traceback (most recent call last)",
      "\u001b[1;32m<ipython-input-5-3a9f6ab2d9ab>\u001b[0m in \u001b[0;36m<module>\u001b[1;34m()\u001b[0m\n\u001b[1;32m----> 1\u001b[1;33m \u001b[0msubprocess\u001b[0m\u001b[1;33m.\u001b[0m\u001b[0mcall\u001b[0m\u001b[1;33m(\u001b[0m\u001b[1;34m'D:/Program Files/ffmpeg-20190407-8607e29-win64-static/bin/ffmpeg.exe -y -i in.mp4 -ss %s -t %s -acodec copy -vcodec copy -async 1 2.mp4'\u001b[0m\u001b[1;33m%\u001b[0m\u001b[1;33m(\u001b[0m\u001b[0ma\u001b[0m\u001b[1;33m.\u001b[0m\u001b[0mb\u001b[0m\u001b[1;33m[\u001b[0m\u001b[1;36m3\u001b[0m\u001b[1;33m]\u001b[0m\u001b[1;33m,\u001b[0m\u001b[0ma\u001b[0m\u001b[1;33m.\u001b[0m\u001b[0me\u001b[0m\u001b[1;33m[\u001b[0m\u001b[1;36m3\u001b[0m\u001b[1;33m]\u001b[0m\u001b[1;33m)\u001b[0m\u001b[1;33m)\u001b[0m\u001b[1;33m\u001b[0m\u001b[0m\n\u001b[0m",
      "\u001b[1;31mNameError\u001b[0m: name 'a' is not defined"
     ]
    }
   ],
   "source": [
    "subprocess.call('D:/Program Files/ffmpeg-20190407-8607e29-win64-static/bin/ffmpeg.exe -y -i in.mp4 -ss %s -t %s -acodec copy -vcodec copy -async 1 2.mp4'%(a.b[3],a.e[3]))"
   ]
  },
  {
   "cell_type": "code",
   "execution_count": 22,
   "metadata": {},
   "outputs": [
    {
     "name": "stdout",
     "output_type": "stream",
     "text": [
      "00:00:32.657\n"
     ]
    }
   ],
   "source": [
    "print('%s'%a.b[2])"
   ]
  },
  {
   "cell_type": "code",
   "execution_count": 41,
   "metadata": {
    "scrolled": true
   },
   "outputs": [
    {
     "name": "stdout",
     "output_type": "stream",
     "text": [
      "00:00:32.657 <i>We are under assault. I repeat. we are under assault.</i>\n"
     ]
    }
   ],
   "source": [
    "print('%s %s'%(a.b[2],a.l[2]))"
   ]
  },
  {
   "cell_type": "code",
   "execution_count": 50,
   "metadata": {},
   "outputs": [
    {
     "data": {
      "text/plain": [
       "'00:00:36.119'"
      ]
     },
     "execution_count": 50,
     "metadata": {},
     "output_type": "execute_result"
    }
   ],
   "source": [
    "a.e[2]"
   ]
  },
  {
   "cell_type": "code",
   "execution_count": 17,
   "metadata": {},
   "outputs": [
    {
     "data": {
      "text/plain": [
       "'<i>We are under assault. I repeat. we are under assault.</i>'"
      ]
     },
     "execution_count": 17,
     "metadata": {},
     "output_type": "execute_result"
    }
   ],
   "source": [
    "a.l[2]"
   ]
  },
  {
   "cell_type": "code",
   "execution_count": 15,
   "metadata": {},
   "outputs": [
    {
     "data": {
      "text/html": [
       "<div>\n",
       "<style>\n",
       "    .dataframe thead tr:only-child th {\n",
       "        text-align: right;\n",
       "    }\n",
       "\n",
       "    .dataframe thead th {\n",
       "        text-align: left;\n",
       "    }\n",
       "\n",
       "    .dataframe tbody tr th {\n",
       "        vertical-align: top;\n",
       "    }\n",
       "</style>\n",
       "<table border=\"1\" class=\"dataframe\">\n",
       "  <thead>\n",
       "    <tr style=\"text-align: right;\">\n",
       "      <th></th>\n",
       "      <th>b</th>\n",
       "      <th>e</th>\n",
       "      <th>x</th>\n",
       "      <th>y</th>\n",
       "      <th>l</th>\n",
       "    </tr>\n",
       "    <tr>\n",
       "      <th>id</th>\n",
       "      <th></th>\n",
       "      <th></th>\n",
       "      <th></th>\n",
       "      <th></th>\n",
       "      <th></th>\n",
       "    </tr>\n",
       "  </thead>\n",
       "  <tbody>\n",
       "    <tr>\n",
       "      <th>1</th>\n",
       "      <td>00:00:25.525</td>\n",
       "      <td>00:00:29.904</td>\n",
       "      <td>&lt;i&gt;This is the Asgardian</td>\n",
       "      <td>refugee vessel &lt;/i&gt;Statesman&lt;i&gt;.&lt;/i&gt;</td>\n",
       "      <td>&lt;i&gt;This is the Asgardian refugee vessel &lt;/i&gt;St...</td>\n",
       "    </tr>\n",
       "    <tr>\n",
       "      <th>2</th>\n",
       "      <td>00:00:32.657</td>\n",
       "      <td>00:00:36.119</td>\n",
       "      <td>&lt;i&gt;We are under assault.</td>\n",
       "      <td>I repeat. we are under assault.&lt;/i&gt;</td>\n",
       "      <td>&lt;i&gt;We are under assault. I repeat. we are unde...</td>\n",
       "    </tr>\n",
       "    <tr>\n",
       "      <th>3</th>\n",
       "      <td>00:00:36.286</td>\n",
       "      <td>00:00:39.831</td>\n",
       "      <td>&lt;i&gt;The engines are dead. life support failing....</td>\n",
       "      <td>NaN</td>\n",
       "      <td>&lt;i&gt;The engines are dead. life support failing....</td>\n",
       "    </tr>\n",
       "    <tr>\n",
       "      <th>4</th>\n",
       "      <td>00:00:39.998</td>\n",
       "      <td>00:00:42.959</td>\n",
       "      <td>&lt;i&gt;Requesting aid from any vessel within range...</td>\n",
       "      <td>NaN</td>\n",
       "      <td>&lt;i&gt;Requesting aid from any vessel within range...</td>\n",
       "    </tr>\n",
       "    <tr>\n",
       "      <th>5</th>\n",
       "      <td>00:00:43.126</td>\n",
       "      <td>00:00:46.087</td>\n",
       "      <td>&lt;i&gt;We are 22 jump points out of Asgard.&lt;/i&gt;</td>\n",
       "      <td>NaN</td>\n",
       "      <td>&lt;i&gt;We are 22 jump points out of Asgard.&lt;/i&gt;</td>\n",
       "    </tr>\n",
       "  </tbody>\n",
       "</table>\n",
       "</div>"
      ],
      "text/plain": [
       "               b             e  \\\n",
       "id                               \n",
       "1   00:00:25.525  00:00:29.904   \n",
       "2   00:00:32.657  00:00:36.119   \n",
       "3   00:00:36.286  00:00:39.831   \n",
       "4   00:00:39.998  00:00:42.959   \n",
       "5   00:00:43.126  00:00:46.087   \n",
       "\n",
       "                                                    x  \\\n",
       "id                                                      \n",
       "1                            <i>This is the Asgardian   \n",
       "2                            <i>We are under assault.   \n",
       "3   <i>The engines are dead. life support failing....   \n",
       "4   <i>Requesting aid from any vessel within range...   \n",
       "5         <i>We are 22 jump points out of Asgard.</i>   \n",
       "\n",
       "                                       y  \\\n",
       "id                                         \n",
       "1   refugee vessel </i>Statesman<i>.</i>   \n",
       "2    I repeat. we are under assault.</i>   \n",
       "3                                    NaN   \n",
       "4                                    NaN   \n",
       "5                                    NaN   \n",
       "\n",
       "                                                    l  \n",
       "id                                                     \n",
       "1   <i>This is the Asgardian refugee vessel </i>St...  \n",
       "2   <i>We are under assault. I repeat. we are unde...  \n",
       "3   <i>The engines are dead. life support failing....  \n",
       "4   <i>Requesting aid from any vessel within range...  \n",
       "5         <i>We are 22 jump points out of Asgard.</i>  "
      ]
     },
     "execution_count": 15,
     "metadata": {},
     "output_type": "execute_result"
    }
   ],
   "source": [
    "a.head()"
   ]
  },
  {
   "cell_type": "code",
   "execution_count": 51,
   "metadata": {},
   "outputs": [
    {
     "name": "stdout",
     "output_type": "stream",
     "text": [
      "D:/Program Files/ffmpeg-20190407-8607e29-win64-static/bin/ffmpeg.exe -y -i in.mp4 -ss 00:00:36.286 -t 00:00:39.831 -acodec copy -vcodec copy -async 1 2.mp4\n"
     ]
    }
   ],
   "source": [
    "print(('D:/Program Files/ffmpeg-20190407-8607e29-win64-static/bin/ffmpeg.exe -y -i in.mp4 -ss %s -t %s -acodec copy -vcodec copy -async 1 2.mp4'%(a.b[3],a.e[3])))"
   ]
  },
  {
   "cell_type": "code",
   "execution_count": 9,
   "metadata": {},
   "outputs": [
    {
     "data": {
      "text/plain": [
       "0"
      ]
     },
     "execution_count": 9,
     "metadata": {},
     "output_type": "execute_result"
    }
   ],
   "source": [
    "subprocess.call('D:/Program Files/ffmpeg-20190407-8607e29-win64-static/bin/ffmpeg.exe -y -i in.mp4 -ss 00:00:36.286000 -t 00:00:39.831000 -acodec copy -vcodec copy -async 1 2.mp4')"
   ]
  }
 ],
 "metadata": {
  "kernelspec": {
   "display_name": "Python 3",
   "language": "python",
   "name": "python3"
  },
  "language_info": {
   "codemirror_mode": {
    "name": "ipython",
    "version": 3
   },
   "file_extension": ".py",
   "mimetype": "text/x-python",
   "name": "python",
   "nbconvert_exporter": "python",
   "pygments_lexer": "ipython3",
   "version": "3.7.0"
  }
 },
 "nbformat": 4,
 "nbformat_minor": 2
}
