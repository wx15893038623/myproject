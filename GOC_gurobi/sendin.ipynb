{
 "cells": [
  {
   "cell_type": "code",
   "execution_count": 1,
   "metadata": {
    "collapsed": true
   },
   "outputs": [],
   "source": [
    "import sys\n",
    "import pandas as pd\n",
    "from gurobipy import *\n",
    "import time"
   ]
  },
  {
   "cell_type": "code",
   "execution_count": 2,
   "metadata": {
    "collapsed": true
   },
   "outputs": [],
   "source": [
    "start_code = time.time()"
   ]
  },
  {
   "cell_type": "code",
   "execution_count": 3,
   "metadata": {
    "collapsed": true
   },
   "outputs": [],
   "source": [
    "data = pd.read_excel('收货.xls')\n",
    "dist = pd.read_csv('inputdistancetime_5_1201.csv')\n",
    "node = list(data['ID'])\n",
    "data.set_index([\"ID\"], inplace=True)"
   ]
  },
  {
   "cell_type": "code",
   "execution_count": null,
   "metadata": {
    "collapsed": true
   },
   "outputs": [],
   "source": []
  },
  {
   "cell_type": "code",
   "execution_count": 4,
   "metadata": {
    "collapsed": true
   },
   "outputs": [],
   "source": [
    "s = len(data[data['type'] == 4])  #充电桩个数"
   ]
  },
  {
   "cell_type": "code",
   "execution_count": 5,
   "metadata": {},
   "outputs": [
    {
     "data": {
      "text/plain": [
       "100"
      ]
     },
     "execution_count": 5,
     "metadata": {},
     "output_type": "execute_result"
    }
   ],
   "source": [
    "s"
   ]
  },
  {
   "cell_type": "code",
   "execution_count": 6,
   "metadata": {
    "collapsed": true
   },
   "outputs": [],
   "source": [
    "#电动车状态\n",
    "Battery = 120000.0\n",
    "Capacity = 2.5\n",
    "Volume = 16\n",
    "Consume = 1.0\n",
    "SwapTime = 30.0\n",
    "\n",
    "Demand = {}\n",
    "Vol_Demand = {}\n",
    "ReaTime = {}\n",
    "DueTime = {}\n",
    "SerTime = 30.0\n",
    "Distance = {}\n",
    "Time = {}"
   ]
  },
  {
   "cell_type": "code",
   "execution_count": null,
   "metadata": {
    "collapsed": true,
    "scrolled": true
   },
   "outputs": [],
   "source": []
  },
  {
   "cell_type": "code",
   "execution_count": 7,
   "metadata": {
    "collapsed": true
   },
   "outputs": [],
   "source": [
    "for i in node:\n",
    "    Demand[i] = data.loc[i,'pack_total_weight']\n",
    "    Vol_Demand[i] = data.loc[i,'pack_total_volume']\n",
    "    ReaTime[i] = int(data.loc[i,'first_receive_tm'])\n",
    "    DueTime[i] = int(data.loc[i,'last_receive_tm'])"
   ]
  },
  {
   "cell_type": "code",
   "execution_count": 9,
   "metadata": {},
   "outputs": [
    {
     "data": {
      "text/plain": [
       "210"
      ]
     },
     "execution_count": 9,
     "metadata": {},
     "output_type": "execute_result"
    }
   ],
   "source": [
    "ReaTime[50001]"
   ]
  },
  {
   "cell_type": "code",
   "execution_count": 10,
   "metadata": {
    "collapsed": true
   },
   "outputs": [],
   "source": [
    "#距离和时间\n",
    "node.append(2000)\n",
    "for i in dist.index:\n",
    "    Distance[dist.loc[i,'from_node'],dist.loc[i,'to_node']] = dist.loc[i,'distance']\n",
    "    Time[dist.loc[i,'from_node'],dist.loc[i,'to_node']] = dist.loc[i,'spend_tm']"
   ]
  },
  {
   "cell_type": "code",
   "execution_count": 11,
   "metadata": {},
   "outputs": [
    {
     "data": {
      "text/plain": [
       "68"
      ]
     },
     "execution_count": 11,
     "metadata": {},
     "output_type": "execute_result"
    }
   ],
   "source": [
    "Time[0,50001]"
   ]
  },
  {
   "cell_type": "code",
   "execution_count": 12,
   "metadata": {},
   "outputs": [
    {
     "data": {
      "text/plain": [
       "2000"
      ]
     },
     "execution_count": 12,
     "metadata": {},
     "output_type": "execute_result"
    }
   ],
   "source": [
    "node[1001]"
   ]
  },
  {
   "cell_type": "code",
   "execution_count": 13,
   "metadata": {
    "collapsed": true
   },
   "outputs": [],
   "source": [
    "##回来的点\n",
    "for i in node:\n",
    "    if i not in [0,2000]:\n",
    "        Distance[2000,i] = Distance[0,i]\n",
    "        Distance[i,2000] = Distance[i,0]\n",
    "        Time[i,2000] = Time[i,0]\n",
    "        Time[2000,i] = Time[0,i]\n",
    "Distance[0,2000] = Distance[2000,0] = 0\n",
    "Time[0,2000] = Time[2000,0] = 0"
   ]
  },
  {
   "cell_type": "code",
   "execution_count": 14,
   "metadata": {},
   "outputs": [
    {
     "data": {
      "text/plain": [
       "58509"
      ]
     },
     "execution_count": 14,
     "metadata": {},
     "output_type": "execute_result"
    }
   ],
   "source": [
    "Distance[50001,0]"
   ]
  },
  {
   "cell_type": "code",
   "execution_count": 15,
   "metadata": {},
   "outputs": [
    {
     "name": "stdout",
     "output_type": "stream",
     "text": [
      "[0, 50001, 50002, 50003, 50004, 50005, 50006, 50007, 50008, 50009, 50010, 50011, 50012, 50013, 50014, 50015, 50016, 50017, 50018, 50019, 50020, 50021, 50022, 50023, 50024, 50025, 50026, 50027, 50028, 50029, 50030, 50031, 50032, 50033, 50034, 50035, 50036, 50037, 50038, 50039, 50040, 50041, 50042, 50043, 50044, 50045, 50046, 50047, 50048, 50049, 50050, 50051, 50052, 50053, 50054, 50055, 50056, 50057, 50058, 50059, 50060, 50061, 50062, 50063, 50064, 50065, 50066, 50067, 50068, 50069, 50070, 50071, 50072, 50073, 50074, 50075, 50076, 50077, 50078, 50079, 50080, 50081, 50082, 50083, 50084, 50085, 50086, 50087, 50088, 50089, 50090, 50091, 50092, 50093, 50094, 50095, 50096, 50097, 50098, 50099, 50100, 50101, 50102, 50103, 50104, 50105, 50106, 50107, 50108, 50109, 50110, 50111, 50112, 50113, 50114, 50115, 50116, 50117, 50118, 50119, 50120, 50121, 50122, 50123, 50124, 50125, 50126, 50127, 50128, 50129, 50130, 50131, 50132, 50133, 50134, 50135, 50136, 50137, 50138, 50139, 50140, 50141, 50142, 50143, 50144, 50145, 50146, 50147, 50148, 50149, 50150, 50151, 50152, 50153, 50154, 50155, 50156, 50157, 50158, 50159, 50160, 50161, 50162, 50163, 50164, 50165, 50166, 50167, 50168, 50169, 50170, 50171, 50172, 50173, 50174, 50175, 50176, 50177, 50178, 50179, 50180, 50181, 50182, 50183, 50184, 50185, 50186, 50187, 50188, 50189, 50190, 50191, 50192, 50193, 50194, 50195, 50196, 50197, 50198, 50199, 50200, 50201, 50202, 50203, 50204, 50205, 50206, 50207, 50208, 50209, 50210, 50211, 50212, 50213, 50214, 50215, 50216, 50217, 50218, 50219, 50220, 50221, 50222, 50223, 50224, 50225, 50226, 50227, 50228, 50229, 50230, 50231, 50232, 50233, 50234, 50235, 50236, 50237, 50238, 50239, 50240, 50241, 50242, 50243, 50244, 50245, 50246, 50247, 50248, 50249, 50250, 50251, 50252, 50253, 50254, 50255, 50256, 50257, 50258, 50259, 50260, 50261, 50262, 50263, 50264, 50265, 50266, 50267, 50268, 50269, 50270, 50271, 50272, 50273, 50274, 50275, 50276, 50277, 50278, 50279, 50280, 50281, 50282, 50283, 50284, 50285, 50286, 50287, 50288, 50289, 50290, 50291, 50292, 50293, 50294, 50295, 50296, 50297, 50298, 50299, 50300, 50301, 50302, 50303, 50304, 50305, 50306, 50307, 50308, 50309, 50310, 50311, 50312, 50313, 50314, 50315, 50316, 50317, 50318, 50319, 50320, 50321, 50322, 50323, 50324, 50325, 50326, 50327, 50328, 50329, 50330, 50331, 50332, 50333, 50334, 50335, 50336, 50337, 50338, 50339, 50340, 50341, 50342, 50343, 50344, 50345, 50346, 50347, 50348, 50349, 50350, 50351, 50352, 50353, 50354, 50355, 50356, 50357, 50358, 50359, 50360, 50361, 50362, 50363, 50364, 50365, 50366, 50367, 50368, 50369, 50370, 50371, 50372, 50373, 50374, 50375, 50376, 50377, 50378, 50379, 50380, 50381, 50382, 50383, 50384, 50385, 50386, 50387, 50388, 50389, 50390, 50391, 50392, 50393, 50394, 50395, 50396, 50397, 50398, 50399, 50400, 50401, 50402, 50403, 50404, 50405, 50406, 50407, 50408, 50409, 50410, 50411, 50412, 50413, 50414, 50415, 50416, 50417, 50418, 50419, 50420, 50421, 50422, 50423, 50424, 50425, 50426, 50427, 50428, 50429, 50430, 50431, 50432, 50433, 50434, 50435, 50436, 50437, 50438, 50439, 50440, 50441, 50442, 50443, 50444, 50445, 50446, 50447, 50448, 50449, 50450, 50451, 50452, 50453, 50454, 50455, 50456, 50457, 50458, 50459, 50460, 50461, 50462, 50463, 50464, 50465, 50466, 50467, 50468, 50469, 50470, 50471, 50472, 50473, 50474, 50475, 50476, 50477, 50478, 50479, 50480, 50481, 50482, 50483, 50484, 50485, 50486, 50487, 50488, 50489, 50490, 50491, 50492, 50493, 50494, 50495, 50496, 50497, 50498, 50499, 50500, 50501, 50502, 50503, 50504, 50505, 50506, 50507, 50508, 50509, 50510, 50511, 50512, 50513, 50514, 50515, 50516, 50517, 50518, 50519, 50520, 50521, 50522, 50523, 50524, 50525, 50526, 50527, 50528, 50529, 50530, 50531, 50532, 50533, 50534, 50535, 50536, 50537, 50538, 50539, 50540, 50541, 50542, 50543, 50544, 50545, 50546, 50547, 50548, 50549, 50550, 50551, 50552, 50553, 50554, 50555, 50556, 50557, 50558, 50559, 50560, 50561, 50562, 50563, 50564, 50565, 50566, 50567, 50568, 50569, 50570, 50571, 50572, 50573, 50574, 50575, 50576, 50577, 50578, 50579, 50580, 50581, 50582, 50583, 50584, 50585, 50586, 50587, 50588, 50589, 50590, 50591, 50592, 50593, 50594, 50595, 50596, 50597, 50598, 50599, 50600, 50601, 50602, 50603, 50604, 50605, 50606, 50607, 50608, 50609, 50610, 50611, 50612, 50613, 50614, 50615, 50616, 50617, 50618, 50619, 50620, 50621, 50622, 50623, 50624, 50625, 50626, 50627, 50628, 50629, 50630, 50631, 50632, 50633, 50634, 50635, 50636, 50637, 50638, 50639, 50640, 50641, 50642, 50643, 50644, 50645, 50646, 50647, 50648, 50649, 50650, 50651, 50652, 50653, 50654, 50655, 50656, 50657, 50658, 50659, 50660, 50661, 50662, 50663, 50664, 50665, 50666, 50667, 50668, 50669, 50670, 50671, 50672, 50673, 50674, 50675, 50676, 50677, 50678, 50679, 50680, 50681, 50682, 50683, 50684, 50685, 50686, 50687, 50688, 50689, 50690, 50691, 50692, 50693, 50694, 50695, 50696, 50697, 50698, 50699, 50700, 50701, 50702, 50703, 50704, 50705, 50706, 50707, 50708, 50709, 50710, 50711, 50712, 50713, 50714, 50715, 50716, 50717, 50718, 50719, 50720, 50721, 50722, 50723, 50724, 50725, 50726, 50727, 50728, 50729, 50730, 50731, 50732, 50733, 50734, 50735, 50736, 50737, 50738, 50739, 50740, 50741, 50742, 50743, 50744, 50745, 50746, 50747, 50748, 50749, 50750, 50751, 50752, 50753, 50754, 50755, 50756, 50757, 50758, 50759, 50760, 50761, 50762, 50763, 50764, 50765, 50766, 50767, 50768, 50769, 50770, 50771, 50772, 50773, 50774, 50775, 50776, 50777, 50778, 50779, 50780, 50781, 50782, 50783, 50784, 50785, 50786, 50787, 50788, 50789, 50790, 50791, 50792, 50793, 50794, 50795, 50796, 50797, 50798, 50799, 50800, 50801, 50802, 50803, 50804, 50805, 50806, 50807, 50808, 50809, 50810, 50811, 50812, 50813, 50814, 50815, 50816, 50817, 50818, 50819, 50820, 50821, 50822, 50823, 50824, 50825, 50826, 50827, 50828, 50829, 50830, 50831, 50832, 50833, 50834, 50835, 50836, 50837, 50838, 50839, 50840, 50841, 50842, 50843, 50844, 50845, 50846, 50847, 50848, 50849, 50850, 50851, 50852, 50853, 50854, 50855, 50856, 50857, 50858, 50859, 50860, 50861, 50862, 50863, 50864, 50865, 50866, 50867, 50868, 50869, 50870, 50871, 50872, 50873, 50874, 50875, 50876, 50877, 50878, 50879, 50880, 50881, 50882, 50883, 50884, 50885, 50886, 50887, 50888, 50889, 50890, 50891, 50892, 50893, 50894, 50895, 50896, 50897, 50898, 50899, 50900, 51101, 51102, 51103, 51104, 51105, 51106, 51107, 51108, 51109, 51110, 51111, 51112, 51113, 51114, 51115, 51116, 51117, 51118, 51119, 51120, 51121, 51122, 51123, 51124, 51125, 51126, 51127, 51128, 51129, 51130, 51131, 51132, 51133, 51134, 51135, 51136, 51137, 51138, 51139, 51140, 51141, 51142, 51143, 51144, 51145, 51146, 51147, 51148, 51149, 51150, 51151, 51152, 51153, 51154, 51155, 51156, 51157, 51158, 51159, 51160, 51161, 51162, 51163, 51164, 51165, 51166, 51167, 51168, 51169, 51170, 51171, 51172, 51173, 51174, 51175, 51176, 51177, 51178, 51179, 51180, 51181, 51182, 51183, 51184, 51185, 51186, 51187, 51188, 51189, 51190, 51191, 51192, 51193, 51194, 51195, 51196, 51197, 51198, 51199, 51200, 2000]\n",
      "data ok\n"
     ]
    }
   ],
   "source": [
    "Demand[2000] = Demand[0]\n",
    "Vol_Demand[2000] = Vol_Demand[0]\n",
    "ReaTime[2000] = ReaTime[0]\n",
    "DueTime[2000] = DueTime[0]\n",
    "n = len(node)\n",
    "print(node)\n",
    "print('data ok')"
   ]
  },
  {
   "cell_type": "code",
   "execution_count": 16,
   "metadata": {},
   "outputs": [
    {
     "data": {
      "text/plain": [
       "1002"
      ]
     },
     "execution_count": 16,
     "metadata": {},
     "output_type": "execute_result"
    }
   ],
   "source": [
    "n"
   ]
  },
  {
   "cell_type": "code",
   "execution_count": 17,
   "metadata": {},
   "outputs": [
    {
     "name": "stdout",
     "output_type": "stream",
     "text": [
      "Academic license - for non-commercial use only\n",
      "Parameter OutputFlag unchanged\n",
      "   Value: 1  Min: 0  Max: 1  Default: 1\n",
      "Changed value of parameter TimeLimit to 43200.0\n",
      "   Prev: 1e+100  Min: 0.0  Max: 1e+100  Default: 1e+100\n"
     ]
    }
   ],
   "source": [
    "m = Model('VRP')\n",
    "m.setParam('OutputFlag',True)########\n",
    "m.setParam('TimeLimit',43200.0)"
   ]
  },
  {
   "cell_type": "code",
   "execution_count": 18,
   "metadata": {
    "collapsed": true
   },
   "outputs": [],
   "source": [
    "###构造变量\n",
    "#travle or not\n",
    "x = {}           \n",
    "for i in node:\n",
    "    for j in node:\n",
    "        if i != j:\n",
    "            x[i,j] = m.addVar(0.0, 1.0, 0.0, GRB.BINARY,'x_%s%s' % (i, j))"
   ]
  },
  {
   "cell_type": "code",
   "execution_count": null,
   "metadata": {
    "collapsed": true
   },
   "outputs": [],
   "source": []
  },
  {
   "cell_type": "code",
   "execution_count": 19,
   "metadata": {},
   "outputs": [],
   "source": [
    "#到达时间\n",
    "ArrTime = {}\n",
    "for i in node:\n",
    "    ArrTime[i] = m.addVar(ReaTime[i], DueTime[i], 0.0, GRB.CONTINUOUS, \"ArrTime_%s\" %i)"
   ]
  },
  {
   "cell_type": "code",
   "execution_count": 20,
   "metadata": {
    "collapsed": true
   },
   "outputs": [],
   "source": [
    "#剩余货物\n",
    "RemainCargo = {}\n",
    "RemainVelocity = {}\n",
    "for i in node:\n",
    "    RemainCargo[i] = m.addVar(0,Capacity,0.0,GRB.CONTINUOUS,'RemainCargo_%s' %i)\n",
    "for i in node:\n",
    "    RemainVelocity[i] = m.addVar(0,Volume,0.0,GRB.CONTINUOUS,'RemainVelocity_%s' %i)"
   ]
  },
  {
   "cell_type": "code",
   "execution_count": 21,
   "metadata": {
    "collapsed": true
   },
   "outputs": [],
   "source": [
    "#剩余电量\n",
    "RemainBattery = {}\n",
    "for i in node:\n",
    "    RemainBattery[i] = m.addVar(0,Battery, 0.0, GRB.CONTINUOUS,'RemainBattery_%s' %i)\n",
    "#Integrate new variables\n",
    "    m.update()"
   ]
  },
  {
   "cell_type": "code",
   "execution_count": 22,
   "metadata": {},
   "outputs": [],
   "source": [
    "#构造目标函数\n",
    "obj1 = quicksum(x[0,j] for j in node[1:n]) #车辆数\n",
    "obj2 = quicksum(Distance[i,j]*x[i,j] for i in node for j in node[1:n] if i != j)  #运输距离\n",
    "obj3 = quicksum(x[i,j] for i in node[1:s+1] for j in node[s+1:n])      #充电次数"
   ]
  },
  {
   "cell_type": "code",
   "execution_count": 23,
   "metadata": {},
   "outputs": [],
   "source": [
    "m.setObjective(50*obj3 + 0.014*obj2 + 300*obj1,GRB.MINIMIZE)"
   ]
  },
  {
   "cell_type": "code",
   "execution_count": 24,
   "metadata": {
    "collapsed": true
   },
   "outputs": [],
   "source": [
    "##构造约束条件\n",
    "#1.每个顾客点都被访问\n",
    "for i in node[s+1:n-1]:\n",
    "    m.addConstr(quicksum(x[i,j] for j in node[1:n] if i != j) == 1) "
   ]
  },
  {
   "cell_type": "code",
   "execution_count": 25,
   "metadata": {
    "collapsed": true
   },
   "outputs": [],
   "source": [
    "#2.虚拟充电站访问设置\n",
    "for i in node[1:s+1]:\n",
    "    m.addConstr(quicksum(x[i,j] for j in node[1:n] if i != j) <= 5) "
   ]
  },
  {
   "cell_type": "code",
   "execution_count": 26,
   "metadata": {
    "collapsed": true
   },
   "outputs": [],
   "source": [
    "#3.从A点进入了就要从A点出去\n",
    "for h in node[1:n-1]:\n",
    "    m.addConstr(quicksum(x[h,i] for i in node[1:n] if i != h) - quicksum(x[j,h] for j in node[0:n-1] if h != j) == 0)"
   ]
  },
  {
   "cell_type": "code",
   "execution_count": 27,
   "metadata": {},
   "outputs": [],
   "source": [
    "#4.时间窗\n",
    "for j in node[1:n]:\n",
    "    m.addConstr(ArrTime[0]+(Time[0,j]+0)*x[0,j]-DueTime[0]*(1-x[0,j])-ArrTime[j]<=0)\n",
    "for i in node[s+1:n-1]:\n",
    "    for j in node[1:n]:\n",
    "        if i != j:\n",
    "            m.addConstr(ArrTime[i]+(Time[i,j]+SerTime)*x[i,j]-DueTime[0]*(1-x[i,j])-ArrTime[j]<=0)\n",
    "for i in node[1:s+1]:\n",
    "    for j in node[1:n]:\n",
    "        if i != j:\n",
    "            m.addConstr(ArrTime[i]+(Time[i,j]+SwapTime)*x[i,j]-(DueTime[0]+SwapTime)*(1-x[i,j])-ArrTime[j]<=0)"
   ]
  },
  {
   "cell_type": "code",
   "execution_count": 28,
   "metadata": {
    "collapsed": true
   },
   "outputs": [],
   "source": [
    "#5.容量限制\n",
    "for i in node[0:n-1]:\n",
    "    for j in node[1:n]:\n",
    "        if i != j:\n",
    "            m.addConstr(RemainCargo[j]-RemainCargo[i]+Demand[i]*x[i,j]-Capacity*(1-x[i,j])<=0)\n",
    "for i in node[0:n-1]:\n",
    "    for j in node[1:n]:\n",
    "        if i != j:\n",
    "            m.addConstr(RemainVelocity[j]-RemainVelocity[i]+Vol_Demand[i]*x[i,j]-Volume*(1-x[i,j])<=0)"
   ]
  },
  {
   "cell_type": "code",
   "execution_count": 29,
   "metadata": {},
   "outputs": [],
   "source": [
    "#6.电池容量限制\n",
    "for i in node[s+1:n-1]:\n",
    "    for j in node[1:n]:\n",
    "        if i != j:\n",
    "            m.addConstr(RemainBattery[j]-RemainBattery[i]+Consume*Distance[i,j]*x[i,j]-Battery*(1-x[i,j])<=0)\n",
    "for j in node[1:n]:\n",
    "    m.addConstr(RemainBattery[j]-RemainBattery[0]+Consume*Distance[0,j]*x[0,j]-Battery*(1-x[0,j])<=0)"
   ]
  },
  {
   "cell_type": "code",
   "execution_count": 30,
   "metadata": {
    "collapsed": true
   },
   "outputs": [],
   "source": [
    "for i in node[1:s+1]:\n",
    "    for j in node[1:len(node)]:\n",
    "        if i != j:\n",
    "            m.addConstr(RemainBattery[j] +Consume*Distance[i,j]*x[i,j]-Battery<=0)     "
   ]
  },
  {
   "cell_type": "code",
   "execution_count": 31,
   "metadata": {},
   "outputs": [],
   "source": [
    "#7.其他的一些限制\n",
    "for i in node[1:n-1]:\n",
    "    m.addConstr(x[i,0] == 0)\n",
    "    m.addConstr(x[2000,i] == 0)"
   ]
  },
  {
   "cell_type": "code",
   "execution_count": null,
   "metadata": {
    "collapsed": true
   },
   "outputs": [],
   "source": [
    "#m.addConstr(x[0,node[1]] == 0)\n",
    "#m.addConstr(x[node[1],2000] == 0)"
   ]
  },
  {
   "cell_type": "code",
   "execution_count": 32,
   "metadata": {
    "collapsed": true
   },
   "outputs": [],
   "source": [
    "m.update()"
   ]
  },
  {
   "cell_type": "code",
   "execution_count": 33,
   "metadata": {},
   "outputs": [
    {
     "name": "stdout",
     "output_type": "stream",
     "text": [
      "Optimize a model with 4008004 rows, 1007010 columns and 14914012 nonzeros\n",
      "Variable types: 4008 continuous, 1003002 integer (1003002 binary)\n",
      "Coefficient statistics:\n",
      "  Matrix range     [1e+00, 2e+05]\n",
      "  Objective range  [1e-01, 1e+03]\n",
      "  Bounds range     [1e+00, 1e+05]\n",
      "  RHS range        [1e+00, 1e+05]\n",
      "Presolve removed 56756 rows and 2110 columns (presolve time = 6s) ...\n",
      "Presolve removed 1767629 rows and 430977 columns (presolve time = 10s) ...\n",
      "Presolve removed 1767629 rows and 430977 columns (presolve time = 19s) ...\n",
      "Presolve removed 1767629 rows and 430978 columns (presolve time = 20s) ...\n",
      "Presolve removed 1767652 rows and 432193 columns (presolve time = 26s) ...\n",
      "Presolve removed 1767722 rows and 432269 columns (presolve time = 30s) ...\n",
      "Presolve removed 1767722 rows and 432269 columns (presolve time = 35s) ...\n",
      "Presolve removed 1767722 rows and 432269 columns (presolve time = 40s) ...\n",
      "Presolve removed 1767722 rows and 432269 columns (presolve time = 45s) ...\n",
      "Presolve removed 1767722 rows and 432269 columns (presolve time = 50s) ...\n",
      "Presolve removed 1767722 rows and 432269 columns (presolve time = 55s) ...\n",
      "Presolve removed 1773962 rows and 432269 columns (presolve time = 60s) ...\n",
      "Presolve removed 1773962 rows and 432269 columns (presolve time = 70s) ...\n",
      "Presolve removed 1773962 rows and 432269 columns (presolve time = 70s) ...\n",
      "Presolve removed 1773962 rows and 432269 columns (presolve time = 75s) ...\n",
      "Presolve removed 1774061 rows and 432269 columns (presolve time = 95s) ...\n",
      "Presolve removed 1774065 rows and 432270 columns (presolve time = 112s) ...\n",
      "Presolve removed 1773966 rows and 432171 columns\n",
      "Presolve time: 112.42s\n",
      "Presolved: 2234038 rows, 574839 columns, 7701111 nonzeros\n",
      "Variable types: 3853 continuous, 570986 integer (570887 binary)\n",
      "\n",
      "Root simplex log...\n",
      "\n",
      "Iteration    Objective       Primal Inf.    Dual Inf.      Time\n",
      "       0    5.7787560e+03   1.731710e+05   0.000000e+00    209s\n",
      "    2445    3.3318763e+04   1.323385e+06   0.000000e+00    211s\n",
      "    3885    3.4746911e+04   9.064481e+05   0.000000e+00    216s\n",
      "    5325    3.5240759e+04   2.631063e+05   0.000000e+00    222s\n",
      "    6045    3.5450014e+04   6.879701e+05   0.000000e+00    227s\n",
      "    6765    3.5604245e+04   7.248624e+05   0.000000e+00    235s\n",
      "    7485    3.5675533e+04   1.326425e+05   0.000000e+00    242s\n",
      "    8205    3.5830238e+04   1.358768e+05   0.000000e+00    249s\n",
      "    8925    3.5869444e+04   1.116295e+05   0.000000e+00    259s\n",
      "    9645    3.5910769e+04   1.912880e+05   0.000000e+00    269s\n",
      "   10130    3.5930375e+04   3.897686e+05   0.000000e+00    278s\n",
      "   10850    3.5978690e+04   1.480219e+05   0.000000e+00    289s\n",
      "   11570    3.6004546e+04   2.217782e+05   0.000000e+00    299s\n",
      "   12290    3.6044687e+04   7.825830e+04   0.000000e+00    309s\n",
      "   13010    3.6063171e+04   7.102391e+04   0.000000e+00    319s\n",
      "   13730    3.6076243e+04   9.601941e+04   0.000000e+00    333s\n",
      "   14450    3.6091537e+04   3.328425e+04   0.000000e+00    346s\n",
      "   15170    3.6104164e+04   5.434521e+04   0.000000e+00    367s\n",
      "   15890    3.6116994e+04   3.192047e+04   0.000000e+00    381s\n",
      "   16610    3.6132717e+04   4.265032e+04   0.000000e+00    402s\n",
      "   17320    3.6145625e+04   9.859495e+04   0.000000e+00    425s\n",
      "   17960    3.6156426e+04   1.019664e+05   0.000000e+00    445s\n",
      "   18560    3.6164714e+04   1.075649e+05   0.000000e+00    466s\n",
      "   19280    3.6176933e+04   7.177314e+05   0.000000e+00    489s\n",
      "   20000    3.6192147e+04   6.647477e+04   0.000000e+00    507s\n",
      "   20700    3.6204264e+04   1.059927e+06   0.000000e+00    532s\n",
      "   21300    3.6215829e+04   3.571637e+05   0.000000e+00    554s\n",
      "   22020    3.6284838e+04   4.609994e+06   0.000000e+00    573s\n",
      "   22740    3.6336391e+04   4.766203e+05   0.000000e+00    593s\n",
      "   23430    3.6358567e+04   2.339396e+05   0.000000e+00    616s\n",
      "   24150    3.6387008e+04   4.558069e+05   0.000000e+00    638s\n",
      "   24870    3.6404304e+04   1.531488e+05   0.000000e+00    658s\n",
      "   25590    3.6421194e+04   1.905261e+05   0.000000e+00    682s\n",
      "   26190    3.6485608e+04   1.104499e+05   0.000000e+00    706s\n",
      "   26910    3.6558779e+04   4.920057e+05   0.000000e+00    731s\n",
      "   27630    3.6658469e+04   3.620779e+05   0.000000e+00    746s\n",
      "   28350    3.6707240e+04   1.084822e+06   0.000000e+00    773s\n",
      "   29060    3.6728560e+04   4.628288e+04   0.000000e+00    796s\n",
      "   29780    3.6748354e+04   9.041094e+04   0.000000e+00    818s\n",
      "   30500    3.6779582e+04   1.486930e+05   0.000000e+00    838s\n",
      "   31040    3.6796973e+04   2.422575e+05   0.000000e+00    861s\n",
      "   31660    3.6837982e+04   1.453976e+05   0.000000e+00    885s\n",
      "   32040    3.6847985e+04   1.822592e+05   0.000000e+00    907s\n",
      "   32620    3.6854970e+04   8.507019e+04   0.000000e+00    929s\n",
      "   33310    3.6862126e+04   3.504037e+04   0.000000e+00    953s\n",
      "   33890    3.6892676e+04   3.800081e+04   0.000000e+00    978s\n",
      "   34340    3.6900125e+04   5.686275e+04   0.000000e+00   1003s\n",
      "   34730    3.6905254e+04   6.744172e+05   0.000000e+00   1026s\n",
      "   35080    3.6908342e+04   1.986506e+04   0.000000e+00   1041s\n",
      "   35570    3.6911604e+04   7.539164e+03   0.000000e+00   1063s\n",
      "   35970    3.6915405e+04   5.472323e+04   0.000000e+00   1087s\n",
      "   36260    3.6916556e+04   1.744239e+05   0.000000e+00   1113s\n",
      "   36530    3.6917541e+04   2.728807e+03   0.000000e+00   1135s\n",
      "   36870    3.6919177e+04   2.334901e+03   0.000000e+00   1157s\n",
      "   37060    3.6921269e+04   1.329550e+04   0.000000e+00   1180s\n",
      "   37210    3.6921810e+04   2.186141e+02   0.000000e+00   1199s\n",
      "   37236    3.6921808e+04   0.000000e+00   0.000000e+00   1205s\n",
      "\n",
      "Root relaxation: objective 3.692181e+04, 37236 iterations, 1000.20 seconds\n",
      "Total elapsed time = 1205.38s\n",
      "Total elapsed time = 1222.20s\n",
      "\n",
      "    Nodes    |    Current Node    |     Objective Bounds      |     Work\n",
      " Expl Unexpl |  Obj  Depth IntInf | Incumbent    BestBd   Gap | It/Node Time\n",
      "\n",
      "     0     0 48353.7494    0 1636          - 48353.7494      -     - 9571s\n",
      "\n",
      "Explored 0 nodes (0 simplex iterations) in 9748.49 seconds\n",
      "Thread count was 1 (of 8 available processors)\n",
      "\n",
      "Solution count 0\n",
      "\n",
      "Solve interrupted (error code 10001)\n",
      "Best objective -, best bound -, gap -\n",
      "Error reported\n",
      "optimize()\n",
      "<gurobipy.StatusConstClass object at 0x000001C809514C50>\n"
     ]
    }
   ],
   "source": [
    "try:\n",
    "    m.optimize()\n",
    "    print(m.ObjVal)\n",
    "except GurobiError:\n",
    "    print('Error reported')\n",
    "print(\"optimize()\")\n",
    "print(GRB.Status)"
   ]
  },
  {
   "cell_type": "code",
   "execution_count": 34,
   "metadata": {
    "collapsed": true
   },
   "outputs": [],
   "source": [
    "def printTour(solution, route, start, distance, demand,vol_demand,sol_time,solved_point,point):\n",
    "    route = route + str(start) + ' -> '\n",
    "    if start not in node[0:s+1]:\n",
    "        solved_point.append(start)\n",
    "    point.append(start)\n",
    "    demand += Demand[start]\n",
    "    vol_demand +=Vol_Demand[start]\n",
    "    for i in node:\n",
    "        if start != i:\n",
    "            if (solution[start, i]> 0.5) :\n",
    "                if i not in solved_point and (round(sol_time[i])>=round(sol_time[start]+30+Time[start,i])): \n",
    "                    totalDistance = distance + Distance[start,i]\n",
    "                    if (i == 2000):\n",
    "                        return [\n",
    "                        totalDistance,\n",
    "                        demand,\n",
    "                        vol_demand,\n",
    "                        route + '2000',\n",
    "                        start,        #最后一个点\n",
    "                        point,\n",
    "                        solved_point\n",
    "                        ]\n",
    "                    return printTour(solution, route, i, totalDistance, demand,vol_demand,sol_time,solved_point,point)         "
   ]
  },
  {
   "cell_type": "code",
   "execution_count": 35,
   "metadata": {},
   "outputs": [
    {
     "name": "stdout",
     "output_type": "stream",
     "text": [
      "objective: 10000000000000000159028911097599180468360808563945281389781327557747838772170381060813469985856815104.000000\n"
     ]
    },
    {
     "ename": "GurobiError",
     "evalue": "Unable to retrieve attribute 'x'",
     "output_type": "error",
     "traceback": [
      "\u001b[1;31m---------------------------------------------------------------------------\u001b[0m",
      "\u001b[1;31mGurobiError\u001b[0m                               Traceback (most recent call last)",
      "\u001b[1;32m<ipython-input-35-72e53cc78e71>\u001b[0m in \u001b[0;36m<module>\u001b[1;34m()\u001b[0m\n\u001b[0;32m      2\u001b[0m \u001b[1;32mif\u001b[0m \u001b[1;32mTrue\u001b[0m\u001b[1;33m:\u001b[0m\u001b[1;33m\u001b[0m\u001b[0m\n\u001b[0;32m      3\u001b[0m     \u001b[0mprint\u001b[0m\u001b[1;33m(\u001b[0m\u001b[1;34m'objective: %f'\u001b[0m \u001b[1;33m%\u001b[0m \u001b[0mm\u001b[0m\u001b[1;33m.\u001b[0m\u001b[0mObjVal\u001b[0m\u001b[1;33m)\u001b[0m\u001b[1;33m\u001b[0m\u001b[0m\n\u001b[1;32m----> 4\u001b[1;33m     \u001b[0msolution\u001b[0m \u001b[1;33m=\u001b[0m \u001b[0mm\u001b[0m\u001b[1;33m.\u001b[0m\u001b[0mgetAttr\u001b[0m\u001b[1;33m(\u001b[0m\u001b[1;34m'x'\u001b[0m\u001b[1;33m,\u001b[0m \u001b[0mx\u001b[0m\u001b[1;33m)\u001b[0m\u001b[1;33m\u001b[0m\u001b[0m\n\u001b[0m\u001b[0;32m      5\u001b[0m     \u001b[0msol_time\u001b[0m \u001b[1;33m=\u001b[0m \u001b[0mm\u001b[0m\u001b[1;33m.\u001b[0m\u001b[0mgetAttr\u001b[0m\u001b[1;33m(\u001b[0m\u001b[1;34m\"x\"\u001b[0m\u001b[1;33m,\u001b[0m \u001b[0mArrTime\u001b[0m\u001b[1;33m)\u001b[0m\u001b[1;33m\u001b[0m\u001b[0m\n\u001b[0;32m      6\u001b[0m \u001b[1;33m\u001b[0m\u001b[0m\n",
      "\u001b[1;32mmodel.pxi\u001b[0m in \u001b[0;36mgurobipy.Model.getAttr\u001b[1;34m()\u001b[0m\n",
      "\u001b[1;32mmodel.pxi\u001b[0m in \u001b[0;36mgurobipy.Model.__gettypedattrlist\u001b[1;34m()\u001b[0m\n",
      "\u001b[1;31mGurobiError\u001b[0m: Unable to retrieve attribute 'x'"
     ]
    }
   ],
   "source": [
    "E = pd.DataFrame()\n",
    "if True:\n",
    "    print('objective: %f' % m.ObjVal)\n",
    "    solution = m.getAttr('x', x)\n",
    "    sol_time = m.getAttr(\"x\", ArrTime)\n",
    "\n",
    "    solved_point = []\n",
    "    for i in node:\n",
    "        if i != 0:\n",
    "            if solution[0,i] >0.5:\n",
    "                start_time = sol_time[i]-Time[0,i]\n",
    "                output = printTour(solution,'0 ->',i,Distance[0,i],0,0,sol_time,solved_point,[0])\n",
    "                solved_point = output[6]                \n",
    "                points = output[5]\n",
    "                charge_time = 0\n",
    "                for p in points:\n",
    "                    if p in node[1:s+1]:\n",
    "                        charge_time = charge_time+1\n",
    "                output = output[0:6] +[start_time,charge_time]  \n",
    "                if output[0]<=100000 and output[1]<=2 and output[2]<=12:\n",
    "                    output.append(1)\n",
    "                else:\n",
    "                    output.append(2)\n",
    "                E = E.append([output])\n",
    "\n",
    "    E.columns= [u'里程',u'总重量',u'总体积',u'顺序',u'最后一点',u'经过的点',u'出发时间',u'充电次数',u'车型']  \n",
    "    E.to_csv('out.csv',encoding = 'utf-8')"
   ]
  },
  {
   "cell_type": "code",
   "execution_count": null,
   "metadata": {
    "collapsed": true
   },
   "outputs": [],
   "source": [
    "end_code = time.time()\n",
    "print(start_code-end_code)"
   ]
  },
  {
   "cell_type": "code",
   "execution_count": null,
   "metadata": {
    "collapsed": true
   },
   "outputs": [],
   "source": []
  }
 ],
 "metadata": {
  "kernelspec": {
   "display_name": "Python 3",
   "language": "python",
   "name": "python3"
  },
  "language_info": {
   "codemirror_mode": {
    "name": "ipython",
    "version": 3
   },
   "file_extension": ".py",
   "mimetype": "text/x-python",
   "name": "python",
   "nbconvert_exporter": "python",
   "pygments_lexer": "ipython3",
   "version": "3.6.3"
  }
 },
 "nbformat": 4,
 "nbformat_minor": 2
}
