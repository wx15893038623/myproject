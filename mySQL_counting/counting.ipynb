{
 "cells": [
  {
   "cell_type": "code",
   "execution_count": 1,
   "metadata": {
    "collapsed": true
   },
   "outputs": [],
   "source": [
    "import MySQLdb\n",
    "import pandas as pd"
   ]
  },
  {
   "cell_type": "code",
   "execution_count": 2,
   "metadata": {
    "collapsed": true
   },
   "outputs": [],
   "source": [
    "db = MySQLdb.connect(\"localhost\", \"root\", \"******\", \"dinge\", charset='utf8' )\n",
    "cursor = db.cursor() #获取操作游标"
   ]
  },
  {
   "cell_type": "code",
   "execution_count": null,
   "metadata": {
    "collapsed": true
   },
   "outputs": [],
   "source": []
  },
  {
   "cell_type": "code",
   "execution_count": 3,
   "metadata": {
    "collapsed": true
   },
   "outputs": [],
   "source": [
    "#读取单价表（a）\n",
    "sql = \"SELECT * FROM 单价表\"\n",
    "cursor.execute(sql)\n",
    "djb = cursor.fetchall()\n",
    "desc = cursor.description\n",
    "bt = []\n",
    "for row in desc:\n",
    "    bt.append(row[0])\n",
    "a = pd.DataFrame(list(djb),columns=bt)\n",
    "a.set_index(keys=['编号'], inplace=True)"
   ]
  },
  {
   "cell_type": "code",
   "execution_count": null,
   "metadata": {
    "collapsed": true
   },
   "outputs": [],
   "source": []
  },
  {
   "cell_type": "code",
   "execution_count": 139,
   "metadata": {
    "collapsed": true
   },
   "outputs": [],
   "source": [
    "#读取单元表（b）\n",
    "sql = \"SELECT * FROM 单元表\"\n",
    "cursor.execute(sql)\n",
    "dyb = cursor.fetchall()\n",
    "desc = cursor.description\n",
    "bt = []\n",
    "for row in desc:\n",
    "    bt.append(row[0])\n",
    "b = pd.DataFrame(list(dyb),columns=bt)\n",
    "bb = b.set_index(keys=['单元编号'], inplace=False)"
   ]
  },
  {
   "cell_type": "code",
   "execution_count": null,
   "metadata": {},
   "outputs": [],
   "source": []
  },
  {
   "cell_type": "code",
   "execution_count": 5,
   "metadata": {
    "collapsed": true
   },
   "outputs": [],
   "source": [
    "#读取工程量表（c）\n",
    "sql = \"SELECT * FROM 工程量表\"\n",
    "cursor.execute(sql)\n",
    "gclb = cursor.fetchall()\n",
    "desc = cursor.description\n",
    "bt = []\n",
    "for row in desc:\n",
    "    bt.append(row[0])\n",
    "c = pd.DataFrame(list(gclb),columns=bt)\n",
    "cc = c.set_index(keys=['单元编号'], inplace=False)"
   ]
  },
  {
   "cell_type": "code",
   "execution_count": null,
   "metadata": {},
   "outputs": [],
   "source": []
  },
  {
   "cell_type": "code",
   "execution_count": 6,
   "metadata": {
    "collapsed": true
   },
   "outputs": [],
   "source": [
    "#读取间接费用表（d）\n",
    "sql = \"SELECT * FROM 间接费用表\"\n",
    "cursor.execute(sql)\n",
    "jjfyb = cursor.fetchall()\n",
    "desc = cursor.description\n",
    "bt = []\n",
    "for row in desc:\n",
    "    bt.append(row[0])\n",
    "d = pd.DataFrame(list(jjfyb),columns=bt)\n",
    "dd = d.set_index(keys=['单元编号','费用项'], inplace=False)"
   ]
  },
  {
   "cell_type": "code",
   "execution_count": null,
   "metadata": {},
   "outputs": [],
   "source": []
  },
  {
   "cell_type": "code",
   "execution_count": 7,
   "metadata": {
    "collapsed": true
   },
   "outputs": [],
   "source": [
    "#读取维护项目表（e）\n",
    "sql = \"SELECT * FROM 维护项目表\"\n",
    "cursor.execute(sql)\n",
    "whxmb = cursor.fetchall()\n",
    "desc = cursor.description\n",
    "bt = []\n",
    "for row in desc:\n",
    "    bt.append(row[0])\n",
    "e = pd.DataFrame(list(whxmb),columns=bt)\n",
    "ee = e.set_index(keys=['维护项目名称'], inplace=False)"
   ]
  },
  {
   "cell_type": "code",
   "execution_count": null,
   "metadata": {
    "collapsed": true
   },
   "outputs": [],
   "source": []
  },
  {
   "cell_type": "code",
   "execution_count": 8,
   "metadata": {
    "collapsed": true
   },
   "outputs": [],
   "source": [
    "#读取维护项目定额工作量表（f）\n",
    "sql = \"SELECT * FROM 维护项目定额工作量表\"\n",
    "cursor.execute(sql)\n",
    "whxmdegzlb = cursor.fetchall()\n",
    "desc = cursor.description\n",
    "bt = []\n",
    "for row in desc:\n",
    "    bt.append(row[0])\n",
    "f = pd.DataFrame(list(whxmdegzlb),columns=bt)\n",
    "ff = f.set_index(keys=['单元编号','维护项目名称'], inplace=False)"
   ]
  },
  {
   "cell_type": "code",
   "execution_count": null,
   "metadata": {
    "collapsed": true
   },
   "outputs": [],
   "source": []
  },
  {
   "cell_type": "code",
   "execution_count": 9,
   "metadata": {
    "collapsed": true
   },
   "outputs": [],
   "source": [
    "#读取维护项目用料定额表（g）\n",
    "sql = \"SELECT * FROM 维护项目用料定额表\"\n",
    "cursor.execute(sql)\n",
    "whxmyldeb = cursor.fetchall()\n",
    "desc = cursor.description\n",
    "bt = []\n",
    "for row in desc:\n",
    "    bt.append(row[0])\n",
    "g = pd.DataFrame(list(whxmyldeb),columns=bt)"
   ]
  },
  {
   "cell_type": "code",
   "execution_count": null,
   "metadata": {
    "collapsed": true
   },
   "outputs": [],
   "source": []
  },
  {
   "cell_type": "code",
   "execution_count": 10,
   "metadata": {
    "collapsed": true
   },
   "outputs": [],
   "source": [
    "#读取维护单元表多出部分（h）\n",
    "sql = \"SELECT * FROM 维护单元表多出部分\"\n",
    "cursor.execute(sql)\n",
    "whdybdcbf = cursor.fetchall()\n",
    "desc = cursor.description\n",
    "bt = []\n",
    "for row in desc:\n",
    "    bt.append(row[0])\n",
    "h = pd.DataFrame(list(whdybdcbf),columns=bt)"
   ]
  },
  {
   "cell_type": "code",
   "execution_count": null,
   "metadata": {
    "collapsed": true
   },
   "outputs": [],
   "source": []
  },
  {
   "cell_type": "code",
   "execution_count": 11,
   "metadata": {
    "collapsed": true
   },
   "outputs": [],
   "source": [
    "#输出维护项目表\n",
    "a3 = g.单元编号\n",
    "a5 = g.维护项目编号\n",
    "a7 = g.编号\n",
    "a11 = g.定额用量\n"
   ]
  },
  {
   "cell_type": "code",
   "execution_count": 12,
   "metadata": {
    "collapsed": true
   },
   "outputs": [],
   "source": [
    "a1 = []\n",
    "for i in range(len(a3)):\n",
    "    a1.append(bb['大类'][a3[i]])\n",
    "pa1 = pd.DataFrame(a1,columns=['大类'])"
   ]
  },
  {
   "cell_type": "code",
   "execution_count": 13,
   "metadata": {
    "collapsed": true
   },
   "outputs": [],
   "source": [
    "a2 = []\n",
    "for i in range(len(a3)):\n",
    "    a2.append(bb['设施类别'][a3[i]])\n",
    "pa2 = pd.DataFrame(a2,columns=['设施类别'])"
   ]
  },
  {
   "cell_type": "code",
   "execution_count": 14,
   "metadata": {
    "collapsed": true
   },
   "outputs": [],
   "source": [
    "a4 = []\n",
    "for i in range(len(a3)):\n",
    "    a4.append(bb['单元名称'][a3[i]])\n",
    "pa4 = pd.DataFrame(a4,columns=['单元名称'])"
   ]
  },
  {
   "cell_type": "code",
   "execution_count": 15,
   "metadata": {
    "collapsed": true
   },
   "outputs": [],
   "source": [
    "a6 = []\n",
    "for i in range(len(a7)):\n",
    "    a6.append(a['成本类别'][a7[i]])\n",
    "pa6 = pd.DataFrame(a6,columns=['成本类别'])"
   ]
  },
  {
   "cell_type": "code",
   "execution_count": 16,
   "metadata": {
    "collapsed": true
   },
   "outputs": [],
   "source": [
    "a8 = []\n",
    "for i in range(len(a7)):\n",
    "    a8.append(a['名称'][a7[i]])\n",
    "pa8 = pd.DataFrame(a8,columns=['名称'])"
   ]
  },
  {
   "cell_type": "code",
   "execution_count": 17,
   "metadata": {
    "collapsed": true
   },
   "outputs": [],
   "source": [
    "a9 = []\n",
    "for i in range(len(a7)):\n",
    "    a9.append(a['单位'][a7[i]])\n",
    "pa9 = pd.DataFrame(a9,columns=['单位'])"
   ]
  },
  {
   "cell_type": "code",
   "execution_count": 18,
   "metadata": {
    "collapsed": true
   },
   "outputs": [],
   "source": [
    "a10 = []\n",
    "for i in range(len(a7)):\n",
    "    a10.append(a['2016年'][a7[i]])\n",
    "pa10 = pd.DataFrame(a10,columns=['最新价'])"
   ]
  },
  {
   "cell_type": "code",
   "execution_count": 19,
   "metadata": {
    "collapsed": true
   },
   "outputs": [],
   "source": [
    "whxmb = pa1.join(pa2).join(a3).join(pa4).join(a5).join(pa6).join(a7).join(pa8).join(pa9).join(pa10).join(a11)"
   ]
  },
  {
   "cell_type": "code",
   "execution_count": 210,
   "metadata": {
    "collapsed": true
   },
   "outputs": [],
   "source": [
    "whxmb.to_excel('维护项目表.xlsx',index=False)"
   ]
  },
  {
   "cell_type": "code",
   "execution_count": null,
   "metadata": {},
   "outputs": [],
   "source": []
  },
  {
   "cell_type": "code",
   "execution_count": 20,
   "metadata": {
    "collapsed": true
   },
   "outputs": [],
   "source": [
    "#输出维护单元表\n",
    "b3 = f.单元编号\n",
    "b6 = f.维护项目编号\n",
    "b7 = f.维护项目名称\n",
    "b13 = f.单位工程量_定额维护工作量\n"
   ]
  },
  {
   "cell_type": "code",
   "execution_count": 21,
   "metadata": {
    "collapsed": true
   },
   "outputs": [],
   "source": [
    "b1 = []\n",
    "for i in range(len(b3)):\n",
    "    b1.append(bb['大类'][b3[i]])\n",
    "pb1 = pd.DataFrame(b1,columns=['大类'])"
   ]
  },
  {
   "cell_type": "code",
   "execution_count": 22,
   "metadata": {
    "collapsed": true
   },
   "outputs": [],
   "source": [
    "b2 = []\n",
    "for i in range(len(b3)):\n",
    "    b2.append(bb['设施类别'][b3[i]])\n",
    "pb2 = pd.DataFrame(b2,columns=['设施类别'])"
   ]
  },
  {
   "cell_type": "code",
   "execution_count": 23,
   "metadata": {
    "collapsed": true
   },
   "outputs": [],
   "source": [
    "b4 = []\n",
    "for i in range(len(b3)):\n",
    "    b4.append(bb['单元名称'][b3[i]])\n",
    "pb4 = pd.DataFrame(b4,columns=['单元名称'])"
   ]
  },
  {
   "cell_type": "code",
   "execution_count": 24,
   "metadata": {
    "collapsed": true
   },
   "outputs": [],
   "source": [
    "b5 = []\n",
    "for i in range(len(b3)):\n",
    "    b5.append(cc['工程量单位'][b3[i]])\n",
    "pb5 = pd.DataFrame(b5,columns=['工程量单位'])"
   ]
  },
  {
   "cell_type": "code",
   "execution_count": 25,
   "metadata": {
    "collapsed": true
   },
   "outputs": [],
   "source": [
    "b8 = []\n",
    "for i in range(len(b7)):\n",
    "    b8.append(ee['维护项目_单位'][b7[i]])\n",
    "pb8 = pd.DataFrame(b8,columns=['维护项目单位'])"
   ]
  },
  {
   "cell_type": "code",
   "execution_count": null,
   "metadata": {
    "collapsed": true
   },
   "outputs": [],
   "source": []
  },
  {
   "cell_type": "code",
   "execution_count": 184,
   "metadata": {},
   "outputs": [],
   "source": [
    "##b9 单位项目人工费单价"
   ]
  },
  {
   "cell_type": "code",
   "execution_count": 27,
   "metadata": {
    "collapsed": true
   },
   "outputs": [],
   "source": [
    "dh = whxmb.单元编号.unique()"
   ]
  },
  {
   "cell_type": "code",
   "execution_count": 28,
   "metadata": {
    "collapsed": true
   },
   "outputs": [],
   "source": [
    "pdh = pd.DataFrame(dh)"
   ]
  },
  {
   "cell_type": "code",
   "execution_count": 30,
   "metadata": {
    "collapsed": true
   },
   "outputs": [],
   "source": [
    "wh = whxmb.维护项目编号.unique()"
   ]
  },
  {
   "cell_type": "code",
   "execution_count": 31,
   "metadata": {
    "collapsed": true
   },
   "outputs": [],
   "source": [
    "pwh = pd.DataFrame(wh)"
   ]
  },
  {
   "cell_type": "code",
   "execution_count": 32,
   "metadata": {
    "collapsed": true
   },
   "outputs": [],
   "source": [
    "whxmbb = whxmb.set_index(keys=['单元编号','维护项目编号','成本类别'], inplace=False)"
   ]
  },
  {
   "cell_type": "code",
   "execution_count": 153,
   "metadata": {
    "collapsed": true,
    "scrolled": true
   },
   "outputs": [],
   "source": [
    "b91 = []\n",
    "b92 = []\n",
    "b93 = []\n",
    "for i in range(len(dh)):\n",
    "        for j in range(len(wh)):\n",
    "            try:\n",
    "                len([whxmbb['最新价'][pdh[0][i],pwh[0][j],'人工']]) == 1\n",
    "                try:\n",
    "                    len(whxmbb['最新价'][pdh[0][i],pwh[0][j],'人工']) > 1\n",
    "                    b91.append(pdh[0][i])\n",
    "                    b92.append(pwh[0][j])\n",
    "                    b93.append(sum(whxmbb['最新价'][pdh[0][i],pwh[0][j],'人工']*whxmbb['定额用量'][pdh[0][i],pwh[0][j],'人工']))\n",
    "                except:\n",
    "                    b91.append(pdh[0][i])\n",
    "                    b92.append(pwh[0][j])\n",
    "                    b93.append(whxmbb['最新价'][pdh[0][i],pwh[0][j],'人工']*whxmbb['定额用量'][pdh[0][i],pwh[0][j],'人工'])\n",
    "            except:\n",
    "                continue"
   ]
  },
  {
   "cell_type": "code",
   "execution_count": 179,
   "metadata": {},
   "outputs": [],
   "source": [
    "pb91 = pd.DataFrame(b91,columns=['单元编号'])"
   ]
  },
  {
   "cell_type": "code",
   "execution_count": 180,
   "metadata": {
    "collapsed": true
   },
   "outputs": [],
   "source": [
    "pb92 = pd.DataFrame(b92,columns=['维护项目编号'])"
   ]
  },
  {
   "cell_type": "code",
   "execution_count": 181,
   "metadata": {},
   "outputs": [],
   "source": [
    "pb93 = pd.DataFrame(b93,columns=['单位项目人工费单价'])"
   ]
  },
  {
   "cell_type": "code",
   "execution_count": 182,
   "metadata": {
    "collapsed": true
   },
   "outputs": [],
   "source": [
    "pb9 = pb91.join(pb92).join(pb93)"
   ]
  },
  {
   "cell_type": "code",
   "execution_count": null,
   "metadata": {},
   "outputs": [],
   "source": []
  },
  {
   "cell_type": "code",
   "execution_count": null,
   "metadata": {
    "collapsed": true
   },
   "outputs": [],
   "source": [
    "##b10 单位项目材料费单价"
   ]
  },
  {
   "cell_type": "code",
   "execution_count": 185,
   "metadata": {},
   "outputs": [
    {
     "name": "stderr",
     "output_type": "stream",
     "text": [
      "C:\\Users\\1\\Anaconda3\\lib\\site-packages\\ipykernel\\ipkernel.py:196: PerformanceWarning: indexing past lexsort depth may impact performance.\n",
      "  res = shell.run_cell(code, store_history=store_history, silent=silent)\n",
      "C:\\Users\\1\\Anaconda3\\lib\\site-packages\\IPython\\core\\interactiveshell.py:2698: PerformanceWarning: indexing past lexsort depth may impact performance.\n",
      "  interactivity=interactivity, compiler=compiler, result=result)\n"
     ]
    }
   ],
   "source": [
    "b101 = []\n",
    "b102 = []\n",
    "b103 = []\n",
    "for i in range(len(dh)):\n",
    "        for j in range(len(wh)):\n",
    "            try:\n",
    "                len([whxmbb['最新价'][pdh[0][i],pwh[0][j],'材料']]) == 1\n",
    "                try:\n",
    "                    len(whxmbb['最新价'][pdh[0][i],pwh[0][j],'材料']) > 1\n",
    "                    b101.append(pdh[0][i])\n",
    "                    b102.append(pwh[0][j])\n",
    "                    b103.append(sum(whxmbb['最新价'][pdh[0][i],pwh[0][j],'材料']*whxmbb['定额用量'][pdh[0][i],pwh[0][j],'材料']))\n",
    "                except:\n",
    "                    b101.append(pdh[0][i])\n",
    "                    b102.append(pwh[0][j])\n",
    "                    b103.append(whxmbb['最新价'][pdh[0][i],pwh[0][j],'材料']*whxmbb['定额用量'][pdh[0][i],pwh[0][j],'材料'])\n",
    "            except:\n",
    "                continue"
   ]
  },
  {
   "cell_type": "code",
   "execution_count": 187,
   "metadata": {},
   "outputs": [],
   "source": [
    "pb101 = pd.DataFrame(b101,columns=['单元编号'])\n",
    "pb102 = pd.DataFrame(b102,columns=['维护项目编号'])\n",
    "pb103 = pd.DataFrame(b103,columns=['单位项目材料费单价'])\n",
    "pb10 = pb101.join(pb102).join(pb103)"
   ]
  },
  {
   "cell_type": "code",
   "execution_count": null,
   "metadata": {
    "collapsed": true
   },
   "outputs": [],
   "source": []
  },
  {
   "cell_type": "code",
   "execution_count": null,
   "metadata": {
    "collapsed": true
   },
   "outputs": [],
   "source": [
    "##b11 单位项目机械费单价"
   ]
  },
  {
   "cell_type": "code",
   "execution_count": 189,
   "metadata": {},
   "outputs": [
    {
     "name": "stderr",
     "output_type": "stream",
     "text": [
      "C:\\Users\\1\\Anaconda3\\lib\\site-packages\\ipykernel\\ipkernel.py:196: PerformanceWarning: indexing past lexsort depth may impact performance.\n",
      "  res = shell.run_cell(code, store_history=store_history, silent=silent)\n",
      "C:\\Users\\1\\Anaconda3\\lib\\site-packages\\IPython\\core\\interactiveshell.py:2698: PerformanceWarning: indexing past lexsort depth may impact performance.\n",
      "  interactivity=interactivity, compiler=compiler, result=result)\n"
     ]
    }
   ],
   "source": [
    "b111 = []\n",
    "b112 = []\n",
    "b113 = []\n",
    "for i in range(len(dh)):\n",
    "        for j in range(len(wh)):\n",
    "            try:\n",
    "                len([whxmbb['最新价'][pdh[0][i],pwh[0][j],'机械']]) == 1\n",
    "                try:\n",
    "                    len(whxmbb['最新价'][pdh[0][i],pwh[0][j],'机械']) > 1\n",
    "                    b111.append(pdh[0][i])\n",
    "                    b112.append(pwh[0][j])\n",
    "                    b113.append(sum(whxmbb['最新价'][pdh[0][i],pwh[0][j],'机械']*whxmbb['定额用量'][pdh[0][i],pwh[0][j],'机械']))\n",
    "                except:\n",
    "                    b111.append(pdh[0][i])\n",
    "                    b112.append(pwh[0][j])\n",
    "                    b113.append(whxmbb['最新价'][pdh[0][i],pwh[0][j],'机械']*whxmbb['定额用量'][pdh[0][i],pwh[0][j],'机械'])\n",
    "            except:\n",
    "                continue"
   ]
  },
  {
   "cell_type": "code",
   "execution_count": 196,
   "metadata": {
    "collapsed": true
   },
   "outputs": [],
   "source": [
    "pb111 = pd.DataFrame(b111,columns=['单元编号'])\n",
    "pb112 = pd.DataFrame(b112,columns=['维护项目编号'])\n",
    "pb113 = pd.DataFrame(b113,columns=['单位项目机械费单价'])\n",
    "pb11 = pb111.join(pb112).join(pb113)"
   ]
  },
  {
   "cell_type": "code",
   "execution_count": null,
   "metadata": {
    "collapsed": true
   },
   "outputs": [],
   "source": []
  },
  {
   "cell_type": "code",
   "execution_count": null,
   "metadata": {
    "collapsed": true
   },
   "outputs": [],
   "source": [
    "##b12 单位项目单价"
   ]
  },
  {
   "cell_type": "code",
   "execution_count": 205,
   "metadata": {},
   "outputs": [],
   "source": [
    "b12 = pd.merge(pd.merge(pb9,pb10,how='left',on=['单元编号','维护项目编号']),pb11,how='left',on=['单元编号','维护项目编号'])"
   ]
  },
  {
   "cell_type": "code",
   "execution_count": 209,
   "metadata": {},
   "outputs": [],
   "source": [
    "b12 = b12.fillna(0)"
   ]
  },
  {
   "cell_type": "code",
   "execution_count": 210,
   "metadata": {
    "collapsed": true
   },
   "outputs": [],
   "source": [
    "b12['单位项目单价'] = b12['单位项目人工费单价']+b12['单位项目材料费单价']+b12['单位项目机械费单价']"
   ]
  },
  {
   "cell_type": "code",
   "execution_count": 242,
   "metadata": {
    "collapsed": true
   },
   "outputs": [],
   "source": [
    "pb12 = b12.drop(['单位项目人工费单价', '单位项目材料费单价','单位项目机械费单价'], axis=1)"
   ]
  },
  {
   "cell_type": "code",
   "execution_count": 229,
   "metadata": {
    "collapsed": true
   },
   "outputs": [],
   "source": [
    "whdyb1 = pb1.join(pb2).join(b3).join(pb4).join(pb5).join(b6).join(b7).join(pb8)"
   ]
  },
  {
   "cell_type": "code",
   "execution_count": 234,
   "metadata": {},
   "outputs": [],
   "source": [
    "whdyb2 = pd.merge(whdyb1,pb9,how='left',on=['单元编号','维护项目编号'])"
   ]
  },
  {
   "cell_type": "code",
   "execution_count": 236,
   "metadata": {},
   "outputs": [],
   "source": [
    "whdyb3 = pd.merge(whdyb2,pb10,how='left',on=['单元编号','维护项目编号'])"
   ]
  },
  {
   "cell_type": "code",
   "execution_count": 237,
   "metadata": {
    "collapsed": true
   },
   "outputs": [],
   "source": [
    "whdyb4 = pd.merge(whdyb3,pb11,how='left',on=['单元编号','维护项目编号'])"
   ]
  },
  {
   "cell_type": "code",
   "execution_count": 243,
   "metadata": {},
   "outputs": [],
   "source": [
    "whdyb5 = pd.merge(whdyb4,pb12,how='left',on=['单元编号','维护项目编号'])"
   ]
  },
  {
   "cell_type": "code",
   "execution_count": 257,
   "metadata": {
    "collapsed": true
   },
   "outputs": [],
   "source": [
    "whdyb = whdyb5.join(b13)"
   ]
  },
  {
   "cell_type": "code",
   "execution_count": null,
   "metadata": {
    "collapsed": true
   },
   "outputs": [],
   "source": []
  },
  {
   "cell_type": "code",
   "execution_count": null,
   "metadata": {
    "collapsed": true
   },
   "outputs": [],
   "source": [
    "## 维护单元表多出部分"
   ]
  },
  {
   "cell_type": "code",
   "execution_count": 258,
   "metadata": {},
   "outputs": [],
   "source": [
    "whdybb = whdyb[~whdyb['维护项目编号'].isin(['A9-109','F12-3-11','G7-1-11','GSY5-13-1','R14-8',None])]"
   ]
  },
  {
   "cell_type": "code",
   "execution_count": 262,
   "metadata": {},
   "outputs": [],
   "source": [
    "h.columns = list(whdyb.columns)"
   ]
  },
  {
   "cell_type": "code",
   "execution_count": 265,
   "metadata": {},
   "outputs": [],
   "source": [
    "whdybbb = pd.concat([whdybb,h],join='inner',ignore_index=True)"
   ]
  },
  {
   "cell_type": "code",
   "execution_count": 266,
   "metadata": {
    "collapsed": true
   },
   "outputs": [],
   "source": [
    "whdybbb.to_excel('维护单元表.xlsx',index=False)"
   ]
  },
  {
   "cell_type": "code",
   "execution_count": null,
   "metadata": {},
   "outputs": [],
   "source": []
  },
  {
   "cell_type": "code",
   "execution_count": null,
   "metadata": {
    "collapsed": true
   },
   "outputs": [],
   "source": [
    "#输出直接费用表"
   ]
  },
  {
   "cell_type": "code",
   "execution_count": 275,
   "metadata": {
    "collapsed": true
   },
   "outputs": [],
   "source": [
    "c1 = b.大类\n",
    "c2 = b.设施类别\n",
    "c3 = b.单元编号\n",
    "c4 = b.单元名称"
   ]
  },
  {
   "cell_type": "code",
   "execution_count": 278,
   "metadata": {
    "collapsed": true
   },
   "outputs": [],
   "source": [
    "c5 = []\n",
    "for i in range(len(c3)):\n",
    "    c5.append(cc['工程量单位'][c3[i]])\n",
    "pc5 = pd.DataFrame(c5,columns=['工程量单位'])"
   ]
  },
  {
   "cell_type": "code",
   "execution_count": 281,
   "metadata": {},
   "outputs": [],
   "source": [
    "whdybbbb = whdybbb.set_index(keys=['单元编号'], inplace=False)"
   ]
  },
  {
   "cell_type": "code",
   "execution_count": 310,
   "metadata": {},
   "outputs": [],
   "source": [
    "c61 = []\n",
    "c62 = []\n",
    "for i in range(len(c3)):\n",
    "    try:\n",
    "        len([whdybbbb['单位工程量_定额维护工作量'][c3[i]]]) == 1\n",
    "        try:\n",
    "            len(whdybbbb['单位工程量_定额维护工作量'][c3[i]]) > 1\n",
    "            c61.append(c3[i])\n",
    "            c62.append(sum(whdybbbb['单位项目人工费单价'][c3[i]]*whdybbbb['单位工程量_定额维护工作量'][c3[i]]))\n",
    "        except:\n",
    "            c61.append(c3[i])\n",
    "            c62.append(whdybbbb['单位项目人工费单价'][c3[i]]*whdybbbb['单位工程量_定额维护工作量'][c3[i]])\n",
    "    except:\n",
    "        continue"
   ]
  },
  {
   "cell_type": "code",
   "execution_count": 316,
   "metadata": {
    "collapsed": true
   },
   "outputs": [],
   "source": [
    "pc61 = pd.DataFrame(c61,columns=['单元编号'])\n",
    "pc62 = pd.DataFrame(c62,columns=['单位人工费'])\n",
    "pc6 = pc61.join(pc62)\n",
    "pc66 = pc6.set_index(keys=['单元编号'], inplace=False)"
   ]
  },
  {
   "cell_type": "code",
   "execution_count": 318,
   "metadata": {},
   "outputs": [],
   "source": [
    "c71 = []\n",
    "c72 = []\n",
    "for i in range(len(c3)):\n",
    "    try:\n",
    "        len([whdybbbb['单位工程量_定额维护工作量'][c3[i]]]) == 1\n",
    "        try:\n",
    "            len(whdybbbb['单位工程量_定额维护工作量'][c3[i]]) > 1\n",
    "            c71.append(c3[i])\n",
    "            c72.append(sum(whdybbbb['单位项目材料费单价'][c3[i]]*whdybbbb['单位工程量_定额维护工作量'][c3[i]]))\n",
    "        except:\n",
    "            c71.append(c3[i])\n",
    "            c72.append(whdybbbb['单位项目材料费单价'][c3[i]]*whdybbbb['单位工程量_定额维护工作量'][c3[i]])\n",
    "    except:\n",
    "        continue"
   ]
  },
  {
   "cell_type": "code",
   "execution_count": 319,
   "metadata": {
    "collapsed": true
   },
   "outputs": [],
   "source": [
    "pc71 = pd.DataFrame(c71,columns=['单元编号'])\n",
    "pc72 = pd.DataFrame(c72,columns=['单位材料费'])\n",
    "pc7 = pc71.join(pc72)\n",
    "pc77 = pc7.set_index(keys=['单元编号'], inplace=False)"
   ]
  },
  {
   "cell_type": "code",
   "execution_count": 321,
   "metadata": {
    "collapsed": true
   },
   "outputs": [],
   "source": [
    "c81 = []\n",
    "c82 = []\n",
    "for i in range(len(c3)):\n",
    "    try:\n",
    "        len([whdybbbb['单位工程量_定额维护工作量'][c3[i]]]) == 1\n",
    "        try:\n",
    "            len(whdybbbb['单位工程量_定额维护工作量'][c3[i]]) > 1\n",
    "            c81.append(c3[i])\n",
    "            c82.append(sum(whdybbbb['单位项目机械费单价'][c3[i]]*whdybbbb['单位工程量_定额维护工作量'][c3[i]]))\n",
    "        except:\n",
    "            c81.append(c3[i])\n",
    "            c82.append(whdybbbb['单位项目机械费单价'][c3[i]]*whdybbbb['单位工程量_定额维护工作量'][c3[i]])\n",
    "    except:\n",
    "        continue"
   ]
  },
  {
   "cell_type": "code",
   "execution_count": 322,
   "metadata": {
    "collapsed": true
   },
   "outputs": [],
   "source": [
    "pc81 = pd.DataFrame(c81,columns=['单元编号'])\n",
    "pc82 = pd.DataFrame(c82,columns=['单位机械费'])\n",
    "pc8 = pc81.join(pc82)\n",
    "pc88 = pc8.set_index(keys=['单元编号'], inplace=False)"
   ]
  },
  {
   "cell_type": "code",
   "execution_count": 328,
   "metadata": {},
   "outputs": [],
   "source": [
    "pc1 = pd.DataFrame(c1)"
   ]
  },
  {
   "cell_type": "code",
   "execution_count": 335,
   "metadata": {},
   "outputs": [],
   "source": [
    "zjfyb1 = pc1.join(c2).join(c3).join(c4).join(pc5)"
   ]
  },
  {
   "cell_type": "code",
   "execution_count": 337,
   "metadata": {},
   "outputs": [],
   "source": [
    "zjfyb2 = pd.merge(zjfyb1,pc6,how='left',on=['单元编号'])"
   ]
  },
  {
   "cell_type": "code",
   "execution_count": 338,
   "metadata": {
    "collapsed": true
   },
   "outputs": [],
   "source": [
    "zjfyb3 = pd.merge(zjfyb2,pc7,how='left',on=['单元编号'])"
   ]
  },
  {
   "cell_type": "code",
   "execution_count": 339,
   "metadata": {
    "collapsed": true
   },
   "outputs": [],
   "source": [
    "zjfyb4 = pd.merge(zjfyb3,pc8,how='left',on=['单元编号'])"
   ]
  },
  {
   "cell_type": "code",
   "execution_count": 347,
   "metadata": {
    "collapsed": true
   },
   "outputs": [],
   "source": [
    "zjfyb4 = zjfyb4.fillna(0)"
   ]
  },
  {
   "cell_type": "code",
   "execution_count": 348,
   "metadata": {},
   "outputs": [],
   "source": [
    "zjfyb4['单位直接费'] = zjfyb4['单位人工费']+zjfyb4['单位材料费']+zjfyb4['单位机械费']"
   ]
  },
  {
   "cell_type": "code",
   "execution_count": 349,
   "metadata": {},
   "outputs": [],
   "source": [
    "zjfyb4['除人工以外'] = zjfyb4['单位材料费']+zjfyb4['单位机械费']"
   ]
  },
  {
   "cell_type": "code",
   "execution_count": 350,
   "metadata": {},
   "outputs": [],
   "source": [
    "zjfyb4.to_excel('直接费用表.xlsx',index=False)"
   ]
  },
  {
   "cell_type": "code",
   "execution_count": null,
   "metadata": {
    "collapsed": true
   },
   "outputs": [],
   "source": []
  },
  {
   "cell_type": "code",
   "execution_count": null,
   "metadata": {
    "collapsed": true
   },
   "outputs": [],
   "source": [
    "# 间接费用表"
   ]
  },
  {
   "cell_type": "code",
   "execution_count": 356,
   "metadata": {
    "collapsed": true
   },
   "outputs": [],
   "source": [
    "d3 = d.单元编号\n",
    "d5 = d.费用项\n",
    "d6 = d.比例"
   ]
  },
  {
   "cell_type": "code",
   "execution_count": 359,
   "metadata": {},
   "outputs": [],
   "source": [
    "d1 = []\n",
    "for i in range(len(d3)):\n",
    "    d1.append(bb['大类'][d3[i]])\n",
    "pd1 = pd.DataFrame(d1,columns=['大类'])"
   ]
  },
  {
   "cell_type": "code",
   "execution_count": 369,
   "metadata": {
    "collapsed": true
   },
   "outputs": [],
   "source": [
    "d2 = []\n",
    "for i in range(len(d3)):\n",
    "    d2.append(bb['设施类别'][d3[i]])\n",
    "pd2 = pd.DataFrame(d2,columns=['设施类别'])"
   ]
  },
  {
   "cell_type": "code",
   "execution_count": 370,
   "metadata": {
    "collapsed": true
   },
   "outputs": [],
   "source": [
    "d4 = []\n",
    "for i in range(len(d3)):\n",
    "    d4.append(bb['单元名称'][d3[i]])\n",
    "pd4 = pd.DataFrame(d4,columns=['单元名称'])"
   ]
  },
  {
   "cell_type": "code",
   "execution_count": 374,
   "metadata": {},
   "outputs": [],
   "source": [
    "jjfyb1 = pd1.join(pd2).join(d3).join(pd4).join(d5).join(d6)"
   ]
  },
  {
   "cell_type": "code",
   "execution_count": 410,
   "metadata": {},
   "outputs": [],
   "source": [
    "jjfyb11 = jjfyb1.set_index(keys=['单元编号','费用项'], inplace=False)"
   ]
  },
  {
   "cell_type": "code",
   "execution_count": 379,
   "metadata": {},
   "outputs": [],
   "source": [
    "zjfyb44 = zjfyb4.set_index(keys=['单元编号'], inplace=False)"
   ]
  },
  {
   "cell_type": "code",
   "execution_count": null,
   "metadata": {
    "collapsed": true
   },
   "outputs": [],
   "source": [
    "##大类：结构维护"
   ]
  },
  {
   "cell_type": "code",
   "execution_count": 399,
   "metadata": {},
   "outputs": [],
   "source": [
    "ml = pd1.join(d3).set_index(keys=['大类'], inplace=False)"
   ]
  },
  {
   "cell_type": "code",
   "execution_count": null,
   "metadata": {},
   "outputs": [],
   "source": []
  },
  {
   "cell_type": "code",
   "execution_count": 464,
   "metadata": {
    "collapsed": true
   },
   "outputs": [],
   "source": [
    "d71 = []\n",
    "d72 = []\n",
    "d73 = []"
   ]
  },
  {
   "cell_type": "code",
   "execution_count": 473,
   "metadata": {},
   "outputs": [],
   "source": [
    "for i in ml['单元编号']['结构维护'].unique():\n",
    "    #直接费\n",
    "    d71.append(i)\n",
    "    d72.append('直接费')\n",
    "    n1 = zjfyb44['单位直接费'][i]\n",
    "    d73.append(n1)\n",
    "    #管理费用\n",
    "    d71.append(i)\n",
    "    d72.append('管理费用')\n",
    "    n2 = n1*jjfyb11['比例'][i]['管理费用']\n",
    "    d73.append(n2)\n",
    "    #利润\n",
    "    d71.append(i)\n",
    "    d72.append('利润')\n",
    "    n3 = (n1+n2)*jjfyb11['比例'][i]['利润']\n",
    "    d73.append(n3)\n",
    "    #安全防护、文明施工措施费\n",
    "    d71.append(i)\n",
    "    d72.append('安全防护、文明施工措施费')\n",
    "    n4 = (n1+n2+n3)*jjfyb11['比例'][i]['安全防护、文明施工措施费']\n",
    "    d73.append(n4)\n",
    "    #施工措施费\n",
    "    d71.append(i)\n",
    "    d72.append('施工措施费')\n",
    "    n5 = (n1+n2+n3+n4)*jjfyb11['比例'][i]['施工措施费']\n",
    "    d73.append(n5)\n",
    "    #小计\n",
    "    d71.append(i)\n",
    "    d72.append('小计')\n",
    "    n6 = n1+n2+n3+n4+n5\n",
    "    d73.append(n6)\n",
    "    #工程排污费\n",
    "    d71.append(i)\n",
    "    d72.append('工程排污费')\n",
    "    n7 = n6*jjfyb11['比例'][i]['工程排污费']\n",
    "    d73.append(n7)\n",
    "    #社会保障费\n",
    "    d71.append(i)\n",
    "    d72.append('社会保障费')\n",
    "    n8 = n6*jjfyb11['比例'][i]['社会保障费']\n",
    "    d73.append(n8)\n",
    "    #住房公积金\n",
    "    d71.append(i)\n",
    "    d72.append('住房公积金')\n",
    "    n9 = n6*jjfyb11['比例'][i]['住房公积金']\n",
    "    d73.append(n9)\n",
    "    #河道管理费\n",
    "    d71.append(i)\n",
    "    d72.append('河道管理费')\n",
    "    n10 = (n6+n7+n8+n9)*jjfyb11['比例'][i]['河道管理费']\n",
    "    d73.append(n10)\n",
    "    #税金\n",
    "    d71.append(i)\n",
    "    d72.append('税金')\n",
    "    n11 = (n6+n7+n8+n9)*jjfyb11['比例'][i]['税金']\n",
    "    d73.append(n11)\n",
    "    #间接费用\n",
    "    d71.append(i)\n",
    "    d72.append('间接费用')\n",
    "    n12 = n6+n7+n8+n9+n10+n11-n1\n",
    "    d73.append(n12)"
   ]
  },
  {
   "cell_type": "code",
   "execution_count": null,
   "metadata": {},
   "outputs": [],
   "source": [
    "##大类：机电维护"
   ]
  },
  {
   "cell_type": "code",
   "execution_count": 436,
   "metadata": {
    "collapsed": true
   },
   "outputs": [],
   "source": [
    "for i in ml['单元编号']['机电维护'].unique():\n",
    "    #直接费\n",
    "    d71.append(i)\n",
    "    d72.append('直接费')\n",
    "    n1 = zjfyb44['单位直接费'][i]\n",
    "    d73.append(n1)\n",
    "    #人工费\n",
    "    d71.append(i)\n",
    "    d72.append('直接费')\n",
    "    n2 = zjfyb44['单位人工费'][i]\n",
    "    d73.append(n2)\n",
    "    #管理费用\n",
    "    d71.append(i)\n",
    "    d72.append('管理费用')\n",
    "    n3 = n2*jjfyb11['比例'][i]['管理费用']\n",
    "    d73.append(n3)\n",
    "    #利润\n",
    "    d71.append(i)\n",
    "    d72.append('利润')\n",
    "    n4 = n2*jjfyb11['比例'][i]['利润']\n",
    "    d73.append(n4)\n",
    "    #安全防护、文明施工措施费\n",
    "    d71.append(i)\n",
    "    d72.append('安全防护、文明施工措施费')\n",
    "    n5 = n2*jjfyb11['比例'][i]['安全防护、文明施工措施费']\n",
    "    d73.append(n5)\n",
    "    #施工措施费\n",
    "    d71.append(i)\n",
    "    d72.append('施工措施费')\n",
    "    n6 = n2*jjfyb11['比例'][i]['施工措施费']\n",
    "    d73.append(n6)\n",
    "    #工程排污费\n",
    "    d71.append(i)\n",
    "    d72.append('工程排污费')\n",
    "    n7 = n2*jjfyb11['比例'][i]['工程排污费']\n",
    "    d73.append(n7)\n",
    "    #社会保障费\n",
    "    d71.append(i)\n",
    "    d72.append('社会保障费')\n",
    "    n8 = n2*jjfyb11['比例'][i]['社会保障费']\n",
    "    d73.append(n8)\n",
    "    #住房公积金\n",
    "    d71.append(i)\n",
    "    d72.append('住房公积金')\n",
    "    n9 = n2*jjfyb11['比例'][i]['住房公积金']\n",
    "    d73.append(n9)\n",
    "    #河道管理费\n",
    "    d71.append(i)\n",
    "    d72.append('河道管理费')\n",
    "    n10 = (n1+n3+n4+n5+n6+n7+n8+n9)*jjfyb11['比例'][i]['河道管理费']\n",
    "    d73.append(n10)\n",
    "    #税金\n",
    "    d71.append(i)\n",
    "    d72.append('税金')\n",
    "    n11 = (n1+n3+n4+n5+n6+n7+n8+n9)*jjfyb11['比例'][i]['税金']\n",
    "    d73.append(n11)\n",
    "    #间接费用\n",
    "    d71.append(i)\n",
    "    d72.append('间接费用')\n",
    "    n12 = n3+n4+n5+n6+n7+n8+n9+n10+n11\n",
    "    d73.append(n12)"
   ]
  },
  {
   "cell_type": "code",
   "execution_count": null,
   "metadata": {
    "collapsed": true
   },
   "outputs": [],
   "source": [
    "##大类：设施保洁"
   ]
  },
  {
   "cell_type": "code",
   "execution_count": 437,
   "metadata": {
    "collapsed": true
   },
   "outputs": [],
   "source": [
    "for i in ml['单元编号']['设施保洁'].unique():\n",
    "    #直接费\n",
    "    d71.append(i)\n",
    "    d72.append('直接费')\n",
    "    n1 = zjfyb44['单位直接费'][i]\n",
    "    d73.append(n1)\n",
    "    #管理费用\n",
    "    d71.append(i)\n",
    "    d72.append('管理费用')\n",
    "    n2 = n1*jjfyb11['比例'][i]['管理费用']\n",
    "    d73.append(n2)\n",
    "    #利润\n",
    "    d71.append(i)\n",
    "    d72.append('利润')\n",
    "    n3 = (n1+n2)*jjfyb11['比例'][i]['利润']\n",
    "    d73.append(n3)\n",
    "    #安全防护、文明施工措施费\n",
    "    d71.append(i)\n",
    "    d72.append('安全防护、文明施工措施费')\n",
    "    n4 = (n1+n2+n3)*jjfyb11['比例'][i]['安全防护、文明施工措施费']\n",
    "    d73.append(n4)\n",
    "    #施工措施费\n",
    "    d71.append(i)\n",
    "    d72.append('施工措施费')\n",
    "    n5 = (n1+n2+n3+n4)*jjfyb11['比例'][i]['施工措施费']\n",
    "    d73.append(n5)\n",
    "    #小计\n",
    "    d71.append(i)\n",
    "    d72.append('小计')\n",
    "    n6 = n1+n2+n3+n4+n5\n",
    "    d73.append(n6)\n",
    "    #工程排污费\n",
    "    d71.append(i)\n",
    "    d72.append('工程排污费')\n",
    "    n7 = n6*jjfyb11['比例'][i]['工程排污费']\n",
    "    d73.append(n7)\n",
    "    #社会保障费\n",
    "    d71.append(i)\n",
    "    d72.append('社会保障费')\n",
    "    n8 = n6*jjfyb11['比例'][i]['社会保障费']\n",
    "    d73.append(n8)\n",
    "    #住房公积金\n",
    "    d71.append(i)\n",
    "    d72.append('住房公积金')\n",
    "    n9 = n6*jjfyb11['比例'][i]['住房公积金']\n",
    "    d73.append(n9)\n",
    "    #河道管理费\n",
    "    d71.append(i)\n",
    "    d72.append('河道管理费')\n",
    "    n10 = (n6+n7+n8+n9)*jjfyb11['比例'][i]['河道管理费']\n",
    "    d73.append(n10)\n",
    "    #税金\n",
    "    d71.append(i)\n",
    "    d72.append('税金')\n",
    "    n11 = (n6+n7+n8+n9)*jjfyb11['比例'][i]['税金']\n",
    "    d73.append(n11)\n",
    "    #间接费用\n",
    "    d71.append(i)\n",
    "    d72.append('间接费用')\n",
    "    n12 = n6+n7+n8+n9+n10+n11-n1\n",
    "    d73.append(n12)"
   ]
  },
  {
   "cell_type": "code",
   "execution_count": null,
   "metadata": {
    "collapsed": true
   },
   "outputs": [],
   "source": [
    "##大类：检查检测"
   ]
  },
  {
   "cell_type": "code",
   "execution_count": 438,
   "metadata": {
    "collapsed": true
   },
   "outputs": [],
   "source": [
    "for i in ml['单元编号']['检查检测'].unique():\n",
    "    #直接费\n",
    "    d71.append(i)\n",
    "    d72.append('直接费')\n",
    "    n1 = zjfyb44['单位直接费'][i]\n",
    "    d73.append(n1)\n",
    "    #管理费用\n",
    "    d71.append(i)\n",
    "    d72.append('管理费用')\n",
    "    n2 = n1*jjfyb11['比例'][i]['管理费用']\n",
    "    d73.append(n2)\n",
    "    #利润\n",
    "    d71.append(i)\n",
    "    d72.append('利润')\n",
    "    n3 = (n1+n2)*jjfyb11['比例'][i]['利润']\n",
    "    d73.append(n3)\n",
    "    #安全防护、文明施工措施费\n",
    "    d71.append(i)\n",
    "    d72.append('安全防护、文明施工措施费')\n",
    "    n4 = (n1+n2+n3)*jjfyb11['比例'][i]['安全防护、文明施工措施费']\n",
    "    d73.append(n4)\n",
    "    #施工措施费\n",
    "    d71.append(i)\n",
    "    d72.append('施工措施费')\n",
    "    n5 = (n1+n2+n3+n4)*jjfyb11['比例'][i]['施工措施费']\n",
    "    d73.append(n5)\n",
    "    #小计\n",
    "    d71.append(i)\n",
    "    d72.append('小计')\n",
    "    n6 = n1+n2+n3+n4+n5\n",
    "    d73.append(n6)\n",
    "    #工程排污费\n",
    "    d71.append(i)\n",
    "    d72.append('工程排污费')\n",
    "    n7 = n6*jjfyb11['比例'][i]['工程排污费']\n",
    "    d73.append(n7)\n",
    "    #社会保障费\n",
    "    d71.append(i)\n",
    "    d72.append('社会保障费')\n",
    "    n8 = n6*jjfyb11['比例'][i]['社会保障费']\n",
    "    d73.append(n8)\n",
    "    #住房公积金\n",
    "    d71.append(i)\n",
    "    d72.append('住房公积金')\n",
    "    n9 = n6*jjfyb11['比例'][i]['住房公积金']\n",
    "    d73.append(n9)\n",
    "    #河道管理费\n",
    "    d71.append(i)\n",
    "    d72.append('河道管理费')\n",
    "    n10 = (n6+n7+n8+n9)*jjfyb11['比例'][i]['河道管理费']\n",
    "    d73.append(n10)\n",
    "    #税金\n",
    "    d71.append(i)\n",
    "    d72.append('税金')\n",
    "    n11 = (n6+n7+n8+n9)*jjfyb11['比例'][i]['税金']\n",
    "    d73.append(n11)\n",
    "    #间接费用\n",
    "    d71.append(i)\n",
    "    d72.append('间接费用')\n",
    "    n12 = n6+n7+n8+n9+n10+n11-n1\n",
    "    d73.append(n12)"
   ]
  },
  {
   "cell_type": "code",
   "execution_count": null,
   "metadata": {
    "collapsed": true
   },
   "outputs": [],
   "source": [
    "##大类：运营管理"
   ]
  },
  {
   "cell_type": "code",
   "execution_count": 439,
   "metadata": {
    "collapsed": true
   },
   "outputs": [],
   "source": [
    "for i in ml['单元编号']['运营管理'].unique():\n",
    "    #直接费\n",
    "    d71.append(i)\n",
    "    d72.append('直接费')\n",
    "    n1 = zjfyb44['单位直接费'][i]\n",
    "    d73.append(n1)\n",
    "    #管理费用\n",
    "    d71.append(i)\n",
    "    d72.append('管理费用')\n",
    "    n2 = n1*jjfyb11['比例'][i]['管理费用']\n",
    "    d73.append(n2)\n",
    "    #利润\n",
    "    d71.append(i)\n",
    "    d72.append('利润')\n",
    "    n3 = (n1+n2)*jjfyb11['比例'][i]['利润']\n",
    "    d73.append(n3)\n",
    "    #安全防护、文明施工措施费\n",
    "    d71.append(i)\n",
    "    d72.append('安全防护、文明施工措施费')\n",
    "    n4 = (n1+n2+n3)*jjfyb11['比例'][i]['安全防护、文明施工措施费']\n",
    "    d73.append(n4)\n",
    "    #施工措施费\n",
    "    d71.append(i)\n",
    "    d72.append('施工措施费')\n",
    "    n5 = (n1+n2+n3+n4)*jjfyb11['比例'][i]['施工措施费']\n",
    "    d73.append(n5)\n",
    "    #小计\n",
    "    d71.append(i)\n",
    "    d72.append('小计')\n",
    "    n6 = n1+n2+n3+n4+n5\n",
    "    d73.append(n6)\n",
    "    #工程排污费\n",
    "    d71.append(i)\n",
    "    d72.append('工程排污费')\n",
    "    n7 = n6*jjfyb11['比例'][i]['工程排污费']\n",
    "    d73.append(n7)\n",
    "    #社会保障费\n",
    "    d71.append(i)\n",
    "    d72.append('社会保障费')\n",
    "    n8 = n6*jjfyb11['比例'][i]['社会保障费']\n",
    "    d73.append(n8)\n",
    "    #住房公积金\n",
    "    d71.append(i)\n",
    "    d72.append('住房公积金')\n",
    "    n9 = n6*jjfyb11['比例'][i]['住房公积金']\n",
    "    d73.append(n9)\n",
    "    #河道管理费\n",
    "    d71.append(i)\n",
    "    d72.append('河道管理费')\n",
    "    n10 = (n6+n7+n8+n9)*jjfyb11['比例'][i]['河道管理费']\n",
    "    d73.append(n10)\n",
    "    #税金\n",
    "    d71.append(i)\n",
    "    d72.append('税金')\n",
    "    n11 = (n6+n7+n8+n9)*jjfyb11['比例'][i]['税金']\n",
    "    d73.append(n11)\n",
    "    #间接费用\n",
    "    d71.append(i)\n",
    "    d72.append('间接费用')\n",
    "    n12 = n6+n7+n8+n9+n10+n11-n1\n",
    "    d73.append(n12)"
   ]
  },
  {
   "cell_type": "code",
   "execution_count": 440,
   "metadata": {
    "collapsed": true
   },
   "outputs": [],
   "source": [
    "pd71 = pd.DataFrame(d71,columns=['单元编号'])"
   ]
  },
  {
   "cell_type": "code",
   "execution_count": 441,
   "metadata": {
    "collapsed": true
   },
   "outputs": [],
   "source": [
    "pd72 = pd.DataFrame(d72,columns=['费用项'])"
   ]
  },
  {
   "cell_type": "code",
   "execution_count": 442,
   "metadata": {},
   "outputs": [],
   "source": [
    "pd73 = pd.DataFrame(d73,columns=['费用'])"
   ]
  },
  {
   "cell_type": "code",
   "execution_count": 443,
   "metadata": {
    "collapsed": true
   },
   "outputs": [],
   "source": [
    "pd7 = pd71.join(pd72).join(pd73)"
   ]
  },
  {
   "cell_type": "code",
   "execution_count": 444,
   "metadata": {},
   "outputs": [],
   "source": [
    "jjfyb = pd.merge(jjfyb1,pd7,how='left',on=['单元编号','费用项'])"
   ]
  },
  {
   "cell_type": "code",
   "execution_count": 445,
   "metadata": {},
   "outputs": [],
   "source": [
    "jjfyb.to_excel('间接费用表.xlsx',index=False)"
   ]
  },
  {
   "cell_type": "code",
   "execution_count": null,
   "metadata": {
    "collapsed": true
   },
   "outputs": [],
   "source": []
  },
  {
   "cell_type": "code",
   "execution_count": null,
   "metadata": {
    "collapsed": true
   },
   "outputs": [],
   "source": [
    "#成本汇总表"
   ]
  },
  {
   "cell_type": "code",
   "execution_count": 447,
   "metadata": {},
   "outputs": [],
   "source": [
    "cbhzb1 = zjfyb1"
   ]
  },
  {
   "cell_type": "code",
   "execution_count": null,
   "metadata": {
    "collapsed": true
   },
   "outputs": [],
   "source": [
    "pd77 = pd7.set_index(keys=['单元编号','费用项'], inplace=False)"
   ]
  },
  {
   "cell_type": "code",
   "execution_count": 466,
   "metadata": {
    "collapsed": true
   },
   "outputs": [],
   "source": [
    "e61 = []\n",
    "e62 = []\n",
    "for i in ml['单元编号'].unique():\n",
    "    e61.append(i)\n",
    "    e62.append(pd77['费用'][i]['间接费用'])\n"
   ]
  },
  {
   "cell_type": "code",
   "execution_count": 468,
   "metadata": {},
   "outputs": [],
   "source": [
    "e61.append('Y030506')\n",
    "e62.append(0)\n",
    "e61.append('Y030507')\n",
    "e62.append(0)\n",
    "e61.append('Y030508')\n",
    "e62.append(0)"
   ]
  },
  {
   "cell_type": "code",
   "execution_count": 470,
   "metadata": {},
   "outputs": [],
   "source": [
    "pe61 = pd.DataFrame(e61,columns=['单元编号'])\n",
    "pe62 = pd.DataFrame(e62,columns=['单位间接费'])\n",
    "pe6 = pe61.join(pe62)"
   ]
  },
  {
   "cell_type": "code",
   "execution_count": 475,
   "metadata": {
    "collapsed": true
   },
   "outputs": [],
   "source": [
    "e71 = []\n",
    "e72 = []\n",
    "for i in c3:\n",
    "    e71.append(i)\n",
    "    e72.append(zjfyb44['单位直接费'][i])\n"
   ]
  },
  {
   "cell_type": "code",
   "execution_count": 482,
   "metadata": {
    "collapsed": true
   },
   "outputs": [],
   "source": [
    "pe71 = pd.DataFrame(e71,columns=['单元编号'])\n",
    "pe72 = pd.DataFrame(e72,columns=['单位总费用'])\n",
    "pe7 = pe71.join(pe72)"
   ]
  },
  {
   "cell_type": "code",
   "execution_count": 483,
   "metadata": {
    "collapsed": true
   },
   "outputs": [],
   "source": [
    "cbhzb2 = pd.merge(cbhzb1,pe6,how='left',on=['单元编号'])"
   ]
  },
  {
   "cell_type": "code",
   "execution_count": 484,
   "metadata": {
    "collapsed": true
   },
   "outputs": [],
   "source": [
    "cbhzb3 = pd.merge(cbhzb2,pe7,how='left',on=['单元编号'])"
   ]
  },
  {
   "cell_type": "code",
   "execution_count": 492,
   "metadata": {
    "collapsed": true
   },
   "outputs": [],
   "source": [
    "cbhzb4 = pd.merge(cbhzb3,c.drop('工程量单位',axis=1),how='left',on=['单元编号'])"
   ]
  },
  {
   "cell_type": "code",
   "execution_count": 509,
   "metadata": {
    "collapsed": true
   },
   "outputs": [],
   "source": [
    "e91 = []\n",
    "e92 = []\n",
    "e93 = []\n",
    "e94 = []\n",
    "for i in c3:\n",
    "    e91.append(i)\n",
    "    e92.append(zjfyb44['单位人工费'][i]*cc['文合同工程量'][i])\n",
    "    e93.append(zjfyb44['单位材料费'][i]*cc['文合同工程量'][i])\n",
    "    e94.append(zjfyb44['单位机械费'][i]*cc['文合同工程量'][i])"
   ]
  },
  {
   "cell_type": "code",
   "execution_count": 510,
   "metadata": {},
   "outputs": [],
   "source": [
    "pe91 = pd.DataFrame(e91,columns=['单元编号'])\n",
    "pe92 = pd.DataFrame(e92,columns=['人工费总计（元）'])\n",
    "pe93 = pd.DataFrame(e93,columns=['材料费总计（元）'])\n",
    "pe94 = pd.DataFrame(e94,columns=['机械费总计（元）'])\n",
    "pe9 = pe91.join(pe92).join(pe93).join(pe94)"
   ]
  },
  {
   "cell_type": "code",
   "execution_count": 511,
   "metadata": {
    "collapsed": true
   },
   "outputs": [],
   "source": [
    "cbhzb5 = pd.merge(cbhzb4,pe9,how='left',on=['单元编号'])"
   ]
  },
  {
   "cell_type": "code",
   "execution_count": 514,
   "metadata": {},
   "outputs": [],
   "source": [
    "cbhzb5['间接费用总计（元）'] = cbhzb5['单位间接费']*cbhzb5['文合同工程量']\n",
    "cbhzb5['费用总计（元）'] = cbhzb5['单位总费用']*cbhzb5['文合同工程量']"
   ]
  },
  {
   "cell_type": "code",
   "execution_count": 516,
   "metadata": {},
   "outputs": [],
   "source": [
    "cbhzb5.to_excel('成本汇总表.xlsx',index=False)"
   ]
  },
  {
   "cell_type": "code",
   "execution_count": null,
   "metadata": {
    "collapsed": true
   },
   "outputs": [],
   "source": []
  },
  {
   "cell_type": "code",
   "execution_count": null,
   "metadata": {
    "collapsed": true
   },
   "outputs": [],
   "source": [
    "#高度汇总表"
   ]
  },
  {
   "cell_type": "code",
   "execution_count": 518,
   "metadata": {},
   "outputs": [],
   "source": [
    "cbhzb55 = cbhzb5.set_index(keys=['大类','设施类别'], inplace=False)"
   ]
  },
  {
   "cell_type": "code",
   "execution_count": 543,
   "metadata": {},
   "outputs": [],
   "source": [
    "f1 = []\n",
    "f2 = []\n",
    "f3 = []\n",
    "f4 = []\n",
    "f5 = []\n",
    "f6 = []\n",
    "f7 = []\n",
    "\n",
    "r1 = sum(cbhzb55['人工费总计（元）']['结构维护']['主体设施'])/10000\n",
    "w1 = sum(cbhzb55['材料费总计（元）']['结构维护']['主体设施'])/10000\n",
    "j1 = sum(cbhzb55['机械费总计（元）']['结构维护']['主体设施'])/10000\n",
    "y1 = sum(cbhzb55['间接费用总计（元）']['结构维护']['主体设施'])/10000\n",
    "z1 = sum(cbhzb55['费用总计（元）']['结构维护']['主体设施'])/10000\n",
    "f1.append('结构维护')\n",
    "f2.append('主体设施')\n",
    "f3.append(r1)\n",
    "f4.append(w1)\n",
    "f5.append(j1)\n",
    "f6.append(y1)\n",
    "f7.append(z1)\n",
    "\n",
    "r2 = sum(cbhzb55['人工费总计（元）']['结构维护']['通道设施'])/10000\n",
    "w2 = sum(cbhzb55['材料费总计（元）']['结构维护']['通道设施'])/10000\n",
    "j2 = sum(cbhzb55['机械费总计（元）']['结构维护']['通道设施'])/10000\n",
    "y2 = sum(cbhzb55['间接费用总计（元）']['结构维护']['通道设施'])/10000\n",
    "z2 = sum(cbhzb55['费用总计（元）']['结构维护']['通道设施'])/10000\n",
    "f1.append('结构维护')\n",
    "f2.append('通道设施')\n",
    "f3.append(r2)\n",
    "f4.append(w2)\n",
    "f5.append(j2)\n",
    "f6.append(y2)\n",
    "f7.append(z2)\n",
    "\n",
    "r3 = sum(cbhzb55['人工费总计（元）']['结构维护']['附属设施'])/10000\n",
    "w3 = sum(cbhzb55['材料费总计（元）']['结构维护']['附属设施'])/10000\n",
    "j3 = sum(cbhzb55['机械费总计（元）']['结构维护']['附属设施'])/10000\n",
    "y3 = sum(cbhzb55['间接费用总计（元）']['结构维护']['附属设施'])/10000\n",
    "z3 = sum(cbhzb55['费用总计（元）']['结构维护']['附属设施'])/10000\n",
    "f1.append('结构维护')\n",
    "f2.append('附属设施')\n",
    "f3.append(r3)\n",
    "f4.append(w3)\n",
    "f5.append(j3)\n",
    "f6.append(y3)\n",
    "f7.append(z3)\n",
    "\n",
    "r4 = sum(cbhzb55['人工费总计（元）']['结构维护']['装饰工程'])/10000\n",
    "w4 = sum(cbhzb55['材料费总计（元）']['结构维护']['装饰工程'])/10000\n",
    "j4 = sum(cbhzb55['机械费总计（元）']['结构维护']['装饰工程'])/10000\n",
    "y4 = sum(cbhzb55['间接费用总计（元）']['结构维护']['装饰工程'])/10000\n",
    "z4 = sum(cbhzb55['费用总计（元）']['结构维护']['装饰工程'])/10000\n",
    "f1.append('结构维护')\n",
    "f2.append('装饰工程')\n",
    "f3.append(r4)\n",
    "f4.append(w4)\n",
    "f5.append(j4)\n",
    "f6.append(y4)\n",
    "f7.append(z4)\n",
    "\n",
    "r = r1+r2+r3+r4\n",
    "w = w1+w2+w3+w4\n",
    "j = j1+j2+j3+j4\n",
    "y = y1+y2+y3+y4\n",
    "z = z1+z2+z3+z4\n",
    "f1.append('结构维护')\n",
    "f2.append('合计')\n",
    "f3.append(r)\n",
    "f4.append(w)\n",
    "f5.append(j)\n",
    "f6.append(y)\n",
    "f7.append(z)"
   ]
  },
  {
   "cell_type": "code",
   "execution_count": 544,
   "metadata": {
    "collapsed": true
   },
   "outputs": [],
   "source": [
    "r1 = sum(cbhzb55['人工费总计（元）']['机电维护']['通风系统'])/10000\n",
    "w1 = sum(cbhzb55['材料费总计（元）']['机电维护']['通风系统'])/10000\n",
    "j1 = sum(cbhzb55['机械费总计（元）']['机电维护']['通风系统'])/10000\n",
    "y1 = sum(cbhzb55['间接费用总计（元）']['机电维护']['通风系统'])/10000\n",
    "z1 = sum(cbhzb55['费用总计（元）']['机电维护']['通风系统'])/10000\n",
    "f1.append('机电维护')\n",
    "f2.append('通风系统')\n",
    "f3.append(r1)\n",
    "f4.append(w1)\n",
    "f5.append(j1)\n",
    "f6.append(y1)\n",
    "f7.append(z1)\n",
    "\n",
    "r2 = sum(cbhzb55['人工费总计（元）']['机电维护']['给排水及消防系统'])/10000\n",
    "w2 = sum(cbhzb55['材料费总计（元）']['机电维护']['给排水及消防系统'])/10000\n",
    "j2 = sum(cbhzb55['机械费总计（元）']['机电维护']['给排水及消防系统'])/10000\n",
    "y2 = sum(cbhzb55['间接费用总计（元）']['机电维护']['给排水及消防系统'])/10000\n",
    "z2 = sum(cbhzb55['费用总计（元）']['机电维护']['给排水及消防系统'])/10000\n",
    "f1.append('机电维护')\n",
    "f2.append('给排水及消防系统')\n",
    "f3.append(r2)\n",
    "f4.append(w2)\n",
    "f5.append(j2)\n",
    "f6.append(y2)\n",
    "f7.append(z2)\n",
    "\n",
    "r3 = sum(cbhzb55['人工费总计（元）']['机电维护']['供配电系统'])/10000\n",
    "w3 = sum(cbhzb55['材料费总计（元）']['机电维护']['供配电系统'])/10000\n",
    "j3 = sum(cbhzb55['机械费总计（元）']['机电维护']['供配电系统'])/10000\n",
    "y3 = sum(cbhzb55['间接费用总计（元）']['机电维护']['供配电系统'])/10000\n",
    "z3 = sum(cbhzb55['费用总计（元）']['机电维护']['供配电系统'])/10000\n",
    "f1.append('机电维护')\n",
    "f2.append('供配电系统')\n",
    "f3.append(r3)\n",
    "f4.append(w3)\n",
    "f5.append(j3)\n",
    "f6.append(y3)\n",
    "f7.append(z3)\n",
    "\n",
    "r4 = sum(cbhzb55['人工费总计（元）']['机电维护']['照明系统'])/10000\n",
    "w4 = sum(cbhzb55['材料费总计（元）']['机电维护']['照明系统'])/10000\n",
    "j4 = sum(cbhzb55['机械费总计（元）']['机电维护']['照明系统'])/10000\n",
    "y4 = sum(cbhzb55['间接费用总计（元）']['机电维护']['照明系统'])/10000\n",
    "z4 = sum(cbhzb55['费用总计（元）']['机电维护']['照明系统'])/10000\n",
    "f1.append('机电维护')\n",
    "f2.append('照明系统')\n",
    "f3.append(r4)\n",
    "f4.append(w4)\n",
    "f5.append(j4)\n",
    "f6.append(y4)\n",
    "f7.append(z4)\n",
    "\n",
    "r5 = sum(cbhzb55['人工费总计（元）']['机电维护']['中央监控系统'])/10000\n",
    "w5 = sum(cbhzb55['材料费总计（元）']['机电维护']['中央监控系统'])/10000\n",
    "j5 = sum(cbhzb55['机械费总计（元）']['机电维护']['中央监控系统'])/10000\n",
    "y5 = sum(cbhzb55['间接费用总计（元）']['机电维护']['中央监控系统'])/10000\n",
    "z5 = sum(cbhzb55['费用总计（元）']['机电维护']['中央监控系统'])/10000\n",
    "f1.append('机电维护')\n",
    "f2.append('中央监控系统')\n",
    "f3.append(r5)\n",
    "f4.append(w5)\n",
    "f5.append(j5)\n",
    "f6.append(y5)\n",
    "f7.append(z5)\n",
    "\n",
    "rr = r1+r2+r3+r4+r5\n",
    "ww = w1+w2+w3+w4+w5\n",
    "jj = j1+j2+j3+j4+j5\n",
    "yy = y1+y2+y3+y4+y5\n",
    "zz = z1+z2+z3+z4+z5\n",
    "f1.append('机电维护')\n",
    "f2.append('合计')\n",
    "f3.append(rr)\n",
    "f4.append(ww)\n",
    "f5.append(jj)\n",
    "f6.append(yy)\n",
    "f7.append(zz)"
   ]
  },
  {
   "cell_type": "code",
   "execution_count": 545,
   "metadata": {},
   "outputs": [],
   "source": [
    "r1 = sum(cbhzb55['人工费总计（元）']['设施保洁'])/10000\n",
    "w1 = sum(cbhzb55['材料费总计（元）']['设施保洁'])/10000\n",
    "j1 = sum(cbhzb55['机械费总计（元）']['设施保洁'])/10000\n",
    "y1 = sum(cbhzb55['间接费用总计（元）']['设施保洁'])/10000\n",
    "z1 = sum(cbhzb55['费用总计（元）']['设施保洁'])/10000\n",
    "f2.append('-')\n",
    "f1.append('设施保洁')\n",
    "f3.append(r1)\n",
    "f4.append(w1)\n",
    "f5.append(j1)\n",
    "f6.append(y1)\n",
    "f7.append(z1)\n",
    "\n",
    "r2 = sum(cbhzb55['人工费总计（元）']['检查检测'])/10000\n",
    "w2 = sum(cbhzb55['材料费总计（元）']['检查检测'])/10000\n",
    "j2 = sum(cbhzb55['机械费总计（元）']['检查检测'])/10000\n",
    "y2 = sum(cbhzb55['间接费用总计（元）']['检查检测'])/10000\n",
    "z2 = sum(cbhzb55['费用总计（元）']['检查检测'])/10000\n",
    "f2.append('-')\n",
    "f1.append('检查检测')\n",
    "f3.append(r2)\n",
    "f4.append(w2)\n",
    "f5.append(j2)\n",
    "f6.append(y2)\n",
    "f7.append(z2)\n",
    "\n",
    "r3 = sum(cbhzb55['人工费总计（元）']['运营管理'])/10000\n",
    "w3 = sum(cbhzb55['材料费总计（元）']['运营管理'])/10000\n",
    "j3 = sum(cbhzb55['机械费总计（元）']['运营管理'])/10000\n",
    "y3 = sum(cbhzb55['间接费用总计（元）']['运营管理'])/10000\n",
    "z3 = sum(cbhzb55['费用总计（元）']['运营管理'])/10000\n",
    "f2.append('-')\n",
    "f1.append('运营管理')\n",
    "f3.append(r3)\n",
    "f4.append(w3)\n",
    "f5.append(j3)\n",
    "f6.append(y3)\n",
    "f7.append(z3)\n",
    "\n",
    "r4 = 0\n",
    "w4 = 0\n",
    "j4 = 0\n",
    "y4 = 0\n",
    "z4 = 170.0\n",
    "f2.append('-')\n",
    "f1.append('牵引管理')\n",
    "f3.append(r4)\n",
    "f4.append(w4)\n",
    "f5.append(j4)\n",
    "f6.append(y4)\n",
    "f7.append(z4)\n",
    "\n",
    "r5 = 0\n",
    "w5 = 0\n",
    "j5 = 0\n",
    "y5 = 0\n",
    "z5 = 300.0\n",
    "f2.append('-')\n",
    "f1.append('水电费用')\n",
    "f3.append(r5)\n",
    "f4.append(w5)\n",
    "f5.append(j5)\n",
    "f6.append(y5)\n",
    "f7.append(z5)\n",
    "\n",
    "rrr = r1+r2+r3+r4+r5+r+rr\n",
    "www = w1+w2+w3+w4+w5+w+ww\n",
    "jjj = j1+j2+j3+j4+j5+j+jj\n",
    "yyy = y1+y2+y3+y4+y5+y+yy\n",
    "zzz = z1+z2+z3+z4+z5+z+zz\n",
    "f2.append('-')\n",
    "f1.append('合计')\n",
    "f3.append(rrr)\n",
    "f4.append(www)\n",
    "f5.append(jjj)\n",
    "f6.append(yyy)\n",
    "f7.append(zzz)"
   ]
  },
  {
   "cell_type": "code",
   "execution_count": 548,
   "metadata": {},
   "outputs": [],
   "source": [
    "pf1 = pd.DataFrame(f1,columns=['大类'])\n",
    "pf2 = pd.DataFrame(f2,columns=['设施类别'])\n",
    "pf3 = pd.DataFrame(f3,columns=['人工费总计（万元）'])\n",
    "pf4 = pd.DataFrame(f4,columns=['材料费总计（万元）'])\n",
    "pf5 = pd.DataFrame(f5,columns=['机械费总计（万元）'])\n",
    "pf6 = pd.DataFrame(f6,columns=['间接费用总计（万元）'])\n",
    "pf7 = pd.DataFrame(f7,columns=['费用总计（万元）'])\n",
    "gdhzb = pf1.join(pf2).join(pf3).join(pf4).join(pf5).join(pf6).join(pf7)"
   ]
  },
  {
   "cell_type": "code",
   "execution_count": 550,
   "metadata": {},
   "outputs": [],
   "source": [
    "gdhzb.to_excel('高度汇总表.xlsx',index=False)"
   ]
  },
  {
   "cell_type": "code",
   "execution_count": null,
   "metadata": {
    "collapsed": true
   },
   "outputs": [],
   "source": []
  },
  {
   "cell_type": "code",
   "execution_count": null,
   "metadata": {
    "collapsed": true
   },
   "outputs": [],
   "source": []
  },
  {
   "cell_type": "code",
   "execution_count": null,
   "metadata": {
    "collapsed": true
   },
   "outputs": [],
   "source": []
  }
 ],
 "metadata": {
  "kernelspec": {
   "display_name": "Python 3",
   "language": "python",
   "name": "python3"
  },
  "language_info": {
   "codemirror_mode": {
    "name": "ipython",
    "version": 3
   },
   "file_extension": ".py",
   "mimetype": "text/x-python",
   "name": "python",
   "nbconvert_exporter": "python",
   "pygments_lexer": "ipython3",
   "version": "3.7.0"
  }
 },
 "nbformat": 4,
 "nbformat_minor": 2
}
